{
 "cells": [
  {
   "cell_type": "code",
   "execution_count": 1,
   "metadata": {},
   "outputs": [
    {
     "name": "stdout",
     "output_type": "stream",
     "text": [
      "Requirement already satisfied: mpld3 in c:\\users\\anupreet virk\\.anaconda\\new folder\\new folder\\lib\\site-packages (0.5.10)\n",
      "Requirement already satisfied: jinja2 in c:\\users\\anupreet virk\\.anaconda\\new folder\\new folder\\lib\\site-packages (from mpld3) (3.1.4)\n",
      "Requirement already satisfied: matplotlib in c:\\users\\anupreet virk\\.anaconda\\new folder\\new folder\\lib\\site-packages (from mpld3) (3.8.4)\n",
      "Requirement already satisfied: MarkupSafe>=2.0 in c:\\users\\anupreet virk\\.anaconda\\new folder\\new folder\\lib\\site-packages (from jinja2->mpld3) (2.1.3)\n",
      "Requirement already satisfied: contourpy>=1.0.1 in c:\\users\\anupreet virk\\.anaconda\\new folder\\new folder\\lib\\site-packages (from matplotlib->mpld3) (1.2.0)\n",
      "Requirement already satisfied: cycler>=0.10 in c:\\users\\anupreet virk\\.anaconda\\new folder\\new folder\\lib\\site-packages (from matplotlib->mpld3) (0.11.0)\n",
      "Requirement already satisfied: fonttools>=4.22.0 in c:\\users\\anupreet virk\\.anaconda\\new folder\\new folder\\lib\\site-packages (from matplotlib->mpld3) (4.51.0)\n",
      "Requirement already satisfied: kiwisolver>=1.3.1 in c:\\users\\anupreet virk\\.anaconda\\new folder\\new folder\\lib\\site-packages (from matplotlib->mpld3) (1.4.4)\n",
      "Requirement already satisfied: numpy>=1.21 in c:\\users\\anupreet virk\\.anaconda\\new folder\\new folder\\lib\\site-packages (from matplotlib->mpld3) (1.26.4)\n",
      "Requirement already satisfied: packaging>=20.0 in c:\\users\\anupreet virk\\.anaconda\\new folder\\new folder\\lib\\site-packages (from matplotlib->mpld3) (23.2)\n",
      "Requirement already satisfied: pillow>=8 in c:\\users\\anupreet virk\\.anaconda\\new folder\\new folder\\lib\\site-packages (from matplotlib->mpld3) (10.3.0)\n",
      "Requirement already satisfied: pyparsing>=2.3.1 in c:\\users\\anupreet virk\\.anaconda\\new folder\\new folder\\lib\\site-packages (from matplotlib->mpld3) (3.0.9)\n",
      "Requirement already satisfied: python-dateutil>=2.7 in c:\\users\\anupreet virk\\.anaconda\\new folder\\new folder\\lib\\site-packages (from matplotlib->mpld3) (2.9.0.post0)\n",
      "Requirement already satisfied: six>=1.5 in c:\\users\\anupreet virk\\.anaconda\\new folder\\new folder\\lib\\site-packages (from python-dateutil>=2.7->matplotlib->mpld3) (1.16.0)\n"
     ]
    }
   ],
   "source": [
    "!pip install mpld3"
   ]
  },
  {
   "cell_type": "code",
   "execution_count": 2,
   "metadata": {},
   "outputs": [],
   "source": [
    "#technologies\n",
    "from pymongo import MongoClient\n",
    "import pandas as pd\n",
    "import matplotlib.pyplot as plt\n",
    "import numpy as np\n",
    "import mpld3\n",
    "import plotly.express as px\n",
    "import requests\n",
    "import folium\n",
    "import plotly.graph_objects as go"
   ]
  },
  {
   "cell_type": "code",
   "execution_count": 3,
   "metadata": {},
   "outputs": [],
   "source": [
    "client = MongoClient('mongodb://localhost:27017/')"
   ]
  },
  {
   "cell_type": "code",
   "execution_count": 4,
   "metadata": {},
   "outputs": [],
   "source": [
    "#Create the 'energy_data' database and collection \n",
    "db = client['energy_data']\n",
    "collection = db[\"biofuel_wind_electricity_data_collection\"] "
   ]
  },
  {
   "cell_type": "code",
   "execution_count": 5,
   "metadata": {},
   "outputs": [
    {
     "data": {
      "text/html": [
       "<div>\n",
       "<style scoped>\n",
       "    .dataframe tbody tr th:only-of-type {\n",
       "        vertical-align: middle;\n",
       "    }\n",
       "\n",
       "    .dataframe tbody tr th {\n",
       "        vertical-align: top;\n",
       "    }\n",
       "\n",
       "    .dataframe thead th {\n",
       "        text-align: right;\n",
       "    }\n",
       "</style>\n",
       "<table border=\"1\" class=\"dataframe\">\n",
       "  <thead>\n",
       "    <tr style=\"text-align: right;\">\n",
       "      <th></th>\n",
       "      <th>country</th>\n",
       "      <th>year</th>\n",
       "      <th>iso_code</th>\n",
       "      <th>population</th>\n",
       "      <th>gdp</th>\n",
       "      <th>biofuel_cons_change_pct</th>\n",
       "      <th>biofuel_cons_change_twh</th>\n",
       "      <th>biofuel_cons_per_capita</th>\n",
       "      <th>biofuel_consumption</th>\n",
       "      <th>biofuel_elec_per_capita</th>\n",
       "      <th>...</th>\n",
       "      <th>solar_share_elec</th>\n",
       "      <th>solar_share_energy</th>\n",
       "      <th>wind_cons_change_pct</th>\n",
       "      <th>wind_cons_change_twh</th>\n",
       "      <th>wind_consumption</th>\n",
       "      <th>wind_elec_per_capita</th>\n",
       "      <th>wind_electricity</th>\n",
       "      <th>wind_energy_per_capita</th>\n",
       "      <th>wind_share_elec</th>\n",
       "      <th>wind_share_energy</th>\n",
       "    </tr>\n",
       "  </thead>\n",
       "  <tbody>\n",
       "    <tr>\n",
       "      <th>0</th>\n",
       "      <td>ASEAN (Ember)</td>\n",
       "      <td>2000</td>\n",
       "      <td>NaN</td>\n",
       "      <td>NaN</td>\n",
       "      <td>NaN</td>\n",
       "      <td>NaN</td>\n",
       "      <td>NaN</td>\n",
       "      <td>NaN</td>\n",
       "      <td>NaN</td>\n",
       "      <td>NaN</td>\n",
       "      <td>...</td>\n",
       "      <td>0.0</td>\n",
       "      <td>NaN</td>\n",
       "      <td>NaN</td>\n",
       "      <td>NaN</td>\n",
       "      <td>NaN</td>\n",
       "      <td>NaN</td>\n",
       "      <td>0.0</td>\n",
       "      <td>NaN</td>\n",
       "      <td>0.0</td>\n",
       "      <td>NaN</td>\n",
       "    </tr>\n",
       "    <tr>\n",
       "      <th>1</th>\n",
       "      <td>ASEAN (Ember)</td>\n",
       "      <td>2001</td>\n",
       "      <td>NaN</td>\n",
       "      <td>NaN</td>\n",
       "      <td>NaN</td>\n",
       "      <td>NaN</td>\n",
       "      <td>NaN</td>\n",
       "      <td>NaN</td>\n",
       "      <td>NaN</td>\n",
       "      <td>NaN</td>\n",
       "      <td>...</td>\n",
       "      <td>0.0</td>\n",
       "      <td>NaN</td>\n",
       "      <td>NaN</td>\n",
       "      <td>NaN</td>\n",
       "      <td>NaN</td>\n",
       "      <td>NaN</td>\n",
       "      <td>0.0</td>\n",
       "      <td>NaN</td>\n",
       "      <td>0.0</td>\n",
       "      <td>NaN</td>\n",
       "    </tr>\n",
       "    <tr>\n",
       "      <th>2</th>\n",
       "      <td>ASEAN (Ember)</td>\n",
       "      <td>2002</td>\n",
       "      <td>NaN</td>\n",
       "      <td>NaN</td>\n",
       "      <td>NaN</td>\n",
       "      <td>NaN</td>\n",
       "      <td>NaN</td>\n",
       "      <td>NaN</td>\n",
       "      <td>NaN</td>\n",
       "      <td>NaN</td>\n",
       "      <td>...</td>\n",
       "      <td>0.0</td>\n",
       "      <td>NaN</td>\n",
       "      <td>NaN</td>\n",
       "      <td>NaN</td>\n",
       "      <td>NaN</td>\n",
       "      <td>NaN</td>\n",
       "      <td>0.0</td>\n",
       "      <td>NaN</td>\n",
       "      <td>0.0</td>\n",
       "      <td>NaN</td>\n",
       "    </tr>\n",
       "    <tr>\n",
       "      <th>3</th>\n",
       "      <td>ASEAN (Ember)</td>\n",
       "      <td>2003</td>\n",
       "      <td>NaN</td>\n",
       "      <td>NaN</td>\n",
       "      <td>NaN</td>\n",
       "      <td>NaN</td>\n",
       "      <td>NaN</td>\n",
       "      <td>NaN</td>\n",
       "      <td>NaN</td>\n",
       "      <td>NaN</td>\n",
       "      <td>...</td>\n",
       "      <td>0.0</td>\n",
       "      <td>NaN</td>\n",
       "      <td>NaN</td>\n",
       "      <td>NaN</td>\n",
       "      <td>NaN</td>\n",
       "      <td>NaN</td>\n",
       "      <td>0.0</td>\n",
       "      <td>NaN</td>\n",
       "      <td>0.0</td>\n",
       "      <td>NaN</td>\n",
       "    </tr>\n",
       "    <tr>\n",
       "      <th>4</th>\n",
       "      <td>ASEAN (Ember)</td>\n",
       "      <td>2004</td>\n",
       "      <td>NaN</td>\n",
       "      <td>NaN</td>\n",
       "      <td>NaN</td>\n",
       "      <td>NaN</td>\n",
       "      <td>NaN</td>\n",
       "      <td>NaN</td>\n",
       "      <td>NaN</td>\n",
       "      <td>NaN</td>\n",
       "      <td>...</td>\n",
       "      <td>0.0</td>\n",
       "      <td>NaN</td>\n",
       "      <td>NaN</td>\n",
       "      <td>NaN</td>\n",
       "      <td>NaN</td>\n",
       "      <td>NaN</td>\n",
       "      <td>0.0</td>\n",
       "      <td>NaN</td>\n",
       "      <td>0.0</td>\n",
       "      <td>NaN</td>\n",
       "    </tr>\n",
       "  </tbody>\n",
       "</table>\n",
       "<p>5 rows × 129 columns</p>\n",
       "</div>"
      ],
      "text/plain": [
       "         country  year iso_code  population  gdp  biofuel_cons_change_pct  \\\n",
       "0  ASEAN (Ember)  2000      NaN         NaN  NaN                      NaN   \n",
       "1  ASEAN (Ember)  2001      NaN         NaN  NaN                      NaN   \n",
       "2  ASEAN (Ember)  2002      NaN         NaN  NaN                      NaN   \n",
       "3  ASEAN (Ember)  2003      NaN         NaN  NaN                      NaN   \n",
       "4  ASEAN (Ember)  2004      NaN         NaN  NaN                      NaN   \n",
       "\n",
       "   biofuel_cons_change_twh  biofuel_cons_per_capita  biofuel_consumption  \\\n",
       "0                      NaN                      NaN                  NaN   \n",
       "1                      NaN                      NaN                  NaN   \n",
       "2                      NaN                      NaN                  NaN   \n",
       "3                      NaN                      NaN                  NaN   \n",
       "4                      NaN                      NaN                  NaN   \n",
       "\n",
       "   biofuel_elec_per_capita  ...  solar_share_elec  solar_share_energy  \\\n",
       "0                      NaN  ...               0.0                 NaN   \n",
       "1                      NaN  ...               0.0                 NaN   \n",
       "2                      NaN  ...               0.0                 NaN   \n",
       "3                      NaN  ...               0.0                 NaN   \n",
       "4                      NaN  ...               0.0                 NaN   \n",
       "\n",
       "   wind_cons_change_pct  wind_cons_change_twh  wind_consumption  \\\n",
       "0                   NaN                   NaN               NaN   \n",
       "1                   NaN                   NaN               NaN   \n",
       "2                   NaN                   NaN               NaN   \n",
       "3                   NaN                   NaN               NaN   \n",
       "4                   NaN                   NaN               NaN   \n",
       "\n",
       "   wind_elec_per_capita  wind_electricity  wind_energy_per_capita  \\\n",
       "0                   NaN               0.0                     NaN   \n",
       "1                   NaN               0.0                     NaN   \n",
       "2                   NaN               0.0                     NaN   \n",
       "3                   NaN               0.0                     NaN   \n",
       "4                   NaN               0.0                     NaN   \n",
       "\n",
       "   wind_share_elec  wind_share_energy  \n",
       "0              0.0                NaN  \n",
       "1              0.0                NaN  \n",
       "2              0.0                NaN  \n",
       "3              0.0                NaN  \n",
       "4              0.0                NaN  \n",
       "\n",
       "[5 rows x 129 columns]"
      ]
     },
     "execution_count": 5,
     "metadata": {},
     "output_type": "execute_result"
    }
   ],
   "source": [
    "# Load the csv file using pandas\n",
    "file_path = \"World Energy Consumption.csv\" \n",
    "df = pd.read_csv(file_path)\n",
    "\n",
    "# Display the DataFrame to verify the data\n",
    "df.head()\n",
    "\n",
    "\n"
   ]
  },
  {
   "cell_type": "code",
   "execution_count": 6,
   "metadata": {},
   "outputs": [
    {
     "data": {
      "text/plain": [
       "country                   22012\n",
       "year                      22012\n",
       "iso_code                  16512\n",
       "population                18123\n",
       "gdp                       11113\n",
       "                          ...  \n",
       "wind_elec_per_capita       7065\n",
       "wind_electricity           7996\n",
       "wind_energy_per_capita     4065\n",
       "wind_share_elec            6886\n",
       "wind_share_energy          4101\n",
       "Length: 129, dtype: int64"
      ]
     },
     "execution_count": 6,
     "metadata": {},
     "output_type": "execute_result"
    }
   ],
   "source": [
    "#total rows  \n",
    "df.count()"
   ]
  },
  {
   "cell_type": "code",
   "execution_count": 7,
   "metadata": {},
   "outputs": [
    {
     "data": {
      "text/plain": [
       "Index(['country', 'year', 'iso_code', 'population', 'gdp',\n",
       "       'biofuel_cons_change_pct', 'biofuel_cons_change_twh',\n",
       "       'biofuel_cons_per_capita', 'biofuel_consumption',\n",
       "       'biofuel_elec_per_capita',\n",
       "       ...\n",
       "       'solar_share_elec', 'solar_share_energy', 'wind_cons_change_pct',\n",
       "       'wind_cons_change_twh', 'wind_consumption', 'wind_elec_per_capita',\n",
       "       'wind_electricity', 'wind_energy_per_capita', 'wind_share_elec',\n",
       "       'wind_share_energy'],\n",
       "      dtype='object', length=129)"
      ]
     },
     "execution_count": 7,
     "metadata": {},
     "output_type": "execute_result"
    }
   ],
   "source": [
    "# Inspect the columns \n",
    "df.columns\n"
   ]
  },
  {
   "cell_type": "code",
   "execution_count": 8,
   "metadata": {},
   "outputs": [
    {
     "name": "stdout",
     "output_type": "stream",
     "text": [
      "\n",
      "Null values per column:\n",
      "country                       0\n",
      "year                          0\n",
      "iso_code                   5500\n",
      "population                 3889\n",
      "gdp                       10899\n",
      "                          ...  \n",
      "wind_elec_per_capita      14947\n",
      "wind_electricity          14016\n",
      "wind_energy_per_capita    17947\n",
      "wind_share_elec           15126\n",
      "wind_share_energy         17911\n",
      "Length: 129, dtype: int64\n"
     ]
    }
   ],
   "source": [
    "#Check for null values in the DataFrame\n",
    "print(\"\\nNull values per column:\")\n",
    "print(df.isnull().sum())"
   ]
  },
  {
   "cell_type": "code",
   "execution_count": 9,
   "metadata": {},
   "outputs": [
    {
     "name": "stdout",
     "output_type": "stream",
     "text": [
      "\n",
      "DataFrame after removing rows with null values:\n"
     ]
    },
    {
     "data": {
      "text/html": [
       "<div>\n",
       "<style scoped>\n",
       "    .dataframe tbody tr th:only-of-type {\n",
       "        vertical-align: middle;\n",
       "    }\n",
       "\n",
       "    .dataframe tbody tr th {\n",
       "        vertical-align: top;\n",
       "    }\n",
       "\n",
       "    .dataframe thead th {\n",
       "        text-align: right;\n",
       "    }\n",
       "</style>\n",
       "<table border=\"1\" class=\"dataframe\">\n",
       "  <thead>\n",
       "    <tr style=\"text-align: right;\">\n",
       "      <th></th>\n",
       "      <th>country</th>\n",
       "      <th>year</th>\n",
       "      <th>iso_code</th>\n",
       "      <th>population</th>\n",
       "      <th>gdp</th>\n",
       "      <th>biofuel_cons_change_pct</th>\n",
       "      <th>biofuel_cons_change_twh</th>\n",
       "      <th>biofuel_cons_per_capita</th>\n",
       "      <th>biofuel_consumption</th>\n",
       "      <th>biofuel_elec_per_capita</th>\n",
       "      <th>...</th>\n",
       "      <th>solar_share_elec</th>\n",
       "      <th>solar_share_energy</th>\n",
       "      <th>wind_cons_change_pct</th>\n",
       "      <th>wind_cons_change_twh</th>\n",
       "      <th>wind_consumption</th>\n",
       "      <th>wind_elec_per_capita</th>\n",
       "      <th>wind_electricity</th>\n",
       "      <th>wind_energy_per_capita</th>\n",
       "      <th>wind_share_elec</th>\n",
       "      <th>wind_share_energy</th>\n",
       "    </tr>\n",
       "  </thead>\n",
       "  <tbody>\n",
       "    <tr>\n",
       "      <th>1071</th>\n",
       "      <td>Argentina</td>\n",
       "      <td>2011</td>\n",
       "      <td>ARG</td>\n",
       "      <td>41520736.0</td>\n",
       "      <td>8.359705e+11</td>\n",
       "      <td>46.423</td>\n",
       "      <td>2.750</td>\n",
       "      <td>208.889</td>\n",
       "      <td>8.673</td>\n",
       "      <td>32.273</td>\n",
       "      <td>...</td>\n",
       "      <td>0.000</td>\n",
       "      <td>0.000</td>\n",
       "      <td>4.887</td>\n",
       "      <td>0.003</td>\n",
       "      <td>0.073</td>\n",
       "      <td>1.445</td>\n",
       "      <td>0.06</td>\n",
       "      <td>1.767</td>\n",
       "      <td>0.049</td>\n",
       "      <td>0.008</td>\n",
       "    </tr>\n",
       "    <tr>\n",
       "      <th>1072</th>\n",
       "      <td>Argentina</td>\n",
       "      <td>2012</td>\n",
       "      <td>ARG</td>\n",
       "      <td>41952364.0</td>\n",
       "      <td>8.274048e+11</td>\n",
       "      <td>19.876</td>\n",
       "      <td>1.724</td>\n",
       "      <td>247.831</td>\n",
       "      <td>10.397</td>\n",
       "      <td>33.133</td>\n",
       "      <td>...</td>\n",
       "      <td>0.008</td>\n",
       "      <td>0.002</td>\n",
       "      <td>1290.953</td>\n",
       "      <td>0.941</td>\n",
       "      <td>1.014</td>\n",
       "      <td>19.546</td>\n",
       "      <td>0.82</td>\n",
       "      <td>24.174</td>\n",
       "      <td>0.637</td>\n",
       "      <td>0.107</td>\n",
       "    </tr>\n",
       "    <tr>\n",
       "      <th>1073</th>\n",
       "      <td>Argentina</td>\n",
       "      <td>2013</td>\n",
       "      <td>ARG</td>\n",
       "      <td>42388268.0</td>\n",
       "      <td>8.473051e+11</td>\n",
       "      <td>14.478</td>\n",
       "      <td>1.505</td>\n",
       "      <td>280.795</td>\n",
       "      <td>11.902</td>\n",
       "      <td>35.387</td>\n",
       "      <td>...</td>\n",
       "      <td>0.008</td>\n",
       "      <td>0.004</td>\n",
       "      <td>22.574</td>\n",
       "      <td>0.221</td>\n",
       "      <td>1.236</td>\n",
       "      <td>23.827</td>\n",
       "      <td>1.01</td>\n",
       "      <td>29.149</td>\n",
       "      <td>0.763</td>\n",
       "      <td>0.126</td>\n",
       "    </tr>\n",
       "    <tr>\n",
       "      <th>1074</th>\n",
       "      <td>Argentina</td>\n",
       "      <td>2014</td>\n",
       "      <td>ARG</td>\n",
       "      <td>42824064.0</td>\n",
       "      <td>8.259815e+11</td>\n",
       "      <td>16.710</td>\n",
       "      <td>1.989</td>\n",
       "      <td>324.379</td>\n",
       "      <td>13.891</td>\n",
       "      <td>32.692</td>\n",
       "      <td>...</td>\n",
       "      <td>0.015</td>\n",
       "      <td>0.004</td>\n",
       "      <td>36.646</td>\n",
       "      <td>0.443</td>\n",
       "      <td>1.678</td>\n",
       "      <td>14.478</td>\n",
       "      <td>0.62</td>\n",
       "      <td>39.190</td>\n",
       "      <td>0.470</td>\n",
       "      <td>0.171</td>\n",
       "    </tr>\n",
       "    <tr>\n",
       "      <th>1075</th>\n",
       "      <td>Argentina</td>\n",
       "      <td>2015</td>\n",
       "      <td>ARG</td>\n",
       "      <td>43257064.0</td>\n",
       "      <td>8.478550e+11</td>\n",
       "      <td>8.925</td>\n",
       "      <td>1.240</td>\n",
       "      <td>349.792</td>\n",
       "      <td>15.131</td>\n",
       "      <td>33.058</td>\n",
       "      <td>...</td>\n",
       "      <td>0.007</td>\n",
       "      <td>0.004</td>\n",
       "      <td>-4.222</td>\n",
       "      <td>-0.080</td>\n",
       "      <td>1.598</td>\n",
       "      <td>13.639</td>\n",
       "      <td>0.59</td>\n",
       "      <td>36.938</td>\n",
       "      <td>0.428</td>\n",
       "      <td>0.160</td>\n",
       "    </tr>\n",
       "    <tr>\n",
       "      <th>1076</th>\n",
       "      <td>Argentina</td>\n",
       "      <td>2016</td>\n",
       "      <td>ARG</td>\n",
       "      <td>43668236.0</td>\n",
       "      <td>8.283729e+11</td>\n",
       "      <td>5.989</td>\n",
       "      <td>0.906</td>\n",
       "      <td>367.251</td>\n",
       "      <td>16.037</td>\n",
       "      <td>24.503</td>\n",
       "      <td>...</td>\n",
       "      <td>0.007</td>\n",
       "      <td>0.004</td>\n",
       "      <td>-7.749</td>\n",
       "      <td>-0.133</td>\n",
       "      <td>1.465</td>\n",
       "      <td>12.366</td>\n",
       "      <td>0.54</td>\n",
       "      <td>33.555</td>\n",
       "      <td>0.387</td>\n",
       "      <td>0.148</td>\n",
       "    </tr>\n",
       "    <tr>\n",
       "      <th>2966</th>\n",
       "      <td>Brazil</td>\n",
       "      <td>2013</td>\n",
       "      <td>BRA</td>\n",
       "      <td>201721776.0</td>\n",
       "      <td>3.112906e+12</td>\n",
       "      <td>16.904</td>\n",
       "      <td>24.974</td>\n",
       "      <td>856.203</td>\n",
       "      <td>172.715</td>\n",
       "      <td>194.674</td>\n",
       "      <td>...</td>\n",
       "      <td>0.000</td>\n",
       "      <td>0.000</td>\n",
       "      <td>30.215</td>\n",
       "      <td>4.075</td>\n",
       "      <td>17.922</td>\n",
       "      <td>32.619</td>\n",
       "      <td>6.58</td>\n",
       "      <td>88.845</td>\n",
       "      <td>1.168</td>\n",
       "      <td>0.516</td>\n",
       "    </tr>\n",
       "    <tr>\n",
       "      <th>2967</th>\n",
       "      <td>Brazil</td>\n",
       "      <td>2014</td>\n",
       "      <td>BRA</td>\n",
       "      <td>203459648.0</td>\n",
       "      <td>3.128573e+12</td>\n",
       "      <td>9.678</td>\n",
       "      <td>16.715</td>\n",
       "      <td>931.044</td>\n",
       "      <td>189.430</td>\n",
       "      <td>221.911</td>\n",
       "      <td>...</td>\n",
       "      <td>0.003</td>\n",
       "      <td>0.001</td>\n",
       "      <td>85.683</td>\n",
       "      <td>15.157</td>\n",
       "      <td>33.079</td>\n",
       "      <td>60.012</td>\n",
       "      <td>12.21</td>\n",
       "      <td>162.581</td>\n",
       "      <td>2.098</td>\n",
       "      <td>0.928</td>\n",
       "    </tr>\n",
       "    <tr>\n",
       "      <th>2968</th>\n",
       "      <td>Brazil</td>\n",
       "      <td>2015</td>\n",
       "      <td>BRA</td>\n",
       "      <td>205188208.0</td>\n",
       "      <td>3.270706e+12</td>\n",
       "      <td>16.967</td>\n",
       "      <td>32.141</td>\n",
       "      <td>1079.843</td>\n",
       "      <td>221.571</td>\n",
       "      <td>231.690</td>\n",
       "      <td>...</td>\n",
       "      <td>0.010</td>\n",
       "      <td>0.005</td>\n",
       "      <td>77.111</td>\n",
       "      <td>25.159</td>\n",
       "      <td>58.237</td>\n",
       "      <td>104.636</td>\n",
       "      <td>21.47</td>\n",
       "      <td>283.824</td>\n",
       "      <td>3.756</td>\n",
       "      <td>1.656</td>\n",
       "    </tr>\n",
       "    <tr>\n",
       "      <th>2969</th>\n",
       "      <td>Brazil</td>\n",
       "      <td>2016</td>\n",
       "      <td>BRA</td>\n",
       "      <td>206859584.0</td>\n",
       "      <td>2.889037e+12</td>\n",
       "      <td>-9.000</td>\n",
       "      <td>-19.942</td>\n",
       "      <td>974.715</td>\n",
       "      <td>201.629</td>\n",
       "      <td>237.552</td>\n",
       "      <td>...</td>\n",
       "      <td>0.014</td>\n",
       "      <td>0.007</td>\n",
       "      <td>54.857</td>\n",
       "      <td>31.414</td>\n",
       "      <td>89.651</td>\n",
       "      <td>160.689</td>\n",
       "      <td>33.24</td>\n",
       "      <td>433.390</td>\n",
       "      <td>5.817</td>\n",
       "      <td>2.612</td>\n",
       "    </tr>\n",
       "  </tbody>\n",
       "</table>\n",
       "<p>10 rows × 129 columns</p>\n",
       "</div>"
      ],
      "text/plain": [
       "        country  year iso_code   population           gdp  \\\n",
       "1071  Argentina  2011      ARG   41520736.0  8.359705e+11   \n",
       "1072  Argentina  2012      ARG   41952364.0  8.274048e+11   \n",
       "1073  Argentina  2013      ARG   42388268.0  8.473051e+11   \n",
       "1074  Argentina  2014      ARG   42824064.0  8.259815e+11   \n",
       "1075  Argentina  2015      ARG   43257064.0  8.478550e+11   \n",
       "1076  Argentina  2016      ARG   43668236.0  8.283729e+11   \n",
       "2966     Brazil  2013      BRA  201721776.0  3.112906e+12   \n",
       "2967     Brazil  2014      BRA  203459648.0  3.128573e+12   \n",
       "2968     Brazil  2015      BRA  205188208.0  3.270706e+12   \n",
       "2969     Brazil  2016      BRA  206859584.0  2.889037e+12   \n",
       "\n",
       "      biofuel_cons_change_pct  biofuel_cons_change_twh  \\\n",
       "1071                   46.423                    2.750   \n",
       "1072                   19.876                    1.724   \n",
       "1073                   14.478                    1.505   \n",
       "1074                   16.710                    1.989   \n",
       "1075                    8.925                    1.240   \n",
       "1076                    5.989                    0.906   \n",
       "2966                   16.904                   24.974   \n",
       "2967                    9.678                   16.715   \n",
       "2968                   16.967                   32.141   \n",
       "2969                   -9.000                  -19.942   \n",
       "\n",
       "      biofuel_cons_per_capita  biofuel_consumption  biofuel_elec_per_capita  \\\n",
       "1071                  208.889                8.673                   32.273   \n",
       "1072                  247.831               10.397                   33.133   \n",
       "1073                  280.795               11.902                   35.387   \n",
       "1074                  324.379               13.891                   32.692   \n",
       "1075                  349.792               15.131                   33.058   \n",
       "1076                  367.251               16.037                   24.503   \n",
       "2966                  856.203              172.715                  194.674   \n",
       "2967                  931.044              189.430                  221.911   \n",
       "2968                 1079.843              221.571                  231.690   \n",
       "2969                  974.715              201.629                  237.552   \n",
       "\n",
       "      ...  solar_share_elec  solar_share_energy  wind_cons_change_pct  \\\n",
       "1071  ...             0.000               0.000                 4.887   \n",
       "1072  ...             0.008               0.002              1290.953   \n",
       "1073  ...             0.008               0.004                22.574   \n",
       "1074  ...             0.015               0.004                36.646   \n",
       "1075  ...             0.007               0.004                -4.222   \n",
       "1076  ...             0.007               0.004                -7.749   \n",
       "2966  ...             0.000               0.000                30.215   \n",
       "2967  ...             0.003               0.001                85.683   \n",
       "2968  ...             0.010               0.005                77.111   \n",
       "2969  ...             0.014               0.007                54.857   \n",
       "\n",
       "      wind_cons_change_twh  wind_consumption  wind_elec_per_capita  \\\n",
       "1071                 0.003             0.073                 1.445   \n",
       "1072                 0.941             1.014                19.546   \n",
       "1073                 0.221             1.236                23.827   \n",
       "1074                 0.443             1.678                14.478   \n",
       "1075                -0.080             1.598                13.639   \n",
       "1076                -0.133             1.465                12.366   \n",
       "2966                 4.075            17.922                32.619   \n",
       "2967                15.157            33.079                60.012   \n",
       "2968                25.159            58.237               104.636   \n",
       "2969                31.414            89.651               160.689   \n",
       "\n",
       "      wind_electricity  wind_energy_per_capita  wind_share_elec  \\\n",
       "1071              0.06                   1.767            0.049   \n",
       "1072              0.82                  24.174            0.637   \n",
       "1073              1.01                  29.149            0.763   \n",
       "1074              0.62                  39.190            0.470   \n",
       "1075              0.59                  36.938            0.428   \n",
       "1076              0.54                  33.555            0.387   \n",
       "2966              6.58                  88.845            1.168   \n",
       "2967             12.21                 162.581            2.098   \n",
       "2968             21.47                 283.824            3.756   \n",
       "2969             33.24                 433.390            5.817   \n",
       "\n",
       "      wind_share_energy  \n",
       "1071              0.008  \n",
       "1072              0.107  \n",
       "1073              0.126  \n",
       "1074              0.171  \n",
       "1075              0.160  \n",
       "1076              0.148  \n",
       "2966              0.516  \n",
       "2967              0.928  \n",
       "2968              1.656  \n",
       "2969              2.612  \n",
       "\n",
       "[10 rows x 129 columns]"
      ]
     },
     "execution_count": 9,
     "metadata": {},
     "output_type": "execute_result"
    }
   ],
   "source": [
    "# Remove rows with null values\n",
    "df_cleaned = df.dropna()  # Removes any rows with null values\n",
    "print(\"\\nDataFrame after removing rows with null values:\")\n",
    "df_cleaned.head(10)\n",
    "\n",
    "\n"
   ]
  },
  {
   "cell_type": "code",
   "execution_count": 10,
   "metadata": {},
   "outputs": [
    {
     "data": {
      "text/plain": [
       "country                   194\n",
       "year                      194\n",
       "iso_code                  194\n",
       "population                194\n",
       "gdp                       194\n",
       "                         ... \n",
       "wind_elec_per_capita      194\n",
       "wind_electricity          194\n",
       "wind_energy_per_capita    194\n",
       "wind_share_elec           194\n",
       "wind_share_energy         194\n",
       "Length: 129, dtype: int64"
      ]
     },
     "execution_count": 10,
     "metadata": {},
     "output_type": "execute_result"
    }
   ],
   "source": [
    "#total rows after removing nulls\n",
    "df_cleaned.count()"
   ]
  },
  {
   "cell_type": "code",
   "execution_count": 11,
   "metadata": {},
   "outputs": [
    {
     "name": "stdout",
     "output_type": "stream",
     "text": [
      "\n",
      "DataFrame after removing duplicates:\n"
     ]
    },
    {
     "data": {
      "text/html": [
       "<div>\n",
       "<style scoped>\n",
       "    .dataframe tbody tr th:only-of-type {\n",
       "        vertical-align: middle;\n",
       "    }\n",
       "\n",
       "    .dataframe tbody tr th {\n",
       "        vertical-align: top;\n",
       "    }\n",
       "\n",
       "    .dataframe thead th {\n",
       "        text-align: right;\n",
       "    }\n",
       "</style>\n",
       "<table border=\"1\" class=\"dataframe\">\n",
       "  <thead>\n",
       "    <tr style=\"text-align: right;\">\n",
       "      <th></th>\n",
       "      <th>country</th>\n",
       "      <th>year</th>\n",
       "      <th>iso_code</th>\n",
       "      <th>population</th>\n",
       "      <th>gdp</th>\n",
       "      <th>biofuel_cons_change_pct</th>\n",
       "      <th>biofuel_cons_change_twh</th>\n",
       "      <th>biofuel_cons_per_capita</th>\n",
       "      <th>biofuel_consumption</th>\n",
       "      <th>biofuel_elec_per_capita</th>\n",
       "      <th>...</th>\n",
       "      <th>solar_share_elec</th>\n",
       "      <th>solar_share_energy</th>\n",
       "      <th>wind_cons_change_pct</th>\n",
       "      <th>wind_cons_change_twh</th>\n",
       "      <th>wind_consumption</th>\n",
       "      <th>wind_elec_per_capita</th>\n",
       "      <th>wind_electricity</th>\n",
       "      <th>wind_energy_per_capita</th>\n",
       "      <th>wind_share_elec</th>\n",
       "      <th>wind_share_energy</th>\n",
       "    </tr>\n",
       "  </thead>\n",
       "  <tbody>\n",
       "    <tr>\n",
       "      <th>1071</th>\n",
       "      <td>Argentina</td>\n",
       "      <td>2011</td>\n",
       "      <td>ARG</td>\n",
       "      <td>41520736.0</td>\n",
       "      <td>8.359705e+11</td>\n",
       "      <td>46.423</td>\n",
       "      <td>2.750</td>\n",
       "      <td>208.889</td>\n",
       "      <td>8.673</td>\n",
       "      <td>32.273</td>\n",
       "      <td>...</td>\n",
       "      <td>0.000</td>\n",
       "      <td>0.000</td>\n",
       "      <td>4.887</td>\n",
       "      <td>0.003</td>\n",
       "      <td>0.073</td>\n",
       "      <td>1.445</td>\n",
       "      <td>0.06</td>\n",
       "      <td>1.767</td>\n",
       "      <td>0.049</td>\n",
       "      <td>0.008</td>\n",
       "    </tr>\n",
       "    <tr>\n",
       "      <th>1072</th>\n",
       "      <td>Argentina</td>\n",
       "      <td>2012</td>\n",
       "      <td>ARG</td>\n",
       "      <td>41952364.0</td>\n",
       "      <td>8.274048e+11</td>\n",
       "      <td>19.876</td>\n",
       "      <td>1.724</td>\n",
       "      <td>247.831</td>\n",
       "      <td>10.397</td>\n",
       "      <td>33.133</td>\n",
       "      <td>...</td>\n",
       "      <td>0.008</td>\n",
       "      <td>0.002</td>\n",
       "      <td>1290.953</td>\n",
       "      <td>0.941</td>\n",
       "      <td>1.014</td>\n",
       "      <td>19.546</td>\n",
       "      <td>0.82</td>\n",
       "      <td>24.174</td>\n",
       "      <td>0.637</td>\n",
       "      <td>0.107</td>\n",
       "    </tr>\n",
       "    <tr>\n",
       "      <th>1073</th>\n",
       "      <td>Argentina</td>\n",
       "      <td>2013</td>\n",
       "      <td>ARG</td>\n",
       "      <td>42388268.0</td>\n",
       "      <td>8.473051e+11</td>\n",
       "      <td>14.478</td>\n",
       "      <td>1.505</td>\n",
       "      <td>280.795</td>\n",
       "      <td>11.902</td>\n",
       "      <td>35.387</td>\n",
       "      <td>...</td>\n",
       "      <td>0.008</td>\n",
       "      <td>0.004</td>\n",
       "      <td>22.574</td>\n",
       "      <td>0.221</td>\n",
       "      <td>1.236</td>\n",
       "      <td>23.827</td>\n",
       "      <td>1.01</td>\n",
       "      <td>29.149</td>\n",
       "      <td>0.763</td>\n",
       "      <td>0.126</td>\n",
       "    </tr>\n",
       "    <tr>\n",
       "      <th>1074</th>\n",
       "      <td>Argentina</td>\n",
       "      <td>2014</td>\n",
       "      <td>ARG</td>\n",
       "      <td>42824064.0</td>\n",
       "      <td>8.259815e+11</td>\n",
       "      <td>16.710</td>\n",
       "      <td>1.989</td>\n",
       "      <td>324.379</td>\n",
       "      <td>13.891</td>\n",
       "      <td>32.692</td>\n",
       "      <td>...</td>\n",
       "      <td>0.015</td>\n",
       "      <td>0.004</td>\n",
       "      <td>36.646</td>\n",
       "      <td>0.443</td>\n",
       "      <td>1.678</td>\n",
       "      <td>14.478</td>\n",
       "      <td>0.62</td>\n",
       "      <td>39.190</td>\n",
       "      <td>0.470</td>\n",
       "      <td>0.171</td>\n",
       "    </tr>\n",
       "    <tr>\n",
       "      <th>1075</th>\n",
       "      <td>Argentina</td>\n",
       "      <td>2015</td>\n",
       "      <td>ARG</td>\n",
       "      <td>43257064.0</td>\n",
       "      <td>8.478550e+11</td>\n",
       "      <td>8.925</td>\n",
       "      <td>1.240</td>\n",
       "      <td>349.792</td>\n",
       "      <td>15.131</td>\n",
       "      <td>33.058</td>\n",
       "      <td>...</td>\n",
       "      <td>0.007</td>\n",
       "      <td>0.004</td>\n",
       "      <td>-4.222</td>\n",
       "      <td>-0.080</td>\n",
       "      <td>1.598</td>\n",
       "      <td>13.639</td>\n",
       "      <td>0.59</td>\n",
       "      <td>36.938</td>\n",
       "      <td>0.428</td>\n",
       "      <td>0.160</td>\n",
       "    </tr>\n",
       "  </tbody>\n",
       "</table>\n",
       "<p>5 rows × 129 columns</p>\n",
       "</div>"
      ],
      "text/plain": [
       "        country  year iso_code  population           gdp  \\\n",
       "1071  Argentina  2011      ARG  41520736.0  8.359705e+11   \n",
       "1072  Argentina  2012      ARG  41952364.0  8.274048e+11   \n",
       "1073  Argentina  2013      ARG  42388268.0  8.473051e+11   \n",
       "1074  Argentina  2014      ARG  42824064.0  8.259815e+11   \n",
       "1075  Argentina  2015      ARG  43257064.0  8.478550e+11   \n",
       "\n",
       "      biofuel_cons_change_pct  biofuel_cons_change_twh  \\\n",
       "1071                   46.423                    2.750   \n",
       "1072                   19.876                    1.724   \n",
       "1073                   14.478                    1.505   \n",
       "1074                   16.710                    1.989   \n",
       "1075                    8.925                    1.240   \n",
       "\n",
       "      biofuel_cons_per_capita  biofuel_consumption  biofuel_elec_per_capita  \\\n",
       "1071                  208.889                8.673                   32.273   \n",
       "1072                  247.831               10.397                   33.133   \n",
       "1073                  280.795               11.902                   35.387   \n",
       "1074                  324.379               13.891                   32.692   \n",
       "1075                  349.792               15.131                   33.058   \n",
       "\n",
       "      ...  solar_share_elec  solar_share_energy  wind_cons_change_pct  \\\n",
       "1071  ...             0.000               0.000                 4.887   \n",
       "1072  ...             0.008               0.002              1290.953   \n",
       "1073  ...             0.008               0.004                22.574   \n",
       "1074  ...             0.015               0.004                36.646   \n",
       "1075  ...             0.007               0.004                -4.222   \n",
       "\n",
       "      wind_cons_change_twh  wind_consumption  wind_elec_per_capita  \\\n",
       "1071                 0.003             0.073                 1.445   \n",
       "1072                 0.941             1.014                19.546   \n",
       "1073                 0.221             1.236                23.827   \n",
       "1074                 0.443             1.678                14.478   \n",
       "1075                -0.080             1.598                13.639   \n",
       "\n",
       "      wind_electricity  wind_energy_per_capita  wind_share_elec  \\\n",
       "1071              0.06                   1.767            0.049   \n",
       "1072              0.82                  24.174            0.637   \n",
       "1073              1.01                  29.149            0.763   \n",
       "1074              0.62                  39.190            0.470   \n",
       "1075              0.59                  36.938            0.428   \n",
       "\n",
       "      wind_share_energy  \n",
       "1071              0.008  \n",
       "1072              0.107  \n",
       "1073              0.126  \n",
       "1074              0.171  \n",
       "1075              0.160  \n",
       "\n",
       "[5 rows x 129 columns]"
      ]
     },
     "execution_count": 11,
     "metadata": {},
     "output_type": "execute_result"
    }
   ],
   "source": [
    "# Remove duplicate rows based on all columns \n",
    "df_no_duplicates = df_cleaned.drop_duplicates()  \n",
    "print(\"\\nDataFrame after removing duplicates:\")\n",
    "df_no_duplicates.head()\n",
    "\n"
   ]
  },
  {
   "cell_type": "code",
   "execution_count": 12,
   "metadata": {},
   "outputs": [
    {
     "name": "stdout",
     "output_type": "stream",
     "text": [
      "\n",
      "Shape of the DataFrame after cleaning (rows, columns): (194, 129)\n"
     ]
    }
   ],
   "source": [
    "# check the shape of the cleaned DataFrame to verify the number of rows and columns\n",
    "print(\"\\nShape of the DataFrame after cleaning (rows, columns):\", df_no_duplicates.shape)"
   ]
  },
  {
   "cell_type": "code",
   "execution_count": 13,
   "metadata": {},
   "outputs": [
    {
     "name": "stdout",
     "output_type": "stream",
     "text": [
      "\n",
      "DataFrame after removing specific columns:\n"
     ]
    },
    {
     "data": {
      "text/html": [
       "<div>\n",
       "<style scoped>\n",
       "    .dataframe tbody tr th:only-of-type {\n",
       "        vertical-align: middle;\n",
       "    }\n",
       "\n",
       "    .dataframe tbody tr th {\n",
       "        vertical-align: top;\n",
       "    }\n",
       "\n",
       "    .dataframe thead th {\n",
       "        text-align: right;\n",
       "    }\n",
       "</style>\n",
       "<table border=\"1\" class=\"dataframe\">\n",
       "  <thead>\n",
       "    <tr style=\"text-align: right;\">\n",
       "      <th></th>\n",
       "      <th>country</th>\n",
       "      <th>year</th>\n",
       "      <th>iso_code</th>\n",
       "      <th>population</th>\n",
       "      <th>gdp</th>\n",
       "      <th>biofuel_cons_change_pct</th>\n",
       "      <th>biofuel_cons_change_twh</th>\n",
       "      <th>biofuel_cons_per_capita</th>\n",
       "      <th>biofuel_consumption</th>\n",
       "      <th>biofuel_elec_per_capita</th>\n",
       "      <th>...</th>\n",
       "      <th>energy_per_capita</th>\n",
       "      <th>energy_per_gdp</th>\n",
       "      <th>wind_cons_change_pct</th>\n",
       "      <th>wind_cons_change_twh</th>\n",
       "      <th>wind_consumption</th>\n",
       "      <th>wind_elec_per_capita</th>\n",
       "      <th>wind_electricity</th>\n",
       "      <th>wind_energy_per_capita</th>\n",
       "      <th>wind_share_elec</th>\n",
       "      <th>wind_share_energy</th>\n",
       "    </tr>\n",
       "  </thead>\n",
       "  <tbody>\n",
       "    <tr>\n",
       "      <th>1071</th>\n",
       "      <td>Argentina</td>\n",
       "      <td>2011</td>\n",
       "      <td>ARG</td>\n",
       "      <td>41520736.0</td>\n",
       "      <td>8.359705e+11</td>\n",
       "      <td>46.42</td>\n",
       "      <td>2.75</td>\n",
       "      <td>208.89</td>\n",
       "      <td>8.67</td>\n",
       "      <td>32.27</td>\n",
       "      <td>...</td>\n",
       "      <td>21894.87</td>\n",
       "      <td>1.09</td>\n",
       "      <td>4.89</td>\n",
       "      <td>0.00</td>\n",
       "      <td>0.07</td>\n",
       "      <td>1.44</td>\n",
       "      <td>0.06</td>\n",
       "      <td>1.77</td>\n",
       "      <td>0.05</td>\n",
       "      <td>0.01</td>\n",
       "    </tr>\n",
       "    <tr>\n",
       "      <th>1072</th>\n",
       "      <td>Argentina</td>\n",
       "      <td>2012</td>\n",
       "      <td>ARG</td>\n",
       "      <td>41952364.0</td>\n",
       "      <td>8.274048e+11</td>\n",
       "      <td>19.88</td>\n",
       "      <td>1.72</td>\n",
       "      <td>247.83</td>\n",
       "      <td>10.40</td>\n",
       "      <td>33.13</td>\n",
       "      <td>...</td>\n",
       "      <td>22494.72</td>\n",
       "      <td>1.14</td>\n",
       "      <td>1290.95</td>\n",
       "      <td>0.94</td>\n",
       "      <td>1.01</td>\n",
       "      <td>19.55</td>\n",
       "      <td>0.82</td>\n",
       "      <td>24.17</td>\n",
       "      <td>0.64</td>\n",
       "      <td>0.11</td>\n",
       "    </tr>\n",
       "    <tr>\n",
       "      <th>1073</th>\n",
       "      <td>Argentina</td>\n",
       "      <td>2013</td>\n",
       "      <td>ARG</td>\n",
       "      <td>42388268.0</td>\n",
       "      <td>8.473051e+11</td>\n",
       "      <td>14.48</td>\n",
       "      <td>1.50</td>\n",
       "      <td>280.80</td>\n",
       "      <td>11.90</td>\n",
       "      <td>35.39</td>\n",
       "      <td>...</td>\n",
       "      <td>23152.59</td>\n",
       "      <td>1.16</td>\n",
       "      <td>22.57</td>\n",
       "      <td>0.22</td>\n",
       "      <td>1.24</td>\n",
       "      <td>23.83</td>\n",
       "      <td>1.01</td>\n",
       "      <td>29.15</td>\n",
       "      <td>0.76</td>\n",
       "      <td>0.13</td>\n",
       "    </tr>\n",
       "    <tr>\n",
       "      <th>1074</th>\n",
       "      <td>Argentina</td>\n",
       "      <td>2014</td>\n",
       "      <td>ARG</td>\n",
       "      <td>42824064.0</td>\n",
       "      <td>8.259815e+11</td>\n",
       "      <td>16.71</td>\n",
       "      <td>1.99</td>\n",
       "      <td>324.38</td>\n",
       "      <td>13.89</td>\n",
       "      <td>32.69</td>\n",
       "      <td>...</td>\n",
       "      <td>22881.01</td>\n",
       "      <td>1.19</td>\n",
       "      <td>36.65</td>\n",
       "      <td>0.44</td>\n",
       "      <td>1.68</td>\n",
       "      <td>14.48</td>\n",
       "      <td>0.62</td>\n",
       "      <td>39.19</td>\n",
       "      <td>0.47</td>\n",
       "      <td>0.17</td>\n",
       "    </tr>\n",
       "    <tr>\n",
       "      <th>1075</th>\n",
       "      <td>Argentina</td>\n",
       "      <td>2015</td>\n",
       "      <td>ARG</td>\n",
       "      <td>43257064.0</td>\n",
       "      <td>8.478550e+11</td>\n",
       "      <td>8.93</td>\n",
       "      <td>1.24</td>\n",
       "      <td>349.79</td>\n",
       "      <td>15.13</td>\n",
       "      <td>33.06</td>\n",
       "      <td>...</td>\n",
       "      <td>23046.87</td>\n",
       "      <td>1.18</td>\n",
       "      <td>-4.22</td>\n",
       "      <td>-0.08</td>\n",
       "      <td>1.60</td>\n",
       "      <td>13.64</td>\n",
       "      <td>0.59</td>\n",
       "      <td>36.94</td>\n",
       "      <td>0.43</td>\n",
       "      <td>0.16</td>\n",
       "    </tr>\n",
       "  </tbody>\n",
       "</table>\n",
       "<p>5 rows × 29 columns</p>\n",
       "</div>"
      ],
      "text/plain": [
       "        country  year iso_code  population           gdp  \\\n",
       "1071  Argentina  2011      ARG  41520736.0  8.359705e+11   \n",
       "1072  Argentina  2012      ARG  41952364.0  8.274048e+11   \n",
       "1073  Argentina  2013      ARG  42388268.0  8.473051e+11   \n",
       "1074  Argentina  2014      ARG  42824064.0  8.259815e+11   \n",
       "1075  Argentina  2015      ARG  43257064.0  8.478550e+11   \n",
       "\n",
       "      biofuel_cons_change_pct  biofuel_cons_change_twh  \\\n",
       "1071                    46.42                     2.75   \n",
       "1072                    19.88                     1.72   \n",
       "1073                    14.48                     1.50   \n",
       "1074                    16.71                     1.99   \n",
       "1075                     8.93                     1.24   \n",
       "\n",
       "      biofuel_cons_per_capita  biofuel_consumption  biofuel_elec_per_capita  \\\n",
       "1071                   208.89                 8.67                    32.27   \n",
       "1072                   247.83                10.40                    33.13   \n",
       "1073                   280.80                11.90                    35.39   \n",
       "1074                   324.38                13.89                    32.69   \n",
       "1075                   349.79                15.13                    33.06   \n",
       "\n",
       "      ...  energy_per_capita  energy_per_gdp  wind_cons_change_pct  \\\n",
       "1071  ...           21894.87            1.09                  4.89   \n",
       "1072  ...           22494.72            1.14               1290.95   \n",
       "1073  ...           23152.59            1.16                 22.57   \n",
       "1074  ...           22881.01            1.19                 36.65   \n",
       "1075  ...           23046.87            1.18                 -4.22   \n",
       "\n",
       "      wind_cons_change_twh  wind_consumption  wind_elec_per_capita  \\\n",
       "1071                  0.00              0.07                  1.44   \n",
       "1072                  0.94              1.01                 19.55   \n",
       "1073                  0.22              1.24                 23.83   \n",
       "1074                  0.44              1.68                 14.48   \n",
       "1075                 -0.08              1.60                 13.64   \n",
       "\n",
       "      wind_electricity  wind_energy_per_capita  wind_share_elec  \\\n",
       "1071              0.06                    1.77             0.05   \n",
       "1072              0.82                   24.17             0.64   \n",
       "1073              1.01                   29.15             0.76   \n",
       "1074              0.62                   39.19             0.47   \n",
       "1075              0.59                   36.94             0.43   \n",
       "\n",
       "      wind_share_energy  \n",
       "1071               0.01  \n",
       "1072               0.11  \n",
       "1073               0.13  \n",
       "1074               0.17  \n",
       "1075               0.16  \n",
       "\n",
       "[5 rows x 29 columns]"
      ]
     },
     "execution_count": 13,
     "metadata": {},
     "output_type": "execute_result"
    }
   ],
   "source": [
    "# Remove specific columns from the DataFrame\n",
    "columns_to_remove = ['coal_cons_change_pct','coal_cons_change_twh','coal_cons_per_capita','coal_consumption','coal_elec_per_capita','coal_electricity','coal_prod_change_pct','coal_prod_change_twh','coal_prod_per_capita','coal_production','coal_share_elec','coal_share_energy','fossil_cons_change_pct','fossil_cons_change_twh','fossil_elec_per_capita','fossil_electricity','fossil_energy_per_capita','fossil_fuel_consumption','fossil_share_elec','fossil_share_energy','gas_cons_change_pct','gas_cons_change_twh','gas_consumption','gas_elec_per_capita','gas_electricity','gas_energy_per_capita','gas_prod_change_pct','gas_prod_change_twh','gas_prod_per_capita','gas_production','gas_share_elec','gas_share_energy','greenhouse_gas_emissions','hydro_cons_change_pct','hydro_cons_change_twh','hydro_consumption','hydro_elec_per_capita','hydro_electricity','hydro_energy_per_capita','hydro_share_elec','hydro_share_energy','low_carbon_cons_change_pct','low_carbon_cons_change_twh','low_carbon_consumption','low_carbon_elec_per_capita','low_carbon_electricity','low_carbon_energy_per_capita','low_carbon_share_elec','low_carbon_share_energy','net_elec_imports','net_elec_imports_share_demand','nuclear_cons_change_pct','nuclear_cons_change_twh','nuclear_consumption','nuclear_elec_per_capita','nuclear_electricity','nuclear_energy_per_capita','nuclear_share_elec','nuclear_share_energy','oil_cons_change_pct','oil_cons_change_twh','oil_consumption','oil_elec_per_capita','oil_electricity','oil_energy_per_capita','oil_prod_change_pct','oil_prod_change_twh','oil_prod_per_capita','oil_production','oil_share_elec','oil_share_energy','other_renewable_consumption','other_renewable_electricity','other_renewable_exc_biofuel_electricity','other_renewables_cons_change_pct','other_renewables_cons_change_twh','other_renewables_elec_per_capita','other_renewables_elec_per_capita_exc_biofuel','other_renewables_energy_per_capita','other_renewables_share_elec','other_renewables_share_elec_exc_biofuel','other_renewables_share_energy','per_capita_electricity','primary_energy_consumption','renewables_cons_change_pct','renewables_cons_change_twh','renewables_consumption','renewables_elec_per_capita','renewables_electricity','renewables_energy_per_capita','renewables_share_elec','renewables_share_energy','solar_cons_change_pct','solar_cons_change_twh','solar_consumption','solar_elec_per_capita','solar_electricity','solar_energy_per_capita','solar_share_elec','solar_share_energy']  # Replace with the actual column names you want to remove\n",
    "df_final = df_no_duplicates.drop(columns=columns_to_remove)\n",
    "#  Round numeric columns to 2 decimal places\n",
    "df_final = df_final.round(2)\n",
    "\n",
    "print(\"\\nDataFrame after removing specific columns:\")\n",
    "df_final.head()\n"
   ]
  },
  {
   "cell_type": "code",
   "execution_count": 14,
   "metadata": {},
   "outputs": [
    {
     "data": {
      "text/plain": [
       "Index(['country', 'year', 'iso_code', 'population', 'gdp',\n",
       "       'biofuel_cons_change_pct', 'biofuel_cons_change_twh',\n",
       "       'biofuel_cons_per_capita', 'biofuel_consumption',\n",
       "       'biofuel_elec_per_capita', 'biofuel_electricity', 'biofuel_share_elec',\n",
       "       'biofuel_share_energy', 'carbon_intensity_elec', 'electricity_demand',\n",
       "       'electricity_generation', 'electricity_share_energy',\n",
       "       'energy_cons_change_pct', 'energy_cons_change_twh', 'energy_per_capita',\n",
       "       'energy_per_gdp', 'wind_cons_change_pct', 'wind_cons_change_twh',\n",
       "       'wind_consumption', 'wind_elec_per_capita', 'wind_electricity',\n",
       "       'wind_energy_per_capita', 'wind_share_elec', 'wind_share_energy'],\n",
       "      dtype='object')"
      ]
     },
     "execution_count": 14,
     "metadata": {},
     "output_type": "execute_result"
    }
   ],
   "source": [
    "df_final.columns"
   ]
  },
  {
   "cell_type": "code",
   "execution_count": 15,
   "metadata": {},
   "outputs": [
    {
     "name": "stdout",
     "output_type": "stream",
     "text": [
      "\n",
      "Shape of the DataFrame after column removal (rows, columns): (194, 29)\n"
     ]
    }
   ],
   "source": [
    "\n",
    "# check DataFrame shape after removing columns\n",
    "print(\"\\nShape of the DataFrame after column removal (rows, columns):\", df_final.shape)"
   ]
  },
  {
   "cell_type": "code",
   "execution_count": 16,
   "metadata": {},
   "outputs": [
    {
     "name": "stdout",
     "output_type": "stream",
     "text": [
      "Cleaned DataFrame inserted successfully into MongoDB!\n"
     ]
    }
   ],
   "source": [
    "# Iterate over the DataFrame rows and insert them into MongoDB\n",
    "for index, row in df_final.iterrows():\n",
    "    # Convert each row to a dictionary for MongoDB insertion\n",
    "    collection.insert_one(row.to_dict())\n",
    "\n",
    "print(\"Cleaned DataFrame inserted successfully into MongoDB!\")\n",
    "\n"
   ]
  },
  {
   "cell_type": "code",
   "execution_count": 17,
   "metadata": {},
   "outputs": [
    {
     "name": "stdout",
     "output_type": "stream",
     "text": [
      "\n",
      "DataFrame containing the records from MongoDB:\n"
     ]
    },
    {
     "data": {
      "text/html": [
       "<div>\n",
       "<style scoped>\n",
       "    .dataframe tbody tr th:only-of-type {\n",
       "        vertical-align: middle;\n",
       "    }\n",
       "\n",
       "    .dataframe tbody tr th {\n",
       "        vertical-align: top;\n",
       "    }\n",
       "\n",
       "    .dataframe thead th {\n",
       "        text-align: right;\n",
       "    }\n",
       "</style>\n",
       "<table border=\"1\" class=\"dataframe\">\n",
       "  <thead>\n",
       "    <tr style=\"text-align: right;\">\n",
       "      <th></th>\n",
       "      <th>_id</th>\n",
       "      <th>country</th>\n",
       "      <th>year</th>\n",
       "      <th>iso_code</th>\n",
       "      <th>population</th>\n",
       "      <th>gdp</th>\n",
       "      <th>biofuel_cons_change_pct</th>\n",
       "      <th>biofuel_cons_change_twh</th>\n",
       "      <th>biofuel_cons_per_capita</th>\n",
       "      <th>biofuel_consumption</th>\n",
       "      <th>...</th>\n",
       "      <th>energy_per_capita</th>\n",
       "      <th>energy_per_gdp</th>\n",
       "      <th>wind_cons_change_pct</th>\n",
       "      <th>wind_cons_change_twh</th>\n",
       "      <th>wind_consumption</th>\n",
       "      <th>wind_elec_per_capita</th>\n",
       "      <th>wind_electricity</th>\n",
       "      <th>wind_energy_per_capita</th>\n",
       "      <th>wind_share_elec</th>\n",
       "      <th>wind_share_energy</th>\n",
       "    </tr>\n",
       "  </thead>\n",
       "  <tbody>\n",
       "    <tr>\n",
       "      <th>0</th>\n",
       "      <td>6706c1aca23c6d17b56acad1</td>\n",
       "      <td>Argentina</td>\n",
       "      <td>2011</td>\n",
       "      <td>ARG</td>\n",
       "      <td>41520736.0</td>\n",
       "      <td>8.359705e+11</td>\n",
       "      <td>46.42</td>\n",
       "      <td>2.75</td>\n",
       "      <td>208.89</td>\n",
       "      <td>8.67</td>\n",
       "      <td>...</td>\n",
       "      <td>21894.87</td>\n",
       "      <td>1.09</td>\n",
       "      <td>4.89</td>\n",
       "      <td>0.00</td>\n",
       "      <td>0.07</td>\n",
       "      <td>1.44</td>\n",
       "      <td>0.06</td>\n",
       "      <td>1.77</td>\n",
       "      <td>0.05</td>\n",
       "      <td>0.01</td>\n",
       "    </tr>\n",
       "    <tr>\n",
       "      <th>1</th>\n",
       "      <td>6706c1aca23c6d17b56acad2</td>\n",
       "      <td>Argentina</td>\n",
       "      <td>2012</td>\n",
       "      <td>ARG</td>\n",
       "      <td>41952364.0</td>\n",
       "      <td>8.274048e+11</td>\n",
       "      <td>19.88</td>\n",
       "      <td>1.72</td>\n",
       "      <td>247.83</td>\n",
       "      <td>10.40</td>\n",
       "      <td>...</td>\n",
       "      <td>22494.72</td>\n",
       "      <td>1.14</td>\n",
       "      <td>1290.95</td>\n",
       "      <td>0.94</td>\n",
       "      <td>1.01</td>\n",
       "      <td>19.55</td>\n",
       "      <td>0.82</td>\n",
       "      <td>24.17</td>\n",
       "      <td>0.64</td>\n",
       "      <td>0.11</td>\n",
       "    </tr>\n",
       "    <tr>\n",
       "      <th>2</th>\n",
       "      <td>6706c1aca23c6d17b56acad3</td>\n",
       "      <td>Argentina</td>\n",
       "      <td>2013</td>\n",
       "      <td>ARG</td>\n",
       "      <td>42388268.0</td>\n",
       "      <td>8.473051e+11</td>\n",
       "      <td>14.48</td>\n",
       "      <td>1.50</td>\n",
       "      <td>280.80</td>\n",
       "      <td>11.90</td>\n",
       "      <td>...</td>\n",
       "      <td>23152.59</td>\n",
       "      <td>1.16</td>\n",
       "      <td>22.57</td>\n",
       "      <td>0.22</td>\n",
       "      <td>1.24</td>\n",
       "      <td>23.83</td>\n",
       "      <td>1.01</td>\n",
       "      <td>29.15</td>\n",
       "      <td>0.76</td>\n",
       "      <td>0.13</td>\n",
       "    </tr>\n",
       "    <tr>\n",
       "      <th>3</th>\n",
       "      <td>6706c1aca23c6d17b56acad4</td>\n",
       "      <td>Argentina</td>\n",
       "      <td>2014</td>\n",
       "      <td>ARG</td>\n",
       "      <td>42824064.0</td>\n",
       "      <td>8.259815e+11</td>\n",
       "      <td>16.71</td>\n",
       "      <td>1.99</td>\n",
       "      <td>324.38</td>\n",
       "      <td>13.89</td>\n",
       "      <td>...</td>\n",
       "      <td>22881.01</td>\n",
       "      <td>1.19</td>\n",
       "      <td>36.65</td>\n",
       "      <td>0.44</td>\n",
       "      <td>1.68</td>\n",
       "      <td>14.48</td>\n",
       "      <td>0.62</td>\n",
       "      <td>39.19</td>\n",
       "      <td>0.47</td>\n",
       "      <td>0.17</td>\n",
       "    </tr>\n",
       "    <tr>\n",
       "      <th>4</th>\n",
       "      <td>6706c1aca23c6d17b56acad5</td>\n",
       "      <td>Argentina</td>\n",
       "      <td>2015</td>\n",
       "      <td>ARG</td>\n",
       "      <td>43257064.0</td>\n",
       "      <td>8.478550e+11</td>\n",
       "      <td>8.93</td>\n",
       "      <td>1.24</td>\n",
       "      <td>349.79</td>\n",
       "      <td>15.13</td>\n",
       "      <td>...</td>\n",
       "      <td>23046.87</td>\n",
       "      <td>1.18</td>\n",
       "      <td>-4.22</td>\n",
       "      <td>-0.08</td>\n",
       "      <td>1.60</td>\n",
       "      <td>13.64</td>\n",
       "      <td>0.59</td>\n",
       "      <td>36.94</td>\n",
       "      <td>0.43</td>\n",
       "      <td>0.16</td>\n",
       "    </tr>\n",
       "    <tr>\n",
       "      <th>...</th>\n",
       "      <td>...</td>\n",
       "      <td>...</td>\n",
       "      <td>...</td>\n",
       "      <td>...</td>\n",
       "      <td>...</td>\n",
       "      <td>...</td>\n",
       "      <td>...</td>\n",
       "      <td>...</td>\n",
       "      <td>...</td>\n",
       "      <td>...</td>\n",
       "      <td>...</td>\n",
       "      <td>...</td>\n",
       "      <td>...</td>\n",
       "      <td>...</td>\n",
       "      <td>...</td>\n",
       "      <td>...</td>\n",
       "      <td>...</td>\n",
       "      <td>...</td>\n",
       "      <td>...</td>\n",
       "      <td>...</td>\n",
       "      <td>...</td>\n",
       "    </tr>\n",
       "    <tr>\n",
       "      <th>4457</th>\n",
       "      <td>67167f66a0ffa2975dfd3606</td>\n",
       "      <td>United States</td>\n",
       "      <td>2014</td>\n",
       "      <td>USA</td>\n",
       "      <td>322033952.0</td>\n",
       "      <td>1.648266e+13</td>\n",
       "      <td>1.43</td>\n",
       "      <td>5.09</td>\n",
       "      <td>1119.49</td>\n",
       "      <td>360.52</td>\n",
       "      <td>...</td>\n",
       "      <td>80725.09</td>\n",
       "      <td>1.58</td>\n",
       "      <td>8.23</td>\n",
       "      <td>35.04</td>\n",
       "      <td>497.09</td>\n",
       "      <td>564.07</td>\n",
       "      <td>181.65</td>\n",
       "      <td>1543.60</td>\n",
       "      <td>4.43</td>\n",
       "      <td>1.91</td>\n",
       "    </tr>\n",
       "    <tr>\n",
       "      <th>4458</th>\n",
       "      <td>67167f66a0ffa2975dfd3607</td>\n",
       "      <td>United States</td>\n",
       "      <td>2015</td>\n",
       "      <td>USA</td>\n",
       "      <td>324607776.0</td>\n",
       "      <td>1.690258e+13</td>\n",
       "      <td>4.63</td>\n",
       "      <td>16.70</td>\n",
       "      <td>1162.05</td>\n",
       "      <td>377.21</td>\n",
       "      <td>...</td>\n",
       "      <td>79317.37</td>\n",
       "      <td>1.52</td>\n",
       "      <td>4.99</td>\n",
       "      <td>21.70</td>\n",
       "      <td>518.79</td>\n",
       "      <td>587.54</td>\n",
       "      <td>190.72</td>\n",
       "      <td>1598.20</td>\n",
       "      <td>4.67</td>\n",
       "      <td>2.02</td>\n",
       "    </tr>\n",
       "    <tr>\n",
       "      <th>4459</th>\n",
       "      <td>67167f66a0ffa2975dfd3608</td>\n",
       "      <td>United States</td>\n",
       "      <td>2016</td>\n",
       "      <td>USA</td>\n",
       "      <td>327210208.0</td>\n",
       "      <td>1.716256e+13</td>\n",
       "      <td>8.49</td>\n",
       "      <td>32.02</td>\n",
       "      <td>1250.66</td>\n",
       "      <td>409.23</td>\n",
       "      <td>...</td>\n",
       "      <td>78613.54</td>\n",
       "      <td>1.50</td>\n",
       "      <td>19.02</td>\n",
       "      <td>95.02</td>\n",
       "      <td>613.81</td>\n",
       "      <td>693.71</td>\n",
       "      <td>226.99</td>\n",
       "      <td>1875.88</td>\n",
       "      <td>5.55</td>\n",
       "      <td>2.39</td>\n",
       "    </tr>\n",
       "    <tr>\n",
       "      <th>4460</th>\n",
       "      <td>67167f66a0ffa2975dfd3609</td>\n",
       "      <td>United States</td>\n",
       "      <td>2017</td>\n",
       "      <td>USA</td>\n",
       "      <td>329791232.0</td>\n",
       "      <td>1.759628e+13</td>\n",
       "      <td>0.20</td>\n",
       "      <td>0.82</td>\n",
       "      <td>1243.37</td>\n",
       "      <td>410.05</td>\n",
       "      <td>...</td>\n",
       "      <td>78289.01</td>\n",
       "      <td>1.47</td>\n",
       "      <td>12.03</td>\n",
       "      <td>69.80</td>\n",
       "      <td>683.61</td>\n",
       "      <td>771.09</td>\n",
       "      <td>254.30</td>\n",
       "      <td>2072.86</td>\n",
       "      <td>6.28</td>\n",
       "      <td>2.65</td>\n",
       "    </tr>\n",
       "    <tr>\n",
       "      <th>4461</th>\n",
       "      <td>67167f66a0ffa2975dfd360a</td>\n",
       "      <td>United States</td>\n",
       "      <td>2018</td>\n",
       "      <td>USA</td>\n",
       "      <td>332140032.0</td>\n",
       "      <td>1.814065e+13</td>\n",
       "      <td>-1.32</td>\n",
       "      <td>-5.43</td>\n",
       "      <td>1218.22</td>\n",
       "      <td>404.62</td>\n",
       "      <td>...</td>\n",
       "      <td>80583.34</td>\n",
       "      <td>1.48</td>\n",
       "      <td>7.22</td>\n",
       "      <td>45.08</td>\n",
       "      <td>728.69</td>\n",
       "      <td>820.95</td>\n",
       "      <td>272.67</td>\n",
       "      <td>2193.93</td>\n",
       "      <td>6.49</td>\n",
       "      <td>2.72</td>\n",
       "    </tr>\n",
       "  </tbody>\n",
       "</table>\n",
       "<p>4462 rows × 30 columns</p>\n",
       "</div>"
      ],
      "text/plain": [
       "                           _id        country  year iso_code   population  \\\n",
       "0     6706c1aca23c6d17b56acad1      Argentina  2011      ARG   41520736.0   \n",
       "1     6706c1aca23c6d17b56acad2      Argentina  2012      ARG   41952364.0   \n",
       "2     6706c1aca23c6d17b56acad3      Argentina  2013      ARG   42388268.0   \n",
       "3     6706c1aca23c6d17b56acad4      Argentina  2014      ARG   42824064.0   \n",
       "4     6706c1aca23c6d17b56acad5      Argentina  2015      ARG   43257064.0   \n",
       "...                        ...            ...   ...      ...          ...   \n",
       "4457  67167f66a0ffa2975dfd3606  United States  2014      USA  322033952.0   \n",
       "4458  67167f66a0ffa2975dfd3607  United States  2015      USA  324607776.0   \n",
       "4459  67167f66a0ffa2975dfd3608  United States  2016      USA  327210208.0   \n",
       "4460  67167f66a0ffa2975dfd3609  United States  2017      USA  329791232.0   \n",
       "4461  67167f66a0ffa2975dfd360a  United States  2018      USA  332140032.0   \n",
       "\n",
       "               gdp  biofuel_cons_change_pct  biofuel_cons_change_twh  \\\n",
       "0     8.359705e+11                    46.42                     2.75   \n",
       "1     8.274048e+11                    19.88                     1.72   \n",
       "2     8.473051e+11                    14.48                     1.50   \n",
       "3     8.259815e+11                    16.71                     1.99   \n",
       "4     8.478550e+11                     8.93                     1.24   \n",
       "...            ...                      ...                      ...   \n",
       "4457  1.648266e+13                     1.43                     5.09   \n",
       "4458  1.690258e+13                     4.63                    16.70   \n",
       "4459  1.716256e+13                     8.49                    32.02   \n",
       "4460  1.759628e+13                     0.20                     0.82   \n",
       "4461  1.814065e+13                    -1.32                    -5.43   \n",
       "\n",
       "      biofuel_cons_per_capita  biofuel_consumption  ...  energy_per_capita  \\\n",
       "0                      208.89                 8.67  ...           21894.87   \n",
       "1                      247.83                10.40  ...           22494.72   \n",
       "2                      280.80                11.90  ...           23152.59   \n",
       "3                      324.38                13.89  ...           22881.01   \n",
       "4                      349.79                15.13  ...           23046.87   \n",
       "...                       ...                  ...  ...                ...   \n",
       "4457                  1119.49               360.52  ...           80725.09   \n",
       "4458                  1162.05               377.21  ...           79317.37   \n",
       "4459                  1250.66               409.23  ...           78613.54   \n",
       "4460                  1243.37               410.05  ...           78289.01   \n",
       "4461                  1218.22               404.62  ...           80583.34   \n",
       "\n",
       "      energy_per_gdp  wind_cons_change_pct  wind_cons_change_twh  \\\n",
       "0               1.09                  4.89                  0.00   \n",
       "1               1.14               1290.95                  0.94   \n",
       "2               1.16                 22.57                  0.22   \n",
       "3               1.19                 36.65                  0.44   \n",
       "4               1.18                 -4.22                 -0.08   \n",
       "...              ...                   ...                   ...   \n",
       "4457            1.58                  8.23                 35.04   \n",
       "4458            1.52                  4.99                 21.70   \n",
       "4459            1.50                 19.02                 95.02   \n",
       "4460            1.47                 12.03                 69.80   \n",
       "4461            1.48                  7.22                 45.08   \n",
       "\n",
       "      wind_consumption  wind_elec_per_capita  wind_electricity  \\\n",
       "0                 0.07                  1.44              0.06   \n",
       "1                 1.01                 19.55              0.82   \n",
       "2                 1.24                 23.83              1.01   \n",
       "3                 1.68                 14.48              0.62   \n",
       "4                 1.60                 13.64              0.59   \n",
       "...                ...                   ...               ...   \n",
       "4457            497.09                564.07            181.65   \n",
       "4458            518.79                587.54            190.72   \n",
       "4459            613.81                693.71            226.99   \n",
       "4460            683.61                771.09            254.30   \n",
       "4461            728.69                820.95            272.67   \n",
       "\n",
       "      wind_energy_per_capita  wind_share_elec  wind_share_energy  \n",
       "0                       1.77             0.05               0.01  \n",
       "1                      24.17             0.64               0.11  \n",
       "2                      29.15             0.76               0.13  \n",
       "3                      39.19             0.47               0.17  \n",
       "4                      36.94             0.43               0.16  \n",
       "...                      ...              ...                ...  \n",
       "4457                 1543.60             4.43               1.91  \n",
       "4458                 1598.20             4.67               2.02  \n",
       "4459                 1875.88             5.55               2.39  \n",
       "4460                 2072.86             6.28               2.65  \n",
       "4461                 2193.93             6.49               2.72  \n",
       "\n",
       "[4462 rows x 30 columns]"
      ]
     },
     "execution_count": 17,
     "metadata": {},
     "output_type": "execute_result"
    }
   ],
   "source": [
    "# Fetch the first 5 records from MongoDB and convert them to a DataFrame\n",
    "records = list(collection.find()) \n",
    "df_mongo = pd.DataFrame(records)\n",
    "#  Display the DataFrame containing the records\n",
    "print(\"\\nDataFrame containing the records from MongoDB:\")\n",
    "df_mongo.round(2)"
   ]
  },
  {
   "cell_type": "code",
   "execution_count": 18,
   "metadata": {},
   "outputs": [
    {
     "data": {
      "text/html": [
       "<div>\n",
       "<style scoped>\n",
       "    .dataframe tbody tr th:only-of-type {\n",
       "        vertical-align: middle;\n",
       "    }\n",
       "\n",
       "    .dataframe tbody tr th {\n",
       "        vertical-align: top;\n",
       "    }\n",
       "\n",
       "    .dataframe thead th {\n",
       "        text-align: right;\n",
       "    }\n",
       "</style>\n",
       "<table border=\"1\" class=\"dataframe\">\n",
       "  <thead>\n",
       "    <tr style=\"text-align: right;\">\n",
       "      <th></th>\n",
       "      <th>year</th>\n",
       "      <th>population</th>\n",
       "      <th>gdp</th>\n",
       "      <th>biofuel_cons_change_pct</th>\n",
       "      <th>biofuel_cons_change_twh</th>\n",
       "      <th>biofuel_cons_per_capita</th>\n",
       "      <th>biofuel_consumption</th>\n",
       "      <th>biofuel_elec_per_capita</th>\n",
       "      <th>biofuel_electricity</th>\n",
       "      <th>biofuel_share_elec</th>\n",
       "      <th>...</th>\n",
       "      <th>energy_per_capita</th>\n",
       "      <th>energy_per_gdp</th>\n",
       "      <th>wind_cons_change_pct</th>\n",
       "      <th>wind_cons_change_twh</th>\n",
       "      <th>wind_consumption</th>\n",
       "      <th>wind_elec_per_capita</th>\n",
       "      <th>wind_electricity</th>\n",
       "      <th>wind_energy_per_capita</th>\n",
       "      <th>wind_share_elec</th>\n",
       "      <th>wind_share_energy</th>\n",
       "    </tr>\n",
       "  </thead>\n",
       "  <tbody>\n",
       "    <tr>\n",
       "      <th>count</th>\n",
       "      <td>4462.00</td>\n",
       "      <td>4.462000e+03</td>\n",
       "      <td>4.462000e+03</td>\n",
       "      <td>4462.00</td>\n",
       "      <td>4462.00</td>\n",
       "      <td>4462.00</td>\n",
       "      <td>4462.00</td>\n",
       "      <td>4462.00</td>\n",
       "      <td>4462.00</td>\n",
       "      <td>4462.00</td>\n",
       "      <td>...</td>\n",
       "      <td>4462.00</td>\n",
       "      <td>4462.00</td>\n",
       "      <td>4462.00</td>\n",
       "      <td>4462.00</td>\n",
       "      <td>4462.00</td>\n",
       "      <td>4462.00</td>\n",
       "      <td>4462.00</td>\n",
       "      <td>4462.00</td>\n",
       "      <td>4462.00</td>\n",
       "      <td>4462.00</td>\n",
       "    </tr>\n",
       "    <tr>\n",
       "      <th>mean</th>\n",
       "      <td>2010.41</td>\n",
       "      <td>8.307047e+07</td>\n",
       "      <td>2.895157e+12</td>\n",
       "      <td>49.85</td>\n",
       "      <td>2.93</td>\n",
       "      <td>241.93</td>\n",
       "      <td>34.79</td>\n",
       "      <td>161.05</td>\n",
       "      <td>14.11</td>\n",
       "      <td>2.49</td>\n",
       "      <td>...</td>\n",
       "      <td>46842.32</td>\n",
       "      <td>1.61</td>\n",
       "      <td>71.03</td>\n",
       "      <td>7.50</td>\n",
       "      <td>55.87</td>\n",
       "      <td>219.76</td>\n",
       "      <td>20.47</td>\n",
       "      <td>594.78</td>\n",
       "      <td>3.26</td>\n",
       "      <td>1.44</td>\n",
       "    </tr>\n",
       "    <tr>\n",
       "      <th>std</th>\n",
       "      <td>4.84</td>\n",
       "      <td>8.623374e+07</td>\n",
       "      <td>4.292650e+12</td>\n",
       "      <td>225.60</td>\n",
       "      <td>8.91</td>\n",
       "      <td>295.07</td>\n",
       "      <td>85.62</td>\n",
       "      <td>135.78</td>\n",
       "      <td>18.68</td>\n",
       "      <td>2.34</td>\n",
       "      <td>...</td>\n",
       "      <td>28936.77</td>\n",
       "      <td>0.58</td>\n",
       "      <td>321.71</td>\n",
       "      <td>15.50</td>\n",
       "      <td>113.65</td>\n",
       "      <td>292.63</td>\n",
       "      <td>41.87</td>\n",
       "      <td>790.09</td>\n",
       "      <td>4.40</td>\n",
       "      <td>2.00</td>\n",
       "    </tr>\n",
       "    <tr>\n",
       "      <th>min</th>\n",
       "      <td>2000.00</td>\n",
       "      <td>2.074923e+06</td>\n",
       "      <td>5.279414e+10</td>\n",
       "      <td>-91.43</td>\n",
       "      <td>-19.94</td>\n",
       "      <td>0.65</td>\n",
       "      <td>0.03</td>\n",
       "      <td>2.88</td>\n",
       "      <td>0.04</td>\n",
       "      <td>0.05</td>\n",
       "      <td>...</td>\n",
       "      <td>16539.11</td>\n",
       "      <td>0.88</td>\n",
       "      <td>-16.67</td>\n",
       "      <td>-11.08</td>\n",
       "      <td>0.01</td>\n",
       "      <td>0.00</td>\n",
       "      <td>0.00</td>\n",
       "      <td>0.52</td>\n",
       "      <td>0.00</td>\n",
       "      <td>0.00</td>\n",
       "    </tr>\n",
       "    <tr>\n",
       "      <th>25%</th>\n",
       "      <td>2007.00</td>\n",
       "      <td>3.161946e+07</td>\n",
       "      <td>4.412589e+11</td>\n",
       "      <td>-1.30</td>\n",
       "      <td>-0.02</td>\n",
       "      <td>20.88</td>\n",
       "      <td>1.19</td>\n",
       "      <td>55.07</td>\n",
       "      <td>1.43</td>\n",
       "      <td>1.04</td>\n",
       "      <td>...</td>\n",
       "      <td>26411.89</td>\n",
       "      <td>1.16</td>\n",
       "      <td>4.74</td>\n",
       "      <td>0.02</td>\n",
       "      <td>1.24</td>\n",
       "      <td>15.86</td>\n",
       "      <td>0.48</td>\n",
       "      <td>39.84</td>\n",
       "      <td>0.26</td>\n",
       "      <td>0.12</td>\n",
       "    </tr>\n",
       "    <tr>\n",
       "      <th>50%</th>\n",
       "      <td>2011.00</td>\n",
       "      <td>5.279418e+07</td>\n",
       "      <td>1.496484e+12</td>\n",
       "      <td>8.37</td>\n",
       "      <td>0.20</td>\n",
       "      <td>162.65</td>\n",
       "      <td>2.70</td>\n",
       "      <td>152.04</td>\n",
       "      <td>6.24</td>\n",
       "      <td>1.59</td>\n",
       "      <td>...</td>\n",
       "      <td>39054.21</td>\n",
       "      <td>1.37</td>\n",
       "      <td>19.10</td>\n",
       "      <td>1.17</td>\n",
       "      <td>11.34</td>\n",
       "      <td>69.01</td>\n",
       "      <td>4.10</td>\n",
       "      <td>189.40</td>\n",
       "      <td>1.34</td>\n",
       "      <td>0.55</td>\n",
       "    </tr>\n",
       "    <tr>\n",
       "      <th>75%</th>\n",
       "      <td>2014.00</td>\n",
       "      <td>1.068868e+08</td>\n",
       "      <td>2.889037e+12</td>\n",
       "      <td>26.23</td>\n",
       "      <td>1.52</td>\n",
       "      <td>319.77</td>\n",
       "      <td>16.04</td>\n",
       "      <td>231.69</td>\n",
       "      <td>18.10</td>\n",
       "      <td>3.01</td>\n",
       "      <td>...</td>\n",
       "      <td>50547.26</td>\n",
       "      <td>1.89</td>\n",
       "      <td>45.47</td>\n",
       "      <td>7.75</td>\n",
       "      <td>72.62</td>\n",
       "      <td>322.84</td>\n",
       "      <td>26.02</td>\n",
       "      <td>891.09</td>\n",
       "      <td>4.53</td>\n",
       "      <td>2.01</td>\n",
       "    </tr>\n",
       "    <tr>\n",
       "      <th>max</th>\n",
       "      <td>2018.00</td>\n",
       "      <td>3.321400e+08</td>\n",
       "      <td>1.814065e+13</td>\n",
       "      <td>2666.63</td>\n",
       "      <td>60.88</td>\n",
       "      <td>1250.66</td>\n",
       "      <td>410.05</td>\n",
       "      <td>618.60</td>\n",
       "      <td>63.99</td>\n",
       "      <td>10.57</td>\n",
       "      <td>...</td>\n",
       "      <td>119158.60</td>\n",
       "      <td>3.26</td>\n",
       "      <td>3300.00</td>\n",
       "      <td>95.02</td>\n",
       "      <td>728.69</td>\n",
       "      <td>1194.12</td>\n",
       "      <td>272.67</td>\n",
       "      <td>3261.32</td>\n",
       "      <td>19.77</td>\n",
       "      <td>9.59</td>\n",
       "    </tr>\n",
       "  </tbody>\n",
       "</table>\n",
       "<p>8 rows × 27 columns</p>\n",
       "</div>"
      ],
      "text/plain": [
       "          year    population           gdp  biofuel_cons_change_pct  \\\n",
       "count  4462.00  4.462000e+03  4.462000e+03                  4462.00   \n",
       "mean   2010.41  8.307047e+07  2.895157e+12                    49.85   \n",
       "std       4.84  8.623374e+07  4.292650e+12                   225.60   \n",
       "min    2000.00  2.074923e+06  5.279414e+10                   -91.43   \n",
       "25%    2007.00  3.161946e+07  4.412589e+11                    -1.30   \n",
       "50%    2011.00  5.279418e+07  1.496484e+12                     8.37   \n",
       "75%    2014.00  1.068868e+08  2.889037e+12                    26.23   \n",
       "max    2018.00  3.321400e+08  1.814065e+13                  2666.63   \n",
       "\n",
       "       biofuel_cons_change_twh  biofuel_cons_per_capita  biofuel_consumption  \\\n",
       "count                  4462.00                  4462.00              4462.00   \n",
       "mean                      2.93                   241.93                34.79   \n",
       "std                       8.91                   295.07                85.62   \n",
       "min                     -19.94                     0.65                 0.03   \n",
       "25%                      -0.02                    20.88                 1.19   \n",
       "50%                       0.20                   162.65                 2.70   \n",
       "75%                       1.52                   319.77                16.04   \n",
       "max                      60.88                  1250.66               410.05   \n",
       "\n",
       "       biofuel_elec_per_capita  biofuel_electricity  biofuel_share_elec  ...  \\\n",
       "count                  4462.00              4462.00             4462.00  ...   \n",
       "mean                    161.05                14.11                2.49  ...   \n",
       "std                     135.78                18.68                2.34  ...   \n",
       "min                       2.88                 0.04                0.05  ...   \n",
       "25%                      55.07                 1.43                1.04  ...   \n",
       "50%                     152.04                 6.24                1.59  ...   \n",
       "75%                     231.69                18.10                3.01  ...   \n",
       "max                     618.60                63.99               10.57  ...   \n",
       "\n",
       "       energy_per_capita  energy_per_gdp  wind_cons_change_pct  \\\n",
       "count            4462.00         4462.00               4462.00   \n",
       "mean            46842.32            1.61                 71.03   \n",
       "std             28936.77            0.58                321.71   \n",
       "min             16539.11            0.88                -16.67   \n",
       "25%             26411.89            1.16                  4.74   \n",
       "50%             39054.21            1.37                 19.10   \n",
       "75%             50547.26            1.89                 45.47   \n",
       "max            119158.60            3.26               3300.00   \n",
       "\n",
       "       wind_cons_change_twh  wind_consumption  wind_elec_per_capita  \\\n",
       "count               4462.00           4462.00               4462.00   \n",
       "mean                   7.50             55.87                219.76   \n",
       "std                   15.50            113.65                292.63   \n",
       "min                  -11.08              0.01                  0.00   \n",
       "25%                    0.02              1.24                 15.86   \n",
       "50%                    1.17             11.34                 69.01   \n",
       "75%                    7.75             72.62                322.84   \n",
       "max                   95.02            728.69               1194.12   \n",
       "\n",
       "       wind_electricity  wind_energy_per_capita  wind_share_elec  \\\n",
       "count           4462.00                 4462.00          4462.00   \n",
       "mean              20.47                  594.78             3.26   \n",
       "std               41.87                  790.09             4.40   \n",
       "min                0.00                    0.52             0.00   \n",
       "25%                0.48                   39.84             0.26   \n",
       "50%                4.10                  189.40             1.34   \n",
       "75%               26.02                  891.09             4.53   \n",
       "max              272.67                 3261.32            19.77   \n",
       "\n",
       "       wind_share_energy  \n",
       "count            4462.00  \n",
       "mean                1.44  \n",
       "std                 2.00  \n",
       "min                 0.00  \n",
       "25%                 0.12  \n",
       "50%                 0.55  \n",
       "75%                 2.01  \n",
       "max                 9.59  \n",
       "\n",
       "[8 rows x 27 columns]"
      ]
     },
     "execution_count": 18,
     "metadata": {},
     "output_type": "execute_result"
    }
   ],
   "source": [
    "df_describe=df_mongo.describe()\n",
    "df_describe.round(2)"
   ]
  },
  {
   "cell_type": "code",
   "execution_count": 19,
   "metadata": {},
   "outputs": [
    {
     "name": "stdout",
     "output_type": "stream",
     "text": [
      "Unique countries in the dataset: ['Argentina' 'Brazil' 'Bulgaria' 'Canada' 'Czechia' 'France' 'Germany'\n",
      " 'Hungary' 'Japan' 'Mexico' 'Romania' 'Russia' 'Slovakia' 'Slovenia'\n",
      " 'South Africa' 'Spain' 'Ukraine' 'United Kingdom' 'United States']\n",
      "Unique years in the dataset: [2011 2012 2013 2014 2015 2016 2017 2018 2010 2000 2001 2002 2003 2004\n",
      " 2005 2006 2007 2008 2009]\n"
     ]
    }
   ],
   "source": [
    "# Check the unique countries and years in the DataFrame\n",
    "print(\"Unique countries in the dataset:\", df_mongo['country'].unique())\n",
    "print(\"Unique years in the dataset:\", df_mongo['year'].unique())"
   ]
  },
  {
   "cell_type": "code",
   "execution_count": 37,
   "metadata": {},
   "outputs": [
    {
     "data": {
      "image/png": "[encoded data removed]",
      "text/plain": [
       "<Figure size 1200x600 with 1 Axes>"
      ]
     },
     "metadata": {},
     "output_type": "display_data"
    }
   ],
   "source": [
    "\n",
    "# Filter for the last 10 decades (2010 to 2020)\n",
    "filtered_df = df_mongo[(df_mongo['year'] >= 2005) & (df_mongo['year'] <= 2024)]\n",
    "\n",
    "# Get the top 5 countries by total biofuel consumption\n",
    "top_countries = filtered_df.groupby('country')['biofuel_cons_per_capita'].sum().nlargest(5).index\n",
    "\n",
    "# Filter DataFrame for the top countries\n",
    "top_countries_data = filtered_df[filtered_df['country'].isin(top_countries)]\n",
    "\n",
    "# Plotting Biofuel Consumption\n",
    "plt.figure(figsize=(12, 6))\n",
    "for country in top_countries:\n",
    "    country_data = top_countries_data[top_countries_data['country'] == country]\n",
    "    plt.plot(country_data['year'], country_data['biofuel_cons_per_capita'], marker='o', label=country)\n",
    "\n",
    "plt.xlabel('Year')\n",
    "plt.ylabel('Biofuel Consumption per capita (TWh)')\n",
    "plt.title('Biofuel Consumption per capita Over Time for Top 5 Countries (From 2005)')\n",
    "plt.xticks(country_data['year'].unique())\n",
    "plt.legend(title='Country')\n",
    "plt.grid(True)\n",
    "plt.tight_layout()\n",
    "\n",
    "# Set the x-axis limits to match your data range\n",
    "plt.xlim(2005, 2016)\n",
    "# Save the plot as an HTML file for viewing in the browser\n",
    "html_filename = 'biofuel_cons_per_capita_plot.html'\n",
    "mpld3.save_html(plt.gcf(), html_filename)\n",
    "\n",
    "plt.show()\n"
   ]
  },
  {
   "cell_type": "code",
   "execution_count": 21,
   "metadata": {},
   "outputs": [
    {
     "data": {
      "application/vnd.plotly.v1+json": {
       "config": {
        "plotlyServerURL": "https://plot.ly"
       },
       "data": [
        {
         "marker": {
          "color": "green"
         },
         "name": "Biofuel",
         "type": "bar",
         "x": [
          "World",
          "North America (EI)",
          "United States",
          "OECD (EI)",
          "High-income countries"
         ],
         "y": [
          298.50108620689656,
          201.73033333333336,
          191.00636363636363,
          168.2363793103448,
          166.34393103448275
         ]
        },
        {
         "marker": {
          "color": "blue"
         },
         "name": "Wind",
         "type": "bar",
         "x": [
          "World",
          "North America (EI)",
          "United States",
          "OECD (EI)",
          "High-income countries"
         ],
         "y": [
          696.3485000000001,
          200.58740384615385,
          228.97887500000002,
          438.7991206896551,
          427.1048448275862
         ]
        }
       ],
       "layout": {
        "barmode": "group",
        "template": {
         "data": {
          "bar": [
           {
            "error_x": {
             "color": "#2a3f5f"
            },
            "error_y": {
             "color": "#2a3f5f"
            },
            "marker": {
             "line": {
              "color": "#E5ECF6",
              "width": 0.5
             },
             "pattern": {
              "fillmode": "overlay",
              "size": 10,
              "solidity": 0.2
             }
            },
            "type": "bar"
           }
          ],
          "barpolar": [
           {
            "marker": {
             "line": {
              "color": "#E5ECF6",
              "width": 0.5
             },
             "pattern": {
              "fillmode": "overlay",
              "size": 10,
              "solidity": 0.2
             }
            },
            "type": "barpolar"
           }
          ],
          "carpet": [
           {
            "aaxis": {
             "endlinecolor": "#2a3f5f",
             "gridcolor": "white",
             "linecolor": "white",
             "minorgridcolor": "white",
             "startlinecolor": "#2a3f5f"
            },
            "baxis": {
             "endlinecolor": "#2a3f5f",
             "gridcolor": "white",
             "linecolor": "white",
             "minorgridcolor": "white",
             "startlinecolor": "#2a3f5f"
            },
            "type": "carpet"
           }
          ],
          "choropleth": [
           {
            "colorbar": {
             "outlinewidth": 0,
             "ticks": ""
            },
            "type": "choropleth"
           }
          ],
          "contour": [
           {
            "colorbar": {
             "outlinewidth": 0,
             "ticks": ""
            },
            "colorscale": [
             [
              0,
              "#0d0887"
             ],
             [
              0.1111111111111111,
              "#46039f"
             ],
             [
              0.2222222222222222,
              "#7201a8"
             ],
             [
              0.3333333333333333,
              "#9c179e"
             ],
             [
              0.4444444444444444,
              "#bd3786"
             ],
             [
              0.5555555555555556,
              "#d8576b"
             ],
             [
              0.6666666666666666,
              "#ed7953"
             ],
             [
              0.7777777777777778,
              "#fb9f3a"
             ],
             [
              0.8888888888888888,
              "#fdca26"
             ],
             [
              1,
              "#f0f921"
             ]
            ],
            "type": "contour"
           }
          ],
          "contourcarpet": [
           {
            "colorbar": {
             "outlinewidth": 0,
             "ticks": ""
            },
            "type": "contourcarpet"
           }
          ],
          "heatmap": [
           {
            "colorbar": {
             "outlinewidth": 0,
             "ticks": ""
            },
            "colorscale": [
             [
              0,
              "#0d0887"
             ],
             [
              0.1111111111111111,
              "#46039f"
             ],
             [
              0.2222222222222222,
              "#7201a8"
             ],
             [
              0.3333333333333333,
              "#9c179e"
             ],
             [
              0.4444444444444444,
              "#bd3786"
             ],
             [
              0.5555555555555556,
              "#d8576b"
             ],
             [
              0.6666666666666666,
              "#ed7953"
             ],
             [
              0.7777777777777778,
              "#fb9f3a"
             ],
             [
              0.8888888888888888,
              "#fdca26"
             ],
             [
              1,
              "#f0f921"
             ]
            ],
            "type": "heatmap"
           }
          ],
          "heatmapgl": [
           {
            "colorbar": {
             "outlinewidth": 0,
             "ticks": ""
            },
            "colorscale": [
             [
              0,
              "#0d0887"
             ],
             [
              0.1111111111111111,
              "#46039f"
             ],
             [
              0.2222222222222222,
              "#7201a8"
             ],
             [
              0.3333333333333333,
              "#9c179e"
             ],
             [
              0.4444444444444444,
              "#bd3786"
             ],
             [
              0.5555555555555556,
              "#d8576b"
             ],
             [
              0.6666666666666666,
              "#ed7953"
             ],
             [
              0.7777777777777778,
              "#fb9f3a"
             ],
             [
              0.8888888888888888,
              "#fdca26"
             ],
             [
              1,
              "#f0f921"
             ]
            ],
            "type": "heatmapgl"
           }
          ],
          "histogram": [
           {
            "marker": {
             "pattern": {
              "fillmode": "overlay",
              "size": 10,
              "solidity": 0.2
             }
            },
            "type": "histogram"
           }
          ],
          "histogram2d": [
           {
            "colorbar": {
             "outlinewidth": 0,
             "ticks": ""
            },
            "colorscale": [
             [
              0,
              "#0d0887"
             ],
             [
              0.1111111111111111,
              "#46039f"
             ],
             [
              0.2222222222222222,
              "#7201a8"
             ],
             [
              0.3333333333333333,
              "#9c179e"
             ],
             [
              0.4444444444444444,
              "#bd3786"
             ],
             [
              0.5555555555555556,
              "#d8576b"
             ],
             [
              0.6666666666666666,
              "#ed7953"
             ],
             [
              0.7777777777777778,
              "#fb9f3a"
             ],
             [
              0.8888888888888888,
              "#fdca26"
             ],
             [
              1,
              "#f0f921"
             ]
            ],
            "type": "histogram2d"
           }
          ],
          "histogram2dcontour": [
           {
            "colorbar": {
             "outlinewidth": 0,
             "ticks": ""
            },
            "colorscale": [
             [
              0,
              "#0d0887"
             ],
             [
              0.1111111111111111,
              "#46039f"
             ],
             [
              0.2222222222222222,
              "#7201a8"
             ],
             [
              0.3333333333333333,
              "#9c179e"
             ],
             [
              0.4444444444444444,
              "#bd3786"
             ],
             [
              0.5555555555555556,
              "#d8576b"
             ],
             [
              0.6666666666666666,
              "#ed7953"
             ],
             [
              0.7777777777777778,
              "#fb9f3a"
             ],
             [
              0.8888888888888888,
              "#fdca26"
             ],
             [
              1,
              "#f0f921"
             ]
            ],
            "type": "histogram2dcontour"
           }
          ],
          "mesh3d": [
           {
            "colorbar": {
             "outlinewidth": 0,
             "ticks": ""
            },
            "type": "mesh3d"
           }
          ],
          "parcoords": [
           {
            "line": {
             "colorbar": {
              "outlinewidth": 0,
              "ticks": ""
             }
            },
            "type": "parcoords"
           }
          ],
          "pie": [
           {
            "automargin": true,
            "type": "pie"
           }
          ],
          "scatter": [
           {
            "fillpattern": {
             "fillmode": "overlay",
             "size": 10,
             "solidity": 0.2
            },
            "type": "scatter"
           }
          ],
          "scatter3d": [
           {
            "line": {
             "colorbar": {
              "outlinewidth": 0,
              "ticks": ""
             }
            },
            "marker": {
             "colorbar": {
              "outlinewidth": 0,
              "ticks": ""
             }
            },
            "type": "scatter3d"
           }
          ],
          "scattercarpet": [
           {
            "marker": {
             "colorbar": {
              "outlinewidth": 0,
              "ticks": ""
             }
            },
            "type": "scattercarpet"
           }
          ],
          "scattergeo": [
           {
            "marker": {
             "colorbar": {
              "outlinewidth": 0,
              "ticks": ""
             }
            },
            "type": "scattergeo"
           }
          ],
          "scattergl": [
           {
            "marker": {
             "colorbar": {
              "outlinewidth": 0,
              "ticks": ""
             }
            },
            "type": "scattergl"
           }
          ],
          "scattermapbox": [
           {
            "marker": {
             "colorbar": {
              "outlinewidth": 0,
              "ticks": ""
             }
            },
            "type": "scattermapbox"
           }
          ],
          "scatterpolar": [
           {
            "marker": {
             "colorbar": {
              "outlinewidth": 0,
              "ticks": ""
             }
            },
            "type": "scatterpolar"
           }
          ],
          "scatterpolargl": [
           {
            "marker": {
             "colorbar": {
              "outlinewidth": 0,
              "ticks": ""
             }
            },
            "type": "scatterpolargl"
           }
          ],
          "scatterternary": [
           {
            "marker": {
             "colorbar": {
              "outlinewidth": 0,
              "ticks": ""
             }
            },
            "type": "scatterternary"
           }
          ],
          "surface": [
           {
            "colorbar": {
             "outlinewidth": 0,
             "ticks": ""
            },
            "colorscale": [
             [
              0,
              "#0d0887"
             ],
             [
              0.1111111111111111,
              "#46039f"
             ],
             [
              0.2222222222222222,
              "#7201a8"
             ],
             [
              0.3333333333333333,
              "#9c179e"
             ],
             [
              0.4444444444444444,
              "#bd3786"
             ],
             [
              0.5555555555555556,
              "#d8576b"
             ],
             [
              0.6666666666666666,
              "#ed7953"
             ],
             [
              0.7777777777777778,
              "#fb9f3a"
             ],
             [
              0.8888888888888888,
              "#fdca26"
             ],
             [
              1,
              "#f0f921"
             ]
            ],
            "type": "surface"
           }
          ],
          "table": [
           {
            "cells": {
             "fill": {
              "color": "#EBF0F8"
             },
             "line": {
              "color": "white"
             }
            },
            "header": {
             "fill": {
              "color": "#C8D4E3"
             },
             "line": {
              "color": "white"
             }
            },
            "type": "table"
           }
          ]
         },
         "layout": {
          "annotationdefaults": {
           "arrowcolor": "#2a3f5f",
           "arrowhead": 0,
           "arrowwidth": 1
          },
          "autotypenumbers": "strict",
          "coloraxis": {
           "colorbar": {
            "outlinewidth": 0,
            "ticks": ""
           }
          },
          "colorscale": {
           "diverging": [
            [
             0,
             "#8e0152"
            ],
            [
             0.1,
             "#c51b7d"
            ],
            [
             0.2,
             "#de77ae"
            ],
            [
             0.3,
             "#f1b6da"
            ],
            [
             0.4,
             "#fde0ef"
            ],
            [
             0.5,
             "#f7f7f7"
            ],
            [
             0.6,
             "#e6f5d0"
            ],
            [
             0.7,
             "#b8e186"
            ],
            [
             0.8,
             "#7fbc41"
            ],
            [
             0.9,
             "#4d9221"
            ],
            [
             1,
             "#276419"
            ]
           ],
           "sequential": [
            [
             0,
             "#0d0887"
            ],
            [
             0.1111111111111111,
             "#46039f"
            ],
            [
             0.2222222222222222,
             "#7201a8"
            ],
            [
             0.3333333333333333,
             "#9c179e"
            ],
            [
             0.4444444444444444,
             "#bd3786"
            ],
            [
             0.5555555555555556,
             "#d8576b"
            ],
            [
             0.6666666666666666,
             "#ed7953"
            ],
            [
             0.7777777777777778,
             "#fb9f3a"
            ],
            [
             0.8888888888888888,
             "#fdca26"
            ],
            [
             1,
             "#f0f921"
            ]
           ],
           "sequentialminus": [
            [
             0,
             "#0d0887"
            ],
            [
             0.1111111111111111,
             "#46039f"
            ],
            [
             0.2222222222222222,
             "#7201a8"
            ],
            [
             0.3333333333333333,
             "#9c179e"
            ],
            [
             0.4444444444444444,
             "#bd3786"
            ],
            [
             0.5555555555555556,
             "#d8576b"
            ],
            [
             0.6666666666666666,
             "#ed7953"
            ],
            [
             0.7777777777777778,
             "#fb9f3a"
            ],
            [
             0.8888888888888888,
             "#fdca26"
            ],
            [
             1,
             "#f0f921"
            ]
           ]
          },
          "colorway": [
           "#636efa",
           "#EF553B",
           "#00cc96",
           "#ab63fa",
           "#FFA15A",
           "#19d3f3",
           "#FF6692",
           "#B6E880",
           "#FF97FF",
           "#FECB52"
          ],
          "font": {
           "color": "#2a3f5f"
          },
          "geo": {
           "bgcolor": "white",
           "lakecolor": "white",
           "landcolor": "#E5ECF6",
           "showlakes": true,
           "showland": true,
           "subunitcolor": "white"
          },
          "hoverlabel": {
           "align": "left"
          },
          "hovermode": "closest",
          "mapbox": {
           "style": "light"
          },
          "paper_bgcolor": "white",
          "plot_bgcolor": "#E5ECF6",
          "polar": {
           "angularaxis": {
            "gridcolor": "white",
            "linecolor": "white",
            "ticks": ""
           },
           "bgcolor": "#E5ECF6",
           "radialaxis": {
            "gridcolor": "white",
            "linecolor": "white",
            "ticks": ""
           }
          },
          "scene": {
           "xaxis": {
            "backgroundcolor": "#E5ECF6",
            "gridcolor": "white",
            "gridwidth": 2,
            "linecolor": "white",
            "showbackground": true,
            "ticks": "",
            "zerolinecolor": "white"
           },
           "yaxis": {
            "backgroundcolor": "#E5ECF6",
            "gridcolor": "white",
            "gridwidth": 2,
            "linecolor": "white",
            "showbackground": true,
            "ticks": "",
            "zerolinecolor": "white"
           },
           "zaxis": {
            "backgroundcolor": "#E5ECF6",
            "gridcolor": "white",
            "gridwidth": 2,
            "linecolor": "white",
            "showbackground": true,
            "ticks": "",
            "zerolinecolor": "white"
           }
          },
          "shapedefaults": {
           "line": {
            "color": "#2a3f5f"
           }
          },
          "ternary": {
           "aaxis": {
            "gridcolor": "white",
            "linecolor": "white",
            "ticks": ""
           },
           "baxis": {
            "gridcolor": "white",
            "linecolor": "white",
            "ticks": ""
           },
           "bgcolor": "#E5ECF6",
           "caxis": {
            "gridcolor": "white",
            "linecolor": "white",
            "ticks": ""
           }
          },
          "title": {
           "x": 0.05
          },
          "xaxis": {
           "automargin": true,
           "gridcolor": "white",
           "linecolor": "white",
           "ticks": "",
           "title": {
            "standoff": 15
           },
           "zerolinecolor": "white",
           "zerolinewidth": 2
          },
          "yaxis": {
           "automargin": true,
           "gridcolor": "white",
           "linecolor": "white",
           "ticks": "",
           "title": {
            "standoff": 15
           },
           "zerolinecolor": "white",
           "zerolinewidth": 2
          }
         }
        },
        "title": {
         "text": "Average Biofuel and Wind Consumption by Top 5 Countries"
        },
        "xaxis": {
         "title": {
          "text": "Country"
         }
        },
        "yaxis": {
         "title": {
          "text": "Average Consumption (TWh)"
         }
        }
       }
      }
     },
     "metadata": {},
     "output_type": "display_data"
    }
   ],
   "source": [
    "# Calculate average consumption per country\n",
    "avg_consumption = df.groupby('country').agg({\n",
    "    'biofuel_consumption': 'mean',\n",
    "    'wind_consumption': 'mean'\n",
    "}).reset_index()\n",
    "\n",
    "# Get top 5 countries by average biofuel consumption\n",
    "top_5_countries = avg_consumption.nlargest(5, 'biofuel_consumption')\n",
    "\n",
    "# Create a Plotly figure\n",
    "fig = go.Figure()\n",
    "\n",
    "# Add traces for biofuel and wind consumption\n",
    "fig.add_trace(go.Bar(\n",
    "    x=top_5_countries['country'],  # Use the country names for x-axis\n",
    "    y=top_5_countries['biofuel_consumption'],\n",
    "    name='Biofuel',\n",
    "    marker_color='green'\n",
    "))\n",
    "\n",
    "fig.add_trace(go.Bar(\n",
    "    x=top_5_countries['country'],  # Use the country names for x-axis\n",
    "    y=top_5_countries['wind_consumption'],\n",
    "    name='Wind',\n",
    "    marker_color='blue'\n",
    "))\n",
    "\n",
    "# Update layout\n",
    "fig.update_layout(\n",
    "    title='Average Biofuel and Wind Consumption by Top 5 Countries',\n",
    "    xaxis_title='Country',\n",
    "    yaxis_title='Average Consumption (TWh)',\n",
    "    barmode='group'  # Group the bars side by side\n",
    ")\n",
    "\n",
    "# Save the figure as an HTML file\n",
    "html_filename = 'biofuel_wind_consumption_plot.html'\n",
    "fig.write_html(html_filename)\n",
    "\n",
    "\n",
    "# Show the figure\n",
    "fig.show()"
   ]
  },
  {
   "cell_type": "code",
   "execution_count": 22,
   "metadata": {},
   "outputs": [
    {
     "data": {
      "application/vnd.plotly.v1+json": {
       "config": {
        "plotlyServerURL": "https://plot.ly"
       },
       "data": [
        {
         "marker": {
          "color": "blue"
         },
         "name": "Electricity Demand",
         "type": "bar",
         "x": [
          "Canada",
          "Germany",
          "Japan",
          "Mexico",
          "Spain",
          "United Kingdom",
          "United States"
         ],
         "y": [
          250383.29,
          220389.45,
          213804.32,
          107527.76,
          101775.23,
          138740.13999999998,
          1770505.27
         ]
        },
        {
         "marker": {
          "color": "orange"
         },
         "name": "Electricity Generation",
         "type": "bar",
         "x": [
          "Canada",
          "Germany",
          "Japan",
          "Mexico",
          "Spain",
          "United Kingdom",
          "United States"
         ],
         "y": [
          266004.66,
          226540.57,
          213804.32,
          107699.34,
          102942.25,
          134761.13999999998,
          1754604.45
         ]
        },
        {
         "marker": {
          "color": "green"
         },
         "name": "Electricity Share",
         "type": "bar",
         "x": [
          "Canada",
          "Germany",
          "Japan",
          "Mexico",
          "Spain",
          "United Kingdom",
          "United States"
         ],
         "y": [
          6909.236,
          5844.2919999999995,
          3783.274,
          5153.452,
          6117.218,
          5505.006,
          6714.418
         ]
        }
       ],
       "layout": {
        "barmode": "group",
        "template": {
         "data": {
          "bar": [
           {
            "error_x": {
             "color": "#2a3f5f"
            },
            "error_y": {
             "color": "#2a3f5f"
            },
            "marker": {
             "line": {
              "color": "#E5ECF6",
              "width": 0.5
             },
             "pattern": {
              "fillmode": "overlay",
              "size": 10,
              "solidity": 0.2
             }
            },
            "type": "bar"
           }
          ],
          "barpolar": [
           {
            "marker": {
             "line": {
              "color": "#E5ECF6",
              "width": 0.5
             },
             "pattern": {
              "fillmode": "overlay",
              "size": 10,
              "solidity": 0.2
             }
            },
            "type": "barpolar"
           }
          ],
          "carpet": [
           {
            "aaxis": {
             "endlinecolor": "#2a3f5f",
             "gridcolor": "white",
             "linecolor": "white",
             "minorgridcolor": "white",
             "startlinecolor": "#2a3f5f"
            },
            "baxis": {
             "endlinecolor": "#2a3f5f",
             "gridcolor": "white",
             "linecolor": "white",
             "minorgridcolor": "white",
             "startlinecolor": "#2a3f5f"
            },
            "type": "carpet"
           }
          ],
          "choropleth": [
           {
            "colorbar": {
             "outlinewidth": 0,
             "ticks": ""
            },
            "type": "choropleth"
           }
          ],
          "contour": [
           {
            "colorbar": {
             "outlinewidth": 0,
             "ticks": ""
            },
            "colorscale": [
             [
              0,
              "#0d0887"
             ],
             [
              0.1111111111111111,
              "#46039f"
             ],
             [
              0.2222222222222222,
              "#7201a8"
             ],
             [
              0.3333333333333333,
              "#9c179e"
             ],
             [
              0.4444444444444444,
              "#bd3786"
             ],
             [
              0.5555555555555556,
              "#d8576b"
             ],
             [
              0.6666666666666666,
              "#ed7953"
             ],
             [
              0.7777777777777778,
              "#fb9f3a"
             ],
             [
              0.8888888888888888,
              "#fdca26"
             ],
             [
              1,
              "#f0f921"
             ]
            ],
            "type": "contour"
           }
          ],
          "contourcarpet": [
           {
            "colorbar": {
             "outlinewidth": 0,
             "ticks": ""
            },
            "type": "contourcarpet"
           }
          ],
          "heatmap": [
           {
            "colorbar": {
             "outlinewidth": 0,
             "ticks": ""
            },
            "colorscale": [
             [
              0,
              "#0d0887"
             ],
             [
              0.1111111111111111,
              "#46039f"
             ],
             [
              0.2222222222222222,
              "#7201a8"
             ],
             [
              0.3333333333333333,
              "#9c179e"
             ],
             [
              0.4444444444444444,
              "#bd3786"
             ],
             [
              0.5555555555555556,
              "#d8576b"
             ],
             [
              0.6666666666666666,
              "#ed7953"
             ],
             [
              0.7777777777777778,
              "#fb9f3a"
             ],
             [
              0.8888888888888888,
              "#fdca26"
             ],
             [
              1,
              "#f0f921"
             ]
            ],
            "type": "heatmap"
           }
          ],
          "heatmapgl": [
           {
            "colorbar": {
             "outlinewidth": 0,
             "ticks": ""
            },
            "colorscale": [
             [
              0,
              "#0d0887"
             ],
             [
              0.1111111111111111,
              "#46039f"
             ],
             [
              0.2222222222222222,
              "#7201a8"
             ],
             [
              0.3333333333333333,
              "#9c179e"
             ],
             [
              0.4444444444444444,
              "#bd3786"
             ],
             [
              0.5555555555555556,
              "#d8576b"
             ],
             [
              0.6666666666666666,
              "#ed7953"
             ],
             [
              0.7777777777777778,
              "#fb9f3a"
             ],
             [
              0.8888888888888888,
              "#fdca26"
             ],
             [
              1,
              "#f0f921"
             ]
            ],
            "type": "heatmapgl"
           }
          ],
          "histogram": [
           {
            "marker": {
             "pattern": {
              "fillmode": "overlay",
              "size": 10,
              "solidity": 0.2
             }
            },
            "type": "histogram"
           }
          ],
          "histogram2d": [
           {
            "colorbar": {
             "outlinewidth": 0,
             "ticks": ""
            },
            "colorscale": [
             [
              0,
              "#0d0887"
             ],
             [
              0.1111111111111111,
              "#46039f"
             ],
             [
              0.2222222222222222,
              "#7201a8"
             ],
             [
              0.3333333333333333,
              "#9c179e"
             ],
             [
              0.4444444444444444,
              "#bd3786"
             ],
             [
              0.5555555555555556,
              "#d8576b"
             ],
             [
              0.6666666666666666,
              "#ed7953"
             ],
             [
              0.7777777777777778,
              "#fb9f3a"
             ],
             [
              0.8888888888888888,
              "#fdca26"
             ],
             [
              1,
              "#f0f921"
             ]
            ],
            "type": "histogram2d"
           }
          ],
          "histogram2dcontour": [
           {
            "colorbar": {
             "outlinewidth": 0,
             "ticks": ""
            },
            "colorscale": [
             [
              0,
              "#0d0887"
             ],
             [
              0.1111111111111111,
              "#46039f"
             ],
             [
              0.2222222222222222,
              "#7201a8"
             ],
             [
              0.3333333333333333,
              "#9c179e"
             ],
             [
              0.4444444444444444,
              "#bd3786"
             ],
             [
              0.5555555555555556,
              "#d8576b"
             ],
             [
              0.6666666666666666,
              "#ed7953"
             ],
             [
              0.7777777777777778,
              "#fb9f3a"
             ],
             [
              0.8888888888888888,
              "#fdca26"
             ],
             [
              1,
              "#f0f921"
             ]
            ],
            "type": "histogram2dcontour"
           }
          ],
          "mesh3d": [
           {
            "colorbar": {
             "outlinewidth": 0,
             "ticks": ""
            },
            "type": "mesh3d"
           }
          ],
          "parcoords": [
           {
            "line": {
             "colorbar": {
              "outlinewidth": 0,
              "ticks": ""
             }
            },
            "type": "parcoords"
           }
          ],
          "pie": [
           {
            "automargin": true,
            "type": "pie"
           }
          ],
          "scatter": [
           {
            "fillpattern": {
             "fillmode": "overlay",
             "size": 10,
             "solidity": 0.2
            },
            "type": "scatter"
           }
          ],
          "scatter3d": [
           {
            "line": {
             "colorbar": {
              "outlinewidth": 0,
              "ticks": ""
             }
            },
            "marker": {
             "colorbar": {
              "outlinewidth": 0,
              "ticks": ""
             }
            },
            "type": "scatter3d"
           }
          ],
          "scattercarpet": [
           {
            "marker": {
             "colorbar": {
              "outlinewidth": 0,
              "ticks": ""
             }
            },
            "type": "scattercarpet"
           }
          ],
          "scattergeo": [
           {
            "marker": {
             "colorbar": {
              "outlinewidth": 0,
              "ticks": ""
             }
            },
            "type": "scattergeo"
           }
          ],
          "scattergl": [
           {
            "marker": {
             "colorbar": {
              "outlinewidth": 0,
              "ticks": ""
             }
            },
            "type": "scattergl"
           }
          ],
          "scattermapbox": [
           {
            "marker": {
             "colorbar": {
              "outlinewidth": 0,
              "ticks": ""
             }
            },
            "type": "scattermapbox"
           }
          ],
          "scatterpolar": [
           {
            "marker": {
             "colorbar": {
              "outlinewidth": 0,
              "ticks": ""
             }
            },
            "type": "scatterpolar"
           }
          ],
          "scatterpolargl": [
           {
            "marker": {
             "colorbar": {
              "outlinewidth": 0,
              "ticks": ""
             }
            },
            "type": "scatterpolargl"
           }
          ],
          "scatterternary": [
           {
            "marker": {
             "colorbar": {
              "outlinewidth": 0,
              "ticks": ""
             }
            },
            "type": "scatterternary"
           }
          ],
          "surface": [
           {
            "colorbar": {
             "outlinewidth": 0,
             "ticks": ""
            },
            "colorscale": [
             [
              0,
              "#0d0887"
             ],
             [
              0.1111111111111111,
              "#46039f"
             ],
             [
              0.2222222222222222,
              "#7201a8"
             ],
             [
              0.3333333333333333,
              "#9c179e"
             ],
             [
              0.4444444444444444,
              "#bd3786"
             ],
             [
              0.5555555555555556,
              "#d8576b"
             ],
             [
              0.6666666666666666,
              "#ed7953"
             ],
             [
              0.7777777777777778,
              "#fb9f3a"
             ],
             [
              0.8888888888888888,
              "#fdca26"
             ],
             [
              1,
              "#f0f921"
             ]
            ],
            "type": "surface"
           }
          ],
          "table": [
           {
            "cells": {
             "fill": {
              "color": "#EBF0F8"
             },
             "line": {
              "color": "white"
             }
            },
            "header": {
             "fill": {
              "color": "#C8D4E3"
             },
             "line": {
              "color": "white"
             }
            },
            "type": "table"
           }
          ]
         },
         "layout": {
          "annotationdefaults": {
           "arrowcolor": "#2a3f5f",
           "arrowhead": 0,
           "arrowwidth": 1
          },
          "autotypenumbers": "strict",
          "coloraxis": {
           "colorbar": {
            "outlinewidth": 0,
            "ticks": ""
           }
          },
          "colorscale": {
           "diverging": [
            [
             0,
             "#8e0152"
            ],
            [
             0.1,
             "#c51b7d"
            ],
            [
             0.2,
             "#de77ae"
            ],
            [
             0.3,
             "#f1b6da"
            ],
            [
             0.4,
             "#fde0ef"
            ],
            [
             0.5,
             "#f7f7f7"
            ],
            [
             0.6,
             "#e6f5d0"
            ],
            [
             0.7,
             "#b8e186"
            ],
            [
             0.8,
             "#7fbc41"
            ],
            [
             0.9,
             "#4d9221"
            ],
            [
             1,
             "#276419"
            ]
           ],
           "sequential": [
            [
             0,
             "#0d0887"
            ],
            [
             0.1111111111111111,
             "#46039f"
            ],
            [
             0.2222222222222222,
             "#7201a8"
            ],
            [
             0.3333333333333333,
             "#9c179e"
            ],
            [
             0.4444444444444444,
             "#bd3786"
            ],
            [
             0.5555555555555556,
             "#d8576b"
            ],
            [
             0.6666666666666666,
             "#ed7953"
            ],
            [
             0.7777777777777778,
             "#fb9f3a"
            ],
            [
             0.8888888888888888,
             "#fdca26"
            ],
            [
             1,
             "#f0f921"
            ]
           ],
           "sequentialminus": [
            [
             0,
             "#0d0887"
            ],
            [
             0.1111111111111111,
             "#46039f"
            ],
            [
             0.2222222222222222,
             "#7201a8"
            ],
            [
             0.3333333333333333,
             "#9c179e"
            ],
            [
             0.4444444444444444,
             "#bd3786"
            ],
            [
             0.5555555555555556,
             "#d8576b"
            ],
            [
             0.6666666666666666,
             "#ed7953"
            ],
            [
             0.7777777777777778,
             "#fb9f3a"
            ],
            [
             0.8888888888888888,
             "#fdca26"
            ],
            [
             1,
             "#f0f921"
            ]
           ]
          },
          "colorway": [
           "#636efa",
           "#EF553B",
           "#00cc96",
           "#ab63fa",
           "#FFA15A",
           "#19d3f3",
           "#FF6692",
           "#B6E880",
           "#FF97FF",
           "#FECB52"
          ],
          "font": {
           "color": "#2a3f5f"
          },
          "geo": {
           "bgcolor": "white",
           "lakecolor": "white",
           "landcolor": "#E5ECF6",
           "showlakes": true,
           "showland": true,
           "subunitcolor": "white"
          },
          "hoverlabel": {
           "align": "left"
          },
          "hovermode": "closest",
          "mapbox": {
           "style": "light"
          },
          "paper_bgcolor": "white",
          "plot_bgcolor": "#E5ECF6",
          "polar": {
           "angularaxis": {
            "gridcolor": "white",
            "linecolor": "white",
            "ticks": ""
           },
           "bgcolor": "#E5ECF6",
           "radialaxis": {
            "gridcolor": "white",
            "linecolor": "white",
            "ticks": ""
           }
          },
          "scene": {
           "xaxis": {
            "backgroundcolor": "#E5ECF6",
            "gridcolor": "white",
            "gridwidth": 2,
            "linecolor": "white",
            "showbackground": true,
            "ticks": "",
            "zerolinecolor": "white"
           },
           "yaxis": {
            "backgroundcolor": "#E5ECF6",
            "gridcolor": "white",
            "gridwidth": 2,
            "linecolor": "white",
            "showbackground": true,
            "ticks": "",
            "zerolinecolor": "white"
           },
           "zaxis": {
            "backgroundcolor": "#E5ECF6",
            "gridcolor": "white",
            "gridwidth": 2,
            "linecolor": "white",
            "showbackground": true,
            "ticks": "",
            "zerolinecolor": "white"
           }
          },
          "shapedefaults": {
           "line": {
            "color": "#2a3f5f"
           }
          },
          "ternary": {
           "aaxis": {
            "gridcolor": "white",
            "linecolor": "white",
            "ticks": ""
           },
           "baxis": {
            "gridcolor": "white",
            "linecolor": "white",
            "ticks": ""
           },
           "bgcolor": "#E5ECF6",
           "caxis": {
            "gridcolor": "white",
            "linecolor": "white",
            "ticks": ""
           }
          },
          "title": {
           "x": 0.05
          },
          "xaxis": {
           "automargin": true,
           "gridcolor": "white",
           "linecolor": "white",
           "ticks": "",
           "title": {
            "standoff": 15
           },
           "zerolinecolor": "white",
           "zerolinewidth": 2
          },
          "yaxis": {
           "automargin": true,
           "gridcolor": "white",
           "linecolor": "white",
           "ticks": "",
           "title": {
            "standoff": 15
           },
           "zerolinecolor": "white",
           "zerolinewidth": 2
          }
         }
        },
        "title": {
         "text": "Comparison of Electricity Demand, Generation, and Share of Total Energy by Country"
        },
        "xaxis": {
         "title": {
          "text": "Country"
         }
        },
        "yaxis": {
         "title": {
          "text": "Electricity (TWh)"
         }
        }
       }
      }
     },
     "metadata": {},
     "output_type": "display_data"
    }
   ],
   "source": [
    "\n",
    "# Filter the data for the years from 1990 to 2024\n",
    "filtered_df = df_mongo[(df_mongo['year'] >= 1990) & (df_mongo['year'] <= 2024)]\n",
    "\n",
    "# Get the top 7 countries based on electricity demand\n",
    "top_countries_oil = filtered_df.groupby('country')['electricity_demand'].sum().nlargest(7).index\n",
    "\n",
    "# Filter data for the top 7 countries based on electricity demand\n",
    "top_countries_data = filtered_df[filtered_df['country'].isin(top_countries_oil)]\n",
    "\n",
    "# Group by country and get the total consumption for each resource\n",
    "grouped_data = top_countries_data.groupby('country').agg({\n",
    "    'electricity_demand': 'sum',\n",
    "    'electricity_generation': 'sum',\n",
    "    'electricity_share_energy': 'sum'\n",
    "}).reset_index()\n",
    "\n",
    "# Create the bar plot with Plotly\n",
    "fig = go.Figure()\n",
    "\n",
    "# Add bars for each energy source\n",
    "fig.add_trace(go.Bar(x=grouped_data['country'], \n",
    "                     y=grouped_data['electricity_demand'], \n",
    "                     name='Electricity Demand', \n",
    "                     marker_color='blue'))\n",
    "\n",
    "fig.add_trace(go.Bar(x=grouped_data['country'], \n",
    "                     y=grouped_data['electricity_generation'], \n",
    "                     name='Electricity Generation', \n",
    "                     marker_color='orange'))\n",
    "\n",
    "fig.add_trace(go.Bar(x=grouped_data['country'], \n",
    "                     y=grouped_data['electricity_share_energy'], \n",
    "                     name='Electricity Share', \n",
    "                     marker_color='green'))\n",
    "\n",
    "# Update layout\n",
    "fig.update_layout(title='Comparison of Electricity Demand, Generation, and Share of Total Energy by Country',\n",
    "                  xaxis_title='Country',\n",
    "                  yaxis_title='Electricity (TWh)',\n",
    "                  barmode='group')\n",
    "\n",
    "# Save the plot as an HTML file\n",
    "html_filename = 'electricity_comparison_plot_plotly.html'\n",
    "fig.write_html(html_filename)\n",
    "\n",
    "\n",
    "# Display the plot in the Jupyter notebook\n",
    "fig.show()\n",
    "\n"
   ]
  },
  {
   "cell_type": "code",
   "execution_count": 23,
   "metadata": {},
   "outputs": [
    {
     "data": {
      "application/vnd.plotly.v1+json": {
       "config": {
        "plotlyServerURL": "https://plot.ly"
       },
       "data": [
        {
         "alignmentgroup": "True",
         "hovertemplate": "country=%{x}<br>year=2005<br>carbon_intensity_elec=%{y}<extra></extra>",
         "ids": [
          "Czechia",
          "Czechia",
          "Czechia",
          "Czechia",
          "Czechia",
          "Czechia",
          "Czechia",
          "Czechia",
          "Czechia",
          "Czechia",
          "Czechia",
          "Czechia",
          "Czechia",
          "Czechia",
          "Czechia",
          "Czechia",
          "Czechia",
          "Czechia",
          "Czechia",
          "Czechia",
          "Czechia",
          "Czechia",
          "Czechia"
         ],
         "legendgroup": "Czechia",
         "marker": {
          "color": "#636efa",
          "pattern": {
           "shape": ""
          }
         },
         "name": "Czechia",
         "offsetgroup": "Czechia",
         "orientation": "v",
         "showlegend": true,
         "textposition": "auto",
         "type": "bar",
         "x": [
          "Czechia",
          "Czechia",
          "Czechia",
          "Czechia",
          "Czechia",
          "Czechia",
          "Czechia",
          "Czechia",
          "Czechia",
          "Czechia",
          "Czechia",
          "Czechia",
          "Czechia",
          "Czechia",
          "Czechia",
          "Czechia",
          "Czechia",
          "Czechia",
          "Czechia",
          "Czechia",
          "Czechia",
          "Czechia",
          "Czechia"
         ],
         "xaxis": "x",
         "y": [
          537.288,
          537.288,
          537.288,
          537.288,
          537.29,
          537.29,
          537.29,
          537.29,
          537.29,
          537.29,
          537.29,
          537.29,
          537.29,
          537.29,
          537.29,
          537.29,
          537.29,
          537.29,
          537.29,
          537.29,
          537.29,
          537.29,
          537.29
         ],
         "yaxis": "y"
        },
        {
         "alignmentgroup": "True",
         "hovertemplate": "country=%{x}<br>year=2005<br>carbon_intensity_elec=%{y}<extra></extra>",
         "ids": [
          "South Africa",
          "South Africa",
          "South Africa",
          "South Africa",
          "South Africa",
          "South Africa",
          "South Africa",
          "South Africa",
          "South Africa",
          "South Africa",
          "South Africa",
          "South Africa",
          "South Africa",
          "South Africa",
          "South Africa",
          "South Africa",
          "South Africa",
          "South Africa",
          "South Africa",
          "South Africa",
          "South Africa",
          "South Africa",
          "South Africa"
         ],
         "legendgroup": "South Africa",
         "marker": {
          "color": "#00cc96",
          "pattern": {
           "shape": ""
          }
         },
         "name": "South Africa",
         "offsetgroup": "South Africa",
         "orientation": "v",
         "showlegend": true,
         "textposition": "auto",
         "type": "bar",
         "x": [
          "South Africa",
          "South Africa",
          "South Africa",
          "South Africa",
          "South Africa",
          "South Africa",
          "South Africa",
          "South Africa",
          "South Africa",
          "South Africa",
          "South Africa",
          "South Africa",
          "South Africa",
          "South Africa",
          "South Africa",
          "South Africa",
          "South Africa",
          "South Africa",
          "South Africa",
          "South Africa",
          "South Africa",
          "South Africa",
          "South Africa"
         ],
         "xaxis": "x",
         "y": [
          771.006,
          771.006,
          771.006,
          771.006,
          771.01,
          771.01,
          771.01,
          771.01,
          771.01,
          771.01,
          771.01,
          771.01,
          771.01,
          771.01,
          771.01,
          771.01,
          771.01,
          771.01,
          771.01,
          771.01,
          771.01,
          771.01,
          771.01
         ],
         "yaxis": "y"
        },
        {
         "alignmentgroup": "True",
         "hovertemplate": "country=%{x}<br>year=2005<br>carbon_intensity_elec=%{y}<extra></extra>",
         "ids": [
          "United States",
          "United States",
          "United States",
          "United States",
          "United States",
          "United States",
          "United States",
          "United States",
          "United States",
          "United States",
          "United States",
          "United States",
          "United States",
          "United States",
          "United States",
          "United States",
          "United States",
          "United States",
          "United States",
          "United States",
          "United States",
          "United States",
          "United States"
         ],
         "legendgroup": "United States",
         "marker": {
          "color": "#ab63fa",
          "pattern": {
           "shape": ""
          }
         },
         "name": "United States",
         "offsetgroup": "United States",
         "orientation": "v",
         "showlegend": true,
         "textposition": "auto",
         "type": "bar",
         "x": [
          "United States",
          "United States",
          "United States",
          "United States",
          "United States",
          "United States",
          "United States",
          "United States",
          "United States",
          "United States",
          "United States",
          "United States",
          "United States",
          "United States",
          "United States",
          "United States",
          "United States",
          "United States",
          "United States",
          "United States",
          "United States",
          "United States",
          "United States"
         ],
         "xaxis": "x",
         "y": [
          530.549,
          530.549,
          530.549,
          530.549,
          530.55,
          530.55,
          530.55,
          530.55,
          530.55,
          530.55,
          530.55,
          530.55,
          530.55,
          530.55,
          530.55,
          530.55,
          530.55,
          530.55,
          530.55,
          530.55,
          530.55,
          530.55,
          530.55
         ],
         "yaxis": "y"
        }
       ],
       "frames": [
        {
         "data": [
          {
           "alignmentgroup": "True",
           "hovertemplate": "country=%{x}<br>year=2005<br>carbon_intensity_elec=%{y}<extra></extra>",
           "ids": [
            "Czechia",
            "Czechia",
            "Czechia",
            "Czechia",
            "Czechia",
            "Czechia",
            "Czechia",
            "Czechia",
            "Czechia",
            "Czechia",
            "Czechia",
            "Czechia",
            "Czechia",
            "Czechia",
            "Czechia",
            "Czechia",
            "Czechia",
            "Czechia",
            "Czechia",
            "Czechia",
            "Czechia",
            "Czechia",
            "Czechia"
           ],
           "legendgroup": "Czechia",
           "marker": {
            "color": "#636efa",
            "pattern": {
             "shape": ""
            }
           },
           "name": "Czechia",
           "offsetgroup": "Czechia",
           "orientation": "v",
           "showlegend": true,
           "textposition": "auto",
           "type": "bar",
           "x": [
            "Czechia",
            "Czechia",
            "Czechia",
            "Czechia",
            "Czechia",
            "Czechia",
            "Czechia",
            "Czechia",
            "Czechia",
            "Czechia",
            "Czechia",
            "Czechia",
            "Czechia",
            "Czechia",
            "Czechia",
            "Czechia",
            "Czechia",
            "Czechia",
            "Czechia",
            "Czechia",
            "Czechia",
            "Czechia",
            "Czechia"
           ],
           "xaxis": "x",
           "y": [
            537.288,
            537.288,
            537.288,
            537.288,
            537.29,
            537.29,
            537.29,
            537.29,
            537.29,
            537.29,
            537.29,
            537.29,
            537.29,
            537.29,
            537.29,
            537.29,
            537.29,
            537.29,
            537.29,
            537.29,
            537.29,
            537.29,
            537.29
           ],
           "yaxis": "y"
          },
          {
           "alignmentgroup": "True",
           "hovertemplate": "country=%{x}<br>year=2005<br>carbon_intensity_elec=%{y}<extra></extra>",
           "ids": [
            "South Africa",
            "South Africa",
            "South Africa",
            "South Africa",
            "South Africa",
            "South Africa",
            "South Africa",
            "South Africa",
            "South Africa",
            "South Africa",
            "South Africa",
            "South Africa",
            "South Africa",
            "South Africa",
            "South Africa",
            "South Africa",
            "South Africa",
            "South Africa",
            "South Africa",
            "South Africa",
            "South Africa",
            "South Africa",
            "South Africa"
           ],
           "legendgroup": "South Africa",
           "marker": {
            "color": "#00cc96",
            "pattern": {
             "shape": ""
            }
           },
           "name": "South Africa",
           "offsetgroup": "South Africa",
           "orientation": "v",
           "showlegend": true,
           "textposition": "auto",
           "type": "bar",
           "x": [
            "South Africa",
            "South Africa",
            "South Africa",
            "South Africa",
            "South Africa",
            "South Africa",
            "South Africa",
            "South Africa",
            "South Africa",
            "South Africa",
            "South Africa",
            "South Africa",
            "South Africa",
            "South Africa",
            "South Africa",
            "South Africa",
            "South Africa",
            "South Africa",
            "South Africa",
            "South Africa",
            "South Africa",
            "South Africa",
            "South Africa"
           ],
           "xaxis": "x",
           "y": [
            771.006,
            771.006,
            771.006,
            771.006,
            771.01,
            771.01,
            771.01,
            771.01,
            771.01,
            771.01,
            771.01,
            771.01,
            771.01,
            771.01,
            771.01,
            771.01,
            771.01,
            771.01,
            771.01,
            771.01,
            771.01,
            771.01,
            771.01
           ],
           "yaxis": "y"
          },
          {
           "alignmentgroup": "True",
           "hovertemplate": "country=%{x}<br>year=2005<br>carbon_intensity_elec=%{y}<extra></extra>",
           "ids": [
            "United States",
            "United States",
            "United States",
            "United States",
            "United States",
            "United States",
            "United States",
            "United States",
            "United States",
            "United States",
            "United States",
            "United States",
            "United States",
            "United States",
            "United States",
            "United States",
            "United States",
            "United States",
            "United States",
            "United States",
            "United States",
            "United States",
            "United States"
           ],
           "legendgroup": "United States",
           "marker": {
            "color": "#ab63fa",
            "pattern": {
             "shape": ""
            }
           },
           "name": "United States",
           "offsetgroup": "United States",
           "orientation": "v",
           "showlegend": true,
           "textposition": "auto",
           "type": "bar",
           "x": [
            "United States",
            "United States",
            "United States",
            "United States",
            "United States",
            "United States",
            "United States",
            "United States",
            "United States",
            "United States",
            "United States",
            "United States",
            "United States",
            "United States",
            "United States",
            "United States",
            "United States",
            "United States",
            "United States",
            "United States",
            "United States",
            "United States",
            "United States"
           ],
           "xaxis": "x",
           "y": [
            530.549,
            530.549,
            530.549,
            530.549,
            530.55,
            530.55,
            530.55,
            530.55,
            530.55,
            530.55,
            530.55,
            530.55,
            530.55,
            530.55,
            530.55,
            530.55,
            530.55,
            530.55,
            530.55,
            530.55,
            530.55,
            530.55,
            530.55
           ],
           "yaxis": "y"
          }
         ],
         "name": "2005"
        },
        {
         "data": [
          {
           "alignmentgroup": "True",
           "hovertemplate": "country=%{x}<br>year=2006<br>carbon_intensity_elec=%{y}<extra></extra>",
           "ids": [
            "Czechia",
            "Czechia",
            "Czechia",
            "Czechia",
            "Czechia",
            "Czechia",
            "Czechia",
            "Czechia",
            "Czechia",
            "Czechia",
            "Czechia",
            "Czechia",
            "Czechia",
            "Czechia",
            "Czechia",
            "Czechia",
            "Czechia",
            "Czechia",
            "Czechia",
            "Czechia",
            "Czechia",
            "Czechia",
            "Czechia"
           ],
           "legendgroup": "Czechia",
           "marker": {
            "color": "#636efa",
            "pattern": {
             "shape": ""
            }
           },
           "name": "Czechia",
           "offsetgroup": "Czechia",
           "orientation": "v",
           "showlegend": true,
           "textposition": "auto",
           "type": "bar",
           "x": [
            "Czechia",
            "Czechia",
            "Czechia",
            "Czechia",
            "Czechia",
            "Czechia",
            "Czechia",
            "Czechia",
            "Czechia",
            "Czechia",
            "Czechia",
            "Czechia",
            "Czechia",
            "Czechia",
            "Czechia",
            "Czechia",
            "Czechia",
            "Czechia",
            "Czechia",
            "Czechia",
            "Czechia",
            "Czechia",
            "Czechia"
           ],
           "xaxis": "x",
           "y": [
            526.775,
            526.775,
            526.775,
            526.775,
            526.78,
            526.78,
            526.78,
            526.78,
            526.78,
            526.78,
            526.78,
            526.78,
            526.78,
            526.78,
            526.78,
            526.78,
            526.78,
            526.78,
            526.78,
            526.78,
            526.78,
            526.78,
            526.78
           ],
           "yaxis": "y"
          },
          {
           "alignmentgroup": "True",
           "hovertemplate": "country=%{x}<br>year=2006<br>carbon_intensity_elec=%{y}<extra></extra>",
           "ids": [
            "South Africa",
            "South Africa",
            "South Africa",
            "South Africa",
            "South Africa",
            "South Africa",
            "South Africa",
            "South Africa",
            "South Africa",
            "South Africa",
            "South Africa",
            "South Africa",
            "South Africa",
            "South Africa",
            "South Africa",
            "South Africa",
            "South Africa",
            "South Africa",
            "South Africa",
            "South Africa",
            "South Africa",
            "South Africa",
            "South Africa"
           ],
           "legendgroup": "South Africa",
           "marker": {
            "color": "#00cc96",
            "pattern": {
             "shape": ""
            }
           },
           "name": "South Africa",
           "offsetgroup": "South Africa",
           "orientation": "v",
           "showlegend": true,
           "textposition": "auto",
           "type": "bar",
           "x": [
            "South Africa",
            "South Africa",
            "South Africa",
            "South Africa",
            "South Africa",
            "South Africa",
            "South Africa",
            "South Africa",
            "South Africa",
            "South Africa",
            "South Africa",
            "South Africa",
            "South Africa",
            "South Africa",
            "South Africa",
            "South Africa",
            "South Africa",
            "South Africa",
            "South Africa",
            "South Africa",
            "South Africa",
            "South Africa",
            "South Africa"
           ],
           "xaxis": "x",
           "y": [
            774.894,
            774.894,
            774.894,
            774.894,
            774.89,
            774.89,
            774.89,
            774.89,
            774.89,
            774.89,
            774.89,
            774.89,
            774.89,
            774.89,
            774.89,
            774.89,
            774.89,
            774.89,
            774.89,
            774.89,
            774.89,
            774.89,
            774.89
           ],
           "yaxis": "y"
          },
          {
           "alignmentgroup": "True",
           "hovertemplate": "country=%{x}<br>year=2006<br>carbon_intensity_elec=%{y}<extra></extra>",
           "ids": [
            "United States",
            "United States",
            "United States",
            "United States",
            "United States",
            "United States",
            "United States",
            "United States",
            "United States",
            "United States",
            "United States",
            "United States",
            "United States",
            "United States",
            "United States",
            "United States",
            "United States",
            "United States",
            "United States",
            "United States",
            "United States",
            "United States",
            "United States"
           ],
           "legendgroup": "United States",
           "marker": {
            "color": "#ab63fa",
            "pattern": {
             "shape": ""
            }
           },
           "name": "United States",
           "offsetgroup": "United States",
           "orientation": "v",
           "showlegend": true,
           "textposition": "auto",
           "type": "bar",
           "x": [
            "United States",
            "United States",
            "United States",
            "United States",
            "United States",
            "United States",
            "United States",
            "United States",
            "United States",
            "United States",
            "United States",
            "United States",
            "United States",
            "United States",
            "United States",
            "United States",
            "United States",
            "United States",
            "United States",
            "United States",
            "United States",
            "United States",
            "United States"
           ],
           "xaxis": "x",
           "y": [
            521.925,
            521.925,
            521.925,
            521.925,
            521.92,
            521.92,
            521.92,
            521.92,
            521.92,
            521.92,
            521.92,
            521.92,
            521.92,
            521.92,
            521.92,
            521.92,
            521.92,
            521.92,
            521.92,
            521.92,
            521.92,
            521.92,
            521.92
           ],
           "yaxis": "y"
          }
         ],
         "name": "2006"
        },
        {
         "data": [
          {
           "alignmentgroup": "True",
           "hovertemplate": "country=%{x}<br>year=2007<br>carbon_intensity_elec=%{y}<extra></extra>",
           "ids": [
            "Czechia",
            "Czechia",
            "Czechia",
            "Czechia",
            "Czechia",
            "Czechia",
            "Czechia",
            "Czechia",
            "Czechia",
            "Czechia",
            "Czechia",
            "Czechia",
            "Czechia",
            "Czechia",
            "Czechia",
            "Czechia",
            "Czechia",
            "Czechia",
            "Czechia",
            "Czechia",
            "Czechia",
            "Czechia",
            "Czechia"
           ],
           "legendgroup": "Czechia",
           "marker": {
            "color": "#636efa",
            "pattern": {
             "shape": ""
            }
           },
           "name": "Czechia",
           "offsetgroup": "Czechia",
           "orientation": "v",
           "showlegend": true,
           "textposition": "auto",
           "type": "bar",
           "x": [
            "Czechia",
            "Czechia",
            "Czechia",
            "Czechia",
            "Czechia",
            "Czechia",
            "Czechia",
            "Czechia",
            "Czechia",
            "Czechia",
            "Czechia",
            "Czechia",
            "Czechia",
            "Czechia",
            "Czechia",
            "Czechia",
            "Czechia",
            "Czechia",
            "Czechia",
            "Czechia",
            "Czechia",
            "Czechia",
            "Czechia"
           ],
           "xaxis": "x",
           "y": [
            541.529,
            541.529,
            541.529,
            541.529,
            541.53,
            541.53,
            541.53,
            541.53,
            541.53,
            541.53,
            541.53,
            541.53,
            541.53,
            541.53,
            541.53,
            541.53,
            541.53,
            541.53,
            541.53,
            541.53,
            541.53,
            541.53,
            541.53
           ],
           "yaxis": "y"
          },
          {
           "alignmentgroup": "True",
           "hovertemplate": "country=%{x}<br>year=2007<br>carbon_intensity_elec=%{y}<extra></extra>",
           "ids": [
            "Japan",
            "Japan",
            "Japan",
            "Japan",
            "Japan",
            "Japan",
            "Japan",
            "Japan",
            "Japan",
            "Japan",
            "Japan",
            "Japan",
            "Japan",
            "Japan",
            "Japan",
            "Japan",
            "Japan",
            "Japan",
            "Japan",
            "Japan",
            "Japan",
            "Japan",
            "Japan"
           ],
           "legendgroup": "Japan",
           "marker": {
            "color": "#EF553B",
            "pattern": {
             "shape": ""
            }
           },
           "name": "Japan",
           "offsetgroup": "Japan",
           "orientation": "v",
           "showlegend": true,
           "textposition": "auto",
           "type": "bar",
           "x": [
            "Japan",
            "Japan",
            "Japan",
            "Japan",
            "Japan",
            "Japan",
            "Japan",
            "Japan",
            "Japan",
            "Japan",
            "Japan",
            "Japan",
            "Japan",
            "Japan",
            "Japan",
            "Japan",
            "Japan",
            "Japan",
            "Japan",
            "Japan",
            "Japan",
            "Japan",
            "Japan"
           ],
           "xaxis": "x",
           "y": [
            449.134,
            449.134,
            449.134,
            449.134,
            449.13,
            449.13,
            449.13,
            449.13,
            449.13,
            449.13,
            449.13,
            449.13,
            449.13,
            449.13,
            449.13,
            449.13,
            449.13,
            449.13,
            449.13,
            449.13,
            449.13,
            449.13,
            449.13
           ],
           "yaxis": "y"
          },
          {
           "alignmentgroup": "True",
           "hovertemplate": "country=%{x}<br>year=2007<br>carbon_intensity_elec=%{y}<extra></extra>",
           "ids": [
            "South Africa",
            "South Africa",
            "South Africa",
            "South Africa",
            "South Africa",
            "South Africa",
            "South Africa",
            "South Africa",
            "South Africa",
            "South Africa",
            "South Africa",
            "South Africa",
            "South Africa",
            "South Africa",
            "South Africa",
            "South Africa",
            "South Africa",
            "South Africa",
            "South Africa",
            "South Africa",
            "South Africa",
            "South Africa",
            "South Africa"
           ],
           "legendgroup": "South Africa",
           "marker": {
            "color": "#00cc96",
            "pattern": {
             "shape": ""
            }
           },
           "name": "South Africa",
           "offsetgroup": "South Africa",
           "orientation": "v",
           "showlegend": true,
           "textposition": "auto",
           "type": "bar",
           "x": [
            "South Africa",
            "South Africa",
            "South Africa",
            "South Africa",
            "South Africa",
            "South Africa",
            "South Africa",
            "South Africa",
            "South Africa",
            "South Africa",
            "South Africa",
            "South Africa",
            "South Africa",
            "South Africa",
            "South Africa",
            "South Africa",
            "South Africa",
            "South Africa",
            "South Africa",
            "South Africa",
            "South Africa",
            "South Africa",
            "South Africa"
           ],
           "xaxis": "x",
           "y": [
            774.239,
            774.239,
            774.239,
            774.239,
            774.24,
            774.24,
            774.24,
            774.24,
            774.24,
            774.24,
            774.24,
            774.24,
            774.24,
            774.24,
            774.24,
            774.24,
            774.24,
            774.24,
            774.24,
            774.24,
            774.24,
            774.24,
            774.24
           ],
           "yaxis": "y"
          },
          {
           "alignmentgroup": "True",
           "hovertemplate": "country=%{x}<br>year=2007<br>carbon_intensity_elec=%{y}<extra></extra>",
           "ids": [
            "United States",
            "United States",
            "United States",
            "United States",
            "United States",
            "United States",
            "United States",
            "United States",
            "United States",
            "United States",
            "United States",
            "United States",
            "United States",
            "United States",
            "United States",
            "United States",
            "United States",
            "United States",
            "United States",
            "United States",
            "United States",
            "United States",
            "United States"
           ],
           "legendgroup": "United States",
           "marker": {
            "color": "#ab63fa",
            "pattern": {
             "shape": ""
            }
           },
           "name": "United States",
           "offsetgroup": "United States",
           "orientation": "v",
           "showlegend": true,
           "textposition": "auto",
           "type": "bar",
           "x": [
            "United States",
            "United States",
            "United States",
            "United States",
            "United States",
            "United States",
            "United States",
            "United States",
            "United States",
            "United States",
            "United States",
            "United States",
            "United States",
            "United States",
            "United States",
            "United States",
            "United States",
            "United States",
            "United States",
            "United States",
            "United States",
            "United States",
            "United States"
           ],
           "xaxis": "x",
           "y": [
            524.969,
            524.969,
            524.969,
            524.969,
            524.97,
            524.97,
            524.97,
            524.97,
            524.97,
            524.97,
            524.97,
            524.97,
            524.97,
            524.97,
            524.97,
            524.97,
            524.97,
            524.97,
            524.97,
            524.97,
            524.97,
            524.97,
            524.97
           ],
           "yaxis": "y"
          }
         ],
         "name": "2007"
        },
        {
         "data": [
          {
           "alignmentgroup": "True",
           "hovertemplate": "country=%{x}<br>year=2008<br>carbon_intensity_elec=%{y}<extra></extra>",
           "ids": [
            "Czechia",
            "Czechia",
            "Czechia",
            "Czechia",
            "Czechia",
            "Czechia",
            "Czechia",
            "Czechia",
            "Czechia",
            "Czechia",
            "Czechia",
            "Czechia",
            "Czechia",
            "Czechia",
            "Czechia",
            "Czechia",
            "Czechia",
            "Czechia",
            "Czechia",
            "Czechia",
            "Czechia",
            "Czechia",
            "Czechia"
           ],
           "legendgroup": "Czechia",
           "marker": {
            "color": "#636efa",
            "pattern": {
             "shape": ""
            }
           },
           "name": "Czechia",
           "offsetgroup": "Czechia",
           "orientation": "v",
           "showlegend": true,
           "textposition": "auto",
           "type": "bar",
           "x": [
            "Czechia",
            "Czechia",
            "Czechia",
            "Czechia",
            "Czechia",
            "Czechia",
            "Czechia",
            "Czechia",
            "Czechia",
            "Czechia",
            "Czechia",
            "Czechia",
            "Czechia",
            "Czechia",
            "Czechia",
            "Czechia",
            "Czechia",
            "Czechia",
            "Czechia",
            "Czechia",
            "Czechia",
            "Czechia",
            "Czechia"
           ],
           "xaxis": "x",
           "y": [
            521.614,
            521.614,
            521.614,
            521.614,
            521.61,
            521.61,
            521.61,
            521.61,
            521.61,
            521.61,
            521.61,
            521.61,
            521.61,
            521.61,
            521.61,
            521.61,
            521.61,
            521.61,
            521.61,
            521.61,
            521.61,
            521.61,
            521.61
           ],
           "yaxis": "y"
          },
          {
           "alignmentgroup": "True",
           "hovertemplate": "country=%{x}<br>year=2008<br>carbon_intensity_elec=%{y}<extra></extra>",
           "ids": [
            "Japan",
            "Japan",
            "Japan",
            "Japan",
            "Japan",
            "Japan",
            "Japan",
            "Japan",
            "Japan",
            "Japan",
            "Japan",
            "Japan",
            "Japan",
            "Japan",
            "Japan",
            "Japan",
            "Japan",
            "Japan",
            "Japan",
            "Japan",
            "Japan",
            "Japan",
            "Japan"
           ],
           "legendgroup": "Japan",
           "marker": {
            "color": "#EF553B",
            "pattern": {
             "shape": ""
            }
           },
           "name": "Japan",
           "offsetgroup": "Japan",
           "orientation": "v",
           "showlegend": true,
           "textposition": "auto",
           "type": "bar",
           "x": [
            "Japan",
            "Japan",
            "Japan",
            "Japan",
            "Japan",
            "Japan",
            "Japan",
            "Japan",
            "Japan",
            "Japan",
            "Japan",
            "Japan",
            "Japan",
            "Japan",
            "Japan",
            "Japan",
            "Japan",
            "Japan",
            "Japan",
            "Japan",
            "Japan",
            "Japan",
            "Japan"
           ],
           "xaxis": "x",
           "y": [
            448.435,
            448.435,
            448.435,
            448.435,
            448.44,
            448.44,
            448.44,
            448.44,
            448.44,
            448.44,
            448.44,
            448.44,
            448.44,
            448.44,
            448.44,
            448.44,
            448.44,
            448.44,
            448.44,
            448.44,
            448.44,
            448.44,
            448.44
           ],
           "yaxis": "y"
          },
          {
           "alignmentgroup": "True",
           "hovertemplate": "country=%{x}<br>year=2008<br>carbon_intensity_elec=%{y}<extra></extra>",
           "ids": [
            "South Africa",
            "South Africa",
            "South Africa",
            "South Africa",
            "South Africa",
            "South Africa",
            "South Africa",
            "South Africa",
            "South Africa",
            "South Africa",
            "South Africa",
            "South Africa",
            "South Africa",
            "South Africa",
            "South Africa",
            "South Africa",
            "South Africa",
            "South Africa",
            "South Africa",
            "South Africa",
            "South Africa",
            "South Africa",
            "South Africa"
           ],
           "legendgroup": "South Africa",
           "marker": {
            "color": "#00cc96",
            "pattern": {
             "shape": ""
            }
           },
           "name": "South Africa",
           "offsetgroup": "South Africa",
           "orientation": "v",
           "showlegend": true,
           "textposition": "auto",
           "type": "bar",
           "x": [
            "South Africa",
            "South Africa",
            "South Africa",
            "South Africa",
            "South Africa",
            "South Africa",
            "South Africa",
            "South Africa",
            "South Africa",
            "South Africa",
            "South Africa",
            "South Africa",
            "South Africa",
            "South Africa",
            "South Africa",
            "South Africa",
            "South Africa",
            "South Africa",
            "South Africa",
            "South Africa",
            "South Africa",
            "South Africa",
            "South Africa"
           ],
           "xaxis": "x",
           "y": [
            771.902,
            771.902,
            771.902,
            771.902,
            771.9,
            771.9,
            771.9,
            771.9,
            771.9,
            771.9,
            771.9,
            771.9,
            771.9,
            771.9,
            771.9,
            771.9,
            771.9,
            771.9,
            771.9,
            771.9,
            771.9,
            771.9,
            771.9
           ],
           "yaxis": "y"
          },
          {
           "alignmentgroup": "True",
           "hovertemplate": "country=%{x}<br>year=2008<br>carbon_intensity_elec=%{y}<extra></extra>",
           "ids": [
            "United States",
            "United States",
            "United States",
            "United States",
            "United States",
            "United States",
            "United States",
            "United States",
            "United States",
            "United States",
            "United States",
            "United States",
            "United States",
            "United States",
            "United States",
            "United States",
            "United States",
            "United States",
            "United States",
            "United States",
            "United States",
            "United States",
            "United States"
           ],
           "legendgroup": "United States",
           "marker": {
            "color": "#ab63fa",
            "pattern": {
             "shape": ""
            }
           },
           "name": "United States",
           "offsetgroup": "United States",
           "orientation": "v",
           "showlegend": true,
           "textposition": "auto",
           "type": "bar",
           "x": [
            "United States",
            "United States",
            "United States",
            "United States",
            "United States",
            "United States",
            "United States",
            "United States",
            "United States",
            "United States",
            "United States",
            "United States",
            "United States",
            "United States",
            "United States",
            "United States",
            "United States",
            "United States",
            "United States",
            "United States",
            "United States",
            "United States",
            "United States"
           ],
           "xaxis": "x",
           "y": [
            518.419,
            518.419,
            518.419,
            518.419,
            518.42,
            518.42,
            518.42,
            518.42,
            518.42,
            518.42,
            518.42,
            518.42,
            518.42,
            518.42,
            518.42,
            518.42,
            518.42,
            518.42,
            518.42,
            518.42,
            518.42,
            518.42,
            518.42
           ],
           "yaxis": "y"
          }
         ],
         "name": "2008"
        },
        {
         "data": [
          {
           "alignmentgroup": "True",
           "hovertemplate": "country=%{x}<br>year=2009<br>carbon_intensity_elec=%{y}<extra></extra>",
           "ids": [
            "Czechia",
            "Czechia",
            "Czechia",
            "Czechia",
            "Czechia",
            "Czechia",
            "Czechia",
            "Czechia",
            "Czechia",
            "Czechia",
            "Czechia",
            "Czechia",
            "Czechia",
            "Czechia",
            "Czechia",
            "Czechia",
            "Czechia",
            "Czechia",
            "Czechia",
            "Czechia",
            "Czechia",
            "Czechia",
            "Czechia"
           ],
           "legendgroup": "Czechia",
           "marker": {
            "color": "#636efa",
            "pattern": {
             "shape": ""
            }
           },
           "name": "Czechia",
           "offsetgroup": "Czechia",
           "orientation": "v",
           "showlegend": true,
           "textposition": "auto",
           "type": "bar",
           "x": [
            "Czechia",
            "Czechia",
            "Czechia",
            "Czechia",
            "Czechia",
            "Czechia",
            "Czechia",
            "Czechia",
            "Czechia",
            "Czechia",
            "Czechia",
            "Czechia",
            "Czechia",
            "Czechia",
            "Czechia",
            "Czechia",
            "Czechia",
            "Czechia",
            "Czechia",
            "Czechia",
            "Czechia",
            "Czechia",
            "Czechia"
           ],
           "xaxis": "x",
           "y": [
            501.837,
            501.837,
            501.837,
            501.837,
            501.84,
            501.84,
            501.84,
            501.84,
            501.84,
            501.84,
            501.84,
            501.84,
            501.84,
            501.84,
            501.84,
            501.84,
            501.84,
            501.84,
            501.84,
            501.84,
            501.84,
            501.84,
            501.84
           ],
           "yaxis": "y"
          },
          {
           "alignmentgroup": "True",
           "hovertemplate": "country=%{x}<br>year=2009<br>carbon_intensity_elec=%{y}<extra></extra>",
           "ids": [
            "Japan",
            "Japan",
            "Japan",
            "Japan",
            "Japan",
            "Japan",
            "Japan",
            "Japan",
            "Japan",
            "Japan",
            "Japan",
            "Japan",
            "Japan",
            "Japan",
            "Japan",
            "Japan",
            "Japan",
            "Japan",
            "Japan",
            "Japan",
            "Japan",
            "Japan",
            "Japan"
           ],
           "legendgroup": "Japan",
           "marker": {
            "color": "#EF553B",
            "pattern": {
             "shape": ""
            }
           },
           "name": "Japan",
           "offsetgroup": "Japan",
           "orientation": "v",
           "showlegend": true,
           "textposition": "auto",
           "type": "bar",
           "x": [
            "Japan",
            "Japan",
            "Japan",
            "Japan",
            "Japan",
            "Japan",
            "Japan",
            "Japan",
            "Japan",
            "Japan",
            "Japan",
            "Japan",
            "Japan",
            "Japan",
            "Japan",
            "Japan",
            "Japan",
            "Japan",
            "Japan",
            "Japan",
            "Japan",
            "Japan",
            "Japan"
           ],
           "xaxis": "x",
           "y": [
            421.719,
            421.719,
            421.719,
            421.719,
            421.72,
            421.72,
            421.72,
            421.72,
            421.72,
            421.72,
            421.72,
            421.72,
            421.72,
            421.72,
            421.72,
            421.72,
            421.72,
            421.72,
            421.72,
            421.72,
            421.72,
            421.72,
            421.72
           ],
           "yaxis": "y"
          },
          {
           "alignmentgroup": "True",
           "hovertemplate": "country=%{x}<br>year=2009<br>carbon_intensity_elec=%{y}<extra></extra>",
           "ids": [
            "South Africa",
            "South Africa",
            "South Africa",
            "South Africa",
            "South Africa",
            "South Africa",
            "South Africa",
            "South Africa",
            "South Africa",
            "South Africa",
            "South Africa",
            "South Africa",
            "South Africa",
            "South Africa",
            "South Africa",
            "South Africa",
            "South Africa",
            "South Africa",
            "South Africa",
            "South Africa",
            "South Africa",
            "South Africa",
            "South Africa"
           ],
           "legendgroup": "South Africa",
           "marker": {
            "color": "#00cc96",
            "pattern": {
             "shape": ""
            }
           },
           "name": "South Africa",
           "offsetgroup": "South Africa",
           "orientation": "v",
           "showlegend": true,
           "textposition": "auto",
           "type": "bar",
           "x": [
            "South Africa",
            "South Africa",
            "South Africa",
            "South Africa",
            "South Africa",
            "South Africa",
            "South Africa",
            "South Africa",
            "South Africa",
            "South Africa",
            "South Africa",
            "South Africa",
            "South Africa",
            "South Africa",
            "South Africa",
            "South Africa",
            "South Africa",
            "South Africa",
            "South Africa",
            "South Africa",
            "South Africa",
            "South Africa",
            "South Africa"
           ],
           "xaxis": "x",
           "y": [
            773.575,
            773.575,
            773.575,
            773.575,
            773.58,
            773.58,
            773.58,
            773.58,
            773.58,
            773.58,
            773.58,
            773.58,
            773.58,
            773.58,
            773.58,
            773.58,
            773.58,
            773.58,
            773.58,
            773.58,
            773.58,
            773.58,
            773.58
           ],
           "yaxis": "y"
          },
          {
           "alignmentgroup": "True",
           "hovertemplate": "country=%{x}<br>year=2009<br>carbon_intensity_elec=%{y}<extra></extra>",
           "ids": [
            "United States",
            "United States",
            "United States",
            "United States",
            "United States",
            "United States",
            "United States",
            "United States",
            "United States",
            "United States",
            "United States",
            "United States",
            "United States",
            "United States",
            "United States",
            "United States",
            "United States",
            "United States",
            "United States",
            "United States",
            "United States",
            "United States",
            "United States"
           ],
           "legendgroup": "United States",
           "marker": {
            "color": "#ab63fa",
            "pattern": {
             "shape": ""
            }
           },
           "name": "United States",
           "offsetgroup": "United States",
           "orientation": "v",
           "showlegend": true,
           "textposition": "auto",
           "type": "bar",
           "x": [
            "United States",
            "United States",
            "United States",
            "United States",
            "United States",
            "United States",
            "United States",
            "United States",
            "United States",
            "United States",
            "United States",
            "United States",
            "United States",
            "United States",
            "United States",
            "United States",
            "United States",
            "United States",
            "United States",
            "United States",
            "United States",
            "United States",
            "United States"
           ],
           "xaxis": "x",
           "y": [
            496.259,
            496.259,
            496.259,
            496.259,
            496.26,
            496.26,
            496.26,
            496.26,
            496.26,
            496.26,
            496.26,
            496.26,
            496.26,
            496.26,
            496.26,
            496.26,
            496.26,
            496.26,
            496.26,
            496.26,
            496.26,
            496.26,
            496.26
           ],
           "yaxis": "y"
          }
         ],
         "name": "2009"
        },
        {
         "data": [
          {
           "alignmentgroup": "True",
           "hovertemplate": "country=%{x}<br>year=2010<br>carbon_intensity_elec=%{y}<extra></extra>",
           "ids": [
            "Czechia",
            "Czechia",
            "Czechia",
            "Czechia",
            "Czechia",
            "Czechia",
            "Czechia",
            "Czechia",
            "Czechia",
            "Czechia",
            "Czechia",
            "Czechia",
            "Czechia",
            "Czechia",
            "Czechia",
            "Czechia",
            "Czechia",
            "Czechia",
            "Czechia",
            "Czechia",
            "Czechia",
            "Czechia",
            "Czechia"
           ],
           "legendgroup": "Czechia",
           "marker": {
            "color": "#636efa",
            "pattern": {
             "shape": ""
            }
           },
           "name": "Czechia",
           "offsetgroup": "Czechia",
           "orientation": "v",
           "showlegend": true,
           "textposition": "auto",
           "type": "bar",
           "x": [
            "Czechia",
            "Czechia",
            "Czechia",
            "Czechia",
            "Czechia",
            "Czechia",
            "Czechia",
            "Czechia",
            "Czechia",
            "Czechia",
            "Czechia",
            "Czechia",
            "Czechia",
            "Czechia",
            "Czechia",
            "Czechia",
            "Czechia",
            "Czechia",
            "Czechia",
            "Czechia",
            "Czechia",
            "Czechia",
            "Czechia"
           ],
           "xaxis": "x",
           "y": [
            495.307,
            495.307,
            495.307,
            495.307,
            495.31,
            495.31,
            495.31,
            495.31,
            495.31,
            495.31,
            495.31,
            495.31,
            495.31,
            495.31,
            495.31,
            495.31,
            495.31,
            495.31,
            495.31,
            495.31,
            495.31,
            495.31,
            495.31
           ],
           "yaxis": "y"
          },
          {
           "alignmentgroup": "True",
           "hovertemplate": "country=%{x}<br>year=2010<br>carbon_intensity_elec=%{y}<extra></extra>",
           "ids": [
            "Japan",
            "Japan",
            "Japan",
            "Japan",
            "Japan",
            "Japan",
            "Japan",
            "Japan",
            "Japan",
            "Japan",
            "Japan",
            "Japan",
            "Japan",
            "Japan",
            "Japan",
            "Japan",
            "Japan",
            "Japan",
            "Japan",
            "Japan",
            "Japan",
            "Japan",
            "Japan"
           ],
           "legendgroup": "Japan",
           "marker": {
            "color": "#EF553B",
            "pattern": {
             "shape": ""
            }
           },
           "name": "Japan",
           "offsetgroup": "Japan",
           "orientation": "v",
           "showlegend": true,
           "textposition": "auto",
           "type": "bar",
           "x": [
            "Japan",
            "Japan",
            "Japan",
            "Japan",
            "Japan",
            "Japan",
            "Japan",
            "Japan",
            "Japan",
            "Japan",
            "Japan",
            "Japan",
            "Japan",
            "Japan",
            "Japan",
            "Japan",
            "Japan",
            "Japan",
            "Japan",
            "Japan",
            "Japan",
            "Japan",
            "Japan"
           ],
           "xaxis": "x",
           "y": [
            429.775,
            429.775,
            429.775,
            429.775,
            429.78,
            429.78,
            429.78,
            429.78,
            429.78,
            429.78,
            429.78,
            429.78,
            429.78,
            429.78,
            429.78,
            429.78,
            429.78,
            429.78,
            429.78,
            429.78,
            429.78,
            429.78,
            429.78
           ],
           "yaxis": "y"
          },
          {
           "alignmentgroup": "True",
           "hovertemplate": "country=%{x}<br>year=2010<br>carbon_intensity_elec=%{y}<extra></extra>",
           "ids": [
            "South Africa",
            "South Africa",
            "South Africa",
            "South Africa",
            "South Africa",
            "South Africa",
            "South Africa",
            "South Africa",
            "South Africa",
            "South Africa",
            "South Africa",
            "South Africa",
            "South Africa",
            "South Africa",
            "South Africa",
            "South Africa",
            "South Africa",
            "South Africa",
            "South Africa",
            "South Africa",
            "South Africa",
            "South Africa",
            "South Africa"
           ],
           "legendgroup": "South Africa",
           "marker": {
            "color": "#00cc96",
            "pattern": {
             "shape": ""
            }
           },
           "name": "South Africa",
           "offsetgroup": "South Africa",
           "orientation": "v",
           "showlegend": true,
           "textposition": "auto",
           "type": "bar",
           "x": [
            "South Africa",
            "South Africa",
            "South Africa",
            "South Africa",
            "South Africa",
            "South Africa",
            "South Africa",
            "South Africa",
            "South Africa",
            "South Africa",
            "South Africa",
            "South Africa",
            "South Africa",
            "South Africa",
            "South Africa",
            "South Africa",
            "South Africa",
            "South Africa",
            "South Africa",
            "South Africa",
            "South Africa",
            "South Africa",
            "South Africa"
           ],
           "xaxis": "x",
           "y": [
            768.047,
            768.047,
            768.047,
            768.047,
            768.05,
            768.05,
            768.05,
            768.05,
            768.05,
            768.05,
            768.05,
            768.05,
            768.05,
            768.05,
            768.05,
            768.05,
            768.05,
            768.05,
            768.05,
            768.05,
            768.05,
            768.05,
            768.05
           ],
           "yaxis": "y"
          },
          {
           "alignmentgroup": "True",
           "hovertemplate": "country=%{x}<br>year=2010<br>carbon_intensity_elec=%{y}<extra></extra>",
           "ids": [
            "United States",
            "United States",
            "United States",
            "United States",
            "United States",
            "United States",
            "United States",
            "United States",
            "United States",
            "United States",
            "United States",
            "United States",
            "United States",
            "United States",
            "United States",
            "United States",
            "United States",
            "United States",
            "United States",
            "United States",
            "United States",
            "United States",
            "United States"
           ],
           "legendgroup": "United States",
           "marker": {
            "color": "#ab63fa",
            "pattern": {
             "shape": ""
            }
           },
           "name": "United States",
           "offsetgroup": "United States",
           "orientation": "v",
           "showlegend": true,
           "textposition": "auto",
           "type": "bar",
           "x": [
            "United States",
            "United States",
            "United States",
            "United States",
            "United States",
            "United States",
            "United States",
            "United States",
            "United States",
            "United States",
            "United States",
            "United States",
            "United States",
            "United States",
            "United States",
            "United States",
            "United States",
            "United States",
            "United States",
            "United States",
            "United States",
            "United States",
            "United States"
           ],
           "xaxis": "x",
           "y": [
            501.337,
            501.337,
            501.337,
            501.337,
            501.34,
            501.34,
            501.34,
            501.34,
            501.34,
            501.34,
            501.34,
            501.34,
            501.34,
            501.34,
            501.34,
            501.34,
            501.34,
            501.34,
            501.34,
            501.34,
            501.34,
            501.34,
            501.34
           ],
           "yaxis": "y"
          }
         ],
         "name": "2010"
        },
        {
         "data": [
          {
           "alignmentgroup": "True",
           "hovertemplate": "country=%{x}<br>year=2011<br>carbon_intensity_elec=%{y}<extra></extra>",
           "ids": [
            "Czechia",
            "Czechia",
            "Czechia",
            "Czechia",
            "Czechia",
            "Czechia",
            "Czechia",
            "Czechia",
            "Czechia",
            "Czechia",
            "Czechia",
            "Czechia",
            "Czechia",
            "Czechia",
            "Czechia",
            "Czechia",
            "Czechia",
            "Czechia",
            "Czechia",
            "Czechia",
            "Czechia",
            "Czechia",
            "Czechia"
           ],
           "legendgroup": "Czechia",
           "marker": {
            "color": "#636efa",
            "pattern": {
             "shape": ""
            }
           },
           "name": "Czechia",
           "offsetgroup": "Czechia",
           "orientation": "v",
           "showlegend": true,
           "textposition": "auto",
           "type": "bar",
           "x": [
            "Czechia",
            "Czechia",
            "Czechia",
            "Czechia",
            "Czechia",
            "Czechia",
            "Czechia",
            "Czechia",
            "Czechia",
            "Czechia",
            "Czechia",
            "Czechia",
            "Czechia",
            "Czechia",
            "Czechia",
            "Czechia",
            "Czechia",
            "Czechia",
            "Czechia",
            "Czechia",
            "Czechia",
            "Czechia",
            "Czechia"
           ],
           "xaxis": "x",
           "y": [
            487.135,
            487.135,
            487.135,
            487.135,
            487.14,
            487.14,
            487.14,
            487.14,
            487.14,
            487.14,
            487.14,
            487.14,
            487.14,
            487.14,
            487.14,
            487.14,
            487.14,
            487.14,
            487.14,
            487.14,
            487.14,
            487.14,
            487.14
           ],
           "yaxis": "y"
          },
          {
           "alignmentgroup": "True",
           "hovertemplate": "country=%{x}<br>year=2011<br>carbon_intensity_elec=%{y}<extra></extra>",
           "ids": [
            "Japan",
            "Japan",
            "Japan",
            "Japan",
            "Japan",
            "Japan",
            "Japan",
            "Japan",
            "Japan",
            "Japan",
            "Japan",
            "Japan",
            "Japan",
            "Japan",
            "Japan",
            "Japan",
            "Japan",
            "Japan",
            "Japan",
            "Japan",
            "Japan",
            "Japan",
            "Japan"
           ],
           "legendgroup": "Japan",
           "marker": {
            "color": "#EF553B",
            "pattern": {
             "shape": ""
            }
           },
           "name": "Japan",
           "offsetgroup": "Japan",
           "orientation": "v",
           "showlegend": true,
           "textposition": "auto",
           "type": "bar",
           "x": [
            "Japan",
            "Japan",
            "Japan",
            "Japan",
            "Japan",
            "Japan",
            "Japan",
            "Japan",
            "Japan",
            "Japan",
            "Japan",
            "Japan",
            "Japan",
            "Japan",
            "Japan",
            "Japan",
            "Japan",
            "Japan",
            "Japan",
            "Japan",
            "Japan",
            "Japan",
            "Japan"
           ],
           "xaxis": "x",
           "y": [
            487.163,
            487.163,
            487.163,
            487.163,
            487.16,
            487.16,
            487.16,
            487.16,
            487.16,
            487.16,
            487.16,
            487.16,
            487.16,
            487.16,
            487.16,
            487.16,
            487.16,
            487.16,
            487.16,
            487.16,
            487.16,
            487.16,
            487.16
           ],
           "yaxis": "y"
          },
          {
           "alignmentgroup": "True",
           "hovertemplate": "country=%{x}<br>year=2011<br>carbon_intensity_elec=%{y}<extra></extra>",
           "ids": [
            "South Africa",
            "South Africa",
            "South Africa",
            "South Africa",
            "South Africa",
            "South Africa",
            "South Africa",
            "South Africa",
            "South Africa",
            "South Africa",
            "South Africa",
            "South Africa",
            "South Africa",
            "South Africa",
            "South Africa",
            "South Africa",
            "South Africa",
            "South Africa",
            "South Africa",
            "South Africa",
            "South Africa",
            "South Africa",
            "South Africa"
           ],
           "legendgroup": "South Africa",
           "marker": {
            "color": "#00cc96",
            "pattern": {
             "shape": ""
            }
           },
           "name": "South Africa",
           "offsetgroup": "South Africa",
           "orientation": "v",
           "showlegend": true,
           "textposition": "auto",
           "type": "bar",
           "x": [
            "South Africa",
            "South Africa",
            "South Africa",
            "South Africa",
            "South Africa",
            "South Africa",
            "South Africa",
            "South Africa",
            "South Africa",
            "South Africa",
            "South Africa",
            "South Africa",
            "South Africa",
            "South Africa",
            "South Africa",
            "South Africa",
            "South Africa",
            "South Africa",
            "South Africa",
            "South Africa",
            "South Africa",
            "South Africa",
            "South Africa"
           ],
           "xaxis": "x",
           "y": [
            768.048,
            768.048,
            768.048,
            768.048,
            768.05,
            768.05,
            768.05,
            768.05,
            768.05,
            768.05,
            768.05,
            768.05,
            768.05,
            768.05,
            768.05,
            768.05,
            768.05,
            768.05,
            768.05,
            768.05,
            768.05,
            768.05,
            768.05
           ],
           "yaxis": "y"
          },
          {
           "alignmentgroup": "True",
           "hovertemplate": "country=%{x}<br>year=2011<br>carbon_intensity_elec=%{y}<extra></extra>",
           "ids": [
            "United States",
            "United States",
            "United States",
            "United States",
            "United States",
            "United States",
            "United States",
            "United States",
            "United States",
            "United States",
            "United States",
            "United States",
            "United States",
            "United States",
            "United States",
            "United States",
            "United States",
            "United States",
            "United States",
            "United States",
            "United States",
            "United States",
            "United States"
           ],
           "legendgroup": "United States",
           "marker": {
            "color": "#ab63fa",
            "pattern": {
             "shape": ""
            }
           },
           "name": "United States",
           "offsetgroup": "United States",
           "orientation": "v",
           "showlegend": true,
           "textposition": "auto",
           "type": "bar",
           "x": [
            "United States",
            "United States",
            "United States",
            "United States",
            "United States",
            "United States",
            "United States",
            "United States",
            "United States",
            "United States",
            "United States",
            "United States",
            "United States",
            "United States",
            "United States",
            "United States",
            "United States",
            "United States",
            "United States",
            "United States",
            "United States",
            "United States",
            "United States"
           ],
           "xaxis": "x",
           "y": [
            484.122,
            484.122,
            484.122,
            484.122,
            484.12,
            484.12,
            484.12,
            484.12,
            484.12,
            484.12,
            484.12,
            484.12,
            484.12,
            484.12,
            484.12,
            484.12,
            484.12,
            484.12,
            484.12,
            484.12,
            484.12,
            484.12,
            484.12
           ],
           "yaxis": "y"
          }
         ],
         "name": "2011"
        },
        {
         "data": [
          {
           "alignmentgroup": "True",
           "hovertemplate": "country=%{x}<br>year=2012<br>carbon_intensity_elec=%{y}<extra></extra>",
           "ids": [
            "Czechia",
            "Czechia",
            "Czechia",
            "Czechia",
            "Czechia",
            "Czechia",
            "Czechia",
            "Czechia",
            "Czechia",
            "Czechia",
            "Czechia",
            "Czechia",
            "Czechia",
            "Czechia",
            "Czechia",
            "Czechia",
            "Czechia",
            "Czechia",
            "Czechia",
            "Czechia",
            "Czechia",
            "Czechia",
            "Czechia"
           ],
           "legendgroup": "Czechia",
           "marker": {
            "color": "#636efa",
            "pattern": {
             "shape": ""
            }
           },
           "name": "Czechia",
           "offsetgroup": "Czechia",
           "orientation": "v",
           "showlegend": true,
           "textposition": "auto",
           "type": "bar",
           "x": [
            "Czechia",
            "Czechia",
            "Czechia",
            "Czechia",
            "Czechia",
            "Czechia",
            "Czechia",
            "Czechia",
            "Czechia",
            "Czechia",
            "Czechia",
            "Czechia",
            "Czechia",
            "Czechia",
            "Czechia",
            "Czechia",
            "Czechia",
            "Czechia",
            "Czechia",
            "Czechia",
            "Czechia",
            "Czechia",
            "Czechia"
           ],
           "xaxis": "x",
           "y": [
            461.956,
            461.956,
            461.956,
            461.956,
            461.96,
            461.96,
            461.96,
            461.96,
            461.96,
            461.96,
            461.96,
            461.96,
            461.96,
            461.96,
            461.96,
            461.96,
            461.96,
            461.96,
            461.96,
            461.96,
            461.96,
            461.96,
            461.96
           ],
           "yaxis": "y"
          },
          {
           "alignmentgroup": "True",
           "hovertemplate": "country=%{x}<br>year=2012<br>carbon_intensity_elec=%{y}<extra></extra>",
           "ids": [
            "Japan",
            "Japan",
            "Japan",
            "Japan",
            "Japan",
            "Japan",
            "Japan",
            "Japan",
            "Japan",
            "Japan",
            "Japan",
            "Japan",
            "Japan",
            "Japan",
            "Japan",
            "Japan",
            "Japan",
            "Japan",
            "Japan",
            "Japan",
            "Japan",
            "Japan",
            "Japan"
           ],
           "legendgroup": "Japan",
           "marker": {
            "color": "#EF553B",
            "pattern": {
             "shape": ""
            }
           },
           "name": "Japan",
           "offsetgroup": "Japan",
           "orientation": "v",
           "showlegend": true,
           "textposition": "auto",
           "type": "bar",
           "x": [
            "Japan",
            "Japan",
            "Japan",
            "Japan",
            "Japan",
            "Japan",
            "Japan",
            "Japan",
            "Japan",
            "Japan",
            "Japan",
            "Japan",
            "Japan",
            "Japan",
            "Japan",
            "Japan",
            "Japan",
            "Japan",
            "Japan",
            "Japan",
            "Japan",
            "Japan",
            "Japan"
           ],
           "xaxis": "x",
           "y": [
            576.39,
            576.39,
            576.39,
            576.39,
            576.39,
            576.39,
            576.39,
            576.39,
            576.39,
            576.39,
            576.39,
            576.39,
            576.39,
            576.39,
            576.39,
            576.39,
            576.39,
            576.39,
            576.39,
            576.39,
            576.39,
            576.39,
            576.39
           ],
           "yaxis": "y"
          },
          {
           "alignmentgroup": "True",
           "hovertemplate": "country=%{x}<br>year=2012<br>carbon_intensity_elec=%{y}<extra></extra>",
           "ids": [
            "South Africa",
            "South Africa",
            "South Africa",
            "South Africa",
            "South Africa",
            "South Africa",
            "South Africa",
            "South Africa",
            "South Africa",
            "South Africa",
            "South Africa",
            "South Africa",
            "South Africa",
            "South Africa",
            "South Africa",
            "South Africa",
            "South Africa",
            "South Africa",
            "South Africa",
            "South Africa",
            "South Africa",
            "South Africa",
            "South Africa"
           ],
           "legendgroup": "South Africa",
           "marker": {
            "color": "#00cc96",
            "pattern": {
             "shape": ""
            }
           },
           "name": "South Africa",
           "offsetgroup": "South Africa",
           "orientation": "v",
           "showlegend": true,
           "textposition": "auto",
           "type": "bar",
           "x": [
            "South Africa",
            "South Africa",
            "South Africa",
            "South Africa",
            "South Africa",
            "South Africa",
            "South Africa",
            "South Africa",
            "South Africa",
            "South Africa",
            "South Africa",
            "South Africa",
            "South Africa",
            "South Africa",
            "South Africa",
            "South Africa",
            "South Africa",
            "South Africa",
            "South Africa",
            "South Africa",
            "South Africa",
            "South Africa",
            "South Africa"
           ],
           "xaxis": "x",
           "y": [
            770.071,
            770.071,
            770.071,
            770.071,
            770.07,
            770.07,
            770.07,
            770.07,
            770.07,
            770.07,
            770.07,
            770.07,
            770.07,
            770.07,
            770.07,
            770.07,
            770.07,
            770.07,
            770.07,
            770.07,
            770.07,
            770.07,
            770.07
           ],
           "yaxis": "y"
          },
          {
           "alignmentgroup": "True",
           "hovertemplate": "country=%{x}<br>year=2012<br>carbon_intensity_elec=%{y}<extra></extra>",
           "ids": [
            "United States",
            "United States",
            "United States",
            "United States",
            "United States",
            "United States",
            "United States",
            "United States",
            "United States",
            "United States",
            "United States",
            "United States",
            "United States",
            "United States",
            "United States",
            "United States",
            "United States",
            "United States",
            "United States",
            "United States",
            "United States",
            "United States",
            "United States"
           ],
           "legendgroup": "United States",
           "marker": {
            "color": "#ab63fa",
            "pattern": {
             "shape": ""
            }
           },
           "name": "United States",
           "offsetgroup": "United States",
           "orientation": "v",
           "showlegend": true,
           "textposition": "auto",
           "type": "bar",
           "x": [
            "United States",
            "United States",
            "United States",
            "United States",
            "United States",
            "United States",
            "United States",
            "United States",
            "United States",
            "United States",
            "United States",
            "United States",
            "United States",
            "United States",
            "United States",
            "United States",
            "United States",
            "United States",
            "United States",
            "United States",
            "United States",
            "United States",
            "United States"
           ],
           "xaxis": "x",
           "y": [
            470.467,
            470.467,
            470.467,
            470.467,
            470.47,
            470.47,
            470.47,
            470.47,
            470.47,
            470.47,
            470.47,
            470.47,
            470.47,
            470.47,
            470.47,
            470.47,
            470.47,
            470.47,
            470.47,
            470.47,
            470.47,
            470.47,
            470.47
           ],
           "yaxis": "y"
          }
         ],
         "name": "2012"
        },
        {
         "data": [
          {
           "alignmentgroup": "True",
           "hovertemplate": "country=%{x}<br>year=2013<br>carbon_intensity_elec=%{y}<extra></extra>",
           "ids": [
            "Czechia",
            "Czechia",
            "Czechia",
            "Czechia",
            "Czechia",
            "Czechia",
            "Czechia",
            "Czechia",
            "Czechia",
            "Czechia",
            "Czechia",
            "Czechia",
            "Czechia",
            "Czechia",
            "Czechia",
            "Czechia",
            "Czechia",
            "Czechia",
            "Czechia",
            "Czechia",
            "Czechia",
            "Czechia",
            "Czechia"
           ],
           "legendgroup": "Czechia",
           "marker": {
            "color": "#636efa",
            "pattern": {
             "shape": ""
            }
           },
           "name": "Czechia",
           "offsetgroup": "Czechia",
           "orientation": "v",
           "showlegend": true,
           "textposition": "auto",
           "type": "bar",
           "x": [
            "Czechia",
            "Czechia",
            "Czechia",
            "Czechia",
            "Czechia",
            "Czechia",
            "Czechia",
            "Czechia",
            "Czechia",
            "Czechia",
            "Czechia",
            "Czechia",
            "Czechia",
            "Czechia",
            "Czechia",
            "Czechia",
            "Czechia",
            "Czechia",
            "Czechia",
            "Czechia",
            "Czechia",
            "Czechia",
            "Czechia"
           ],
           "xaxis": "x",
           "y": [
            443.449,
            443.449,
            443.449,
            443.449,
            443.45,
            443.45,
            443.45,
            443.45,
            443.45,
            443.45,
            443.45,
            443.45,
            443.45,
            443.45,
            443.45,
            443.45,
            443.45,
            443.45,
            443.45,
            443.45,
            443.45,
            443.45,
            443.45
           ],
           "yaxis": "y"
          },
          {
           "alignmentgroup": "True",
           "hovertemplate": "country=%{x}<br>year=2013<br>carbon_intensity_elec=%{y}<extra></extra>",
           "ids": [
            "Japan",
            "Japan",
            "Japan",
            "Japan",
            "Japan",
            "Japan",
            "Japan",
            "Japan",
            "Japan",
            "Japan",
            "Japan",
            "Japan",
            "Japan",
            "Japan",
            "Japan",
            "Japan",
            "Japan",
            "Japan",
            "Japan",
            "Japan",
            "Japan",
            "Japan",
            "Japan"
           ],
           "legendgroup": "Japan",
           "marker": {
            "color": "#EF553B",
            "pattern": {
             "shape": ""
            }
           },
           "name": "Japan",
           "offsetgroup": "Japan",
           "orientation": "v",
           "showlegend": true,
           "textposition": "auto",
           "type": "bar",
           "x": [
            "Japan",
            "Japan",
            "Japan",
            "Japan",
            "Japan",
            "Japan",
            "Japan",
            "Japan",
            "Japan",
            "Japan",
            "Japan",
            "Japan",
            "Japan",
            "Japan",
            "Japan",
            "Japan",
            "Japan",
            "Japan",
            "Japan",
            "Japan",
            "Japan",
            "Japan",
            "Japan"
           ],
           "xaxis": "x",
           "y": [
            576.38,
            576.38,
            576.38,
            576.38,
            576.38,
            576.38,
            576.38,
            576.38,
            576.38,
            576.38,
            576.38,
            576.38,
            576.38,
            576.38,
            576.38,
            576.38,
            576.38,
            576.38,
            576.38,
            576.38,
            576.38,
            576.38,
            576.38
           ],
           "yaxis": "y"
          },
          {
           "alignmentgroup": "True",
           "hovertemplate": "country=%{x}<br>year=2013<br>carbon_intensity_elec=%{y}<extra></extra>",
           "ids": [
            "South Africa",
            "South Africa",
            "South Africa",
            "South Africa",
            "South Africa",
            "South Africa",
            "South Africa",
            "South Africa",
            "South Africa",
            "South Africa",
            "South Africa",
            "South Africa",
            "South Africa",
            "South Africa",
            "South Africa",
            "South Africa",
            "South Africa",
            "South Africa",
            "South Africa",
            "South Africa",
            "South Africa",
            "South Africa",
            "South Africa"
           ],
           "legendgroup": "South Africa",
           "marker": {
            "color": "#00cc96",
            "pattern": {
             "shape": ""
            }
           },
           "name": "South Africa",
           "offsetgroup": "South Africa",
           "orientation": "v",
           "showlegend": true,
           "textposition": "auto",
           "type": "bar",
           "x": [
            "South Africa",
            "South Africa",
            "South Africa",
            "South Africa",
            "South Africa",
            "South Africa",
            "South Africa",
            "South Africa",
            "South Africa",
            "South Africa",
            "South Africa",
            "South Africa",
            "South Africa",
            "South Africa",
            "South Africa",
            "South Africa",
            "South Africa",
            "South Africa",
            "South Africa",
            "South Africa",
            "South Africa",
            "South Africa",
            "South Africa"
           ],
           "xaxis": "x",
           "y": [
            763.28,
            763.28,
            763.28,
            763.28,
            763.28,
            763.28,
            763.28,
            763.28,
            763.28,
            763.28,
            763.28,
            763.28,
            763.28,
            763.28,
            763.28,
            763.28,
            763.28,
            763.28,
            763.28,
            763.28,
            763.28,
            763.28,
            763.28
           ],
           "yaxis": "y"
          },
          {
           "alignmentgroup": "True",
           "hovertemplate": "country=%{x}<br>year=2013<br>carbon_intensity_elec=%{y}<extra></extra>",
           "ids": [
            "United States",
            "United States",
            "United States",
            "United States",
            "United States",
            "United States",
            "United States",
            "United States",
            "United States",
            "United States",
            "United States",
            "United States",
            "United States",
            "United States",
            "United States",
            "United States",
            "United States",
            "United States",
            "United States",
            "United States",
            "United States",
            "United States",
            "United States"
           ],
           "legendgroup": "United States",
           "marker": {
            "color": "#ab63fa",
            "pattern": {
             "shape": ""
            }
           },
           "name": "United States",
           "offsetgroup": "United States",
           "orientation": "v",
           "showlegend": true,
           "textposition": "auto",
           "type": "bar",
           "x": [
            "United States",
            "United States",
            "United States",
            "United States",
            "United States",
            "United States",
            "United States",
            "United States",
            "United States",
            "United States",
            "United States",
            "United States",
            "United States",
            "United States",
            "United States",
            "United States",
            "United States",
            "United States",
            "United States",
            "United States",
            "United States",
            "United States",
            "United States"
           ],
           "xaxis": "x",
           "y": [
            470.62,
            470.62,
            470.62,
            470.62,
            470.62,
            470.62,
            470.62,
            470.62,
            470.62,
            470.62,
            470.62,
            470.62,
            470.62,
            470.62,
            470.62,
            470.62,
            470.62,
            470.62,
            470.62,
            470.62,
            470.62,
            470.62,
            470.62
           ],
           "yaxis": "y"
          }
         ],
         "name": "2013"
        },
        {
         "data": [
          {
           "alignmentgroup": "True",
           "hovertemplate": "country=%{x}<br>year=2014<br>carbon_intensity_elec=%{y}<extra></extra>",
           "ids": [
            "Czechia",
            "Czechia",
            "Czechia",
            "Czechia",
            "Czechia",
            "Czechia",
            "Czechia",
            "Czechia",
            "Czechia",
            "Czechia",
            "Czechia",
            "Czechia",
            "Czechia",
            "Czechia",
            "Czechia",
            "Czechia",
            "Czechia",
            "Czechia",
            "Czechia",
            "Czechia",
            "Czechia",
            "Czechia",
            "Czechia"
           ],
           "legendgroup": "Czechia",
           "marker": {
            "color": "#636efa",
            "pattern": {
             "shape": ""
            }
           },
           "name": "Czechia",
           "offsetgroup": "Czechia",
           "orientation": "v",
           "showlegend": true,
           "textposition": "auto",
           "type": "bar",
           "x": [
            "Czechia",
            "Czechia",
            "Czechia",
            "Czechia",
            "Czechia",
            "Czechia",
            "Czechia",
            "Czechia",
            "Czechia",
            "Czechia",
            "Czechia",
            "Czechia",
            "Czechia",
            "Czechia",
            "Czechia",
            "Czechia",
            "Czechia",
            "Czechia",
            "Czechia",
            "Czechia",
            "Czechia",
            "Czechia",
            "Czechia"
           ],
           "xaxis": "x",
           "y": [
            446.418,
            446.418,
            446.418,
            446.418,
            446.42,
            446.42,
            446.42,
            446.42,
            446.42,
            446.42,
            446.42,
            446.42,
            446.42,
            446.42,
            446.42,
            446.42,
            446.42,
            446.42,
            446.42,
            446.42,
            446.42,
            446.42,
            446.42
           ],
           "yaxis": "y"
          },
          {
           "alignmentgroup": "True",
           "hovertemplate": "country=%{x}<br>year=2014<br>carbon_intensity_elec=%{y}<extra></extra>",
           "ids": [
            "Japan",
            "Japan",
            "Japan",
            "Japan",
            "Japan",
            "Japan",
            "Japan",
            "Japan",
            "Japan",
            "Japan",
            "Japan",
            "Japan",
            "Japan",
            "Japan",
            "Japan",
            "Japan",
            "Japan",
            "Japan",
            "Japan",
            "Japan",
            "Japan",
            "Japan",
            "Japan"
           ],
           "legendgroup": "Japan",
           "marker": {
            "color": "#EF553B",
            "pattern": {
             "shape": ""
            }
           },
           "name": "Japan",
           "offsetgroup": "Japan",
           "orientation": "v",
           "showlegend": true,
           "textposition": "auto",
           "type": "bar",
           "x": [
            "Japan",
            "Japan",
            "Japan",
            "Japan",
            "Japan",
            "Japan",
            "Japan",
            "Japan",
            "Japan",
            "Japan",
            "Japan",
            "Japan",
            "Japan",
            "Japan",
            "Japan",
            "Japan",
            "Japan",
            "Japan",
            "Japan",
            "Japan",
            "Japan",
            "Japan",
            "Japan"
           ],
           "xaxis": "x",
           "y": [
            566.797,
            566.797,
            566.797,
            566.797,
            566.8,
            566.8,
            566.8,
            566.8,
            566.8,
            566.8,
            566.8,
            566.8,
            566.8,
            566.8,
            566.8,
            566.8,
            566.8,
            566.8,
            566.8,
            566.8,
            566.8,
            566.8,
            566.8
           ],
           "yaxis": "y"
          },
          {
           "alignmentgroup": "True",
           "hovertemplate": "country=%{x}<br>year=2014<br>carbon_intensity_elec=%{y}<extra></extra>",
           "ids": [
            "South Africa",
            "South Africa",
            "South Africa",
            "South Africa",
            "South Africa",
            "South Africa",
            "South Africa",
            "South Africa",
            "South Africa",
            "South Africa",
            "South Africa",
            "South Africa",
            "South Africa",
            "South Africa",
            "South Africa",
            "South Africa",
            "South Africa",
            "South Africa",
            "South Africa",
            "South Africa",
            "South Africa",
            "South Africa",
            "South Africa"
           ],
           "legendgroup": "South Africa",
           "marker": {
            "color": "#00cc96",
            "pattern": {
             "shape": ""
            }
           },
           "name": "South Africa",
           "offsetgroup": "South Africa",
           "orientation": "v",
           "showlegend": true,
           "textposition": "auto",
           "type": "bar",
           "x": [
            "South Africa",
            "South Africa",
            "South Africa",
            "South Africa",
            "South Africa",
            "South Africa",
            "South Africa",
            "South Africa",
            "South Africa",
            "South Africa",
            "South Africa",
            "South Africa",
            "South Africa",
            "South Africa",
            "South Africa",
            "South Africa",
            "South Africa",
            "South Africa",
            "South Africa",
            "South Africa",
            "South Africa",
            "South Africa",
            "South Africa"
           ],
           "xaxis": "x",
           "y": [
            752.748,
            752.748,
            752.748,
            752.748,
            752.75,
            752.75,
            752.75,
            752.75,
            752.75,
            752.75,
            752.75,
            752.75,
            752.75,
            752.75,
            752.75,
            752.75,
            752.75,
            752.75,
            752.75,
            752.75,
            752.75,
            752.75,
            752.75
           ],
           "yaxis": "y"
          },
          {
           "alignmentgroup": "True",
           "hovertemplate": "country=%{x}<br>year=2014<br>carbon_intensity_elec=%{y}<extra></extra>",
           "ids": [
            "United States",
            "United States",
            "United States",
            "United States",
            "United States",
            "United States",
            "United States",
            "United States",
            "United States",
            "United States",
            "United States",
            "United States",
            "United States",
            "United States",
            "United States",
            "United States",
            "United States",
            "United States",
            "United States",
            "United States",
            "United States",
            "United States",
            "United States"
           ],
           "legendgroup": "United States",
           "marker": {
            "color": "#ab63fa",
            "pattern": {
             "shape": ""
            }
           },
           "name": "United States",
           "offsetgroup": "United States",
           "orientation": "v",
           "showlegend": true,
           "textposition": "auto",
           "type": "bar",
           "x": [
            "United States",
            "United States",
            "United States",
            "United States",
            "United States",
            "United States",
            "United States",
            "United States",
            "United States",
            "United States",
            "United States",
            "United States",
            "United States",
            "United States",
            "United States",
            "United States",
            "United States",
            "United States",
            "United States",
            "United States",
            "United States",
            "United States",
            "United States"
           ],
           "xaxis": "x",
           "y": [
            467.311,
            467.311,
            467.311,
            467.311,
            467.31,
            467.31,
            467.31,
            467.31,
            467.31,
            467.31,
            467.31,
            467.31,
            467.31,
            467.31,
            467.31,
            467.31,
            467.31,
            467.31,
            467.31,
            467.31,
            467.31,
            467.31,
            467.31
           ],
           "yaxis": "y"
          }
         ],
         "name": "2014"
        },
        {
         "data": [
          {
           "alignmentgroup": "True",
           "hovertemplate": "country=%{x}<br>year=2015<br>carbon_intensity_elec=%{y}<extra></extra>",
           "ids": [
            "Czechia",
            "Czechia",
            "Czechia",
            "Czechia",
            "Czechia",
            "Czechia",
            "Czechia",
            "Czechia",
            "Czechia",
            "Czechia",
            "Czechia",
            "Czechia",
            "Czechia",
            "Czechia",
            "Czechia",
            "Czechia",
            "Czechia",
            "Czechia",
            "Czechia",
            "Czechia",
            "Czechia",
            "Czechia",
            "Czechia"
           ],
           "legendgroup": "Czechia",
           "marker": {
            "color": "#636efa",
            "pattern": {
             "shape": ""
            }
           },
           "name": "Czechia",
           "offsetgroup": "Czechia",
           "orientation": "v",
           "showlegend": true,
           "textposition": "auto",
           "type": "bar",
           "x": [
            "Czechia",
            "Czechia",
            "Czechia",
            "Czechia",
            "Czechia",
            "Czechia",
            "Czechia",
            "Czechia",
            "Czechia",
            "Czechia",
            "Czechia",
            "Czechia",
            "Czechia",
            "Czechia",
            "Czechia",
            "Czechia",
            "Czechia",
            "Czechia",
            "Czechia",
            "Czechia",
            "Czechia",
            "Czechia",
            "Czechia"
           ],
           "xaxis": "x",
           "y": [
            465.705,
            465.705,
            465.705,
            465.705,
            465.7,
            465.7,
            465.7,
            465.7,
            465.7,
            465.7,
            465.7,
            465.7,
            465.7,
            465.7,
            465.7,
            465.7,
            465.7,
            465.7,
            465.7,
            465.7,
            465.7,
            465.7,
            465.7
           ],
           "yaxis": "y"
          },
          {
           "alignmentgroup": "True",
           "hovertemplate": "country=%{x}<br>year=2015<br>carbon_intensity_elec=%{y}<extra></extra>",
           "ids": [
            "South Africa",
            "South Africa",
            "South Africa",
            "South Africa",
            "South Africa",
            "South Africa",
            "South Africa",
            "South Africa",
            "South Africa",
            "South Africa",
            "South Africa",
            "South Africa",
            "South Africa",
            "South Africa",
            "South Africa",
            "South Africa",
            "South Africa",
            "South Africa",
            "South Africa",
            "South Africa",
            "South Africa",
            "South Africa",
            "South Africa"
           ],
           "legendgroup": "South Africa",
           "marker": {
            "color": "#00cc96",
            "pattern": {
             "shape": ""
            }
           },
           "name": "South Africa",
           "offsetgroup": "South Africa",
           "orientation": "v",
           "showlegend": true,
           "textposition": "auto",
           "type": "bar",
           "x": [
            "South Africa",
            "South Africa",
            "South Africa",
            "South Africa",
            "South Africa",
            "South Africa",
            "South Africa",
            "South Africa",
            "South Africa",
            "South Africa",
            "South Africa",
            "South Africa",
            "South Africa",
            "South Africa",
            "South Africa",
            "South Africa",
            "South Africa",
            "South Africa",
            "South Africa",
            "South Africa",
            "South Africa",
            "South Africa",
            "South Africa"
           ],
           "xaxis": "x",
           "y": [
            754.074,
            754.074,
            754.074,
            754.074,
            754.07,
            754.07,
            754.07,
            754.07,
            754.07,
            754.07,
            754.07,
            754.07,
            754.07,
            754.07,
            754.07,
            754.07,
            754.07,
            754.07,
            754.07,
            754.07,
            754.07,
            754.07,
            754.07
           ],
           "yaxis": "y"
          },
          {
           "alignmentgroup": "True",
           "hovertemplate": "country=%{x}<br>year=2015<br>carbon_intensity_elec=%{y}<extra></extra>",
           "ids": [
            "United States",
            "United States",
            "United States",
            "United States",
            "United States",
            "United States",
            "United States",
            "United States",
            "United States",
            "United States",
            "United States",
            "United States",
            "United States",
            "United States",
            "United States",
            "United States",
            "United States",
            "United States",
            "United States",
            "United States",
            "United States",
            "United States",
            "United States"
           ],
           "legendgroup": "United States",
           "marker": {
            "color": "#ab63fa",
            "pattern": {
             "shape": ""
            }
           },
           "name": "United States",
           "offsetgroup": "United States",
           "orientation": "v",
           "showlegend": true,
           "textposition": "auto",
           "type": "bar",
           "x": [
            "United States",
            "United States",
            "United States",
            "United States",
            "United States",
            "United States",
            "United States",
            "United States",
            "United States",
            "United States",
            "United States",
            "United States",
            "United States",
            "United States",
            "United States",
            "United States",
            "United States",
            "United States",
            "United States",
            "United States",
            "United States",
            "United States",
            "United States"
           ],
           "xaxis": "x",
           "y": [
            447.663,
            447.663,
            447.663,
            447.663,
            447.66,
            447.66,
            447.66,
            447.66,
            447.66,
            447.66,
            447.66,
            447.66,
            447.66,
            447.66,
            447.66,
            447.66,
            447.66,
            447.66,
            447.66,
            447.66,
            447.66,
            447.66,
            447.66
           ],
           "yaxis": "y"
          }
         ],
         "name": "2015"
        },
        {
         "data": [
          {
           "alignmentgroup": "True",
           "hovertemplate": "country=%{x}<br>year=2016<br>carbon_intensity_elec=%{y}<extra></extra>",
           "ids": [
            "Czechia",
            "Czechia",
            "Czechia",
            "Czechia",
            "Czechia",
            "Czechia",
            "Czechia",
            "Czechia",
            "Czechia",
            "Czechia",
            "Czechia",
            "Czechia",
            "Czechia",
            "Czechia",
            "Czechia",
            "Czechia",
            "Czechia",
            "Czechia",
            "Czechia",
            "Czechia",
            "Czechia",
            "Czechia",
            "Czechia"
           ],
           "legendgroup": "Czechia",
           "marker": {
            "color": "#636efa",
            "pattern": {
             "shape": ""
            }
           },
           "name": "Czechia",
           "offsetgroup": "Czechia",
           "orientation": "v",
           "showlegend": true,
           "textposition": "auto",
           "type": "bar",
           "x": [
            "Czechia",
            "Czechia",
            "Czechia",
            "Czechia",
            "Czechia",
            "Czechia",
            "Czechia",
            "Czechia",
            "Czechia",
            "Czechia",
            "Czechia",
            "Czechia",
            "Czechia",
            "Czechia",
            "Czechia",
            "Czechia",
            "Czechia",
            "Czechia",
            "Czechia",
            "Czechia",
            "Czechia",
            "Czechia",
            "Czechia"
           ],
           "xaxis": "x",
           "y": [
            484.819,
            484.819,
            484.819,
            484.819,
            484.82,
            484.82,
            484.82,
            484.82,
            484.82,
            484.82,
            484.82,
            484.82,
            484.82,
            484.82,
            484.82,
            484.82,
            484.82,
            484.82,
            484.82,
            484.82,
            484.82,
            484.82,
            484.82
           ],
           "yaxis": "y"
          },
          {
           "alignmentgroup": "True",
           "hovertemplate": "country=%{x}<br>year=2016<br>carbon_intensity_elec=%{y}<extra></extra>",
           "ids": [
            "Japan",
            "Japan",
            "Japan",
            "Japan",
            "Japan",
            "Japan",
            "Japan",
            "Japan",
            "Japan",
            "Japan",
            "Japan",
            "Japan",
            "Japan",
            "Japan",
            "Japan",
            "Japan",
            "Japan",
            "Japan",
            "Japan",
            "Japan",
            "Japan",
            "Japan",
            "Japan"
           ],
           "legendgroup": "Japan",
           "marker": {
            "color": "#EF553B",
            "pattern": {
             "shape": ""
            }
           },
           "name": "Japan",
           "offsetgroup": "Japan",
           "orientation": "v",
           "showlegend": true,
           "textposition": "auto",
           "type": "bar",
           "x": [
            "Japan",
            "Japan",
            "Japan",
            "Japan",
            "Japan",
            "Japan",
            "Japan",
            "Japan",
            "Japan",
            "Japan",
            "Japan",
            "Japan",
            "Japan",
            "Japan",
            "Japan",
            "Japan",
            "Japan",
            "Japan",
            "Japan",
            "Japan",
            "Japan",
            "Japan",
            "Japan"
           ],
           "xaxis": "x",
           "y": [
            544.663,
            544.663,
            544.663,
            544.663,
            544.66,
            544.66,
            544.66,
            544.66,
            544.66,
            544.66,
            544.66,
            544.66,
            544.66,
            544.66,
            544.66,
            544.66,
            544.66,
            544.66,
            544.66,
            544.66,
            544.66,
            544.66,
            544.66
           ],
           "yaxis": "y"
          },
          {
           "alignmentgroup": "True",
           "hovertemplate": "country=%{x}<br>year=2016<br>carbon_intensity_elec=%{y}<extra></extra>",
           "ids": [
            "South Africa",
            "South Africa",
            "South Africa",
            "South Africa",
            "South Africa",
            "South Africa",
            "South Africa",
            "South Africa",
            "South Africa",
            "South Africa",
            "South Africa",
            "South Africa",
            "South Africa",
            "South Africa",
            "South Africa",
            "South Africa",
            "South Africa",
            "South Africa",
            "South Africa",
            "South Africa",
            "South Africa",
            "South Africa",
            "South Africa"
           ],
           "legendgroup": "South Africa",
           "marker": {
            "color": "#00cc96",
            "pattern": {
             "shape": ""
            }
           },
           "name": "South Africa",
           "offsetgroup": "South Africa",
           "orientation": "v",
           "showlegend": true,
           "textposition": "auto",
           "type": "bar",
           "x": [
            "South Africa",
            "South Africa",
            "South Africa",
            "South Africa",
            "South Africa",
            "South Africa",
            "South Africa",
            "South Africa",
            "South Africa",
            "South Africa",
            "South Africa",
            "South Africa",
            "South Africa",
            "South Africa",
            "South Africa",
            "South Africa",
            "South Africa",
            "South Africa",
            "South Africa",
            "South Africa",
            "South Africa",
            "South Africa",
            "South Africa"
           ],
           "xaxis": "x",
           "y": [
            740.286,
            740.286,
            740.286,
            740.286,
            740.29,
            740.29,
            740.29,
            740.29,
            740.29,
            740.29,
            740.29,
            740.29,
            740.29,
            740.29,
            740.29,
            740.29,
            740.29,
            740.29,
            740.29,
            740.29,
            740.29,
            740.29,
            740.29
           ],
           "yaxis": "y"
          },
          {
           "alignmentgroup": "True",
           "hovertemplate": "country=%{x}<br>year=2016<br>carbon_intensity_elec=%{y}<extra></extra>",
           "ids": [
            "United States",
            "United States",
            "United States",
            "United States",
            "United States",
            "United States",
            "United States",
            "United States",
            "United States",
            "United States",
            "United States",
            "United States",
            "United States",
            "United States",
            "United States",
            "United States",
            "United States",
            "United States",
            "United States",
            "United States",
            "United States",
            "United States",
            "United States"
           ],
           "legendgroup": "United States",
           "marker": {
            "color": "#ab63fa",
            "pattern": {
             "shape": ""
            }
           },
           "name": "United States",
           "offsetgroup": "United States",
           "orientation": "v",
           "showlegend": true,
           "textposition": "auto",
           "type": "bar",
           "x": [
            "United States",
            "United States",
            "United States",
            "United States",
            "United States",
            "United States",
            "United States",
            "United States",
            "United States",
            "United States",
            "United States",
            "United States",
            "United States",
            "United States",
            "United States",
            "United States",
            "United States",
            "United States",
            "United States",
            "United States",
            "United States",
            "United States",
            "United States"
           ],
           "xaxis": "x",
           "y": [
            429.437,
            429.437,
            429.437,
            429.437,
            429.44,
            429.44,
            429.44,
            429.44,
            429.44,
            429.44,
            429.44,
            429.44,
            429.44,
            429.44,
            429.44,
            429.44,
            429.44,
            429.44,
            429.44,
            429.44,
            429.44,
            429.44,
            429.44
           ],
           "yaxis": "y"
          }
         ],
         "name": "2016"
        },
        {
         "data": [
          {
           "alignmentgroup": "True",
           "hovertemplate": "country=%{x}<br>year=2017<br>carbon_intensity_elec=%{y}<extra></extra>",
           "ids": [
            "United States",
            "United States",
            "United States",
            "United States",
            "United States",
            "United States",
            "United States",
            "United States",
            "United States",
            "United States",
            "United States",
            "United States",
            "United States",
            "United States",
            "United States",
            "United States",
            "United States",
            "United States",
            "United States",
            "United States",
            "United States",
            "United States",
            "United States"
           ],
           "legendgroup": "United States",
           "marker": {
            "color": "#ab63fa",
            "pattern": {
             "shape": ""
            }
           },
           "name": "United States",
           "offsetgroup": "United States",
           "orientation": "v",
           "showlegend": true,
           "textposition": "auto",
           "type": "bar",
           "x": [
            "United States",
            "United States",
            "United States",
            "United States",
            "United States",
            "United States",
            "United States",
            "United States",
            "United States",
            "United States",
            "United States",
            "United States",
            "United States",
            "United States",
            "United States",
            "United States",
            "United States",
            "United States",
            "United States",
            "United States",
            "United States",
            "United States",
            "United States"
           ],
           "xaxis": "x",
           "y": [
            416.784,
            416.784,
            416.784,
            416.784,
            416.78,
            416.78,
            416.78,
            416.78,
            416.78,
            416.78,
            416.78,
            416.78,
            416.78,
            416.78,
            416.78,
            416.78,
            416.78,
            416.78,
            416.78,
            416.78,
            416.78,
            416.78,
            416.78
           ],
           "yaxis": "y"
          }
         ],
         "name": "2017"
        },
        {
         "data": [
          {
           "alignmentgroup": "True",
           "hovertemplate": "country=%{x}<br>year=2018<br>carbon_intensity_elec=%{y}<extra></extra>",
           "ids": [
            "United States",
            "United States",
            "United States",
            "United States",
            "United States",
            "United States",
            "United States",
            "United States",
            "United States",
            "United States",
            "United States",
            "United States",
            "United States",
            "United States",
            "United States",
            "United States",
            "United States",
            "United States",
            "United States",
            "United States",
            "United States",
            "United States",
            "United States"
           ],
           "legendgroup": "United States",
           "marker": {
            "color": "#ab63fa",
            "pattern": {
             "shape": ""
            }
           },
           "name": "United States",
           "offsetgroup": "United States",
           "orientation": "v",
           "showlegend": true,
           "textposition": "auto",
           "type": "bar",
           "x": [
            "United States",
            "United States",
            "United States",
            "United States",
            "United States",
            "United States",
            "United States",
            "United States",
            "United States",
            "United States",
            "United States",
            "United States",
            "United States",
            "United States",
            "United States",
            "United States",
            "United States",
            "United States",
            "United States",
            "United States",
            "United States",
            "United States",
            "United States"
           ],
           "xaxis": "x",
           "y": [
            412.062,
            412.062,
            412.062,
            412.062,
            412.06,
            412.06,
            412.06,
            412.06,
            412.06,
            412.06,
            412.06,
            412.06,
            412.06,
            412.06,
            412.06,
            412.06,
            412.06,
            412.06,
            412.06,
            412.06,
            412.06,
            412.06,
            412.06
           ],
           "yaxis": "y"
          }
         ],
         "name": "2018"
        }
       ],
       "layout": {
        "barmode": "relative",
        "height": 400,
        "legend": {
         "title": {
          "text": "country"
         },
         "tracegroupgap": 0
        },
        "sliders": [
         {
          "active": 0,
          "currentvalue": {
           "prefix": "year="
          },
          "len": 0.9,
          "pad": {
           "b": 10,
           "t": 60
          },
          "steps": [
           {
            "args": [
             [
              "2005"
             ],
             {
              "frame": {
               "duration": 0,
               "redraw": true
              },
              "fromcurrent": true,
              "mode": "immediate",
              "transition": {
               "duration": 0,
               "easing": "linear"
              }
             }
            ],
            "label": "2005",
            "method": "animate"
           },
           {
            "args": [
             [
              "2006"
             ],
             {
              "frame": {
               "duration": 0,
               "redraw": true
              },
              "fromcurrent": true,
              "mode": "immediate",
              "transition": {
               "duration": 0,
               "easing": "linear"
              }
             }
            ],
            "label": "2006",
            "method": "animate"
           },
           {
            "args": [
             [
              "2007"
             ],
             {
              "frame": {
               "duration": 0,
               "redraw": true
              },
              "fromcurrent": true,
              "mode": "immediate",
              "transition": {
               "duration": 0,
               "easing": "linear"
              }
             }
            ],
            "label": "2007",
            "method": "animate"
           },
           {
            "args": [
             [
              "2008"
             ],
             {
              "frame": {
               "duration": 0,
               "redraw": true
              },
              "fromcurrent": true,
              "mode": "immediate",
              "transition": {
               "duration": 0,
               "easing": "linear"
              }
             }
            ],
            "label": "2008",
            "method": "animate"
           },
           {
            "args": [
             [
              "2009"
             ],
             {
              "frame": {
               "duration": 0,
               "redraw": true
              },
              "fromcurrent": true,
              "mode": "immediate",
              "transition": {
               "duration": 0,
               "easing": "linear"
              }
             }
            ],
            "label": "2009",
            "method": "animate"
           },
           {
            "args": [
             [
              "2010"
             ],
             {
              "frame": {
               "duration": 0,
               "redraw": true
              },
              "fromcurrent": true,
              "mode": "immediate",
              "transition": {
               "duration": 0,
               "easing": "linear"
              }
             }
            ],
            "label": "2010",
            "method": "animate"
           },
           {
            "args": [
             [
              "2011"
             ],
             {
              "frame": {
               "duration": 0,
               "redraw": true
              },
              "fromcurrent": true,
              "mode": "immediate",
              "transition": {
               "duration": 0,
               "easing": "linear"
              }
             }
            ],
            "label": "2011",
            "method": "animate"
           },
           {
            "args": [
             [
              "2012"
             ],
             {
              "frame": {
               "duration": 0,
               "redraw": true
              },
              "fromcurrent": true,
              "mode": "immediate",
              "transition": {
               "duration": 0,
               "easing": "linear"
              }
             }
            ],
            "label": "2012",
            "method": "animate"
           },
           {
            "args": [
             [
              "2013"
             ],
             {
              "frame": {
               "duration": 0,
               "redraw": true
              },
              "fromcurrent": true,
              "mode": "immediate",
              "transition": {
               "duration": 0,
               "easing": "linear"
              }
             }
            ],
            "label": "2013",
            "method": "animate"
           },
           {
            "args": [
             [
              "2014"
             ],
             {
              "frame": {
               "duration": 0,
               "redraw": true
              },
              "fromcurrent": true,
              "mode": "immediate",
              "transition": {
               "duration": 0,
               "easing": "linear"
              }
             }
            ],
            "label": "2014",
            "method": "animate"
           },
           {
            "args": [
             [
              "2015"
             ],
             {
              "frame": {
               "duration": 0,
               "redraw": true
              },
              "fromcurrent": true,
              "mode": "immediate",
              "transition": {
               "duration": 0,
               "easing": "linear"
              }
             }
            ],
            "label": "2015",
            "method": "animate"
           },
           {
            "args": [
             [
              "2016"
             ],
             {
              "frame": {
               "duration": 0,
               "redraw": true
              },
              "fromcurrent": true,
              "mode": "immediate",
              "transition": {
               "duration": 0,
               "easing": "linear"
              }
             }
            ],
            "label": "2016",
            "method": "animate"
           },
           {
            "args": [
             [
              "2017"
             ],
             {
              "frame": {
               "duration": 0,
               "redraw": true
              },
              "fromcurrent": true,
              "mode": "immediate",
              "transition": {
               "duration": 0,
               "easing": "linear"
              }
             }
            ],
            "label": "2017",
            "method": "animate"
           },
           {
            "args": [
             [
              "2018"
             ],
             {
              "frame": {
               "duration": 0,
               "redraw": true
              },
              "fromcurrent": true,
              "mode": "immediate",
              "transition": {
               "duration": 0,
               "easing": "linear"
              }
             }
            ],
            "label": "2018",
            "method": "animate"
           }
          ],
          "x": 0.1,
          "xanchor": "left",
          "y": 0,
          "yanchor": "top"
         }
        ],
        "template": {
         "data": {
          "bar": [
           {
            "error_x": {
             "color": "#2a3f5f"
            },
            "error_y": {
             "color": "#2a3f5f"
            },
            "marker": {
             "line": {
              "color": "#E5ECF6",
              "width": 0.5
             },
             "pattern": {
              "fillmode": "overlay",
              "size": 10,
              "solidity": 0.2
             }
            },
            "type": "bar"
           }
          ],
          "barpolar": [
           {
            "marker": {
             "line": {
              "color": "#E5ECF6",
              "width": 0.5
             },
             "pattern": {
              "fillmode": "overlay",
              "size": 10,
              "solidity": 0.2
             }
            },
            "type": "barpolar"
           }
          ],
          "carpet": [
           {
            "aaxis": {
             "endlinecolor": "#2a3f5f",
             "gridcolor": "white",
             "linecolor": "white",
             "minorgridcolor": "white",
             "startlinecolor": "#2a3f5f"
            },
            "baxis": {
             "endlinecolor": "#2a3f5f",
             "gridcolor": "white",
             "linecolor": "white",
             "minorgridcolor": "white",
             "startlinecolor": "#2a3f5f"
            },
            "type": "carpet"
           }
          ],
          "choropleth": [
           {
            "colorbar": {
             "outlinewidth": 0,
             "ticks": ""
            },
            "type": "choropleth"
           }
          ],
          "contour": [
           {
            "colorbar": {
             "outlinewidth": 0,
             "ticks": ""
            },
            "colorscale": [
             [
              0,
              "#0d0887"
             ],
             [
              0.1111111111111111,
              "#46039f"
             ],
             [
              0.2222222222222222,
              "#7201a8"
             ],
             [
              0.3333333333333333,
              "#9c179e"
             ],
             [
              0.4444444444444444,
              "#bd3786"
             ],
             [
              0.5555555555555556,
              "#d8576b"
             ],
             [
              0.6666666666666666,
              "#ed7953"
             ],
             [
              0.7777777777777778,
              "#fb9f3a"
             ],
             [
              0.8888888888888888,
              "#fdca26"
             ],
             [
              1,
              "#f0f921"
             ]
            ],
            "type": "contour"
           }
          ],
          "contourcarpet": [
           {
            "colorbar": {
             "outlinewidth": 0,
             "ticks": ""
            },
            "type": "contourcarpet"
           }
          ],
          "heatmap": [
           {
            "colorbar": {
             "outlinewidth": 0,
             "ticks": ""
            },
            "colorscale": [
             [
              0,
              "#0d0887"
             ],
             [
              0.1111111111111111,
              "#46039f"
             ],
             [
              0.2222222222222222,
              "#7201a8"
             ],
             [
              0.3333333333333333,
              "#9c179e"
             ],
             [
              0.4444444444444444,
              "#bd3786"
             ],
             [
              0.5555555555555556,
              "#d8576b"
             ],
             [
              0.6666666666666666,
              "#ed7953"
             ],
             [
              0.7777777777777778,
              "#fb9f3a"
             ],
             [
              0.8888888888888888,
              "#fdca26"
             ],
             [
              1,
              "#f0f921"
             ]
            ],
            "type": "heatmap"
           }
          ],
          "heatmapgl": [
           {
            "colorbar": {
             "outlinewidth": 0,
             "ticks": ""
            },
            "colorscale": [
             [
              0,
              "#0d0887"
             ],
             [
              0.1111111111111111,
              "#46039f"
             ],
             [
              0.2222222222222222,
              "#7201a8"
             ],
             [
              0.3333333333333333,
              "#9c179e"
             ],
             [
              0.4444444444444444,
              "#bd3786"
             ],
             [
              0.5555555555555556,
              "#d8576b"
             ],
             [
              0.6666666666666666,
              "#ed7953"
             ],
             [
              0.7777777777777778,
              "#fb9f3a"
             ],
             [
              0.8888888888888888,
              "#fdca26"
             ],
             [
              1,
              "#f0f921"
             ]
            ],
            "type": "heatmapgl"
           }
          ],
          "histogram": [
           {
            "marker": {
             "pattern": {
              "fillmode": "overlay",
              "size": 10,
              "solidity": 0.2
             }
            },
            "type": "histogram"
           }
          ],
          "histogram2d": [
           {
            "colorbar": {
             "outlinewidth": 0,
             "ticks": ""
            },
            "colorscale": [
             [
              0,
              "#0d0887"
             ],
             [
              0.1111111111111111,
              "#46039f"
             ],
             [
              0.2222222222222222,
              "#7201a8"
             ],
             [
              0.3333333333333333,
              "#9c179e"
             ],
             [
              0.4444444444444444,
              "#bd3786"
             ],
             [
              0.5555555555555556,
              "#d8576b"
             ],
             [
              0.6666666666666666,
              "#ed7953"
             ],
             [
              0.7777777777777778,
              "#fb9f3a"
             ],
             [
              0.8888888888888888,
              "#fdca26"
             ],
             [
              1,
              "#f0f921"
             ]
            ],
            "type": "histogram2d"
           }
          ],
          "histogram2dcontour": [
           {
            "colorbar": {
             "outlinewidth": 0,
             "ticks": ""
            },
            "colorscale": [
             [
              0,
              "#0d0887"
             ],
             [
              0.1111111111111111,
              "#46039f"
             ],
             [
              0.2222222222222222,
              "#7201a8"
             ],
             [
              0.3333333333333333,
              "#9c179e"
             ],
             [
              0.4444444444444444,
              "#bd3786"
             ],
             [
              0.5555555555555556,
              "#d8576b"
             ],
             [
              0.6666666666666666,
              "#ed7953"
             ],
             [
              0.7777777777777778,
              "#fb9f3a"
             ],
             [
              0.8888888888888888,
              "#fdca26"
             ],
             [
              1,
              "#f0f921"
             ]
            ],
            "type": "histogram2dcontour"
           }
          ],
          "mesh3d": [
           {
            "colorbar": {
             "outlinewidth": 0,
             "ticks": ""
            },
            "type": "mesh3d"
           }
          ],
          "parcoords": [
           {
            "line": {
             "colorbar": {
              "outlinewidth": 0,
              "ticks": ""
             }
            },
            "type": "parcoords"
           }
          ],
          "pie": [
           {
            "automargin": true,
            "type": "pie"
           }
          ],
          "scatter": [
           {
            "fillpattern": {
             "fillmode": "overlay",
             "size": 10,
             "solidity": 0.2
            },
            "type": "scatter"
           }
          ],
          "scatter3d": [
           {
            "line": {
             "colorbar": {
              "outlinewidth": 0,
              "ticks": ""
             }
            },
            "marker": {
             "colorbar": {
              "outlinewidth": 0,
              "ticks": ""
             }
            },
            "type": "scatter3d"
           }
          ],
          "scattercarpet": [
           {
            "marker": {
             "colorbar": {
              "outlinewidth": 0,
              "ticks": ""
             }
            },
            "type": "scattercarpet"
           }
          ],
          "scattergeo": [
           {
            "marker": {
             "colorbar": {
              "outlinewidth": 0,
              "ticks": ""
             }
            },
            "type": "scattergeo"
           }
          ],
          "scattergl": [
           {
            "marker": {
             "colorbar": {
              "outlinewidth": 0,
              "ticks": ""
             }
            },
            "type": "scattergl"
           }
          ],
          "scattermapbox": [
           {
            "marker": {
             "colorbar": {
              "outlinewidth": 0,
              "ticks": ""
             }
            },
            "type": "scattermapbox"
           }
          ],
          "scatterpolar": [
           {
            "marker": {
             "colorbar": {
              "outlinewidth": 0,
              "ticks": ""
             }
            },
            "type": "scatterpolar"
           }
          ],
          "scatterpolargl": [
           {
            "marker": {
             "colorbar": {
              "outlinewidth": 0,
              "ticks": ""
             }
            },
            "type": "scatterpolargl"
           }
          ],
          "scatterternary": [
           {
            "marker": {
             "colorbar": {
              "outlinewidth": 0,
              "ticks": ""
             }
            },
            "type": "scatterternary"
           }
          ],
          "surface": [
           {
            "colorbar": {
             "outlinewidth": 0,
             "ticks": ""
            },
            "colorscale": [
             [
              0,
              "#0d0887"
             ],
             [
              0.1111111111111111,
              "#46039f"
             ],
             [
              0.2222222222222222,
              "#7201a8"
             ],
             [
              0.3333333333333333,
              "#9c179e"
             ],
             [
              0.4444444444444444,
              "#bd3786"
             ],
             [
              0.5555555555555556,
              "#d8576b"
             ],
             [
              0.6666666666666666,
              "#ed7953"
             ],
             [
              0.7777777777777778,
              "#fb9f3a"
             ],
             [
              0.8888888888888888,
              "#fdca26"
             ],
             [
              1,
              "#f0f921"
             ]
            ],
            "type": "surface"
           }
          ],
          "table": [
           {
            "cells": {
             "fill": {
              "color": "#EBF0F8"
             },
             "line": {
              "color": "white"
             }
            },
            "header": {
             "fill": {
              "color": "#C8D4E3"
             },
             "line": {
              "color": "white"
             }
            },
            "type": "table"
           }
          ]
         },
         "layout": {
          "annotationdefaults": {
           "arrowcolor": "#2a3f5f",
           "arrowhead": 0,
           "arrowwidth": 1
          },
          "autotypenumbers": "strict",
          "coloraxis": {
           "colorbar": {
            "outlinewidth": 0,
            "ticks": ""
           }
          },
          "colorscale": {
           "diverging": [
            [
             0,
             "#8e0152"
            ],
            [
             0.1,
             "#c51b7d"
            ],
            [
             0.2,
             "#de77ae"
            ],
            [
             0.3,
             "#f1b6da"
            ],
            [
             0.4,
             "#fde0ef"
            ],
            [
             0.5,
             "#f7f7f7"
            ],
            [
             0.6,
             "#e6f5d0"
            ],
            [
             0.7,
             "#b8e186"
            ],
            [
             0.8,
             "#7fbc41"
            ],
            [
             0.9,
             "#4d9221"
            ],
            [
             1,
             "#276419"
            ]
           ],
           "sequential": [
            [
             0,
             "#0d0887"
            ],
            [
             0.1111111111111111,
             "#46039f"
            ],
            [
             0.2222222222222222,
             "#7201a8"
            ],
            [
             0.3333333333333333,
             "#9c179e"
            ],
            [
             0.4444444444444444,
             "#bd3786"
            ],
            [
             0.5555555555555556,
             "#d8576b"
            ],
            [
             0.6666666666666666,
             "#ed7953"
            ],
            [
             0.7777777777777778,
             "#fb9f3a"
            ],
            [
             0.8888888888888888,
             "#fdca26"
            ],
            [
             1,
             "#f0f921"
            ]
           ],
           "sequentialminus": [
            [
             0,
             "#0d0887"
            ],
            [
             0.1111111111111111,
             "#46039f"
            ],
            [
             0.2222222222222222,
             "#7201a8"
            ],
            [
             0.3333333333333333,
             "#9c179e"
            ],
            [
             0.4444444444444444,
             "#bd3786"
            ],
            [
             0.5555555555555556,
             "#d8576b"
            ],
            [
             0.6666666666666666,
             "#ed7953"
            ],
            [
             0.7777777777777778,
             "#fb9f3a"
            ],
            [
             0.8888888888888888,
             "#fdca26"
            ],
            [
             1,
             "#f0f921"
            ]
           ]
          },
          "colorway": [
           "#636efa",
           "#EF553B",
           "#00cc96",
           "#ab63fa",
           "#FFA15A",
           "#19d3f3",
           "#FF6692",
           "#B6E880",
           "#FF97FF",
           "#FECB52"
          ],
          "font": {
           "color": "#2a3f5f"
          },
          "geo": {
           "bgcolor": "white",
           "lakecolor": "white",
           "landcolor": "#E5ECF6",
           "showlakes": true,
           "showland": true,
           "subunitcolor": "white"
          },
          "hoverlabel": {
           "align": "left"
          },
          "hovermode": "closest",
          "mapbox": {
           "style": "light"
          },
          "paper_bgcolor": "white",
          "plot_bgcolor": "#E5ECF6",
          "polar": {
           "angularaxis": {
            "gridcolor": "white",
            "linecolor": "white",
            "ticks": ""
           },
           "bgcolor": "#E5ECF6",
           "radialaxis": {
            "gridcolor": "white",
            "linecolor": "white",
            "ticks": ""
           }
          },
          "scene": {
           "xaxis": {
            "backgroundcolor": "#E5ECF6",
            "gridcolor": "white",
            "gridwidth": 2,
            "linecolor": "white",
            "showbackground": true,
            "ticks": "",
            "zerolinecolor": "white"
           },
           "yaxis": {
            "backgroundcolor": "#E5ECF6",
            "gridcolor": "white",
            "gridwidth": 2,
            "linecolor": "white",
            "showbackground": true,
            "ticks": "",
            "zerolinecolor": "white"
           },
           "zaxis": {
            "backgroundcolor": "#E5ECF6",
            "gridcolor": "white",
            "gridwidth": 2,
            "linecolor": "white",
            "showbackground": true,
            "ticks": "",
            "zerolinecolor": "white"
           }
          },
          "shapedefaults": {
           "line": {
            "color": "#2a3f5f"
           }
          },
          "ternary": {
           "aaxis": {
            "gridcolor": "white",
            "linecolor": "white",
            "ticks": ""
           },
           "baxis": {
            "gridcolor": "white",
            "linecolor": "white",
            "ticks": ""
           },
           "bgcolor": "#E5ECF6",
           "caxis": {
            "gridcolor": "white",
            "linecolor": "white",
            "ticks": ""
           }
          },
          "title": {
           "x": 0.05
          },
          "xaxis": {
           "automargin": true,
           "gridcolor": "white",
           "linecolor": "white",
           "ticks": "",
           "title": {
            "standoff": 15
           },
           "zerolinecolor": "white",
           "zerolinewidth": 2
          },
          "yaxis": {
           "automargin": true,
           "gridcolor": "white",
           "linecolor": "white",
           "ticks": "",
           "title": {
            "standoff": 15
           },
           "zerolinecolor": "white",
           "zerolinewidth": 2
          }
         }
        },
        "title": {
         "text": "Carbon Intensity of Electricity Over the Years"
        },
        "updatemenus": [
         {
          "buttons": [
           {
            "args": [
             null,
             {
              "frame": {
               "duration": 500,
               "redraw": true
              },
              "fromcurrent": true,
              "mode": "immediate",
              "transition": {
               "duration": 500,
               "easing": "linear"
              }
             }
            ],
            "label": "&#9654;",
            "method": "animate"
           },
           {
            "args": [
             [
              null
             ],
             {
              "frame": {
               "duration": 0,
               "redraw": true
              },
              "fromcurrent": true,
              "mode": "immediate",
              "transition": {
               "duration": 0,
               "easing": "linear"
              }
             }
            ],
            "label": "&#9724;",
            "method": "animate"
           }
          ],
          "direction": "left",
          "pad": {
           "r": 10,
           "t": 70
          },
          "showactive": false,
          "type": "buttons",
          "x": 0.1,
          "xanchor": "right",
          "y": 0,
          "yanchor": "top"
         }
        ],
        "width": 800,
        "xaxis": {
         "anchor": "y",
         "categoryarray": [
          "Czechia",
          "Japan",
          "South Africa",
          "United States"
         ],
         "categoryorder": "array",
         "domain": [
          0,
          1
         ],
         "title": {
          "text": "country"
         }
        },
        "yaxis": {
         "anchor": "x",
         "domain": [
          0,
          1
         ],
         "range": [
          0,
          774.894
         ],
         "title": {
          "text": "carbon_intensity_elec"
         }
        }
       }
      }
     },
     "metadata": {},
     "output_type": "display_data"
    }
   ],
   "source": [
    "# Filter the DataFrame for the years 2005 to 2024\n",
    "filtered_df = df_mongo[(df_mongo['year'] >= 2005) & (df_mongo['year'] <= 2024)]\n",
    "\n",
    "# Group by country and calculate the average carbon intensity of electricity for each country\n",
    "avg_carbon_intensity = filtered_df.groupby('country')['carbon_intensity_elec'].mean().reset_index()\n",
    "\n",
    "# Sort by carbon intensity and select the top N countries (e.g., top 5)\n",
    "top_countries = avg_carbon_intensity.sort_values('carbon_intensity_elec', ascending=False).head(4)['country'].tolist()\n",
    "\n",
    "# Filter the original DataFrame for the top N countries\n",
    "df_filtered = filtered_df[filtered_df['country'].isin(top_countries)]\n",
    "\n",
    "# Check if there are any entries in the filtered DataFrame\n",
    "if df_filtered.empty:\n",
    "    print(\"No data available for the top countries and year range.\")\n",
    "else:\n",
    "    # Create the bar chart with the filtered data\n",
    "    fig = px.bar(df_filtered, \n",
    "                 x='country', \n",
    "                 y='carbon_intensity_elec', \n",
    "                 color='country', \n",
    "                 animation_frame=\"year\", \n",
    "                 animation_group=\"country\", \n",
    "                 range_y=[0, df_filtered['carbon_intensity_elec'].max()], \n",
    "                 title=('Carbon Intensity of Electricity Over the Years'),\n",
    "                 width=800,  \n",
    "                 height=400)\n",
    "    \n",
    "\n",
    "# Save the plot as an HTML file\n",
    "html_filename = 'Carbon Intensity of Electricity Over the Years_plotly.html'\n",
    "fig.write_html(html_filename)\n",
    "\n",
    "# Show the visual\n",
    "fig.show()"
   ]
  },
  {
   "cell_type": "code",
   "execution_count": 24,
   "metadata": {},
   "outputs": [
    {
     "data": {
      "application/vnd.plotly.v1+json": {
       "config": {
        "plotlyServerURL": "https://plot.ly"
       },
       "data": [
        {
         "hovertemplate": "<b>%{hovertext}</b><br><br>country=Brazil<br>Year=%{x}<br>Biofuel Share in Electricity (%)=%{y}<br>gdp=%{marker.size}<extra></extra>",
         "hovertext": [
          "Brazil",
          "Brazil",
          "Brazil",
          "Brazil",
          "Brazil",
          "Brazil",
          "Brazil",
          "Brazil",
          "Brazil",
          "Brazil",
          "Brazil",
          "Brazil",
          "Brazil",
          "Brazil",
          "Brazil",
          "Brazil",
          "Brazil",
          "Brazil",
          "Brazil",
          "Brazil",
          "Brazil",
          "Brazil",
          "Brazil",
          "Brazil",
          "Brazil",
          "Brazil",
          "Brazil",
          "Brazil",
          "Brazil",
          "Brazil",
          "Brazil",
          "Brazil",
          "Brazil",
          "Brazil",
          "Brazil",
          "Brazil",
          "Brazil",
          "Brazil",
          "Brazil",
          "Brazil",
          "Brazil",
          "Brazil",
          "Brazil",
          "Brazil",
          "Brazil",
          "Brazil",
          "Brazil",
          "Brazil",
          "Brazil",
          "Brazil",
          "Brazil",
          "Brazil",
          "Brazil",
          "Brazil",
          "Brazil",
          "Brazil",
          "Brazil",
          "Brazil",
          "Brazil",
          "Brazil",
          "Brazil",
          "Brazil",
          "Brazil",
          "Brazil",
          "Brazil",
          "Brazil",
          "Brazil",
          "Brazil",
          "Brazil",
          "Brazil",
          "Brazil",
          "Brazil",
          "Brazil",
          "Brazil",
          "Brazil",
          "Brazil",
          "Brazil",
          "Brazil",
          "Brazil",
          "Brazil",
          "Brazil",
          "Brazil",
          "Brazil",
          "Brazil",
          "Brazil",
          "Brazil",
          "Brazil",
          "Brazil",
          "Brazil",
          "Brazil",
          "Brazil",
          "Brazil",
          "Brazil",
          "Brazil",
          "Brazil",
          "Brazil",
          "Brazil",
          "Brazil",
          "Brazil",
          "Brazil",
          "Brazil",
          "Brazil",
          "Brazil",
          "Brazil",
          "Brazil",
          "Brazil",
          "Brazil",
          "Brazil",
          "Brazil",
          "Brazil",
          "Brazil",
          "Brazil",
          "Brazil",
          "Brazil",
          "Brazil",
          "Brazil",
          "Brazil",
          "Brazil",
          "Brazil",
          "Brazil",
          "Brazil",
          "Brazil",
          "Brazil",
          "Brazil",
          "Brazil",
          "Brazil",
          "Brazil",
          "Brazil",
          "Brazil",
          "Brazil",
          "Brazil",
          "Brazil",
          "Brazil",
          "Brazil",
          "Brazil",
          "Brazil",
          "Brazil",
          "Brazil"
         ],
         "legendgroup": "Brazil",
         "marker": {
          "color": "#636efa",
          "size": [
           3112905998336,
           3128572510208,
           3270706200576,
           2889037381632,
           2926999240704,
           2965401501696,
           3112905998336,
           3128572510208,
           3270706200576,
           2889037381632,
           2926999240704,
           2965401501696,
           3112905998336,
           3128572510208,
           3270706200576,
           2889037381632,
           2926999240704,
           2965401501696,
           3112905998336,
           3128572510208,
           3270706200576,
           2889037381632,
           2926999240704,
           2965401501696,
           3112905998336,
           3128572510208,
           3270706200576,
           2889037381632,
           2926999240704,
           2965401501696,
           3112905998336,
           3128572510208,
           3270706200576,
           2889037381632,
           2926999240704,
           2965401501696,
           3112905998336,
           3128572510208,
           3270706200576,
           2889037381632,
           2926999240704,
           2965401501696,
           3112905998336,
           3128572510208,
           3270706200576,
           2889037381632,
           2926999240704,
           2965401501696,
           3112905998336,
           3128572510208,
           3270706200576,
           2889037381632,
           2926999240704,
           2965401501696,
           3112905998336,
           3128572510208,
           3270706200576,
           2889037381632,
           2926999240704,
           2965401501696,
           3112905998336,
           3128572510208,
           3270706200576,
           2889037381632,
           2926999240704,
           2965401501696,
           3112905998336,
           3128572510208,
           3270706200576,
           2889037381632,
           2926999240704,
           2965401501696,
           3112905998336,
           3128572510208,
           3270706200576,
           2889037381632,
           2926999240704,
           2965401501696,
           3112905998336,
           3128572510208,
           3270706200576,
           2889037381632,
           2926999240704,
           2965401501696,
           3112905998336,
           3128572510208,
           3270706200576,
           2889037381632,
           2926999240704,
           2965401501696,
           3112905998336,
           3128572510208,
           3270706200576,
           2889037381632,
           2926999240704,
           2965401501696,
           3112905998336,
           3128572510208,
           3270706200576,
           2889037381632,
           2926999240704,
           2965401501696,
           3112905998336,
           3128572510208,
           3270706200576,
           2889037381632,
           2926999240704,
           2965401501696,
           3112905998336,
           3128572510208,
           3270706200576,
           2889037381632,
           2926999240704,
           2965401501696,
           3112905998336,
           3128572510208,
           3270706200576,
           2889037381632,
           2926999240704,
           2965401501696,
           3112905998336,
           3128572510208,
           3270706200576,
           2889037381632,
           2926999240704,
           2965401501696,
           3112905998336,
           3128572510208,
           3270706200576,
           2889037381632,
           2926999240704,
           2965401501696,
           3112905998336,
           3128572510208,
           3270706200576,
           2889037381632,
           2926999240704,
           2965401501696
          ],
          "sizemode": "area",
          "sizeref": 9338547732.48,
          "symbol": "circle"
         },
         "mode": "markers",
         "name": "Brazil",
         "showlegend": true,
         "type": "scattergl",
         "x": [
          2013,
          2014,
          2015,
          2016,
          2017,
          2018,
          2013,
          2014,
          2015,
          2016,
          2017,
          2018,
          2013,
          2014,
          2015,
          2016,
          2017,
          2018,
          2013,
          2014,
          2015,
          2016,
          2017,
          2018,
          2013,
          2014,
          2015,
          2016,
          2017,
          2018,
          2013,
          2014,
          2015,
          2016,
          2017,
          2018,
          2013,
          2014,
          2015,
          2016,
          2017,
          2018,
          2013,
          2014,
          2015,
          2016,
          2017,
          2018,
          2013,
          2014,
          2015,
          2016,
          2017,
          2018,
          2013,
          2014,
          2015,
          2016,
          2017,
          2018,
          2013,
          2014,
          2015,
          2016,
          2017,
          2018,
          2013,
          2014,
          2015,
          2016,
          2017,
          2018,
          2013,
          2014,
          2015,
          2016,
          2017,
          2018,
          2013,
          2014,
          2015,
          2016,
          2017,
          2018,
          2013,
          2014,
          2015,
          2016,
          2017,
          2018,
          2013,
          2014,
          2015,
          2016,
          2017,
          2018,
          2013,
          2014,
          2015,
          2016,
          2017,
          2018,
          2013,
          2014,
          2015,
          2016,
          2017,
          2018,
          2013,
          2014,
          2015,
          2016,
          2017,
          2018,
          2013,
          2014,
          2015,
          2016,
          2017,
          2018,
          2013,
          2014,
          2015,
          2016,
          2017,
          2018,
          2013,
          2014,
          2015,
          2016,
          2017,
          2018,
          2013,
          2014,
          2015,
          2016,
          2017,
          2018
         ],
         "xaxis": "x",
         "y": [
          6.969,
          7.76,
          8.317,
          8.6,
          8.707,
          8.774,
          6.969,
          7.76,
          8.317,
          8.6,
          8.707,
          8.774,
          6.969,
          7.76,
          8.317,
          8.6,
          8.707,
          8.774,
          6.969,
          7.76,
          8.317,
          8.6,
          8.707,
          8.774,
          6.97,
          7.76,
          8.32,
          8.6,
          8.71,
          8.77,
          6.97,
          7.76,
          8.32,
          8.6,
          8.71,
          8.77,
          6.97,
          7.76,
          8.32,
          8.6,
          8.71,
          8.77,
          6.97,
          7.76,
          8.32,
          8.6,
          8.71,
          8.77,
          6.97,
          7.76,
          8.32,
          8.6,
          8.71,
          8.77,
          6.97,
          7.76,
          8.32,
          8.6,
          8.71,
          8.77,
          6.97,
          7.76,
          8.32,
          8.6,
          8.71,
          8.77,
          6.97,
          7.76,
          8.32,
          8.6,
          8.71,
          8.77,
          6.97,
          7.76,
          8.32,
          8.6,
          8.71,
          8.77,
          6.97,
          7.76,
          8.32,
          8.6,
          8.71,
          8.77,
          6.97,
          7.76,
          8.32,
          8.6,
          8.71,
          8.77,
          6.97,
          7.76,
          8.32,
          8.6,
          8.71,
          8.77,
          6.97,
          7.76,
          8.32,
          8.6,
          8.71,
          8.77,
          6.97,
          7.76,
          8.32,
          8.6,
          8.71,
          8.77,
          6.97,
          7.76,
          8.32,
          8.6,
          8.71,
          8.77,
          6.97,
          7.76,
          8.32,
          8.6,
          8.71,
          8.77,
          6.97,
          7.76,
          8.32,
          8.6,
          8.71,
          8.77,
          6.97,
          7.76,
          8.32,
          8.6,
          8.71,
          8.77,
          6.97,
          7.76,
          8.32,
          8.6,
          8.71,
          8.77
         ],
         "yaxis": "y"
        },
        {
         "hovertemplate": "<b>%{hovertext}</b><br><br>country=Germany<br>Year=%{x}<br>Biofuel Share in Electricity (%)=%{y}<br>gdp=%{marker.size}<extra></extra>",
         "hovertext": [
          "Germany",
          "Germany",
          "Germany",
          "Germany",
          "Germany",
          "Germany",
          "Germany",
          "Germany",
          "Germany",
          "Germany",
          "Germany",
          "Germany",
          "Germany",
          "Germany",
          "Germany",
          "Germany",
          "Germany",
          "Germany",
          "Germany",
          "Germany",
          "Germany",
          "Germany",
          "Germany",
          "Germany",
          "Germany",
          "Germany",
          "Germany",
          "Germany",
          "Germany",
          "Germany",
          "Germany",
          "Germany",
          "Germany",
          "Germany",
          "Germany",
          "Germany",
          "Germany",
          "Germany",
          "Germany",
          "Germany",
          "Germany",
          "Germany",
          "Germany",
          "Germany",
          "Germany",
          "Germany",
          "Germany",
          "Germany",
          "Germany",
          "Germany",
          "Germany",
          "Germany",
          "Germany",
          "Germany",
          "Germany",
          "Germany",
          "Germany",
          "Germany",
          "Germany",
          "Germany",
          "Germany",
          "Germany",
          "Germany",
          "Germany",
          "Germany",
          "Germany",
          "Germany",
          "Germany",
          "Germany",
          "Germany",
          "Germany",
          "Germany",
          "Germany",
          "Germany",
          "Germany",
          "Germany",
          "Germany",
          "Germany",
          "Germany",
          "Germany",
          "Germany",
          "Germany",
          "Germany",
          "Germany",
          "Germany",
          "Germany",
          "Germany",
          "Germany",
          "Germany",
          "Germany",
          "Germany",
          "Germany",
          "Germany",
          "Germany",
          "Germany",
          "Germany",
          "Germany",
          "Germany",
          "Germany",
          "Germany",
          "Germany",
          "Germany",
          "Germany",
          "Germany",
          "Germany",
          "Germany",
          "Germany",
          "Germany",
          "Germany",
          "Germany",
          "Germany",
          "Germany",
          "Germany",
          "Germany",
          "Germany",
          "Germany",
          "Germany",
          "Germany",
          "Germany",
          "Germany",
          "Germany",
          "Germany",
          "Germany",
          "Germany",
          "Germany",
          "Germany",
          "Germany",
          "Germany",
          "Germany",
          "Germany",
          "Germany",
          "Germany",
          "Germany",
          "Germany",
          "Germany",
          "Germany",
          "Germany",
          "Germany",
          "Germany",
          "Germany",
          "Germany",
          "Germany",
          "Germany",
          "Germany",
          "Germany",
          "Germany",
          "Germany",
          "Germany",
          "Germany",
          "Germany",
          "Germany",
          "Germany",
          "Germany",
          "Germany",
          "Germany",
          "Germany",
          "Germany",
          "Germany",
          "Germany",
          "Germany",
          "Germany",
          "Germany",
          "Germany",
          "Germany",
          "Germany",
          "Germany",
          "Germany",
          "Germany",
          "Germany",
          "Germany",
          "Germany",
          "Germany",
          "Germany",
          "Germany",
          "Germany",
          "Germany",
          "Germany",
          "Germany",
          "Germany",
          "Germany",
          "Germany",
          "Germany",
          "Germany",
          "Germany",
          "Germany",
          "Germany",
          "Germany",
          "Germany",
          "Germany",
          "Germany",
          "Germany",
          "Germany",
          "Germany",
          "Germany",
          "Germany",
          "Germany",
          "Germany",
          "Germany",
          "Germany",
          "Germany",
          "Germany",
          "Germany",
          "Germany",
          "Germany",
          "Germany",
          "Germany",
          "Germany",
          "Germany",
          "Germany",
          "Germany",
          "Germany",
          "Germany",
          "Germany",
          "Germany",
          "Germany",
          "Germany",
          "Germany",
          "Germany",
          "Germany",
          "Germany",
          "Germany",
          "Germany",
          "Germany",
          "Germany",
          "Germany",
          "Germany",
          "Germany",
          "Germany",
          "Germany",
          "Germany",
          "Germany",
          "Germany",
          "Germany",
          "Germany",
          "Germany",
          "Germany",
          "Germany",
          "Germany",
          "Germany",
          "Germany",
          "Germany",
          "Germany",
          "Germany",
          "Germany",
          "Germany",
          "Germany",
          "Germany",
          "Germany",
          "Germany",
          "Germany",
          "Germany",
          "Germany",
          "Germany",
          "Germany",
          "Germany",
          "Germany",
          "Germany",
          "Germany",
          "Germany",
          "Germany",
          "Germany",
          "Germany",
          "Germany",
          "Germany",
          "Germany",
          "Germany",
          "Germany",
          "Germany",
          "Germany",
          "Germany",
          "Germany",
          "Germany",
          "Germany",
          "Germany",
          "Germany",
          "Germany"
         ],
         "legendgroup": "Germany",
         "marker": {
          "color": "#EF553B",
          "size": [
           2983874265088,
           3129394593792,
           3268102848512,
           3340933005312,
           3189039955968,
           3356793241600,
           3519131418624,
           3536438165504,
           3553715290112,
           3610400784384,
           3672553029632,
           3735419092992,
           2983874265088,
           3129394593792,
           3268102848512,
           3340933005312,
           3189039955968,
           3356793241600,
           3519131418624,
           3536438165504,
           3553715290112,
           3610400784384,
           3672553029632,
           3735419092992,
           2983874265088,
           3129394593792,
           3268102848512,
           3340933005312,
           3189039955968,
           3356793241600,
           3519131418624,
           3536438165504,
           3553715290112,
           3610400784384,
           3672553029632,
           3735419092992,
           2983874265088,
           3129394593792,
           3268102848512,
           3340933005312,
           3189039955968,
           3356793241600,
           3519131418624,
           3536438165504,
           3553715290112,
           3610400784384,
           3672553029632,
           3735419092992,
           2983874265088,
           3129394593792,
           3268102848512,
           3340933005312,
           3189039955968,
           3356793241600,
           3519131418624,
           3536438165504,
           3553715290112,
           3610400784384,
           3672553029632,
           3735419092992,
           2983874265088,
           3129394593792,
           3268102848512,
           3340933005312,
           3189039955968,
           3356793241600,
           3519131418624,
           3536438165504,
           3553715290112,
           3610400784384,
           3672553029632,
           3735419092992,
           2983874265088,
           3129394593792,
           3268102848512,
           3340933005312,
           3189039955968,
           3356793241600,
           3519131418624,
           3536438165504,
           3553715290112,
           3610400784384,
           3672553029632,
           3735419092992,
           2983874265088,
           3129394593792,
           3268102848512,
           3340933005312,
           3189039955968,
           3356793241600,
           3519131418624,
           3536438165504,
           3553715290112,
           3610400784384,
           3672553029632,
           3735419092992,
           2983874265088,
           3129394593792,
           3268102848512,
           3340933005312,
           3189039955968,
           3356793241600,
           3519131418624,
           3536438165504,
           3553715290112,
           3610400784384,
           3672553029632,
           3735419092992,
           2983874265088,
           3129394593792,
           3268102848512,
           3340933005312,
           3189039955968,
           3356793241600,
           3519131418624,
           3536438165504,
           3553715290112,
           3610400784384,
           3672553029632,
           3735419092992,
           2983874265088,
           3129394593792,
           3268102848512,
           3340933005312,
           3189039955968,
           3356793241600,
           3519131418624,
           3536438165504,
           3553715290112,
           3610400784384,
           3672553029632,
           3735419092992,
           2983874265088,
           3129394593792,
           3268102848512,
           3340933005312,
           3189039955968,
           3356793241600,
           3519131418624,
           3536438165504,
           3553715290112,
           3610400784384,
           3672553029632,
           3735419092992,
           2983874265088,
           3129394593792,
           3268102848512,
           3340933005312,
           3189039955968,
           3356793241600,
           3519131418624,
           3536438165504,
           3553715290112,
           3610400784384,
           3672553029632,
           3735419092992,
           2983874265088,
           3129394593792,
           3268102848512,
           3340933005312,
           3189039955968,
           3356793241600,
           3519131418624,
           3536438165504,
           3553715290112,
           3610400784384,
           3672553029632,
           3735419092992,
           2983874265088,
           3129394593792,
           3268102848512,
           3340933005312,
           3189039955968,
           3356793241600,
           3519131418624,
           3536438165504,
           3553715290112,
           3610400784384,
           3672553029632,
           3735419092992,
           2983874265088,
           3129394593792,
           3268102848512,
           3340933005312,
           3189039955968,
           3356793241600,
           3519131418624,
           3536438165504,
           3553715290112,
           3610400784384,
           3672553029632,
           3735419092992,
           2983874265088,
           3129394593792,
           3268102848512,
           3340933005312,
           3189039955968,
           3356793241600,
           3519131418624,
           3536438165504,
           3553715290112,
           3610400784384,
           3672553029632,
           3735419092992,
           2983874265088,
           3129394593792,
           3268102848512,
           3340933005312,
           3189039955968,
           3356793241600,
           3519131418624,
           3536438165504,
           3553715290112,
           3610400784384,
           3672553029632,
           3735419092992,
           2983874265088,
           3129394593792,
           3268102848512,
           3340933005312,
           3189039955968,
           3356793241600,
           3519131418624,
           3536438165504,
           3553715290112,
           3610400784384,
           3672553029632,
           3735419092992,
           2983874265088,
           3129394593792,
           3268102848512,
           3340933005312,
           3189039955968,
           3356793241600,
           3519131418624,
           3536438165504,
           3553715290112,
           3610400784384,
           3672553029632,
           3735419092992,
           2983874265088,
           3129394593792,
           3268102848512,
           3340933005312,
           3189039955968,
           3356793241600,
           3519131418624,
           3536438165504,
           3553715290112,
           3610400784384,
           3672553029632,
           3735419092992,
           2983874265088,
           3129394593792,
           3268102848512,
           3340933005312,
           3189039955968,
           3356793241600,
           3519131418624,
           3536438165504,
           3553715290112,
           3610400784384,
           3672553029632,
           3735419092992,
           2983874265088,
           3129394593792,
           3268102848512,
           3340933005312,
           3189039955968,
           3356793241600,
           3519131418624,
           3536438165504,
           3553715290112,
           3610400784384,
           3672553029632,
           3735419092992
          ],
          "sizemode": "area",
          "sizeref": 9338547732.48,
          "symbol": "circle"
         },
         "mode": "markers",
         "name": "Germany",
         "showlegend": true,
         "type": "scattergl",
         "x": [
          2005,
          2006,
          2007,
          2008,
          2009,
          2010,
          2011,
          2012,
          2013,
          2014,
          2015,
          2016,
          2005,
          2006,
          2007,
          2008,
          2009,
          2010,
          2011,
          2012,
          2013,
          2014,
          2015,
          2016,
          2005,
          2006,
          2007,
          2008,
          2009,
          2010,
          2011,
          2012,
          2013,
          2014,
          2015,
          2016,
          2005,
          2006,
          2007,
          2008,
          2009,
          2010,
          2011,
          2012,
          2013,
          2014,
          2015,
          2016,
          2005,
          2006,
          2007,
          2008,
          2009,
          2010,
          2011,
          2012,
          2013,
          2014,
          2015,
          2016,
          2005,
          2006,
          2007,
          2008,
          2009,
          2010,
          2011,
          2012,
          2013,
          2014,
          2015,
          2016,
          2005,
          2006,
          2007,
          2008,
          2009,
          2010,
          2011,
          2012,
          2013,
          2014,
          2015,
          2016,
          2005,
          2006,
          2007,
          2008,
          2009,
          2010,
          2011,
          2012,
          2013,
          2014,
          2015,
          2016,
          2005,
          2006,
          2007,
          2008,
          2009,
          2010,
          2011,
          2012,
          2013,
          2014,
          2015,
          2016,
          2005,
          2006,
          2007,
          2008,
          2009,
          2010,
          2011,
          2012,
          2013,
          2014,
          2015,
          2016,
          2005,
          2006,
          2007,
          2008,
          2009,
          2010,
          2011,
          2012,
          2013,
          2014,
          2015,
          2016,
          2005,
          2006,
          2007,
          2008,
          2009,
          2010,
          2011,
          2012,
          2013,
          2014,
          2015,
          2016,
          2005,
          2006,
          2007,
          2008,
          2009,
          2010,
          2011,
          2012,
          2013,
          2014,
          2015,
          2016,
          2005,
          2006,
          2007,
          2008,
          2009,
          2010,
          2011,
          2012,
          2013,
          2014,
          2015,
          2016,
          2005,
          2006,
          2007,
          2008,
          2009,
          2010,
          2011,
          2012,
          2013,
          2014,
          2015,
          2016,
          2005,
          2006,
          2007,
          2008,
          2009,
          2010,
          2011,
          2012,
          2013,
          2014,
          2015,
          2016,
          2005,
          2006,
          2007,
          2008,
          2009,
          2010,
          2011,
          2012,
          2013,
          2014,
          2015,
          2016,
          2005,
          2006,
          2007,
          2008,
          2009,
          2010,
          2011,
          2012,
          2013,
          2014,
          2015,
          2016,
          2005,
          2006,
          2007,
          2008,
          2009,
          2010,
          2011,
          2012,
          2013,
          2014,
          2015,
          2016,
          2005,
          2006,
          2007,
          2008,
          2009,
          2010,
          2011,
          2012,
          2013,
          2014,
          2015,
          2016,
          2005,
          2006,
          2007,
          2008,
          2009,
          2010,
          2011,
          2012,
          2013,
          2014,
          2015,
          2016,
          2005,
          2006,
          2007,
          2008,
          2009,
          2010,
          2011,
          2012,
          2013,
          2014,
          2015,
          2016,
          2005,
          2006,
          2007,
          2008,
          2009,
          2010,
          2011,
          2012,
          2013,
          2014,
          2015,
          2016
         ],
         "xaxis": "x",
         "y": [
          2.398,
          3.007,
          3.894,
          4.425,
          5.245,
          5.43,
          6.096,
          6.963,
          7.211,
          7.789,
          7.857,
          7.921,
          2.398,
          3.007,
          3.894,
          4.425,
          5.245,
          5.43,
          6.096,
          6.963,
          7.211,
          7.789,
          7.857,
          7.921,
          2.398,
          3.007,
          3.894,
          4.425,
          5.245,
          5.43,
          6.096,
          6.963,
          7.211,
          7.789,
          7.857,
          7.921,
          2.398,
          3.007,
          3.894,
          4.425,
          5.245,
          5.43,
          6.096,
          6.963,
          7.211,
          7.789,
          7.857,
          7.921,
          2.4,
          3.01,
          3.89,
          4.42,
          5.24,
          5.43,
          6.1,
          6.96,
          7.21,
          7.79,
          7.86,
          7.92,
          2.4,
          3.01,
          3.89,
          4.42,
          5.24,
          5.43,
          6.1,
          6.96,
          7.21,
          7.79,
          7.86,
          7.92,
          2.4,
          3.01,
          3.89,
          4.42,
          5.24,
          5.43,
          6.1,
          6.96,
          7.21,
          7.79,
          7.86,
          7.92,
          2.4,
          3.01,
          3.89,
          4.42,
          5.24,
          5.43,
          6.1,
          6.96,
          7.21,
          7.79,
          7.86,
          7.92,
          2.4,
          3.01,
          3.89,
          4.42,
          5.24,
          5.43,
          6.1,
          6.96,
          7.21,
          7.79,
          7.86,
          7.92,
          2.4,
          3.01,
          3.89,
          4.42,
          5.24,
          5.43,
          6.1,
          6.96,
          7.21,
          7.79,
          7.86,
          7.92,
          2.4,
          3.01,
          3.89,
          4.42,
          5.24,
          5.43,
          6.1,
          6.96,
          7.21,
          7.79,
          7.86,
          7.92,
          2.4,
          3.01,
          3.89,
          4.42,
          5.24,
          5.43,
          6.1,
          6.96,
          7.21,
          7.79,
          7.86,
          7.92,
          2.4,
          3.01,
          3.89,
          4.42,
          5.24,
          5.43,
          6.1,
          6.96,
          7.21,
          7.79,
          7.86,
          7.92,
          2.4,
          3.01,
          3.89,
          4.42,
          5.24,
          5.43,
          6.1,
          6.96,
          7.21,
          7.79,
          7.86,
          7.92,
          2.4,
          3.01,
          3.89,
          4.42,
          5.24,
          5.43,
          6.1,
          6.96,
          7.21,
          7.79,
          7.86,
          7.92,
          2.4,
          3.01,
          3.89,
          4.42,
          5.24,
          5.43,
          6.1,
          6.96,
          7.21,
          7.79,
          7.86,
          7.92,
          2.4,
          3.01,
          3.89,
          4.42,
          5.24,
          5.43,
          6.1,
          6.96,
          7.21,
          7.79,
          7.86,
          7.92,
          2.4,
          3.01,
          3.89,
          4.42,
          5.24,
          5.43,
          6.1,
          6.96,
          7.21,
          7.79,
          7.86,
          7.92,
          2.4,
          3.01,
          3.89,
          4.42,
          5.24,
          5.43,
          6.1,
          6.96,
          7.21,
          7.79,
          7.86,
          7.92,
          2.4,
          3.01,
          3.89,
          4.42,
          5.24,
          5.43,
          6.1,
          6.96,
          7.21,
          7.79,
          7.86,
          7.92,
          2.4,
          3.01,
          3.89,
          4.42,
          5.24,
          5.43,
          6.1,
          6.96,
          7.21,
          7.79,
          7.86,
          7.92,
          2.4,
          3.01,
          3.89,
          4.42,
          5.24,
          5.43,
          6.1,
          6.96,
          7.21,
          7.79,
          7.86,
          7.92,
          2.4,
          3.01,
          3.89,
          4.42,
          5.24,
          5.43,
          6.1,
          6.96,
          7.21,
          7.79,
          7.86,
          7.92
         ],
         "yaxis": "y"
        },
        {
         "hovertemplate": "<b>%{hovertext}</b><br><br>country=Hungary<br>Year=%{x}<br>Biofuel Share in Electricity (%)=%{y}<br>gdp=%{marker.size}<extra></extra>",
         "hovertext": [
          "Hungary",
          "Hungary",
          "Hungary",
          "Hungary",
          "Hungary",
          "Hungary",
          "Hungary",
          "Hungary",
          "Hungary",
          "Hungary",
          "Hungary",
          "Hungary",
          "Hungary",
          "Hungary",
          "Hungary",
          "Hungary",
          "Hungary",
          "Hungary",
          "Hungary",
          "Hungary",
          "Hungary",
          "Hungary",
          "Hungary",
          "Hungary",
          "Hungary",
          "Hungary",
          "Hungary",
          "Hungary",
          "Hungary",
          "Hungary",
          "Hungary",
          "Hungary",
          "Hungary",
          "Hungary",
          "Hungary",
          "Hungary",
          "Hungary",
          "Hungary",
          "Hungary",
          "Hungary",
          "Hungary",
          "Hungary",
          "Hungary",
          "Hungary",
          "Hungary",
          "Hungary",
          "Hungary",
          "Hungary",
          "Hungary",
          "Hungary",
          "Hungary",
          "Hungary",
          "Hungary",
          "Hungary",
          "Hungary",
          "Hungary",
          "Hungary",
          "Hungary",
          "Hungary",
          "Hungary",
          "Hungary",
          "Hungary",
          "Hungary",
          "Hungary",
          "Hungary",
          "Hungary",
          "Hungary",
          "Hungary",
          "Hungary",
          "Hungary",
          "Hungary",
          "Hungary",
          "Hungary",
          "Hungary",
          "Hungary",
          "Hungary",
          "Hungary",
          "Hungary",
          "Hungary",
          "Hungary",
          "Hungary",
          "Hungary",
          "Hungary",
          "Hungary",
          "Hungary",
          "Hungary",
          "Hungary",
          "Hungary",
          "Hungary",
          "Hungary",
          "Hungary",
          "Hungary",
          "Hungary",
          "Hungary",
          "Hungary",
          "Hungary",
          "Hungary",
          "Hungary",
          "Hungary",
          "Hungary",
          "Hungary",
          "Hungary",
          "Hungary",
          "Hungary",
          "Hungary",
          "Hungary",
          "Hungary",
          "Hungary",
          "Hungary",
          "Hungary",
          "Hungary",
          "Hungary",
          "Hungary",
          "Hungary",
          "Hungary",
          "Hungary",
          "Hungary",
          "Hungary",
          "Hungary",
          "Hungary",
          "Hungary",
          "Hungary",
          "Hungary",
          "Hungary",
          "Hungary",
          "Hungary",
          "Hungary",
          "Hungary",
          "Hungary",
          "Hungary",
          "Hungary",
          "Hungary",
          "Hungary",
          "Hungary",
          "Hungary",
          "Hungary",
          "Hungary",
          "Hungary",
          "Hungary",
          "Hungary",
          "Hungary",
          "Hungary",
          "Hungary",
          "Hungary",
          "Hungary",
          "Hungary",
          "Hungary",
          "Hungary",
          "Hungary",
          "Hungary",
          "Hungary",
          "Hungary",
          "Hungary",
          "Hungary",
          "Hungary",
          "Hungary",
          "Hungary",
          "Hungary",
          "Hungary",
          "Hungary",
          "Hungary",
          "Hungary",
          "Hungary",
          "Hungary",
          "Hungary",
          "Hungary",
          "Hungary",
          "Hungary",
          "Hungary",
          "Hungary",
          "Hungary",
          "Hungary",
          "Hungary",
          "Hungary",
          "Hungary",
          "Hungary",
          "Hungary",
          "Hungary",
          "Hungary",
          "Hungary",
          "Hungary",
          "Hungary",
          "Hungary",
          "Hungary"
         ],
         "legendgroup": "Hungary",
         "marker": {
          "color": "#00cc96",
          "size": [
           195011821568,
           200323055616,
           207957688320,
           204625346560,
           208958734336,
           217412730880,
           224257294336,
           228414177280,
           195011821568,
           200323055616,
           207957688320,
           204625346560,
           208958734336,
           217412730880,
           224257294336,
           228414177280,
           195011821568,
           200323055616,
           207957688320,
           204625346560,
           208958734336,
           217412730880,
           224257294336,
           228414177280,
           195011821568,
           200323055616,
           207957688320,
           204625346560,
           208958734336,
           217412730880,
           224257294336,
           228414177280,
           195011821568,
           200323055616,
           207957688320,
           204625346560,
           208958734336,
           217412730880,
           224257294336,
           228414177280,
           195011821568,
           200323055616,
           207957688320,
           204625346560,
           208958734336,
           217412730880,
           224257294336,
           228414177280,
           195011821568,
           200323055616,
           207957688320,
           204625346560,
           208958734336,
           217412730880,
           224257294336,
           228414177280,
           195011821568,
           200323055616,
           207957688320,
           204625346560,
           208958734336,
           217412730880,
           224257294336,
           228414177280,
           195011821568,
           200323055616,
           207957688320,
           204625346560,
           208958734336,
           217412730880,
           224257294336,
           228414177280,
           195011821568,
           200323055616,
           207957688320,
           204625346560,
           208958734336,
           217412730880,
           224257294336,
           228414177280,
           195011821568,
           200323055616,
           207957688320,
           204625346560,
           208958734336,
           217412730880,
           224257294336,
           228414177280,
           195011821568,
           200323055616,
           207957688320,
           204625346560,
           208958734336,
           217412730880,
           224257294336,
           228414177280,
           195011821568,
           200323055616,
           207957688320,
           204625346560,
           208958734336,
           217412730880,
           224257294336,
           228414177280,
           195011821568,
           200323055616,
           207957688320,
           204625346560,
           208958734336,
           217412730880,
           224257294336,
           228414177280,
           195011821568,
           200323055616,
           207957688320,
           204625346560,
           208958734336,
           217412730880,
           224257294336,
           228414177280,
           195011821568,
           200323055616,
           207957688320,
           204625346560,
           208958734336,
           217412730880,
           224257294336,
           228414177280,
           195011821568,
           200323055616,
           207957688320,
           204625346560,
           208958734336,
           217412730880,
           224257294336,
           228414177280,
           195011821568,
           200323055616,
           207957688320,
           204625346560,
           208958734336,
           217412730880,
           224257294336,
           228414177280,
           195011821568,
           200323055616,
           207957688320,
           204625346560,
           208958734336,
           217412730880,
           224257294336,
           228414177280,
           195011821568,
           200323055616,
           207957688320,
           204625346560,
           208958734336,
           217412730880,
           224257294336,
           228414177280,
           195011821568,
           200323055616,
           207957688320,
           204625346560,
           208958734336,
           217412730880,
           224257294336,
           228414177280,
           195011821568,
           200323055616,
           207957688320,
           204625346560,
           208958734336,
           217412730880,
           224257294336,
           228414177280,
           195011821568,
           200323055616,
           207957688320,
           204625346560,
           208958734336,
           217412730880,
           224257294336,
           228414177280
          ],
          "sizemode": "area",
          "sizeref": 9338547732.48,
          "symbol": "circle"
         },
         "mode": "markers",
         "name": "Hungary",
         "showlegend": true,
         "type": "scattergl",
         "x": [
          2009,
          2010,
          2011,
          2012,
          2013,
          2014,
          2015,
          2016,
          2009,
          2010,
          2011,
          2012,
          2013,
          2014,
          2015,
          2016,
          2009,
          2010,
          2011,
          2012,
          2013,
          2014,
          2015,
          2016,
          2009,
          2010,
          2011,
          2012,
          2013,
          2014,
          2015,
          2016,
          2009,
          2010,
          2011,
          2012,
          2013,
          2014,
          2015,
          2016,
          2009,
          2010,
          2011,
          2012,
          2013,
          2014,
          2015,
          2016,
          2009,
          2010,
          2011,
          2012,
          2013,
          2014,
          2015,
          2016,
          2009,
          2010,
          2011,
          2012,
          2013,
          2014,
          2015,
          2016,
          2009,
          2010,
          2011,
          2012,
          2013,
          2014,
          2015,
          2016,
          2009,
          2010,
          2011,
          2012,
          2013,
          2014,
          2015,
          2016,
          2009,
          2010,
          2011,
          2012,
          2013,
          2014,
          2015,
          2016,
          2009,
          2010,
          2011,
          2012,
          2013,
          2014,
          2015,
          2016,
          2009,
          2010,
          2011,
          2012,
          2013,
          2014,
          2015,
          2016,
          2009,
          2010,
          2011,
          2012,
          2013,
          2014,
          2015,
          2016,
          2009,
          2010,
          2011,
          2012,
          2013,
          2014,
          2015,
          2016,
          2009,
          2010,
          2011,
          2012,
          2013,
          2014,
          2015,
          2016,
          2009,
          2010,
          2011,
          2012,
          2013,
          2014,
          2015,
          2016,
          2009,
          2010,
          2011,
          2012,
          2013,
          2014,
          2015,
          2016,
          2009,
          2010,
          2011,
          2012,
          2013,
          2014,
          2015,
          2016,
          2009,
          2010,
          2011,
          2012,
          2013,
          2014,
          2015,
          2016,
          2009,
          2010,
          2011,
          2012,
          2013,
          2014,
          2015,
          2016,
          2009,
          2010,
          2011,
          2012,
          2013,
          2014,
          2015,
          2016,
          2009,
          2010,
          2011,
          2012,
          2013,
          2014,
          2015,
          2016
         ],
         "xaxis": "x",
         "y": [
          6.488,
          6.155,
          5.164,
          4.766,
          6.05,
          7.257,
          7.131,
          6.507,
          6.488,
          6.155,
          5.164,
          4.766,
          6.05,
          7.257,
          7.131,
          6.507,
          6.488,
          6.155,
          5.164,
          4.766,
          6.05,
          7.257,
          7.131,
          6.507,
          6.488,
          6.155,
          5.164,
          4.766,
          6.05,
          7.257,
          7.131,
          6.507,
          6.49,
          6.16,
          5.16,
          4.77,
          6.05,
          7.26,
          7.13,
          6.51,
          6.49,
          6.16,
          5.16,
          4.77,
          6.05,
          7.26,
          7.13,
          6.51,
          6.49,
          6.16,
          5.16,
          4.77,
          6.05,
          7.26,
          7.13,
          6.51,
          6.49,
          6.16,
          5.16,
          4.77,
          6.05,
          7.26,
          7.13,
          6.51,
          6.49,
          6.16,
          5.16,
          4.77,
          6.05,
          7.26,
          7.13,
          6.51,
          6.49,
          6.16,
          5.16,
          4.77,
          6.05,
          7.26,
          7.13,
          6.51,
          6.49,
          6.16,
          5.16,
          4.77,
          6.05,
          7.26,
          7.13,
          6.51,
          6.49,
          6.16,
          5.16,
          4.77,
          6.05,
          7.26,
          7.13,
          6.51,
          6.49,
          6.16,
          5.16,
          4.77,
          6.05,
          7.26,
          7.13,
          6.51,
          6.49,
          6.16,
          5.16,
          4.77,
          6.05,
          7.26,
          7.13,
          6.51,
          6.49,
          6.16,
          5.16,
          4.77,
          6.05,
          7.26,
          7.13,
          6.51,
          6.49,
          6.16,
          5.16,
          4.77,
          6.05,
          7.26,
          7.13,
          6.51,
          6.49,
          6.16,
          5.16,
          4.77,
          6.05,
          7.26,
          7.13,
          6.51,
          6.49,
          6.16,
          5.16,
          4.77,
          6.05,
          7.26,
          7.13,
          6.51,
          6.49,
          6.16,
          5.16,
          4.77,
          6.05,
          7.26,
          7.13,
          6.51,
          6.49,
          6.16,
          5.16,
          4.77,
          6.05,
          7.26,
          7.13,
          6.51,
          6.49,
          6.16,
          5.16,
          4.77,
          6.05,
          7.26,
          7.13,
          6.51,
          6.49,
          6.16,
          5.16,
          4.77,
          6.05,
          7.26,
          7.13,
          6.51,
          6.49,
          6.16,
          5.16,
          4.77,
          6.05,
          7.26,
          7.13,
          6.51
         ],
         "yaxis": "y"
        },
        {
         "hovertemplate": "<b>%{hovertext}</b><br><br>country=Slovakia<br>Year=%{x}<br>Biofuel Share in Electricity (%)=%{y}<br>gdp=%{marker.size}<extra></extra>",
         "hovertext": [
          "Slovakia",
          "Slovakia",
          "Slovakia",
          "Slovakia",
          "Slovakia",
          "Slovakia",
          "Slovakia",
          "Slovakia",
          "Slovakia",
          "Slovakia",
          "Slovakia",
          "Slovakia",
          "Slovakia",
          "Slovakia",
          "Slovakia",
          "Slovakia",
          "Slovakia",
          "Slovakia",
          "Slovakia",
          "Slovakia",
          "Slovakia",
          "Slovakia",
          "Slovakia",
          "Slovakia",
          "Slovakia",
          "Slovakia",
          "Slovakia",
          "Slovakia",
          "Slovakia",
          "Slovakia",
          "Slovakia",
          "Slovakia",
          "Slovakia",
          "Slovakia",
          "Slovakia",
          "Slovakia",
          "Slovakia",
          "Slovakia",
          "Slovakia",
          "Slovakia",
          "Slovakia",
          "Slovakia",
          "Slovakia",
          "Slovakia",
          "Slovakia",
          "Slovakia",
          "Slovakia",
          "Slovakia",
          "Slovakia",
          "Slovakia",
          "Slovakia",
          "Slovakia",
          "Slovakia",
          "Slovakia",
          "Slovakia",
          "Slovakia",
          "Slovakia",
          "Slovakia",
          "Slovakia",
          "Slovakia",
          "Slovakia",
          "Slovakia",
          "Slovakia",
          "Slovakia",
          "Slovakia",
          "Slovakia",
          "Slovakia",
          "Slovakia",
          "Slovakia",
          "Slovakia",
          "Slovakia",
          "Slovakia",
          "Slovakia",
          "Slovakia",
          "Slovakia",
          "Slovakia",
          "Slovakia",
          "Slovakia",
          "Slovakia",
          "Slovakia",
          "Slovakia",
          "Slovakia",
          "Slovakia",
          "Slovakia",
          "Slovakia",
          "Slovakia",
          "Slovakia",
          "Slovakia",
          "Slovakia",
          "Slovakia",
          "Slovakia",
          "Slovakia",
          "Slovakia",
          "Slovakia",
          "Slovakia",
          "Slovakia",
          "Slovakia",
          "Slovakia",
          "Slovakia",
          "Slovakia",
          "Slovakia",
          "Slovakia",
          "Slovakia",
          "Slovakia",
          "Slovakia",
          "Slovakia",
          "Slovakia",
          "Slovakia",
          "Slovakia",
          "Slovakia",
          "Slovakia",
          "Slovakia",
          "Slovakia",
          "Slovakia",
          "Slovakia",
          "Slovakia",
          "Slovakia",
          "Slovakia",
          "Slovakia",
          "Slovakia",
          "Slovakia",
          "Slovakia",
          "Slovakia",
          "Slovakia",
          "Slovakia",
          "Slovakia",
          "Slovakia",
          "Slovakia",
          "Slovakia",
          "Slovakia",
          "Slovakia",
          "Slovakia",
          "Slovakia",
          "Slovakia",
          "Slovakia",
          "Slovakia",
          "Slovakia",
          "Slovakia"
         ],
         "legendgroup": "Slovakia",
         "marker": {
          "color": "#ab63fa",
          "size": [
           120534253568,
           122527850496,
           124358402048,
           127551856640,
           132440055808,
           136796127232,
           120534253568,
           122527850496,
           124358402048,
           127551856640,
           132440055808,
           136796127232,
           120534253568,
           122527850496,
           124358402048,
           127551856640,
           132440055808,
           136796127232,
           120534253568,
           122527850496,
           124358402048,
           127551856640,
           132440055808,
           136796127232,
           120534253568,
           122527850496,
           124358402048,
           127551856640,
           132440055808,
           136796127232,
           120534253568,
           122527850496,
           124358402048,
           127551856640,
           132440055808,
           136796127232,
           120534253568,
           122527850496,
           124358402048,
           127551856640,
           132440055808,
           136796127232,
           120534253568,
           122527850496,
           124358402048,
           127551856640,
           132440055808,
           136796127232,
           120534253568,
           122527850496,
           124358402048,
           127551856640,
           132440055808,
           136796127232,
           120534253568,
           122527850496,
           124358402048,
           127551856640,
           132440055808,
           136796127232,
           120534253568,
           122527850496,
           124358402048,
           127551856640,
           132440055808,
           136796127232,
           120534253568,
           122527850496,
           124358402048,
           127551856640,
           132440055808,
           136796127232,
           120534253568,
           122527850496,
           124358402048,
           127551856640,
           132440055808,
           136796127232,
           120534253568,
           122527850496,
           124358402048,
           127551856640,
           132440055808,
           136796127232,
           120534253568,
           122527850496,
           124358402048,
           127551856640,
           132440055808,
           136796127232,
           120534253568,
           122527850496,
           124358402048,
           127551856640,
           132440055808,
           136796127232,
           120534253568,
           122527850496,
           124358402048,
           127551856640,
           132440055808,
           136796127232,
           120534253568,
           122527850496,
           124358402048,
           127551856640,
           132440055808,
           136796127232,
           120534253568,
           122527850496,
           124358402048,
           127551856640,
           132440055808,
           136796127232,
           120534253568,
           122527850496,
           124358402048,
           127551856640,
           132440055808,
           136796127232,
           120534253568,
           122527850496,
           124358402048,
           127551856640,
           132440055808,
           136796127232,
           120534253568,
           122527850496,
           124358402048,
           127551856640,
           132440055808,
           136796127232,
           120534253568,
           122527850496,
           124358402048,
           127551856640,
           132440055808,
           136796127232
          ],
          "sizemode": "area",
          "sizeref": 9338547732.48,
          "symbol": "circle"
         },
         "mode": "markers",
         "name": "Slovakia",
         "showlegend": true,
         "type": "scattergl",
         "x": [
          2011,
          2012,
          2013,
          2014,
          2015,
          2016,
          2011,
          2012,
          2013,
          2014,
          2015,
          2016,
          2011,
          2012,
          2013,
          2014,
          2015,
          2016,
          2011,
          2012,
          2013,
          2014,
          2015,
          2016,
          2011,
          2012,
          2013,
          2014,
          2015,
          2016,
          2011,
          2012,
          2013,
          2014,
          2015,
          2016,
          2011,
          2012,
          2013,
          2014,
          2015,
          2016,
          2011,
          2012,
          2013,
          2014,
          2015,
          2016,
          2011,
          2012,
          2013,
          2014,
          2015,
          2016,
          2011,
          2012,
          2013,
          2014,
          2015,
          2016,
          2011,
          2012,
          2013,
          2014,
          2015,
          2016,
          2011,
          2012,
          2013,
          2014,
          2015,
          2016,
          2011,
          2012,
          2013,
          2014,
          2015,
          2016,
          2011,
          2012,
          2013,
          2014,
          2015,
          2016,
          2011,
          2012,
          2013,
          2014,
          2015,
          2016,
          2011,
          2012,
          2013,
          2014,
          2015,
          2016,
          2011,
          2012,
          2013,
          2014,
          2015,
          2016,
          2011,
          2012,
          2013,
          2014,
          2015,
          2016,
          2011,
          2012,
          2013,
          2014,
          2015,
          2016,
          2011,
          2012,
          2013,
          2014,
          2015,
          2016,
          2011,
          2012,
          2013,
          2014,
          2015,
          2016,
          2011,
          2012,
          2013,
          2014,
          2015,
          2016,
          2011,
          2012,
          2013,
          2014,
          2015,
          2016
         ],
         "xaxis": "x",
         "y": [
          2.907,
          3.329,
          3.2,
          5.251,
          6.255,
          6.484,
          2.907,
          3.329,
          3.2,
          5.251,
          6.255,
          6.484,
          2.907,
          3.329,
          3.2,
          5.251,
          6.255,
          6.484,
          2.907,
          3.329,
          3.2,
          5.251,
          6.255,
          6.484,
          2.91,
          3.33,
          3.2,
          5.25,
          6.26,
          6.48,
          2.91,
          3.33,
          3.2,
          5.25,
          6.26,
          6.48,
          2.91,
          3.33,
          3.2,
          5.25,
          6.26,
          6.48,
          2.91,
          3.33,
          3.2,
          5.25,
          6.26,
          6.48,
          2.91,
          3.33,
          3.2,
          5.25,
          6.26,
          6.48,
          2.91,
          3.33,
          3.2,
          5.25,
          6.26,
          6.48,
          2.91,
          3.33,
          3.2,
          5.25,
          6.26,
          6.48,
          2.91,
          3.33,
          3.2,
          5.25,
          6.26,
          6.48,
          2.91,
          3.33,
          3.2,
          5.25,
          6.26,
          6.48,
          2.91,
          3.33,
          3.2,
          5.25,
          6.26,
          6.48,
          2.91,
          3.33,
          3.2,
          5.25,
          6.26,
          6.48,
          2.91,
          3.33,
          3.2,
          5.25,
          6.26,
          6.48,
          2.91,
          3.33,
          3.2,
          5.25,
          6.26,
          6.48,
          2.91,
          3.33,
          3.2,
          5.25,
          6.26,
          6.48,
          2.91,
          3.33,
          3.2,
          5.25,
          6.26,
          6.48,
          2.91,
          3.33,
          3.2,
          5.25,
          6.26,
          6.48,
          2.91,
          3.33,
          3.2,
          5.25,
          6.26,
          6.48,
          2.91,
          3.33,
          3.2,
          5.25,
          6.26,
          6.48,
          2.91,
          3.33,
          3.2,
          5.25,
          6.26,
          6.48
         ],
         "yaxis": "y"
        },
        {
         "hovertemplate": "<b>%{hovertext}</b><br><br>country=United Kingdom<br>Year=%{x}<br>Biofuel Share in Electricity (%)=%{y}<br>gdp=%{marker.size}<extra></extra>",
         "hovertext": [
          "United Kingdom",
          "United Kingdom",
          "United Kingdom",
          "United Kingdom",
          "United Kingdom",
          "United Kingdom",
          "United Kingdom",
          "United Kingdom",
          "United Kingdom",
          "United Kingdom",
          "United Kingdom",
          "United Kingdom",
          "United Kingdom",
          "United Kingdom",
          "United Kingdom",
          "United Kingdom",
          "United Kingdom",
          "United Kingdom",
          "United Kingdom",
          "United Kingdom",
          "United Kingdom",
          "United Kingdom",
          "United Kingdom",
          "United Kingdom",
          "United Kingdom",
          "United Kingdom",
          "United Kingdom",
          "United Kingdom",
          "United Kingdom",
          "United Kingdom",
          "United Kingdom",
          "United Kingdom",
          "United Kingdom",
          "United Kingdom",
          "United Kingdom",
          "United Kingdom",
          "United Kingdom",
          "United Kingdom",
          "United Kingdom",
          "United Kingdom",
          "United Kingdom",
          "United Kingdom",
          "United Kingdom",
          "United Kingdom",
          "United Kingdom",
          "United Kingdom",
          "United Kingdom",
          "United Kingdom",
          "United Kingdom",
          "United Kingdom",
          "United Kingdom",
          "United Kingdom",
          "United Kingdom",
          "United Kingdom",
          "United Kingdom",
          "United Kingdom",
          "United Kingdom",
          "United Kingdom",
          "United Kingdom",
          "United Kingdom",
          "United Kingdom",
          "United Kingdom",
          "United Kingdom",
          "United Kingdom",
          "United Kingdom",
          "United Kingdom",
          "United Kingdom",
          "United Kingdom",
          "United Kingdom",
          "United Kingdom",
          "United Kingdom",
          "United Kingdom",
          "United Kingdom",
          "United Kingdom",
          "United Kingdom",
          "United Kingdom",
          "United Kingdom",
          "United Kingdom",
          "United Kingdom",
          "United Kingdom",
          "United Kingdom",
          "United Kingdom",
          "United Kingdom",
          "United Kingdom",
          "United Kingdom",
          "United Kingdom",
          "United Kingdom",
          "United Kingdom",
          "United Kingdom",
          "United Kingdom",
          "United Kingdom",
          "United Kingdom",
          "United Kingdom",
          "United Kingdom",
          "United Kingdom",
          "United Kingdom",
          "United Kingdom",
          "United Kingdom",
          "United Kingdom",
          "United Kingdom",
          "United Kingdom",
          "United Kingdom",
          "United Kingdom",
          "United Kingdom",
          "United Kingdom",
          "United Kingdom",
          "United Kingdom",
          "United Kingdom",
          "United Kingdom",
          "United Kingdom",
          "United Kingdom",
          "United Kingdom",
          "United Kingdom",
          "United Kingdom",
          "United Kingdom",
          "United Kingdom",
          "United Kingdom",
          "United Kingdom",
          "United Kingdom",
          "United Kingdom",
          "United Kingdom",
          "United Kingdom",
          "United Kingdom",
          "United Kingdom",
          "United Kingdom",
          "United Kingdom",
          "United Kingdom",
          "United Kingdom",
          "United Kingdom",
          "United Kingdom",
          "United Kingdom",
          "United Kingdom",
          "United Kingdom",
          "United Kingdom",
          "United Kingdom",
          "United Kingdom",
          "United Kingdom",
          "United Kingdom",
          "United Kingdom",
          "United Kingdom",
          "United Kingdom",
          "United Kingdom",
          "United Kingdom",
          "United Kingdom",
          "United Kingdom",
          "United Kingdom",
          "United Kingdom",
          "United Kingdom",
          "United Kingdom",
          "United Kingdom",
          "United Kingdom",
          "United Kingdom",
          "United Kingdom",
          "United Kingdom",
          "United Kingdom",
          "United Kingdom",
          "United Kingdom",
          "United Kingdom",
          "United Kingdom",
          "United Kingdom",
          "United Kingdom",
          "United Kingdom",
          "United Kingdom",
          "United Kingdom",
          "United Kingdom",
          "United Kingdom",
          "United Kingdom",
          "United Kingdom",
          "United Kingdom",
          "United Kingdom",
          "United Kingdom",
          "United Kingdom",
          "United Kingdom",
          "United Kingdom",
          "United Kingdom",
          "United Kingdom",
          "United Kingdom",
          "United Kingdom",
          "United Kingdom",
          "United Kingdom",
          "United Kingdom",
          "United Kingdom",
          "United Kingdom",
          "United Kingdom",
          "United Kingdom",
          "United Kingdom",
          "United Kingdom",
          "United Kingdom",
          "United Kingdom",
          "United Kingdom",
          "United Kingdom",
          "United Kingdom",
          "United Kingdom",
          "United Kingdom",
          "United Kingdom",
          "United Kingdom",
          "United Kingdom",
          "United Kingdom",
          "United Kingdom",
          "United Kingdom",
          "United Kingdom",
          "United Kingdom",
          "United Kingdom",
          "United Kingdom",
          "United Kingdom",
          "United Kingdom",
          "United Kingdom",
          "United Kingdom",
          "United Kingdom",
          "United Kingdom",
          "United Kingdom",
          "United Kingdom",
          "United Kingdom",
          "United Kingdom",
          "United Kingdom",
          "United Kingdom",
          "United Kingdom",
          "United Kingdom",
          "United Kingdom",
          "United Kingdom",
          "United Kingdom",
          "United Kingdom",
          "United Kingdom",
          "United Kingdom",
          "United Kingdom",
          "United Kingdom",
          "United Kingdom",
          "United Kingdom",
          "United Kingdom",
          "United Kingdom",
          "United Kingdom",
          "United Kingdom",
          "United Kingdom",
          "United Kingdom",
          "United Kingdom",
          "United Kingdom",
          "United Kingdom",
          "United Kingdom",
          "United Kingdom",
          "United Kingdom",
          "United Kingdom",
          "United Kingdom",
          "United Kingdom",
          "United Kingdom",
          "United Kingdom",
          "United Kingdom",
          "United Kingdom",
          "United Kingdom",
          "United Kingdom",
          "United Kingdom",
          "United Kingdom",
          "United Kingdom",
          "United Kingdom",
          "United Kingdom",
          "United Kingdom",
          "United Kingdom",
          "United Kingdom",
          "United Kingdom",
          "United Kingdom",
          "United Kingdom",
          "United Kingdom",
          "United Kingdom",
          "United Kingdom",
          "United Kingdom",
          "United Kingdom",
          "United Kingdom",
          "United Kingdom",
          "United Kingdom",
          "United Kingdom",
          "United Kingdom",
          "United Kingdom",
          "United Kingdom",
          "United Kingdom",
          "United Kingdom",
          "United Kingdom",
          "United Kingdom",
          "United Kingdom",
          "United Kingdom",
          "United Kingdom",
          "United Kingdom",
          "United Kingdom",
          "United Kingdom",
          "United Kingdom",
          "United Kingdom",
          "United Kingdom",
          "United Kingdom",
          "United Kingdom",
          "United Kingdom",
          "United Kingdom",
          "United Kingdom",
          "United Kingdom",
          "United Kingdom",
          "United Kingdom",
          "United Kingdom",
          "United Kingdom",
          "United Kingdom",
          "United Kingdom",
          "United Kingdom",
          "United Kingdom",
          "United Kingdom",
          "United Kingdom",
          "United Kingdom",
          "United Kingdom",
          "United Kingdom",
          "United Kingdom",
          "United Kingdom",
          "United Kingdom",
          "United Kingdom",
          "United Kingdom",
          "United Kingdom",
          "United Kingdom",
          "United Kingdom",
          "United Kingdom",
          "United Kingdom",
          "United Kingdom",
          "United Kingdom",
          "United Kingdom",
          "United Kingdom",
          "United Kingdom",
          "United Kingdom",
          "United Kingdom",
          "United Kingdom"
         ],
         "legendgroup": "United Kingdom",
         "marker": {
          "color": "#FFA15A",
          "size": [
           2160945659904,
           2212969054208,
           2267379924992,
           2251038392320,
           2151646494720,
           2190775025664,
           2221719158784,
           2250912301056,
           2293924888576,
           2363952726016,
           2415783051264,
           2460057337856,
           2506603626496,
           2540210225152,
           2160945659904,
           2212969054208,
           2267379924992,
           2251038392320,
           2151646494720,
           2190775025664,
           2221719158784,
           2250912301056,
           2293924888576,
           2363952726016,
           2415783051264,
           2460057337856,
           2506603626496,
           2540210225152,
           2160945659904,
           2212969054208,
           2267379924992,
           2251038392320,
           2151646494720,
           2190775025664,
           2221719158784,
           2250912301056,
           2293924888576,
           2363952726016,
           2415783051264,
           2460057337856,
           2506603626496,
           2540210225152,
           2160945659904,
           2212969054208,
           2267379924992,
           2251038392320,
           2151646494720,
           2190775025664,
           2221719158784,
           2250912301056,
           2293924888576,
           2363952726016,
           2415783051264,
           2460057337856,
           2506603626496,
           2540210225152,
           2160945659904,
           2212969054208,
           2267379924992,
           2251038392320,
           2151646494720,
           2190775025664,
           2221719158784,
           2250912301056,
           2293924888576,
           2363952726016,
           2415783051264,
           2460057337856,
           2506603626496,
           2540210225152,
           2160945659904,
           2212969054208,
           2267379924992,
           2251038392320,
           2151646494720,
           2190775025664,
           2221719158784,
           2250912301056,
           2293924888576,
           2363952726016,
           2415783051264,
           2460057337856,
           2506603626496,
           2540210225152,
           2160945659904,
           2212969054208,
           2267379924992,
           2251038392320,
           2151646494720,
           2190775025664,
           2221719158784,
           2250912301056,
           2293924888576,
           2363952726016,
           2415783051264,
           2460057337856,
           2506603626496,
           2540210225152,
           2160945659904,
           2212969054208,
           2267379924992,
           2251038392320,
           2151646494720,
           2190775025664,
           2221719158784,
           2250912301056,
           2293924888576,
           2363952726016,
           2415783051264,
           2460057337856,
           2506603626496,
           2540210225152,
           2160945659904,
           2212969054208,
           2267379924992,
           2251038392320,
           2151646494720,
           2190775025664,
           2221719158784,
           2250912301056,
           2293924888576,
           2363952726016,
           2415783051264,
           2460057337856,
           2506603626496,
           2540210225152,
           2160945659904,
           2212969054208,
           2267379924992,
           2251038392320,
           2151646494720,
           2190775025664,
           2221719158784,
           2250912301056,
           2293924888576,
           2363952726016,
           2415783051264,
           2460057337856,
           2506603626496,
           2540210225152,
           2160945659904,
           2212969054208,
           2267379924992,
           2251038392320,
           2151646494720,
           2190775025664,
           2221719158784,
           2250912301056,
           2293924888576,
           2363952726016,
           2415783051264,
           2460057337856,
           2506603626496,
           2540210225152,
           2160945659904,
           2212969054208,
           2267379924992,
           2251038392320,
           2151646494720,
           2190775025664,
           2221719158784,
           2250912301056,
           2293924888576,
           2363952726016,
           2415783051264,
           2460057337856,
           2506603626496,
           2540210225152,
           2160945659904,
           2212969054208,
           2267379924992,
           2251038392320,
           2151646494720,
           2190775025664,
           2221719158784,
           2250912301056,
           2293924888576,
           2363952726016,
           2415783051264,
           2460057337856,
           2506603626496,
           2540210225152,
           2160945659904,
           2212969054208,
           2267379924992,
           2251038392320,
           2151646494720,
           2190775025664,
           2221719158784,
           2250912301056,
           2293924888576,
           2363952726016,
           2415783051264,
           2460057337856,
           2506603626496,
           2540210225152,
           2160945659904,
           2212969054208,
           2267379924992,
           2251038392320,
           2151646494720,
           2190775025664,
           2221719158784,
           2250912301056,
           2293924888576,
           2363952726016,
           2415783051264,
           2460057337856,
           2506603626496,
           2540210225152,
           2160945659904,
           2212969054208,
           2267379924992,
           2251038392320,
           2151646494720,
           2190775025664,
           2221719158784,
           2250912301056,
           2293924888576,
           2363952726016,
           2415783051264,
           2460057337856,
           2506603626496,
           2540210225152,
           2160945659904,
           2212969054208,
           2267379924992,
           2251038392320,
           2151646494720,
           2190775025664,
           2221719158784,
           2250912301056,
           2293924888576,
           2363952726016,
           2415783051264,
           2460057337856,
           2506603626496,
           2540210225152,
           2160945659904,
           2212969054208,
           2267379924992,
           2251038392320,
           2151646494720,
           2190775025664,
           2221719158784,
           2250912301056,
           2293924888576,
           2363952726016,
           2415783051264,
           2460057337856,
           2506603626496,
           2540210225152,
           2160945659904,
           2212969054208,
           2267379924992,
           2251038392320,
           2151646494720,
           2190775025664,
           2221719158784,
           2250912301056,
           2293924888576,
           2363952726016,
           2415783051264,
           2460057337856,
           2506603626496,
           2540210225152,
           2160945659904,
           2212969054208,
           2267379924992,
           2251038392320,
           2151646494720,
           2190775025664,
           2221719158784,
           2250912301056,
           2293924888576,
           2363952726016,
           2415783051264,
           2460057337856,
           2506603626496,
           2540210225152,
           2160945659904,
           2212969054208,
           2267379924992,
           2251038392320,
           2151646494720,
           2190775025664,
           2221719158784,
           2250912301056,
           2293924888576,
           2363952726016,
           2415783051264,
           2460057337856,
           2506603626496,
           2540210225152,
           2160945659904,
           2212969054208,
           2267379924992,
           2251038392320,
           2151646494720,
           2190775025664,
           2221719158784,
           2250912301056,
           2293924888576,
           2363952726016,
           2415783051264,
           2460057337856,
           2506603626496,
           2540210225152,
           2160945659904,
           2212969054208,
           2267379924992,
           2251038392320,
           2151646494720,
           2190775025664,
           2221719158784,
           2250912301056,
           2293924888576,
           2363952726016,
           2415783051264,
           2460057337856,
           2506603626496,
           2540210225152
          ],
          "sizemode": "area",
          "sizeref": 9338547732.48,
          "symbol": "circle"
         },
         "mode": "markers",
         "name": "United Kingdom",
         "showlegend": true,
         "type": "scattergl",
         "x": [
          2005,
          2006,
          2007,
          2008,
          2009,
          2010,
          2011,
          2012,
          2013,
          2014,
          2015,
          2016,
          2017,
          2018,
          2005,
          2006,
          2007,
          2008,
          2009,
          2010,
          2011,
          2012,
          2013,
          2014,
          2015,
          2016,
          2017,
          2018,
          2005,
          2006,
          2007,
          2008,
          2009,
          2010,
          2011,
          2012,
          2013,
          2014,
          2015,
          2016,
          2017,
          2018,
          2005,
          2006,
          2007,
          2008,
          2009,
          2010,
          2011,
          2012,
          2013,
          2014,
          2015,
          2016,
          2017,
          2018,
          2005,
          2006,
          2007,
          2008,
          2009,
          2010,
          2011,
          2012,
          2013,
          2014,
          2015,
          2016,
          2017,
          2018,
          2005,
          2006,
          2007,
          2008,
          2009,
          2010,
          2011,
          2012,
          2013,
          2014,
          2015,
          2016,
          2017,
          2018,
          2005,
          2006,
          2007,
          2008,
          2009,
          2010,
          2011,
          2012,
          2013,
          2014,
          2015,
          2016,
          2017,
          2018,
          2005,
          2006,
          2007,
          2008,
          2009,
          2010,
          2011,
          2012,
          2013,
          2014,
          2015,
          2016,
          2017,
          2018,
          2005,
          2006,
          2007,
          2008,
          2009,
          2010,
          2011,
          2012,
          2013,
          2014,
          2015,
          2016,
          2017,
          2018,
          2005,
          2006,
          2007,
          2008,
          2009,
          2010,
          2011,
          2012,
          2013,
          2014,
          2015,
          2016,
          2017,
          2018,
          2005,
          2006,
          2007,
          2008,
          2009,
          2010,
          2011,
          2012,
          2013,
          2014,
          2015,
          2016,
          2017,
          2018,
          2005,
          2006,
          2007,
          2008,
          2009,
          2010,
          2011,
          2012,
          2013,
          2014,
          2015,
          2016,
          2017,
          2018,
          2005,
          2006,
          2007,
          2008,
          2009,
          2010,
          2011,
          2012,
          2013,
          2014,
          2015,
          2016,
          2017,
          2018,
          2005,
          2006,
          2007,
          2008,
          2009,
          2010,
          2011,
          2012,
          2013,
          2014,
          2015,
          2016,
          2017,
          2018,
          2005,
          2006,
          2007,
          2008,
          2009,
          2010,
          2011,
          2012,
          2013,
          2014,
          2015,
          2016,
          2017,
          2018,
          2005,
          2006,
          2007,
          2008,
          2009,
          2010,
          2011,
          2012,
          2013,
          2014,
          2015,
          2016,
          2017,
          2018,
          2005,
          2006,
          2007,
          2008,
          2009,
          2010,
          2011,
          2012,
          2013,
          2014,
          2015,
          2016,
          2017,
          2018,
          2005,
          2006,
          2007,
          2008,
          2009,
          2010,
          2011,
          2012,
          2013,
          2014,
          2015,
          2016,
          2017,
          2018,
          2005,
          2006,
          2007,
          2008,
          2009,
          2010,
          2011,
          2012,
          2013,
          2014,
          2015,
          2016,
          2017,
          2018,
          2005,
          2006,
          2007,
          2008,
          2009,
          2010,
          2011,
          2012,
          2013,
          2014,
          2015,
          2016,
          2017,
          2018,
          2005,
          2006,
          2007,
          2008,
          2009,
          2010,
          2011,
          2012,
          2013,
          2014,
          2015,
          2016,
          2017,
          2018,
          2005,
          2006,
          2007,
          2008,
          2009,
          2010,
          2011,
          2012,
          2013,
          2014,
          2015,
          2016,
          2017,
          2018,
          2005,
          2006,
          2007,
          2008,
          2009,
          2010,
          2011,
          2012,
          2013,
          2014,
          2015,
          2016,
          2017,
          2018
         ],
         "xaxis": "x",
         "y": [
          2.301,
          2.359,
          2.374,
          2.487,
          2.873,
          3.236,
          3.646,
          4.082,
          5.093,
          6.748,
          8.49,
          8.939,
          9.511,
          10.569,
          2.301,
          2.359,
          2.374,
          2.487,
          2.873,
          3.236,
          3.646,
          4.082,
          5.093,
          6.748,
          8.49,
          8.939,
          9.511,
          10.569,
          2.301,
          2.359,
          2.374,
          2.487,
          2.873,
          3.236,
          3.646,
          4.082,
          5.093,
          6.748,
          8.49,
          8.939,
          9.511,
          10.569,
          2.301,
          2.359,
          2.374,
          2.487,
          2.873,
          3.236,
          3.646,
          4.082,
          5.093,
          6.748,
          8.49,
          8.939,
          9.511,
          10.569,
          2.3,
          2.36,
          2.37,
          2.49,
          2.87,
          3.24,
          3.65,
          4.08,
          5.09,
          6.75,
          8.49,
          8.94,
          9.51,
          10.57,
          2.3,
          2.36,
          2.37,
          2.49,
          2.87,
          3.24,
          3.65,
          4.08,
          5.09,
          6.75,
          8.49,
          8.94,
          9.51,
          10.57,
          2.3,
          2.36,
          2.37,
          2.49,
          2.87,
          3.24,
          3.65,
          4.08,
          5.09,
          6.75,
          8.49,
          8.94,
          9.51,
          10.57,
          2.3,
          2.36,
          2.37,
          2.49,
          2.87,
          3.24,
          3.65,
          4.08,
          5.09,
          6.75,
          8.49,
          8.94,
          9.51,
          10.57,
          2.3,
          2.36,
          2.37,
          2.49,
          2.87,
          3.24,
          3.65,
          4.08,
          5.09,
          6.75,
          8.49,
          8.94,
          9.51,
          10.57,
          2.3,
          2.36,
          2.37,
          2.49,
          2.87,
          3.24,
          3.65,
          4.08,
          5.09,
          6.75,
          8.49,
          8.94,
          9.51,
          10.57,
          2.3,
          2.36,
          2.37,
          2.49,
          2.87,
          3.24,
          3.65,
          4.08,
          5.09,
          6.75,
          8.49,
          8.94,
          9.51,
          10.57,
          2.3,
          2.36,
          2.37,
          2.49,
          2.87,
          3.24,
          3.65,
          4.08,
          5.09,
          6.75,
          8.49,
          8.94,
          9.51,
          10.57,
          2.3,
          2.36,
          2.37,
          2.49,
          2.87,
          3.24,
          3.65,
          4.08,
          5.09,
          6.75,
          8.49,
          8.94,
          9.51,
          10.57,
          2.3,
          2.36,
          2.37,
          2.49,
          2.87,
          3.24,
          3.65,
          4.08,
          5.09,
          6.75,
          8.49,
          8.94,
          9.51,
          10.57,
          2.3,
          2.36,
          2.37,
          2.49,
          2.87,
          3.24,
          3.65,
          4.08,
          5.09,
          6.75,
          8.49,
          8.94,
          9.51,
          10.57,
          2.3,
          2.36,
          2.37,
          2.49,
          2.87,
          3.24,
          3.65,
          4.08,
          5.09,
          6.75,
          8.49,
          8.94,
          9.51,
          10.57,
          2.3,
          2.36,
          2.37,
          2.49,
          2.87,
          3.24,
          3.65,
          4.08,
          5.09,
          6.75,
          8.49,
          8.94,
          9.51,
          10.57,
          2.3,
          2.36,
          2.37,
          2.49,
          2.87,
          3.24,
          3.65,
          4.08,
          5.09,
          6.75,
          8.49,
          8.94,
          9.51,
          10.57,
          2.3,
          2.36,
          2.37,
          2.49,
          2.87,
          3.24,
          3.65,
          4.08,
          5.09,
          6.75,
          8.49,
          8.94,
          9.51,
          10.57,
          2.3,
          2.36,
          2.37,
          2.49,
          2.87,
          3.24,
          3.65,
          4.08,
          5.09,
          6.75,
          8.49,
          8.94,
          9.51,
          10.57,
          2.3,
          2.36,
          2.37,
          2.49,
          2.87,
          3.24,
          3.65,
          4.08,
          5.09,
          6.75,
          8.49,
          8.94,
          9.51,
          10.57,
          2.3,
          2.36,
          2.37,
          2.49,
          2.87,
          3.24,
          3.65,
          4.08,
          5.09,
          6.75,
          8.49,
          8.94,
          9.51,
          10.57,
          2.3,
          2.36,
          2.37,
          2.49,
          2.87,
          3.24,
          3.65,
          4.08,
          5.09,
          6.75,
          8.49,
          8.94,
          9.51,
          10.57
         ],
         "yaxis": "y"
        }
       ],
       "layout": {
        "legend": {
         "itemsizing": "constant",
         "title": {
          "text": "country"
         },
         "tracegroupgap": 0
        },
        "template": {
         "data": {
          "bar": [
           {
            "error_x": {
             "color": "#2a3f5f"
            },
            "error_y": {
             "color": "#2a3f5f"
            },
            "marker": {
             "line": {
              "color": "#E5ECF6",
              "width": 0.5
             },
             "pattern": {
              "fillmode": "overlay",
              "size": 10,
              "solidity": 0.2
             }
            },
            "type": "bar"
           }
          ],
          "barpolar": [
           {
            "marker": {
             "line": {
              "color": "#E5ECF6",
              "width": 0.5
             },
             "pattern": {
              "fillmode": "overlay",
              "size": 10,
              "solidity": 0.2
             }
            },
            "type": "barpolar"
           }
          ],
          "carpet": [
           {
            "aaxis": {
             "endlinecolor": "#2a3f5f",
             "gridcolor": "white",
             "linecolor": "white",
             "minorgridcolor": "white",
             "startlinecolor": "#2a3f5f"
            },
            "baxis": {
             "endlinecolor": "#2a3f5f",
             "gridcolor": "white",
             "linecolor": "white",
             "minorgridcolor": "white",
             "startlinecolor": "#2a3f5f"
            },
            "type": "carpet"
           }
          ],
          "choropleth": [
           {
            "colorbar": {
             "outlinewidth": 0,
             "ticks": ""
            },
            "type": "choropleth"
           }
          ],
          "contour": [
           {
            "colorbar": {
             "outlinewidth": 0,
             "ticks": ""
            },
            "colorscale": [
             [
              0,
              "#0d0887"
             ],
             [
              0.1111111111111111,
              "#46039f"
             ],
             [
              0.2222222222222222,
              "#7201a8"
             ],
             [
              0.3333333333333333,
              "#9c179e"
             ],
             [
              0.4444444444444444,
              "#bd3786"
             ],
             [
              0.5555555555555556,
              "#d8576b"
             ],
             [
              0.6666666666666666,
              "#ed7953"
             ],
             [
              0.7777777777777778,
              "#fb9f3a"
             ],
             [
              0.8888888888888888,
              "#fdca26"
             ],
             [
              1,
              "#f0f921"
             ]
            ],
            "type": "contour"
           }
          ],
          "contourcarpet": [
           {
            "colorbar": {
             "outlinewidth": 0,
             "ticks": ""
            },
            "type": "contourcarpet"
           }
          ],
          "heatmap": [
           {
            "colorbar": {
             "outlinewidth": 0,
             "ticks": ""
            },
            "colorscale": [
             [
              0,
              "#0d0887"
             ],
             [
              0.1111111111111111,
              "#46039f"
             ],
             [
              0.2222222222222222,
              "#7201a8"
             ],
             [
              0.3333333333333333,
              "#9c179e"
             ],
             [
              0.4444444444444444,
              "#bd3786"
             ],
             [
              0.5555555555555556,
              "#d8576b"
             ],
             [
              0.6666666666666666,
              "#ed7953"
             ],
             [
              0.7777777777777778,
              "#fb9f3a"
             ],
             [
              0.8888888888888888,
              "#fdca26"
             ],
             [
              1,
              "#f0f921"
             ]
            ],
            "type": "heatmap"
           }
          ],
          "heatmapgl": [
           {
            "colorbar": {
             "outlinewidth": 0,
             "ticks": ""
            },
            "colorscale": [
             [
              0,
              "#0d0887"
             ],
             [
              0.1111111111111111,
              "#46039f"
             ],
             [
              0.2222222222222222,
              "#7201a8"
             ],
             [
              0.3333333333333333,
              "#9c179e"
             ],
             [
              0.4444444444444444,
              "#bd3786"
             ],
             [
              0.5555555555555556,
              "#d8576b"
             ],
             [
              0.6666666666666666,
              "#ed7953"
             ],
             [
              0.7777777777777778,
              "#fb9f3a"
             ],
             [
              0.8888888888888888,
              "#fdca26"
             ],
             [
              1,
              "#f0f921"
             ]
            ],
            "type": "heatmapgl"
           }
          ],
          "histogram": [
           {
            "marker": {
             "pattern": {
              "fillmode": "overlay",
              "size": 10,
              "solidity": 0.2
             }
            },
            "type": "histogram"
           }
          ],
          "histogram2d": [
           {
            "colorbar": {
             "outlinewidth": 0,
             "ticks": ""
            },
            "colorscale": [
             [
              0,
              "#0d0887"
             ],
             [
              0.1111111111111111,
              "#46039f"
             ],
             [
              0.2222222222222222,
              "#7201a8"
             ],
             [
              0.3333333333333333,
              "#9c179e"
             ],
             [
              0.4444444444444444,
              "#bd3786"
             ],
             [
              0.5555555555555556,
              "#d8576b"
             ],
             [
              0.6666666666666666,
              "#ed7953"
             ],
             [
              0.7777777777777778,
              "#fb9f3a"
             ],
             [
              0.8888888888888888,
              "#fdca26"
             ],
             [
              1,
              "#f0f921"
             ]
            ],
            "type": "histogram2d"
           }
          ],
          "histogram2dcontour": [
           {
            "colorbar": {
             "outlinewidth": 0,
             "ticks": ""
            },
            "colorscale": [
             [
              0,
              "#0d0887"
             ],
             [
              0.1111111111111111,
              "#46039f"
             ],
             [
              0.2222222222222222,
              "#7201a8"
             ],
             [
              0.3333333333333333,
              "#9c179e"
             ],
             [
              0.4444444444444444,
              "#bd3786"
             ],
             [
              0.5555555555555556,
              "#d8576b"
             ],
             [
              0.6666666666666666,
              "#ed7953"
             ],
             [
              0.7777777777777778,
              "#fb9f3a"
             ],
             [
              0.8888888888888888,
              "#fdca26"
             ],
             [
              1,
              "#f0f921"
             ]
            ],
            "type": "histogram2dcontour"
           }
          ],
          "mesh3d": [
           {
            "colorbar": {
             "outlinewidth": 0,
             "ticks": ""
            },
            "type": "mesh3d"
           }
          ],
          "parcoords": [
           {
            "line": {
             "colorbar": {
              "outlinewidth": 0,
              "ticks": ""
             }
            },
            "type": "parcoords"
           }
          ],
          "pie": [
           {
            "automargin": true,
            "type": "pie"
           }
          ],
          "scatter": [
           {
            "fillpattern": {
             "fillmode": "overlay",
             "size": 10,
             "solidity": 0.2
            },
            "type": "scatter"
           }
          ],
          "scatter3d": [
           {
            "line": {
             "colorbar": {
              "outlinewidth": 0,
              "ticks": ""
             }
            },
            "marker": {
             "colorbar": {
              "outlinewidth": 0,
              "ticks": ""
             }
            },
            "type": "scatter3d"
           }
          ],
          "scattercarpet": [
           {
            "marker": {
             "colorbar": {
              "outlinewidth": 0,
              "ticks": ""
             }
            },
            "type": "scattercarpet"
           }
          ],
          "scattergeo": [
           {
            "marker": {
             "colorbar": {
              "outlinewidth": 0,
              "ticks": ""
             }
            },
            "type": "scattergeo"
           }
          ],
          "scattergl": [
           {
            "marker": {
             "colorbar": {
              "outlinewidth": 0,
              "ticks": ""
             }
            },
            "type": "scattergl"
           }
          ],
          "scattermapbox": [
           {
            "marker": {
             "colorbar": {
              "outlinewidth": 0,
              "ticks": ""
             }
            },
            "type": "scattermapbox"
           }
          ],
          "scatterpolar": [
           {
            "marker": {
             "colorbar": {
              "outlinewidth": 0,
              "ticks": ""
             }
            },
            "type": "scatterpolar"
           }
          ],
          "scatterpolargl": [
           {
            "marker": {
             "colorbar": {
              "outlinewidth": 0,
              "ticks": ""
             }
            },
            "type": "scatterpolargl"
           }
          ],
          "scatterternary": [
           {
            "marker": {
             "colorbar": {
              "outlinewidth": 0,
              "ticks": ""
             }
            },
            "type": "scatterternary"
           }
          ],
          "surface": [
           {
            "colorbar": {
             "outlinewidth": 0,
             "ticks": ""
            },
            "colorscale": [
             [
              0,
              "#0d0887"
             ],
             [
              0.1111111111111111,
              "#46039f"
             ],
             [
              0.2222222222222222,
              "#7201a8"
             ],
             [
              0.3333333333333333,
              "#9c179e"
             ],
             [
              0.4444444444444444,
              "#bd3786"
             ],
             [
              0.5555555555555556,
              "#d8576b"
             ],
             [
              0.6666666666666666,
              "#ed7953"
             ],
             [
              0.7777777777777778,
              "#fb9f3a"
             ],
             [
              0.8888888888888888,
              "#fdca26"
             ],
             [
              1,
              "#f0f921"
             ]
            ],
            "type": "surface"
           }
          ],
          "table": [
           {
            "cells": {
             "fill": {
              "color": "#EBF0F8"
             },
             "line": {
              "color": "white"
             }
            },
            "header": {
             "fill": {
              "color": "#C8D4E3"
             },
             "line": {
              "color": "white"
             }
            },
            "type": "table"
           }
          ]
         },
         "layout": {
          "annotationdefaults": {
           "arrowcolor": "#2a3f5f",
           "arrowhead": 0,
           "arrowwidth": 1
          },
          "autotypenumbers": "strict",
          "coloraxis": {
           "colorbar": {
            "outlinewidth": 0,
            "ticks": ""
           }
          },
          "colorscale": {
           "diverging": [
            [
             0,
             "#8e0152"
            ],
            [
             0.1,
             "#c51b7d"
            ],
            [
             0.2,
             "#de77ae"
            ],
            [
             0.3,
             "#f1b6da"
            ],
            [
             0.4,
             "#fde0ef"
            ],
            [
             0.5,
             "#f7f7f7"
            ],
            [
             0.6,
             "#e6f5d0"
            ],
            [
             0.7,
             "#b8e186"
            ],
            [
             0.8,
             "#7fbc41"
            ],
            [
             0.9,
             "#4d9221"
            ],
            [
             1,
             "#276419"
            ]
           ],
           "sequential": [
            [
             0,
             "#0d0887"
            ],
            [
             0.1111111111111111,
             "#46039f"
            ],
            [
             0.2222222222222222,
             "#7201a8"
            ],
            [
             0.3333333333333333,
             "#9c179e"
            ],
            [
             0.4444444444444444,
             "#bd3786"
            ],
            [
             0.5555555555555556,
             "#d8576b"
            ],
            [
             0.6666666666666666,
             "#ed7953"
            ],
            [
             0.7777777777777778,
             "#fb9f3a"
            ],
            [
             0.8888888888888888,
             "#fdca26"
            ],
            [
             1,
             "#f0f921"
            ]
           ],
           "sequentialminus": [
            [
             0,
             "#0d0887"
            ],
            [
             0.1111111111111111,
             "#46039f"
            ],
            [
             0.2222222222222222,
             "#7201a8"
            ],
            [
             0.3333333333333333,
             "#9c179e"
            ],
            [
             0.4444444444444444,
             "#bd3786"
            ],
            [
             0.5555555555555556,
             "#d8576b"
            ],
            [
             0.6666666666666666,
             "#ed7953"
            ],
            [
             0.7777777777777778,
             "#fb9f3a"
            ],
            [
             0.8888888888888888,
             "#fdca26"
            ],
            [
             1,
             "#f0f921"
            ]
           ]
          },
          "colorway": [
           "#636efa",
           "#EF553B",
           "#00cc96",
           "#ab63fa",
           "#FFA15A",
           "#19d3f3",
           "#FF6692",
           "#B6E880",
           "#FF97FF",
           "#FECB52"
          ],
          "font": {
           "color": "#2a3f5f"
          },
          "geo": {
           "bgcolor": "white",
           "lakecolor": "white",
           "landcolor": "#E5ECF6",
           "showlakes": true,
           "showland": true,
           "subunitcolor": "white"
          },
          "hoverlabel": {
           "align": "left"
          },
          "hovermode": "closest",
          "mapbox": {
           "style": "light"
          },
          "paper_bgcolor": "white",
          "plot_bgcolor": "#E5ECF6",
          "polar": {
           "angularaxis": {
            "gridcolor": "white",
            "linecolor": "white",
            "ticks": ""
           },
           "bgcolor": "#E5ECF6",
           "radialaxis": {
            "gridcolor": "white",
            "linecolor": "white",
            "ticks": ""
           }
          },
          "scene": {
           "xaxis": {
            "backgroundcolor": "#E5ECF6",
            "gridcolor": "white",
            "gridwidth": 2,
            "linecolor": "white",
            "showbackground": true,
            "ticks": "",
            "zerolinecolor": "white"
           },
           "yaxis": {
            "backgroundcolor": "#E5ECF6",
            "gridcolor": "white",
            "gridwidth": 2,
            "linecolor": "white",
            "showbackground": true,
            "ticks": "",
            "zerolinecolor": "white"
           },
           "zaxis": {
            "backgroundcolor": "#E5ECF6",
            "gridcolor": "white",
            "gridwidth": 2,
            "linecolor": "white",
            "showbackground": true,
            "ticks": "",
            "zerolinecolor": "white"
           }
          },
          "shapedefaults": {
           "line": {
            "color": "#2a3f5f"
           }
          },
          "ternary": {
           "aaxis": {
            "gridcolor": "white",
            "linecolor": "white",
            "ticks": ""
           },
           "baxis": {
            "gridcolor": "white",
            "linecolor": "white",
            "ticks": ""
           },
           "bgcolor": "#E5ECF6",
           "caxis": {
            "gridcolor": "white",
            "linecolor": "white",
            "ticks": ""
           }
          },
          "title": {
           "x": 0.05
          },
          "xaxis": {
           "automargin": true,
           "gridcolor": "white",
           "linecolor": "white",
           "ticks": "",
           "title": {
            "standoff": 15
           },
           "zerolinecolor": "white",
           "zerolinewidth": 2
          },
          "yaxis": {
           "automargin": true,
           "gridcolor": "white",
           "linecolor": "white",
           "ticks": "",
           "title": {
            "standoff": 15
           },
           "zerolinecolor": "white",
           "zerolinewidth": 2
          }
         }
        },
        "title": {
         "text": "Biofuel Share of Electricity Over Time (Top 5 Countries)"
        },
        "xaxis": {
         "anchor": "y",
         "domain": [
          0,
          1
         ],
         "title": {
          "text": "Year"
         }
        },
        "yaxis": {
         "anchor": "x",
         "domain": [
          0,
          1
         ],
         "title": {
          "text": "Biofuel Share in Electricity (%)"
         }
        }
       }
      }
     },
     "metadata": {},
     "output_type": "display_data"
    }
   ],
   "source": [
    "# Filter for the last two decades (2005 to 2024)\n",
    "filtered_df = df_mongo[(df_mongo['year'] >= 2005) & (df_mongo['year'] <= 2024)]\n",
    "\n",
    "# Group by country and calculate the average biofuel share of electricity for each country\n",
    "avg_biofuel_share = filtered_df.groupby('country')['biofuel_share_elec'].mean().reset_index()\n",
    "\n",
    "# Sort by biofuel share of electricity and select the top N countries (e.g., top 5)\n",
    "top_countries = avg_biofuel_share.sort_values('biofuel_share_elec', ascending=False).head(5)['country'].tolist()\n",
    "\n",
    "# Filter the original DataFrame for the top N countries\n",
    "df_filtered = filtered_df[filtered_df['country'].isin(top_countries)]\n",
    "\n",
    "# Create a scatter plot for biofuel share of electricity\n",
    "fig = px.scatter(df_filtered, \n",
    "                 x='year', \n",
    "                 y='biofuel_share_elec', \n",
    "                 color='country', \n",
    "                 size='gdp', \n",
    "                 hover_name='country', \n",
    "                 title='Biofuel Share of Electricity Over Time (Top 5 Countries)',\n",
    "                 labels={'biofuel_share_elec': 'Biofuel Share in Electricity (%)', 'year': 'Year'})\n",
    "\n",
    "# Save the plot as an HTML file\n",
    "html_filename = 'Biofuel Share of Electricity Over Time (Top 5 Countries)_plotly.html'\n",
    "fig.write_html(html_filename)\n",
    "\n",
    "\n",
    "# Show the visual\n",
    "fig.show()"
   ]
  },
  {
   "cell_type": "code",
   "execution_count": 25,
   "metadata": {},
   "outputs": [
    {
     "data": {
      "text/html": [
       "<div>\n",
       "<style scoped>\n",
       "    .dataframe tbody tr th:only-of-type {\n",
       "        vertical-align: middle;\n",
       "    }\n",
       "\n",
       "    .dataframe tbody tr th {\n",
       "        vertical-align: top;\n",
       "    }\n",
       "\n",
       "    .dataframe thead th {\n",
       "        text-align: right;\n",
       "    }\n",
       "</style>\n",
       "<table border=\"1\" class=\"dataframe\">\n",
       "  <thead>\n",
       "    <tr style=\"text-align: right;\">\n",
       "      <th></th>\n",
       "      <th>country</th>\n",
       "      <th>lat</th>\n",
       "      <th>lon</th>\n",
       "    </tr>\n",
       "  </thead>\n",
       "  <tbody>\n",
       "    <tr>\n",
       "      <th>0</th>\n",
       "      <td>Australia</td>\n",
       "      <td>-24.776109</td>\n",
       "      <td>134.755000</td>\n",
       "    </tr>\n",
       "    <tr>\n",
       "      <th>1</th>\n",
       "      <td>Canada</td>\n",
       "      <td>61.066692</td>\n",
       "      <td>-107.991707</td>\n",
       "    </tr>\n",
       "    <tr>\n",
       "      <th>2</th>\n",
       "      <td>Germany</td>\n",
       "      <td>51.163818</td>\n",
       "      <td>10.447831</td>\n",
       "    </tr>\n",
       "    <tr>\n",
       "      <th>3</th>\n",
       "      <td>United States</td>\n",
       "      <td>39.783730</td>\n",
       "      <td>-100.445882</td>\n",
       "    </tr>\n",
       "    <tr>\n",
       "      <th>4</th>\n",
       "      <td>India</td>\n",
       "      <td>22.351115</td>\n",
       "      <td>78.667743</td>\n",
       "    </tr>\n",
       "    <tr>\n",
       "      <th>5</th>\n",
       "      <td>saudi Arabia</td>\n",
       "      <td>25.624262</td>\n",
       "      <td>42.352833</td>\n",
       "    </tr>\n",
       "    <tr>\n",
       "      <th>6</th>\n",
       "      <td>Russia</td>\n",
       "      <td>64.686314</td>\n",
       "      <td>97.745306</td>\n",
       "    </tr>\n",
       "    <tr>\n",
       "      <th>7</th>\n",
       "      <td>united kingdom</td>\n",
       "      <td>54.702354</td>\n",
       "      <td>-3.276575</td>\n",
       "    </tr>\n",
       "  </tbody>\n",
       "</table>\n",
       "</div>"
      ],
      "text/plain": [
       "          country        lat         lon\n",
       "0       Australia -24.776109  134.755000\n",
       "1          Canada  61.066692 -107.991707\n",
       "2         Germany  51.163818   10.447831\n",
       "3   United States  39.783730 -100.445882\n",
       "4           India  22.351115   78.667743\n",
       "5    saudi Arabia  25.624262   42.352833\n",
       "6          Russia  64.686314   97.745306\n",
       "7  united kingdom  54.702354   -3.276575"
      ]
     },
     "execution_count": 25,
     "metadata": {},
     "output_type": "execute_result"
    }
   ],
   "source": [
    "# Your GeoAPI API key\n",
    "from api_keys import api_key \n",
    "\n",
    "# Sample country names\n",
    "countries = ['Australia', 'Canada', 'Germany', 'United States', 'India','saudi Arabia','Russia','united kingdom']\n",
    "\n",
    "# Function to get latitude and longitude for a country\n",
    "def get_coordinates(country_name, api_key):\n",
    "    url = f\"https://api.geoapify.com/v1/geocode/search?text={country_name}&apiKey={api_key}\"\n",
    "    response = requests.get(url).json()\n",
    "    if response['features']:\n",
    "        lat = response['features'][0]['properties']['lat']\n",
    "        lon = response['features'][0]['properties']['lon']\n",
    "        return lat, lon\n",
    "    return None, None\n",
    "\n",
    "# Create a DataFrame to store country and their coordinates\n",
    "country_coordinates = []\n",
    "\n",
    "for country in countries:\n",
    "    lat, lon = get_coordinates(country, api_key)\n",
    "    country_coordinates.append({'country': country, 'lat': lat, 'lon': lon})\n",
    "\n",
    "df_coords = pd.DataFrame(country_coordinates)\n",
    "df_coords"
   ]
  },
  {
   "cell_type": "code",
   "execution_count": 26,
   "metadata": {},
   "outputs": [
    {
     "name": "stdout",
     "output_type": "stream",
     "text": [
      "No data found for Australia\n",
      "No data found for India\n",
      "No data found for saudi Arabia\n",
      "No data found for united kingdom\n"
     ]
    },
    {
     "data": {
      "text/html": [
       "<div style=\"width:100%;\"><div style=\"position:relative;width:100%;height:0;padding-bottom:60%;\"><span style=\"color:#565656\">Make this Notebook Trusted to load map: File -> Trust Notebook</span><iframe srcdoc=\"&lt;!DOCTYPE html&gt;\n",
       "&lt;html&gt;\n",
       "&lt;head&gt;\n",
       "    \n",
       "    &lt;meta http-equiv=&quot;content-type&quot; content=&quot;text/html; charset=UTF-8&quot; /&gt;\n",
       "    \n",
       "        &lt;script&gt;\n",
       "            L_NO_TOUCH = false;\n",
       "            L_DISABLE_3D = false;\n",
       "        &lt;/script&gt;\n",
       "    \n",
       "    &lt;style&gt;html, body {width: 100%;height: 100%;margin: 0;padding: 0;}&lt;/style&gt;\n",
       "    &lt;style&gt;#map {position:absolute;top:0;bottom:0;right:0;left:0;}&lt;/style&gt;\n",
       "    &lt;script src=&quot;https://cdn.jsdelivr.net/npm/leaflet@1.9.3/dist/leaflet.js&quot;&gt;&lt;/script&gt;\n",
       "    &lt;script src=&quot;https://code.jquery.com/jquery-3.7.1.min.js&quot;&gt;&lt;/script&gt;\n",
       "    &lt;script src=&quot;https://cdn.jsdelivr.net/npm/bootstrap@5.2.2/dist/js/bootstrap.bundle.min.js&quot;&gt;&lt;/script&gt;\n",
       "    &lt;script src=&quot;https://cdnjs.cloudflare.com/ajax/libs/Leaflet.awesome-markers/2.0.2/leaflet.awesome-markers.js&quot;&gt;&lt;/script&gt;\n",
       "    &lt;link rel=&quot;stylesheet&quot; href=&quot;https://cdn.jsdelivr.net/npm/leaflet@1.9.3/dist/leaflet.css&quot;/&gt;\n",
       "    &lt;link rel=&quot;stylesheet&quot; href=&quot;https://cdn.jsdelivr.net/npm/bootstrap@5.2.2/dist/css/bootstrap.min.css&quot;/&gt;\n",
       "    &lt;link rel=&quot;stylesheet&quot; href=&quot;https://netdna.bootstrapcdn.com/bootstrap/3.0.0/css/bootstrap-glyphicons.css&quot;/&gt;\n",
       "    &lt;link rel=&quot;stylesheet&quot; href=&quot;https://cdn.jsdelivr.net/npm/@fortawesome/fontawesome-free@6.2.0/css/all.min.css&quot;/&gt;\n",
       "    &lt;link rel=&quot;stylesheet&quot; href=&quot;https://cdnjs.cloudflare.com/ajax/libs/Leaflet.awesome-markers/2.0.2/leaflet.awesome-markers.css&quot;/&gt;\n",
       "    &lt;link rel=&quot;stylesheet&quot; href=&quot;https://cdn.jsdelivr.net/gh/python-visualization/folium/folium/templates/leaflet.awesome.rotate.min.css&quot;/&gt;\n",
       "    \n",
       "            &lt;meta name=&quot;viewport&quot; content=&quot;width=device-width,\n",
       "                initial-scale=1.0, maximum-scale=1.0, user-scalable=no&quot; /&gt;\n",
       "            &lt;style&gt;\n",
       "                #map_ed28911944b1f12d1a814a968ba1decf {\n",
       "                    position: relative;\n",
       "                    width: 100.0%;\n",
       "                    height: 100.0%;\n",
       "                    left: 0.0%;\n",
       "                    top: 0.0%;\n",
       "                }\n",
       "                .leaflet-container { font-size: 1rem; }\n",
       "            &lt;/style&gt;\n",
       "        \n",
       "&lt;/head&gt;\n",
       "&lt;body&gt;\n",
       "    \n",
       "    \n",
       "            &lt;div class=&quot;folium-map&quot; id=&quot;map_ed28911944b1f12d1a814a968ba1decf&quot; &gt;&lt;/div&gt;\n",
       "        \n",
       "&lt;/body&gt;\n",
       "&lt;script&gt;\n",
       "    \n",
       "    \n",
       "            var map_ed28911944b1f12d1a814a968ba1decf = L.map(\n",
       "                &quot;map_ed28911944b1f12d1a814a968ba1decf&quot;,\n",
       "                {\n",
       "                    center: [20.0, 0.0],\n",
       "                    crs: L.CRS.EPSG3857,\n",
       "                    zoom: 2,\n",
       "                    zoomControl: true,\n",
       "                    preferCanvas: false,\n",
       "                }\n",
       "            );\n",
       "\n",
       "            \n",
       "\n",
       "        \n",
       "    \n",
       "            var tile_layer_476c712a1eca720a6d34316f14053575 = L.tileLayer(\n",
       "                &quot;https://{s}.tile.opentopomap.org/{z}/{x}/{y}.png&quot;,\n",
       "                {&quot;attribution&quot;: &quot;Map data: \\u0026copy; \\u003ca href=\\&quot;https://www.openstreetmap.org/copyright\\&quot;\\u003eOpenStreetMap\\u003c/a\\u003e contributors, \\u003ca href=\\&quot;http://viewfinderpanoramas.org\\&quot;\\u003eSRTM\\u003c/a\\u003e | Map style: \\u0026copy; \\u003ca href=\\&quot;https://opentopomap.org\\&quot;\\u003eOpenTopoMap\\u003c/a\\u003e (\\u003ca href=\\&quot;https://creativecommons.org/licenses/by-sa/3.0/\\&quot;\\u003eCC-BY-SA\\u003c/a\\u003e)&quot;, &quot;detectRetina&quot;: false, &quot;maxNativeZoom&quot;: 17, &quot;maxZoom&quot;: 17, &quot;minZoom&quot;: 0, &quot;noWrap&quot;: false, &quot;opacity&quot;: 1, &quot;subdomains&quot;: &quot;abc&quot;, &quot;tms&quot;: false}\n",
       "            );\n",
       "        \n",
       "    \n",
       "            tile_layer_476c712a1eca720a6d34316f14053575.addTo(map_ed28911944b1f12d1a814a968ba1decf);\n",
       "        \n",
       "    \n",
       "            var marker_a8f5e83db1728099f11588f4918af53d = L.marker(\n",
       "                [61.0666922, -107.991707],\n",
       "                {}\n",
       "            ).addTo(map_ed28911944b1f12d1a814a968ba1decf);\n",
       "        \n",
       "    \n",
       "        var popup_f492b2f3fba9b7661c512b3fbccde01c = L.popup({&quot;maxWidth&quot;: &quot;100%&quot;});\n",
       "\n",
       "        \n",
       "            \n",
       "                var html_faa9042c2994588ff1082c220a1d5b74 = $(`&lt;div id=&quot;html_faa9042c2994588ff1082c220a1d5b74&quot; style=&quot;width: 100.0%; height: 100.0%;&quot;&gt;Country: Canada&lt;br&gt;Population: 30,683,316.0&lt;br&gt;GDP: $1,138,677,121,024.0&lt;br&gt;Biofuel Consumption: 1.548 TWh&lt;br&gt;Wind Consumption: 0.781 TWh&lt;br&gt;Electricity Generation: 588.42 TWh&lt;/div&gt;`)[0];\n",
       "                popup_f492b2f3fba9b7661c512b3fbccde01c.setContent(html_faa9042c2994588ff1082c220a1d5b74);\n",
       "            \n",
       "        \n",
       "\n",
       "        marker_a8f5e83db1728099f11588f4918af53d.bindPopup(popup_f492b2f3fba9b7661c512b3fbccde01c)\n",
       "        ;\n",
       "\n",
       "        \n",
       "    \n",
       "    \n",
       "            var marker_e4a66b5d9fcc64a234705e8868775ef6 = L.marker(\n",
       "                [51.1638175, 10.4478313],\n",
       "                {}\n",
       "            ).addTo(map_ed28911944b1f12d1a814a968ba1decf);\n",
       "        \n",
       "    \n",
       "        var popup_0d7a0e96e65717a365a89b6afb6d425b = L.popup({&quot;maxWidth&quot;: &quot;100%&quot;});\n",
       "\n",
       "        \n",
       "            \n",
       "                var html_9a5d7005d4cd7c78f6a32e5365d3a5b5 = $(`&lt;div id=&quot;html_9a5d7005d4cd7c78f6a32e5365d3a5b5&quot; style=&quot;width: 100.0%; height: 100.0%;&quot;&gt;Country: Germany&lt;br&gt;Population: 81,551,680.0&lt;br&gt;GDP: $2,741,356,986,368.0&lt;br&gt;Biofuel Consumption: 2.569 TWh&lt;br&gt;Wind Consumption: 28.091 TWh&lt;br&gt;Electricity Generation: 572.3 TWh&lt;/div&gt;`)[0];\n",
       "                popup_0d7a0e96e65717a365a89b6afb6d425b.setContent(html_9a5d7005d4cd7c78f6a32e5365d3a5b5);\n",
       "            \n",
       "        \n",
       "\n",
       "        marker_e4a66b5d9fcc64a234705e8868775ef6.bindPopup(popup_0d7a0e96e65717a365a89b6afb6d425b)\n",
       "        ;\n",
       "\n",
       "        \n",
       "    \n",
       "    \n",
       "            var marker_c4784dcdeeb875868b08963a54e9f812 = L.marker(\n",
       "                [39.7837304, -100.445882],\n",
       "                {}\n",
       "            ).addTo(map_ed28911944b1f12d1a814a968ba1decf);\n",
       "        \n",
       "    \n",
       "        var popup_da8144ae6a4332b2e5c81f3a82a74881 = L.popup({&quot;maxWidth&quot;: &quot;100%&quot;});\n",
       "\n",
       "        \n",
       "            \n",
       "                var html_cd927cc33827a9c333721dc4ecba1b49 = $(`&lt;div id=&quot;html_cd927cc33827a9c333721dc4ecba1b49&quot; style=&quot;width: 100.0%; height: 100.0%;&quot;&gt;Country: United States&lt;br&gt;Population: 282,398,560.0&lt;br&gt;GDP: $12,973,842,104,320.0&lt;br&gt;Biofuel Consumption: 37.003 TWh&lt;br&gt;Wind Consumption: 16.706 TWh&lt;br&gt;Electricity Generation: 3802.1 TWh&lt;/div&gt;`)[0];\n",
       "                popup_da8144ae6a4332b2e5c81f3a82a74881.setContent(html_cd927cc33827a9c333721dc4ecba1b49);\n",
       "            \n",
       "        \n",
       "\n",
       "        marker_c4784dcdeeb875868b08963a54e9f812.bindPopup(popup_da8144ae6a4332b2e5c81f3a82a74881)\n",
       "        ;\n",
       "\n",
       "        \n",
       "    \n",
       "    \n",
       "            var marker_414a842215d23de04dc4d9336e2580fe = L.marker(\n",
       "                [64.6863136, 97.7453061],\n",
       "                {}\n",
       "            ).addTo(map_ed28911944b1f12d1a814a968ba1decf);\n",
       "        \n",
       "    \n",
       "        var popup_f167a7aa41b9934c2ad28cf7d369ed17 = L.popup({&quot;maxWidth&quot;: &quot;100%&quot;});\n",
       "\n",
       "        \n",
       "            \n",
       "                var html_6ec4fc414e33ca8ba8d1a39f94b9711f = $(`&lt;div id=&quot;html_6ec4fc414e33ca8ba8d1a39f94b9711f&quot; style=&quot;width: 100.0%; height: 100.0%;&quot;&gt;Country: Russia&lt;br&gt;Population: 145,452,544.0&lt;br&gt;GDP: $3,524,075,192,320.0&lt;br&gt;Biofuel Consumption: 0.788 TWh&lt;br&gt;Wind Consumption: 0.37 TWh&lt;br&gt;Electricity Generation: 1037.14 TWh&lt;/div&gt;`)[0];\n",
       "                popup_f167a7aa41b9934c2ad28cf7d369ed17.setContent(html_6ec4fc414e33ca8ba8d1a39f94b9711f);\n",
       "            \n",
       "        \n",
       "\n",
       "        marker_414a842215d23de04dc4d9336e2580fe.bindPopup(popup_f167a7aa41b9934c2ad28cf7d369ed17)\n",
       "        ;\n",
       "\n",
       "        \n",
       "    \n",
       "    \n",
       "            tile_layer_476c712a1eca720a6d34316f14053575.addTo(map_ed28911944b1f12d1a814a968ba1decf);\n",
       "        \n",
       "&lt;/script&gt;\n",
       "&lt;/html&gt;\" style=\"position:absolute;width:100%;height:100%;left:0;top:0;border:none !important;\" allowfullscreen webkitallowfullscreen mozallowfullscreen></iframe></div></div>"
      ],
      "text/plain": [
       "<folium.folium.Map at 0x1e86b10f920>"
      ]
     },
     "execution_count": 26,
     "metadata": {},
     "output_type": "execute_result"
    }
   ],
   "source": [
    "# Create a DataFrame to store country and their coordinates\n",
    "country_coordinates = []\n",
    "\n",
    "# Get coordinates for each country and combine with the energy data\n",
    "for country in countries:\n",
    "    lat, lon = get_coordinates(country, api_key)\n",
    "    if lat is not None and lon is not None:\n",
    "        # Find the relevant row in the original DataFrame\n",
    "        country_data = df_mongo[df_mongo['country'] == country]\n",
    "        \n",
    "        # Check if any data was found for the country\n",
    "        if not country_data.empty:\n",
    "            country_data = country_data.iloc[0]\n",
    "            country_coordinates.append({\n",
    "                'country': country,\n",
    "                'lat': lat,\n",
    "                'lon': lon,\n",
    "                'population': country_data['population'],\n",
    "                'gdp': country_data['gdp'],\n",
    "                'biofuel_consumption': country_data['biofuel_consumption'],\n",
    "                'wind_consumption': country_data['wind_consumption'],\n",
    "                'electricity_generation': country_data['electricity_generation']\n",
    "            })\n",
    "        else:\n",
    "            print(f\"No data found for {country}\")\n",
    "\n",
    "# Convert to DataFrame\n",
    "df_map_data = pd.DataFrame(country_coordinates)\n",
    "\n",
    "# Create a basic Folium map centered globally with OpenTopoMap tiles for topography\n",
    "m = folium.Map(location=[20, 0], zoom_start=2, tiles='OpenTopoMap')\n",
    "\n",
    "# Add markers for each country with relevant information in the popup\n",
    "for _, row in df_map_data.iterrows():\n",
    "    folium.Marker(\n",
    "        location=[row['lat'], row['lon']],\n",
    "        popup=(f\"Country: {row['country']}<br>\"\n",
    "               f\"Population: {row['population']:,}<br>\"\n",
    "               f\"GDP: ${row['gdp']:,}<br>\"\n",
    "               f\"Biofuel Consumption: {row['biofuel_consumption']} TWh<br>\"\n",
    "               f\"Wind Consumption: {row['wind_consumption']} TWh<br>\"\n",
    "               f\"Electricity Generation: {row['electricity_generation']} TWh\")\n",
    "    ).add_to(m)\n",
    "\n",
    "# Save the map to an HTML file\n",
    "m.save('country_map_with_energy_data_topography.html')\n",
    "\n",
    "# Display the map in a notebook \n",
    "m"
   ]
  }
 ],
 "metadata": {
  "kernelspec": {
   "display_name": "Python 3",
   "language": "python",
   "name": "python3"
  },
  "language_info": {
   "codemirror_mode": {
    "name": "ipython",
    "version": 3
   },
   "file_extension": ".py",
   "mimetype": "text/x-python",
   "name": "python",
   "nbconvert_exporter": "python",
   "pygments_lexer": "ipython3",
   "version": "3.12.4"
  }
 },
 "nbformat": 4,
 "nbformat_minor": 2
}
