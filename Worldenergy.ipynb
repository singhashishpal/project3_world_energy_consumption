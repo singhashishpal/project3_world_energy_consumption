{
 "cells": [
  {
   "cell_type": "code",
   "execution_count": 2,
   "metadata": {},
   "outputs": [
    {
     "name": "stdout",
     "output_type": "stream",
     "text": [
      "Requirement already satisfied: pymongo in c:\\users\\user\\anaconda3\\lib\\site-packages (4.8.0)\n",
      "Requirement already satisfied: dnspython<3.0.0,>=1.16.0 in c:\\users\\user\\anaconda3\\lib\\site-packages (from pymongo) (2.6.1)\n",
      "Note: you may need to restart the kernel to use updated packages.\n"
     ]
    }
   ],
   "source": [
    "pip install pymongo"
   ]
  },
  {
   "cell_type": "code",
   "execution_count": 77,
   "metadata": {},
   "outputs": [
    {
     "name": "stdout",
     "output_type": "stream",
     "text": [
      "Requirement already satisfied: kaleido in c:\\users\\user\\anaconda3\\lib\\site-packages (0.2.1)\n",
      "Note: you may need to restart the kernel to use updated packages.\n"
     ]
    }
   ],
   "source": [
    "pip install -U kaleido"
   ]
  },
  {
   "cell_type": "code",
   "execution_count": 79,
   "metadata": {},
   "outputs": [
    {
     "name": "stdout",
     "output_type": "stream",
     "text": [
      "Name: kaleido\n",
      "Version: 0.2.1\n",
      "Summary: Static image export for web-based visualization libraries with zero dependencies\n",
      "Home-page: UNKNOWN\n",
      "Author: Jon Mease\n",
      "Author-email: jon@plotly.com\n",
      "License: MIT\n",
      "Location: c:\\Users\\User\\anaconda3\\Lib\\site-packages\n",
      "Requires: \n",
      "Required-by: \n",
      "Note: you may need to restart the kernel to use updated packages.\n"
     ]
    }
   ],
   "source": [
    "pip show kaleido"
   ]
  },
  {
   "cell_type": "code",
   "execution_count": 3,
   "metadata": {},
   "outputs": [],
   "source": [
    "# Module used to connect python to MongoDB\n",
    "\n",
    "from pymongo import MongoClient\n",
    "\n",
    "# Other modules\n",
    "\n",
    "import pandas as pd\n",
    "import matplotlib.pyplot as plt\n",
    "import numpy as np\n",
    "import seaborn as sns\n",
    "import plotly.express as px"
   ]
  },
  {
   "cell_type": "code",
   "execution_count": 4,
   "metadata": {},
   "outputs": [],
   "source": [
    "# Default port used by MongoDB is 27017\n",
    "\n",
    "mongo= MongoClient(port=27017)\n",
    "\n",
    "# Creating the database and collection\n",
    "\n",
    "db = mongo['world_energy']\n",
    "collection = db[\"energy_consumption\"]"
   ]
  },
  {
   "cell_type": "code",
   "execution_count": 5,
   "metadata": {},
   "outputs": [
    {
     "data": {
      "text/html": [
       "<div>\n",
       "<style scoped>\n",
       "    .dataframe tbody tr th:only-of-type {\n",
       "        vertical-align: middle;\n",
       "    }\n",
       "\n",
       "    .dataframe tbody tr th {\n",
       "        vertical-align: top;\n",
       "    }\n",
       "\n",
       "    .dataframe thead th {\n",
       "        text-align: right;\n",
       "    }\n",
       "</style>\n",
       "<table border=\"1\" class=\"dataframe\">\n",
       "  <thead>\n",
       "    <tr style=\"text-align: right;\">\n",
       "      <th></th>\n",
       "      <th>country</th>\n",
       "      <th>year</th>\n",
       "      <th>iso_code</th>\n",
       "      <th>population</th>\n",
       "      <th>gdp</th>\n",
       "      <th>biofuel_cons_change_pct</th>\n",
       "      <th>biofuel_cons_change_twh</th>\n",
       "      <th>biofuel_cons_per_capita</th>\n",
       "      <th>biofuel_consumption</th>\n",
       "      <th>biofuel_elec_per_capita</th>\n",
       "      <th>...</th>\n",
       "      <th>solar_share_elec</th>\n",
       "      <th>solar_share_energy</th>\n",
       "      <th>wind_cons_change_pct</th>\n",
       "      <th>wind_cons_change_twh</th>\n",
       "      <th>wind_consumption</th>\n",
       "      <th>wind_elec_per_capita</th>\n",
       "      <th>wind_electricity</th>\n",
       "      <th>wind_energy_per_capita</th>\n",
       "      <th>wind_share_elec</th>\n",
       "      <th>wind_share_energy</th>\n",
       "    </tr>\n",
       "  </thead>\n",
       "  <tbody>\n",
       "    <tr>\n",
       "      <th>0</th>\n",
       "      <td>ASEAN (Ember)</td>\n",
       "      <td>2000</td>\n",
       "      <td>NaN</td>\n",
       "      <td>NaN</td>\n",
       "      <td>NaN</td>\n",
       "      <td>NaN</td>\n",
       "      <td>NaN</td>\n",
       "      <td>NaN</td>\n",
       "      <td>NaN</td>\n",
       "      <td>NaN</td>\n",
       "      <td>...</td>\n",
       "      <td>0.0</td>\n",
       "      <td>NaN</td>\n",
       "      <td>NaN</td>\n",
       "      <td>NaN</td>\n",
       "      <td>NaN</td>\n",
       "      <td>NaN</td>\n",
       "      <td>0.0</td>\n",
       "      <td>NaN</td>\n",
       "      <td>0.0</td>\n",
       "      <td>NaN</td>\n",
       "    </tr>\n",
       "    <tr>\n",
       "      <th>1</th>\n",
       "      <td>ASEAN (Ember)</td>\n",
       "      <td>2001</td>\n",
       "      <td>NaN</td>\n",
       "      <td>NaN</td>\n",
       "      <td>NaN</td>\n",
       "      <td>NaN</td>\n",
       "      <td>NaN</td>\n",
       "      <td>NaN</td>\n",
       "      <td>NaN</td>\n",
       "      <td>NaN</td>\n",
       "      <td>...</td>\n",
       "      <td>0.0</td>\n",
       "      <td>NaN</td>\n",
       "      <td>NaN</td>\n",
       "      <td>NaN</td>\n",
       "      <td>NaN</td>\n",
       "      <td>NaN</td>\n",
       "      <td>0.0</td>\n",
       "      <td>NaN</td>\n",
       "      <td>0.0</td>\n",
       "      <td>NaN</td>\n",
       "    </tr>\n",
       "    <tr>\n",
       "      <th>2</th>\n",
       "      <td>ASEAN (Ember)</td>\n",
       "      <td>2002</td>\n",
       "      <td>NaN</td>\n",
       "      <td>NaN</td>\n",
       "      <td>NaN</td>\n",
       "      <td>NaN</td>\n",
       "      <td>NaN</td>\n",
       "      <td>NaN</td>\n",
       "      <td>NaN</td>\n",
       "      <td>NaN</td>\n",
       "      <td>...</td>\n",
       "      <td>0.0</td>\n",
       "      <td>NaN</td>\n",
       "      <td>NaN</td>\n",
       "      <td>NaN</td>\n",
       "      <td>NaN</td>\n",
       "      <td>NaN</td>\n",
       "      <td>0.0</td>\n",
       "      <td>NaN</td>\n",
       "      <td>0.0</td>\n",
       "      <td>NaN</td>\n",
       "    </tr>\n",
       "    <tr>\n",
       "      <th>3</th>\n",
       "      <td>ASEAN (Ember)</td>\n",
       "      <td>2003</td>\n",
       "      <td>NaN</td>\n",
       "      <td>NaN</td>\n",
       "      <td>NaN</td>\n",
       "      <td>NaN</td>\n",
       "      <td>NaN</td>\n",
       "      <td>NaN</td>\n",
       "      <td>NaN</td>\n",
       "      <td>NaN</td>\n",
       "      <td>...</td>\n",
       "      <td>0.0</td>\n",
       "      <td>NaN</td>\n",
       "      <td>NaN</td>\n",
       "      <td>NaN</td>\n",
       "      <td>NaN</td>\n",
       "      <td>NaN</td>\n",
       "      <td>0.0</td>\n",
       "      <td>NaN</td>\n",
       "      <td>0.0</td>\n",
       "      <td>NaN</td>\n",
       "    </tr>\n",
       "    <tr>\n",
       "      <th>4</th>\n",
       "      <td>ASEAN (Ember)</td>\n",
       "      <td>2004</td>\n",
       "      <td>NaN</td>\n",
       "      <td>NaN</td>\n",
       "      <td>NaN</td>\n",
       "      <td>NaN</td>\n",
       "      <td>NaN</td>\n",
       "      <td>NaN</td>\n",
       "      <td>NaN</td>\n",
       "      <td>NaN</td>\n",
       "      <td>...</td>\n",
       "      <td>0.0</td>\n",
       "      <td>NaN</td>\n",
       "      <td>NaN</td>\n",
       "      <td>NaN</td>\n",
       "      <td>NaN</td>\n",
       "      <td>NaN</td>\n",
       "      <td>0.0</td>\n",
       "      <td>NaN</td>\n",
       "      <td>0.0</td>\n",
       "      <td>NaN</td>\n",
       "    </tr>\n",
       "  </tbody>\n",
       "</table>\n",
       "<p>5 rows × 129 columns</p>\n",
       "</div>"
      ],
      "text/plain": [
       "         country  year iso_code  population  gdp  biofuel_cons_change_pct  \\\n",
       "0  ASEAN (Ember)  2000      NaN         NaN  NaN                      NaN   \n",
       "1  ASEAN (Ember)  2001      NaN         NaN  NaN                      NaN   \n",
       "2  ASEAN (Ember)  2002      NaN         NaN  NaN                      NaN   \n",
       "3  ASEAN (Ember)  2003      NaN         NaN  NaN                      NaN   \n",
       "4  ASEAN (Ember)  2004      NaN         NaN  NaN                      NaN   \n",
       "\n",
       "   biofuel_cons_change_twh  biofuel_cons_per_capita  biofuel_consumption  \\\n",
       "0                      NaN                      NaN                  NaN   \n",
       "1                      NaN                      NaN                  NaN   \n",
       "2                      NaN                      NaN                  NaN   \n",
       "3                      NaN                      NaN                  NaN   \n",
       "4                      NaN                      NaN                  NaN   \n",
       "\n",
       "   biofuel_elec_per_capita  ...  solar_share_elec  solar_share_energy  \\\n",
       "0                      NaN  ...               0.0                 NaN   \n",
       "1                      NaN  ...               0.0                 NaN   \n",
       "2                      NaN  ...               0.0                 NaN   \n",
       "3                      NaN  ...               0.0                 NaN   \n",
       "4                      NaN  ...               0.0                 NaN   \n",
       "\n",
       "   wind_cons_change_pct  wind_cons_change_twh  wind_consumption  \\\n",
       "0                   NaN                   NaN               NaN   \n",
       "1                   NaN                   NaN               NaN   \n",
       "2                   NaN                   NaN               NaN   \n",
       "3                   NaN                   NaN               NaN   \n",
       "4                   NaN                   NaN               NaN   \n",
       "\n",
       "   wind_elec_per_capita  wind_electricity  wind_energy_per_capita  \\\n",
       "0                   NaN               0.0                     NaN   \n",
       "1                   NaN               0.0                     NaN   \n",
       "2                   NaN               0.0                     NaN   \n",
       "3                   NaN               0.0                     NaN   \n",
       "4                   NaN               0.0                     NaN   \n",
       "\n",
       "   wind_share_elec  wind_share_energy  \n",
       "0              0.0                NaN  \n",
       "1              0.0                NaN  \n",
       "2              0.0                NaN  \n",
       "3              0.0                NaN  \n",
       "4              0.0                NaN  \n",
       "\n",
       "[5 rows x 129 columns]"
      ]
     },
     "execution_count": 5,
     "metadata": {},
     "output_type": "execute_result"
    }
   ],
   "source": [
    "# Loading the .csv file using pandas\n",
    "\n",
    "df = pd.read_csv(\"Resources/World Energy Consumption.csv\")\n",
    "df.head()"
   ]
  },
  {
   "cell_type": "code",
   "execution_count": 6,
   "metadata": {},
   "outputs": [
    {
     "name": "stdout",
     "output_type": "stream",
     "text": [
      "Data inserted into MongoDB.\n"
     ]
    }
   ],
   "source": [
    "# Insert the data into MongoDB\n",
    "collection.insert_many(df.to_dict('records'))\n",
    "\n",
    "print(\"Data inserted into MongoDB.\")"
   ]
  },
  {
   "cell_type": "code",
   "execution_count": 7,
   "metadata": {},
   "outputs": [
    {
     "name": "stdout",
     "output_type": "stream",
     "text": [
      "Found 23634 documents for the specified countries.\n"
     ]
    }
   ],
   "source": [
    "# List of countries to filter\n",
    "countries = ['Asia', 'Austria', 'Australia','Brazil', 'Canada', 'China', 'Croatia', 'Algeria', 'Argentina','Europe',\n",
    "              'France', 'Germany', 'India', 'Italy', 'Japan', 'Netherlands', 'North America', 'Russia',\n",
    "              'South Africa', 'South America', 'South Korea', 'Spain', 'Turkey', 'Ukraine', \n",
    "              'United Arab Emirates','United Kingdom', 'United States', 'Vietnam']\n",
    "\n",
    "# Query MongoDB to find documents where 'country' is in the list\n",
    "results = collection.find({'country': {'$in': countries}})\n",
    "\n",
    "# Convert the results to a list\n",
    "results_list = list(results)\n",
    "\n",
    "# Check the number of documents found\n",
    "print(f\"Found {len(results_list)} documents for the specified countries.\")\n"
   ]
  },
  {
   "cell_type": "code",
   "execution_count": 8,
   "metadata": {},
   "outputs": [
    {
     "name": "stdout",
     "output_type": "stream",
     "text": [
      "Inserted 861 documents for Asia.\n",
      "Inserted 861 documents for Austria.\n",
      "Inserted 861 documents for Australia.\n",
      "Inserted 897 documents for Brazil.\n",
      "Inserted 975 documents for Canada.\n",
      "Inserted 861 documents for China.\n",
      "Inserted 231 documents for Croatia.\n",
      "Inserted 861 documents for Algeria.\n",
      "Inserted 897 documents for Argentina.\n",
      "Inserted 861 documents for Europe.\n",
      "Inserted 897 documents for France.\n",
      "Inserted 957 documents for Germany.\n",
      "Inserted 861 documents for India.\n",
      "Inserted 861 documents for Italy.\n",
      "Inserted 915 documents for Japan.\n",
      "Inserted 861 documents for Netherlands.\n",
      "Inserted 861 documents for North America.\n",
      "Inserted 278 documents for Russia.\n",
      "Inserted 939 documents for South Africa.\n",
      "Inserted 861 documents for South America.\n",
      "Inserted 861 documents for South Korea.\n",
      "Inserted 957 documents for Spain.\n",
      "Inserted 861 documents for Turkey.\n",
      "Inserted 844 documents for Ukraine.\n",
      "Inserted 861 documents for United Arab Emirates.\n",
      "Inserted 957 documents for United Kingdom.\n",
      "Inserted 975 documents for United States.\n",
      "Inserted 861 documents for Vietnam.\n"
     ]
    }
   ],
   "source": [
    "# Storing in a separate MOngoDB collection\n",
    "\n",
    "for country in countries:\n",
    "    # Filter results for each country\n",
    "    country_data = [doc for doc in results_list if doc.get('country') == country]\n",
    "    \n",
    "    # Remove the '_id' field from each document to avoid duplicate key errors\n",
    "    for doc in country_data:\n",
    "        if '_id' in doc:\n",
    "            del doc['_id']\n",
    "    \n",
    "    # Create a new collection for each country\n",
    "    country_collection = db[f'{country}_data']\n",
    "    \n",
    "    # Insert the data into the new collection\n",
    "    if country_data:\n",
    "        country_collection.insert_many(country_data)\n",
    "        print(f\"Inserted {len(country_data)} documents for {country}.\")\n",
    "    else:\n",
    "        print(f\"No data found for {country}.\")\n",
    "\n"
   ]
  },
  {
   "cell_type": "code",
   "execution_count": 9,
   "metadata": {},
   "outputs": [
    {
     "name": "stdout",
     "output_type": "stream",
     "text": [
      "Data exported to 'filtered_countries_data.csv'.\n"
     ]
    }
   ],
   "source": [
    "# Convert the results to a pandas DataFrame\n",
    "df_filtered = pd.DataFrame(results_list)\n",
    "\n",
    "# Save the DataFrame to a CSV file\n",
    "df_filtered.to_csv('Resources/filtered_countries_data.csv', index=False)\n",
    "\n",
    "print(\"Data exported to 'filtered_countries_data.csv'.\")\n"
   ]
  },
  {
   "cell_type": "code",
   "execution_count": 10,
   "metadata": {},
   "outputs": [
    {
     "data": {
      "text/html": [
       "<div>\n",
       "<style scoped>\n",
       "    .dataframe tbody tr th:only-of-type {\n",
       "        vertical-align: middle;\n",
       "    }\n",
       "\n",
       "    .dataframe tbody tr th {\n",
       "        vertical-align: top;\n",
       "    }\n",
       "\n",
       "    .dataframe thead th {\n",
       "        text-align: right;\n",
       "    }\n",
       "</style>\n",
       "<table border=\"1\" class=\"dataframe\">\n",
       "  <thead>\n",
       "    <tr style=\"text-align: right;\">\n",
       "      <th></th>\n",
       "      <th>country</th>\n",
       "      <th>year</th>\n",
       "      <th>iso_code</th>\n",
       "      <th>population</th>\n",
       "      <th>gdp</th>\n",
       "      <th>biofuel_cons_change_pct</th>\n",
       "      <th>biofuel_cons_change_twh</th>\n",
       "      <th>biofuel_cons_per_capita</th>\n",
       "      <th>biofuel_consumption</th>\n",
       "      <th>biofuel_elec_per_capita</th>\n",
       "      <th>...</th>\n",
       "      <th>solar_share_energy</th>\n",
       "      <th>wind_cons_change_pct</th>\n",
       "      <th>wind_cons_change_twh</th>\n",
       "      <th>wind_consumption</th>\n",
       "      <th>wind_elec_per_capita</th>\n",
       "      <th>wind_electricity</th>\n",
       "      <th>wind_energy_per_capita</th>\n",
       "      <th>wind_share_elec</th>\n",
       "      <th>wind_share_energy</th>\n",
       "      <th>_id</th>\n",
       "    </tr>\n",
       "  </thead>\n",
       "  <tbody>\n",
       "    <tr>\n",
       "      <th>0</th>\n",
       "      <td>Algeria</td>\n",
       "      <td>1900</td>\n",
       "      <td>DZA</td>\n",
       "      <td>4721802.0</td>\n",
       "      <td>NaN</td>\n",
       "      <td>NaN</td>\n",
       "      <td>NaN</td>\n",
       "      <td>NaN</td>\n",
       "      <td>NaN</td>\n",
       "      <td>NaN</td>\n",
       "      <td>...</td>\n",
       "      <td>NaN</td>\n",
       "      <td>NaN</td>\n",
       "      <td>NaN</td>\n",
       "      <td>NaN</td>\n",
       "      <td>NaN</td>\n",
       "      <td>NaN</td>\n",
       "      <td>NaN</td>\n",
       "      <td>NaN</td>\n",
       "      <td>NaN</td>\n",
       "      <td>671566f096c0d83c25b5dd0f</td>\n",
       "    </tr>\n",
       "    <tr>\n",
       "      <th>1</th>\n",
       "      <td>Algeria</td>\n",
       "      <td>1901</td>\n",
       "      <td>DZA</td>\n",
       "      <td>4787149.0</td>\n",
       "      <td>NaN</td>\n",
       "      <td>NaN</td>\n",
       "      <td>NaN</td>\n",
       "      <td>NaN</td>\n",
       "      <td>NaN</td>\n",
       "      <td>NaN</td>\n",
       "      <td>...</td>\n",
       "      <td>NaN</td>\n",
       "      <td>NaN</td>\n",
       "      <td>NaN</td>\n",
       "      <td>NaN</td>\n",
       "      <td>NaN</td>\n",
       "      <td>NaN</td>\n",
       "      <td>NaN</td>\n",
       "      <td>NaN</td>\n",
       "      <td>NaN</td>\n",
       "      <td>671566f096c0d83c25b5dd10</td>\n",
       "    </tr>\n",
       "    <tr>\n",
       "      <th>2</th>\n",
       "      <td>Algeria</td>\n",
       "      <td>1902</td>\n",
       "      <td>DZA</td>\n",
       "      <td>4859600.0</td>\n",
       "      <td>NaN</td>\n",
       "      <td>NaN</td>\n",
       "      <td>NaN</td>\n",
       "      <td>NaN</td>\n",
       "      <td>NaN</td>\n",
       "      <td>NaN</td>\n",
       "      <td>...</td>\n",
       "      <td>NaN</td>\n",
       "      <td>NaN</td>\n",
       "      <td>NaN</td>\n",
       "      <td>NaN</td>\n",
       "      <td>NaN</td>\n",
       "      <td>NaN</td>\n",
       "      <td>NaN</td>\n",
       "      <td>NaN</td>\n",
       "      <td>NaN</td>\n",
       "      <td>671566f096c0d83c25b5dd11</td>\n",
       "    </tr>\n",
       "    <tr>\n",
       "      <th>3</th>\n",
       "      <td>Algeria</td>\n",
       "      <td>1903</td>\n",
       "      <td>DZA</td>\n",
       "      <td>4939332.0</td>\n",
       "      <td>NaN</td>\n",
       "      <td>NaN</td>\n",
       "      <td>NaN</td>\n",
       "      <td>NaN</td>\n",
       "      <td>NaN</td>\n",
       "      <td>NaN</td>\n",
       "      <td>...</td>\n",
       "      <td>NaN</td>\n",
       "      <td>NaN</td>\n",
       "      <td>NaN</td>\n",
       "      <td>NaN</td>\n",
       "      <td>NaN</td>\n",
       "      <td>NaN</td>\n",
       "      <td>NaN</td>\n",
       "      <td>NaN</td>\n",
       "      <td>NaN</td>\n",
       "      <td>671566f096c0d83c25b5dd12</td>\n",
       "    </tr>\n",
       "    <tr>\n",
       "      <th>4</th>\n",
       "      <td>Algeria</td>\n",
       "      <td>1904</td>\n",
       "      <td>DZA</td>\n",
       "      <td>5020372.0</td>\n",
       "      <td>NaN</td>\n",
       "      <td>NaN</td>\n",
       "      <td>NaN</td>\n",
       "      <td>NaN</td>\n",
       "      <td>NaN</td>\n",
       "      <td>NaN</td>\n",
       "      <td>...</td>\n",
       "      <td>NaN</td>\n",
       "      <td>NaN</td>\n",
       "      <td>NaN</td>\n",
       "      <td>NaN</td>\n",
       "      <td>NaN</td>\n",
       "      <td>NaN</td>\n",
       "      <td>NaN</td>\n",
       "      <td>NaN</td>\n",
       "      <td>NaN</td>\n",
       "      <td>671566f096c0d83c25b5dd13</td>\n",
       "    </tr>\n",
       "  </tbody>\n",
       "</table>\n",
       "<p>5 rows × 130 columns</p>\n",
       "</div>"
      ],
      "text/plain": [
       "   country  year iso_code  population  gdp  biofuel_cons_change_pct  \\\n",
       "0  Algeria  1900      DZA   4721802.0  NaN                      NaN   \n",
       "1  Algeria  1901      DZA   4787149.0  NaN                      NaN   \n",
       "2  Algeria  1902      DZA   4859600.0  NaN                      NaN   \n",
       "3  Algeria  1903      DZA   4939332.0  NaN                      NaN   \n",
       "4  Algeria  1904      DZA   5020372.0  NaN                      NaN   \n",
       "\n",
       "   biofuel_cons_change_twh  biofuel_cons_per_capita  biofuel_consumption  \\\n",
       "0                      NaN                      NaN                  NaN   \n",
       "1                      NaN                      NaN                  NaN   \n",
       "2                      NaN                      NaN                  NaN   \n",
       "3                      NaN                      NaN                  NaN   \n",
       "4                      NaN                      NaN                  NaN   \n",
       "\n",
       "   biofuel_elec_per_capita  ...  solar_share_energy  wind_cons_change_pct  \\\n",
       "0                      NaN  ...                 NaN                   NaN   \n",
       "1                      NaN  ...                 NaN                   NaN   \n",
       "2                      NaN  ...                 NaN                   NaN   \n",
       "3                      NaN  ...                 NaN                   NaN   \n",
       "4                      NaN  ...                 NaN                   NaN   \n",
       "\n",
       "   wind_cons_change_twh  wind_consumption  wind_elec_per_capita  \\\n",
       "0                   NaN               NaN                   NaN   \n",
       "1                   NaN               NaN                   NaN   \n",
       "2                   NaN               NaN                   NaN   \n",
       "3                   NaN               NaN                   NaN   \n",
       "4                   NaN               NaN                   NaN   \n",
       "\n",
       "   wind_electricity  wind_energy_per_capita  wind_share_elec  \\\n",
       "0               NaN                     NaN              NaN   \n",
       "1               NaN                     NaN              NaN   \n",
       "2               NaN                     NaN              NaN   \n",
       "3               NaN                     NaN              NaN   \n",
       "4               NaN                     NaN              NaN   \n",
       "\n",
       "   wind_share_energy                       _id  \n",
       "0                NaN  671566f096c0d83c25b5dd0f  \n",
       "1                NaN  671566f096c0d83c25b5dd10  \n",
       "2                NaN  671566f096c0d83c25b5dd11  \n",
       "3                NaN  671566f096c0d83c25b5dd12  \n",
       "4                NaN  671566f096c0d83c25b5dd13  \n",
       "\n",
       "[5 rows x 130 columns]"
      ]
     },
     "execution_count": 10,
     "metadata": {},
     "output_type": "execute_result"
    }
   ],
   "source": [
    "# Reading the .csv file\n",
    "\n",
    "filtered_df = pd.read_csv('Resources/filtered_countries_data.csv')\n",
    "filtered_df.head()"
   ]
  },
  {
   "cell_type": "code",
   "execution_count": 11,
   "metadata": {},
   "outputs": [
    {
     "data": {
      "text/html": [
       "<div>\n",
       "<style scoped>\n",
       "    .dataframe tbody tr th:only-of-type {\n",
       "        vertical-align: middle;\n",
       "    }\n",
       "\n",
       "    .dataframe tbody tr th {\n",
       "        vertical-align: top;\n",
       "    }\n",
       "\n",
       "    .dataframe thead th {\n",
       "        text-align: right;\n",
       "    }\n",
       "</style>\n",
       "<table border=\"1\" class=\"dataframe\">\n",
       "  <thead>\n",
       "    <tr style=\"text-align: right;\">\n",
       "      <th></th>\n",
       "      <th>country</th>\n",
       "      <th>year</th>\n",
       "      <th>iso_code</th>\n",
       "      <th>population</th>\n",
       "      <th>gdp</th>\n",
       "      <th>biofuel_cons_change_pct</th>\n",
       "      <th>biofuel_cons_change_twh</th>\n",
       "      <th>biofuel_cons_per_capita</th>\n",
       "      <th>biofuel_consumption</th>\n",
       "      <th>biofuel_elec_per_capita</th>\n",
       "      <th>...</th>\n",
       "      <th>solar_share_elec</th>\n",
       "      <th>solar_share_energy</th>\n",
       "      <th>wind_cons_change_pct</th>\n",
       "      <th>wind_cons_change_twh</th>\n",
       "      <th>wind_consumption</th>\n",
       "      <th>wind_elec_per_capita</th>\n",
       "      <th>wind_electricity</th>\n",
       "      <th>wind_energy_per_capita</th>\n",
       "      <th>wind_share_elec</th>\n",
       "      <th>wind_share_energy</th>\n",
       "    </tr>\n",
       "  </thead>\n",
       "  <tbody>\n",
       "    <tr>\n",
       "      <th>1071</th>\n",
       "      <td>Argentina</td>\n",
       "      <td>2011</td>\n",
       "      <td>ARG</td>\n",
       "      <td>41520736.0</td>\n",
       "      <td>8.359700e+11</td>\n",
       "      <td>46.423</td>\n",
       "      <td>2.750</td>\n",
       "      <td>208.889</td>\n",
       "      <td>8.673</td>\n",
       "      <td>32.273</td>\n",
       "      <td>...</td>\n",
       "      <td>0.000</td>\n",
       "      <td>0.000</td>\n",
       "      <td>4.887</td>\n",
       "      <td>0.003</td>\n",
       "      <td>0.073</td>\n",
       "      <td>1.445</td>\n",
       "      <td>0.06</td>\n",
       "      <td>1.767</td>\n",
       "      <td>0.049</td>\n",
       "      <td>0.008</td>\n",
       "    </tr>\n",
       "    <tr>\n",
       "      <th>1072</th>\n",
       "      <td>Argentina</td>\n",
       "      <td>2012</td>\n",
       "      <td>ARG</td>\n",
       "      <td>41952364.0</td>\n",
       "      <td>8.274050e+11</td>\n",
       "      <td>19.876</td>\n",
       "      <td>1.724</td>\n",
       "      <td>247.831</td>\n",
       "      <td>10.397</td>\n",
       "      <td>33.133</td>\n",
       "      <td>...</td>\n",
       "      <td>0.008</td>\n",
       "      <td>0.002</td>\n",
       "      <td>1290.953</td>\n",
       "      <td>0.941</td>\n",
       "      <td>1.014</td>\n",
       "      <td>19.546</td>\n",
       "      <td>0.82</td>\n",
       "      <td>24.174</td>\n",
       "      <td>0.637</td>\n",
       "      <td>0.107</td>\n",
       "    </tr>\n",
       "    <tr>\n",
       "      <th>1073</th>\n",
       "      <td>Argentina</td>\n",
       "      <td>2013</td>\n",
       "      <td>ARG</td>\n",
       "      <td>42388268.0</td>\n",
       "      <td>8.473050e+11</td>\n",
       "      <td>14.478</td>\n",
       "      <td>1.505</td>\n",
       "      <td>280.795</td>\n",
       "      <td>11.902</td>\n",
       "      <td>35.387</td>\n",
       "      <td>...</td>\n",
       "      <td>0.008</td>\n",
       "      <td>0.004</td>\n",
       "      <td>22.574</td>\n",
       "      <td>0.221</td>\n",
       "      <td>1.236</td>\n",
       "      <td>23.827</td>\n",
       "      <td>1.01</td>\n",
       "      <td>29.149</td>\n",
       "      <td>0.763</td>\n",
       "      <td>0.126</td>\n",
       "    </tr>\n",
       "    <tr>\n",
       "      <th>1074</th>\n",
       "      <td>Argentina</td>\n",
       "      <td>2014</td>\n",
       "      <td>ARG</td>\n",
       "      <td>42824064.0</td>\n",
       "      <td>8.259810e+11</td>\n",
       "      <td>16.710</td>\n",
       "      <td>1.989</td>\n",
       "      <td>324.379</td>\n",
       "      <td>13.891</td>\n",
       "      <td>32.692</td>\n",
       "      <td>...</td>\n",
       "      <td>0.015</td>\n",
       "      <td>0.004</td>\n",
       "      <td>36.646</td>\n",
       "      <td>0.443</td>\n",
       "      <td>1.678</td>\n",
       "      <td>14.478</td>\n",
       "      <td>0.62</td>\n",
       "      <td>39.190</td>\n",
       "      <td>0.470</td>\n",
       "      <td>0.171</td>\n",
       "    </tr>\n",
       "    <tr>\n",
       "      <th>1075</th>\n",
       "      <td>Argentina</td>\n",
       "      <td>2015</td>\n",
       "      <td>ARG</td>\n",
       "      <td>43257064.0</td>\n",
       "      <td>8.478550e+11</td>\n",
       "      <td>8.925</td>\n",
       "      <td>1.240</td>\n",
       "      <td>349.792</td>\n",
       "      <td>15.131</td>\n",
       "      <td>33.058</td>\n",
       "      <td>...</td>\n",
       "      <td>0.007</td>\n",
       "      <td>0.004</td>\n",
       "      <td>-4.222</td>\n",
       "      <td>-0.080</td>\n",
       "      <td>1.598</td>\n",
       "      <td>13.639</td>\n",
       "      <td>0.59</td>\n",
       "      <td>36.938</td>\n",
       "      <td>0.428</td>\n",
       "      <td>0.160</td>\n",
       "    </tr>\n",
       "  </tbody>\n",
       "</table>\n",
       "<p>5 rows × 129 columns</p>\n",
       "</div>"
      ],
      "text/plain": [
       "        country  year iso_code  population           gdp  \\\n",
       "1071  Argentina  2011      ARG  41520736.0  8.359700e+11   \n",
       "1072  Argentina  2012      ARG  41952364.0  8.274050e+11   \n",
       "1073  Argentina  2013      ARG  42388268.0  8.473050e+11   \n",
       "1074  Argentina  2014      ARG  42824064.0  8.259810e+11   \n",
       "1075  Argentina  2015      ARG  43257064.0  8.478550e+11   \n",
       "\n",
       "      biofuel_cons_change_pct  biofuel_cons_change_twh  \\\n",
       "1071                   46.423                    2.750   \n",
       "1072                   19.876                    1.724   \n",
       "1073                   14.478                    1.505   \n",
       "1074                   16.710                    1.989   \n",
       "1075                    8.925                    1.240   \n",
       "\n",
       "      biofuel_cons_per_capita  biofuel_consumption  biofuel_elec_per_capita  \\\n",
       "1071                  208.889                8.673                   32.273   \n",
       "1072                  247.831               10.397                   33.133   \n",
       "1073                  280.795               11.902                   35.387   \n",
       "1074                  324.379               13.891                   32.692   \n",
       "1075                  349.792               15.131                   33.058   \n",
       "\n",
       "      ...  solar_share_elec  solar_share_energy  wind_cons_change_pct  \\\n",
       "1071  ...             0.000               0.000                 4.887   \n",
       "1072  ...             0.008               0.002              1290.953   \n",
       "1073  ...             0.008               0.004                22.574   \n",
       "1074  ...             0.015               0.004                36.646   \n",
       "1075  ...             0.007               0.004                -4.222   \n",
       "\n",
       "      wind_cons_change_twh  wind_consumption  wind_elec_per_capita  \\\n",
       "1071                 0.003             0.073                 1.445   \n",
       "1072                 0.941             1.014                19.546   \n",
       "1073                 0.221             1.236                23.827   \n",
       "1074                 0.443             1.678                14.478   \n",
       "1075                -0.080             1.598                13.639   \n",
       "\n",
       "      wind_electricity  wind_energy_per_capita  wind_share_elec  \\\n",
       "1071              0.06                   1.767            0.049   \n",
       "1072              0.82                  24.174            0.637   \n",
       "1073              1.01                  29.149            0.763   \n",
       "1074              0.62                  39.190            0.470   \n",
       "1075              0.59                  36.938            0.428   \n",
       "\n",
       "      wind_share_energy  \n",
       "1071              0.008  \n",
       "1072              0.107  \n",
       "1073              0.126  \n",
       "1074              0.171  \n",
       "1075              0.160  \n",
       "\n",
       "[5 rows x 129 columns]"
      ]
     },
     "execution_count": 11,
     "metadata": {},
     "output_type": "execute_result"
    }
   ],
   "source": [
    "# Dropping null values from the dataframe\n",
    "\n",
    "filtered_df = df.dropna()\n",
    "filtered_df.head()"
   ]
  },
  {
   "cell_type": "code",
   "execution_count": 12,
   "metadata": {},
   "outputs": [
    {
     "data": {
      "text/html": [
       "<div>\n",
       "<style scoped>\n",
       "    .dataframe tbody tr th:only-of-type {\n",
       "        vertical-align: middle;\n",
       "    }\n",
       "\n",
       "    .dataframe tbody tr th {\n",
       "        vertical-align: top;\n",
       "    }\n",
       "\n",
       "    .dataframe thead th {\n",
       "        text-align: right;\n",
       "    }\n",
       "</style>\n",
       "<table border=\"1\" class=\"dataframe\">\n",
       "  <thead>\n",
       "    <tr style=\"text-align: right;\">\n",
       "      <th></th>\n",
       "      <th>country</th>\n",
       "      <th>year</th>\n",
       "      <th>iso_code</th>\n",
       "      <th>population</th>\n",
       "      <th>gdp</th>\n",
       "      <th>biofuel_cons_change_pct</th>\n",
       "      <th>biofuel_cons_change_twh</th>\n",
       "      <th>biofuel_cons_per_capita</th>\n",
       "      <th>biofuel_consumption</th>\n",
       "      <th>biofuel_elec_per_capita</th>\n",
       "      <th>...</th>\n",
       "      <th>solar_share_elec</th>\n",
       "      <th>solar_share_energy</th>\n",
       "      <th>wind_cons_change_pct</th>\n",
       "      <th>wind_cons_change_twh</th>\n",
       "      <th>wind_consumption</th>\n",
       "      <th>wind_elec_per_capita</th>\n",
       "      <th>wind_electricity</th>\n",
       "      <th>wind_energy_per_capita</th>\n",
       "      <th>wind_share_elec</th>\n",
       "      <th>wind_share_energy</th>\n",
       "    </tr>\n",
       "  </thead>\n",
       "  <tbody>\n",
       "    <tr>\n",
       "      <th>1071</th>\n",
       "      <td>Argentina</td>\n",
       "      <td>2011</td>\n",
       "      <td>ARG</td>\n",
       "      <td>41520736.0</td>\n",
       "      <td>8.359700e+11</td>\n",
       "      <td>46.423</td>\n",
       "      <td>2.750</td>\n",
       "      <td>208.889</td>\n",
       "      <td>8.673</td>\n",
       "      <td>32.273</td>\n",
       "      <td>...</td>\n",
       "      <td>0.000</td>\n",
       "      <td>0.000</td>\n",
       "      <td>4.887</td>\n",
       "      <td>0.003</td>\n",
       "      <td>0.073</td>\n",
       "      <td>1.445</td>\n",
       "      <td>0.06</td>\n",
       "      <td>1.767</td>\n",
       "      <td>0.049</td>\n",
       "      <td>0.008</td>\n",
       "    </tr>\n",
       "    <tr>\n",
       "      <th>1072</th>\n",
       "      <td>Argentina</td>\n",
       "      <td>2012</td>\n",
       "      <td>ARG</td>\n",
       "      <td>41952364.0</td>\n",
       "      <td>8.274050e+11</td>\n",
       "      <td>19.876</td>\n",
       "      <td>1.724</td>\n",
       "      <td>247.831</td>\n",
       "      <td>10.397</td>\n",
       "      <td>33.133</td>\n",
       "      <td>...</td>\n",
       "      <td>0.008</td>\n",
       "      <td>0.002</td>\n",
       "      <td>1290.953</td>\n",
       "      <td>0.941</td>\n",
       "      <td>1.014</td>\n",
       "      <td>19.546</td>\n",
       "      <td>0.82</td>\n",
       "      <td>24.174</td>\n",
       "      <td>0.637</td>\n",
       "      <td>0.107</td>\n",
       "    </tr>\n",
       "    <tr>\n",
       "      <th>1073</th>\n",
       "      <td>Argentina</td>\n",
       "      <td>2013</td>\n",
       "      <td>ARG</td>\n",
       "      <td>42388268.0</td>\n",
       "      <td>8.473050e+11</td>\n",
       "      <td>14.478</td>\n",
       "      <td>1.505</td>\n",
       "      <td>280.795</td>\n",
       "      <td>11.902</td>\n",
       "      <td>35.387</td>\n",
       "      <td>...</td>\n",
       "      <td>0.008</td>\n",
       "      <td>0.004</td>\n",
       "      <td>22.574</td>\n",
       "      <td>0.221</td>\n",
       "      <td>1.236</td>\n",
       "      <td>23.827</td>\n",
       "      <td>1.01</td>\n",
       "      <td>29.149</td>\n",
       "      <td>0.763</td>\n",
       "      <td>0.126</td>\n",
       "    </tr>\n",
       "    <tr>\n",
       "      <th>1074</th>\n",
       "      <td>Argentina</td>\n",
       "      <td>2014</td>\n",
       "      <td>ARG</td>\n",
       "      <td>42824064.0</td>\n",
       "      <td>8.259810e+11</td>\n",
       "      <td>16.710</td>\n",
       "      <td>1.989</td>\n",
       "      <td>324.379</td>\n",
       "      <td>13.891</td>\n",
       "      <td>32.692</td>\n",
       "      <td>...</td>\n",
       "      <td>0.015</td>\n",
       "      <td>0.004</td>\n",
       "      <td>36.646</td>\n",
       "      <td>0.443</td>\n",
       "      <td>1.678</td>\n",
       "      <td>14.478</td>\n",
       "      <td>0.62</td>\n",
       "      <td>39.190</td>\n",
       "      <td>0.470</td>\n",
       "      <td>0.171</td>\n",
       "    </tr>\n",
       "    <tr>\n",
       "      <th>1075</th>\n",
       "      <td>Argentina</td>\n",
       "      <td>2015</td>\n",
       "      <td>ARG</td>\n",
       "      <td>43257064.0</td>\n",
       "      <td>8.478550e+11</td>\n",
       "      <td>8.925</td>\n",
       "      <td>1.240</td>\n",
       "      <td>349.792</td>\n",
       "      <td>15.131</td>\n",
       "      <td>33.058</td>\n",
       "      <td>...</td>\n",
       "      <td>0.007</td>\n",
       "      <td>0.004</td>\n",
       "      <td>-4.222</td>\n",
       "      <td>-0.080</td>\n",
       "      <td>1.598</td>\n",
       "      <td>13.639</td>\n",
       "      <td>0.59</td>\n",
       "      <td>36.938</td>\n",
       "      <td>0.428</td>\n",
       "      <td>0.160</td>\n",
       "    </tr>\n",
       "  </tbody>\n",
       "</table>\n",
       "<p>5 rows × 129 columns</p>\n",
       "</div>"
      ],
      "text/plain": [
       "        country  year iso_code  population           gdp  \\\n",
       "1071  Argentina  2011      ARG  41520736.0  8.359700e+11   \n",
       "1072  Argentina  2012      ARG  41952364.0  8.274050e+11   \n",
       "1073  Argentina  2013      ARG  42388268.0  8.473050e+11   \n",
       "1074  Argentina  2014      ARG  42824064.0  8.259810e+11   \n",
       "1075  Argentina  2015      ARG  43257064.0  8.478550e+11   \n",
       "\n",
       "      biofuel_cons_change_pct  biofuel_cons_change_twh  \\\n",
       "1071                   46.423                    2.750   \n",
       "1072                   19.876                    1.724   \n",
       "1073                   14.478                    1.505   \n",
       "1074                   16.710                    1.989   \n",
       "1075                    8.925                    1.240   \n",
       "\n",
       "      biofuel_cons_per_capita  biofuel_consumption  biofuel_elec_per_capita  \\\n",
       "1071                  208.889                8.673                   32.273   \n",
       "1072                  247.831               10.397                   33.133   \n",
       "1073                  280.795               11.902                   35.387   \n",
       "1074                  324.379               13.891                   32.692   \n",
       "1075                  349.792               15.131                   33.058   \n",
       "\n",
       "      ...  solar_share_elec  solar_share_energy  wind_cons_change_pct  \\\n",
       "1071  ...             0.000               0.000                 4.887   \n",
       "1072  ...             0.008               0.002              1290.953   \n",
       "1073  ...             0.008               0.004                22.574   \n",
       "1074  ...             0.015               0.004                36.646   \n",
       "1075  ...             0.007               0.004                -4.222   \n",
       "\n",
       "      wind_cons_change_twh  wind_consumption  wind_elec_per_capita  \\\n",
       "1071                 0.003             0.073                 1.445   \n",
       "1072                 0.941             1.014                19.546   \n",
       "1073                 0.221             1.236                23.827   \n",
       "1074                 0.443             1.678                14.478   \n",
       "1075                -0.080             1.598                13.639   \n",
       "\n",
       "      wind_electricity  wind_energy_per_capita  wind_share_elec  \\\n",
       "1071              0.06                   1.767            0.049   \n",
       "1072              0.82                  24.174            0.637   \n",
       "1073              1.01                  29.149            0.763   \n",
       "1074              0.62                  39.190            0.470   \n",
       "1075              0.59                  36.938            0.428   \n",
       "\n",
       "      wind_share_energy  \n",
       "1071              0.008  \n",
       "1072              0.107  \n",
       "1073              0.126  \n",
       "1074              0.171  \n",
       "1075              0.160  \n",
       "\n",
       "[5 rows x 129 columns]"
      ]
     },
     "execution_count": 12,
     "metadata": {},
     "output_type": "execute_result"
    }
   ],
   "source": [
    "# Removing any duplicate values\n",
    "\n",
    "final_df = filtered_df.drop_duplicates()\n",
    "final_df.head()"
   ]
  },
  {
   "cell_type": "code",
   "execution_count": 13,
   "metadata": {},
   "outputs": [
    {
     "data": {
      "text/html": [
       "<div>\n",
       "<style scoped>\n",
       "    .dataframe tbody tr th:only-of-type {\n",
       "        vertical-align: middle;\n",
       "    }\n",
       "\n",
       "    .dataframe tbody tr th {\n",
       "        vertical-align: top;\n",
       "    }\n",
       "\n",
       "    .dataframe thead th {\n",
       "        text-align: right;\n",
       "    }\n",
       "</style>\n",
       "<table border=\"1\" class=\"dataframe\">\n",
       "  <thead>\n",
       "    <tr style=\"text-align: right;\">\n",
       "      <th></th>\n",
       "      <th>country</th>\n",
       "      <th>year</th>\n",
       "      <th>iso_code</th>\n",
       "      <th>population</th>\n",
       "      <th>gdp</th>\n",
       "      <th>hydro_cons_change_pct</th>\n",
       "      <th>hydro_cons_change_twh</th>\n",
       "      <th>hydro_consumption</th>\n",
       "      <th>hydro_elec_per_capita</th>\n",
       "      <th>hydro_electricity</th>\n",
       "      <th>...</th>\n",
       "      <th>nuclear_share_elec</th>\n",
       "      <th>nuclear_share_energy</th>\n",
       "      <th>solar_cons_change_pct</th>\n",
       "      <th>solar_cons_change_twh</th>\n",
       "      <th>solar_consumption</th>\n",
       "      <th>solar_elec_per_capita</th>\n",
       "      <th>solar_electricity</th>\n",
       "      <th>solar_energy_per_capita</th>\n",
       "      <th>solar_share_elec</th>\n",
       "      <th>solar_share_energy</th>\n",
       "    </tr>\n",
       "  </thead>\n",
       "  <tbody>\n",
       "    <tr>\n",
       "      <th>1071</th>\n",
       "      <td>Argentina</td>\n",
       "      <td>2011</td>\n",
       "      <td>ARG</td>\n",
       "      <td>41520736.0</td>\n",
       "      <td>8.359700e+11</td>\n",
       "      <td>-6.514</td>\n",
       "      <td>-6.559</td>\n",
       "      <td>86.034</td>\n",
       "      <td>747.337</td>\n",
       "      <td>31.03</td>\n",
       "      <td>...</td>\n",
       "      <td>4.798</td>\n",
       "      <td>1.864</td>\n",
       "      <td>1779.148</td>\n",
       "      <td>0.004</td>\n",
       "      <td>0.004</td>\n",
       "      <td>0.000</td>\n",
       "      <td>0.00</td>\n",
       "      <td>0.107</td>\n",
       "      <td>0.000</td>\n",
       "      <td>0.000</td>\n",
       "    </tr>\n",
       "    <tr>\n",
       "      <th>1072</th>\n",
       "      <td>Argentina</td>\n",
       "      <td>2012</td>\n",
       "      <td>ARG</td>\n",
       "      <td>41952364.0</td>\n",
       "      <td>8.274050e+11</td>\n",
       "      <td>-6.485</td>\n",
       "      <td>-6.067</td>\n",
       "      <td>79.967</td>\n",
       "      <td>684.348</td>\n",
       "      <td>28.71</td>\n",
       "      <td>...</td>\n",
       "      <td>4.585</td>\n",
       "      <td>1.785</td>\n",
       "      <td>406.380</td>\n",
       "      <td>0.018</td>\n",
       "      <td>0.022</td>\n",
       "      <td>0.238</td>\n",
       "      <td>0.01</td>\n",
       "      <td>0.534</td>\n",
       "      <td>0.008</td>\n",
       "      <td>0.002</td>\n",
       "    </tr>\n",
       "    <tr>\n",
       "      <th>1073</th>\n",
       "      <td>Argentina</td>\n",
       "      <td>2013</td>\n",
       "      <td>ARG</td>\n",
       "      <td>42388268.0</td>\n",
       "      <td>8.473050e+11</td>\n",
       "      <td>12.368</td>\n",
       "      <td>9.349</td>\n",
       "      <td>89.316</td>\n",
       "      <td>766.957</td>\n",
       "      <td>32.51</td>\n",
       "      <td>...</td>\n",
       "      <td>4.331</td>\n",
       "      <td>1.654</td>\n",
       "      <td>84.438</td>\n",
       "      <td>0.019</td>\n",
       "      <td>0.041</td>\n",
       "      <td>0.236</td>\n",
       "      <td>0.01</td>\n",
       "      <td>0.969</td>\n",
       "      <td>0.008</td>\n",
       "      <td>0.004</td>\n",
       "    </tr>\n",
       "    <tr>\n",
       "      <th>1074</th>\n",
       "      <td>Argentina</td>\n",
       "      <td>2014</td>\n",
       "      <td>ARG</td>\n",
       "      <td>42824064.0</td>\n",
       "      <td>8.259810e+11</td>\n",
       "      <td>-1.082</td>\n",
       "      <td>-1.496</td>\n",
       "      <td>87.820</td>\n",
       "      <td>754.949</td>\n",
       "      <td>32.33</td>\n",
       "      <td>...</td>\n",
       "      <td>3.991</td>\n",
       "      <td>1.463</td>\n",
       "      <td>5.771</td>\n",
       "      <td>0.002</td>\n",
       "      <td>0.043</td>\n",
       "      <td>0.467</td>\n",
       "      <td>0.02</td>\n",
       "      <td>1.009</td>\n",
       "      <td>0.015</td>\n",
       "      <td>0.004</td>\n",
       "    </tr>\n",
       "    <tr>\n",
       "      <th>1075</th>\n",
       "      <td>Argentina</td>\n",
       "      <td>2015</td>\n",
       "      <td>ARG</td>\n",
       "      <td>43257064.0</td>\n",
       "      <td>8.478550e+11</td>\n",
       "      <td>-0.244</td>\n",
       "      <td>-0.736</td>\n",
       "      <td>87.084</td>\n",
       "      <td>738.377</td>\n",
       "      <td>31.94</td>\n",
       "      <td>...</td>\n",
       "      <td>4.819</td>\n",
       "      <td>1.825</td>\n",
       "      <td>-7.909</td>\n",
       "      <td>-0.004</td>\n",
       "      <td>0.040</td>\n",
       "      <td>0.231</td>\n",
       "      <td>0.01</td>\n",
       "      <td>0.914</td>\n",
       "      <td>0.007</td>\n",
       "      <td>0.004</td>\n",
       "    </tr>\n",
       "  </tbody>\n",
       "</table>\n",
       "<p>5 rows × 29 columns</p>\n",
       "</div>"
      ],
      "text/plain": [
       "        country  year iso_code  population           gdp  \\\n",
       "1071  Argentina  2011      ARG  41520736.0  8.359700e+11   \n",
       "1072  Argentina  2012      ARG  41952364.0  8.274050e+11   \n",
       "1073  Argentina  2013      ARG  42388268.0  8.473050e+11   \n",
       "1074  Argentina  2014      ARG  42824064.0  8.259810e+11   \n",
       "1075  Argentina  2015      ARG  43257064.0  8.478550e+11   \n",
       "\n",
       "      hydro_cons_change_pct  hydro_cons_change_twh  hydro_consumption  \\\n",
       "1071                 -6.514                 -6.559             86.034   \n",
       "1072                 -6.485                 -6.067             79.967   \n",
       "1073                 12.368                  9.349             89.316   \n",
       "1074                 -1.082                 -1.496             87.820   \n",
       "1075                 -0.244                 -0.736             87.084   \n",
       "\n",
       "      hydro_elec_per_capita  hydro_electricity  ...  nuclear_share_elec  \\\n",
       "1071                747.337              31.03  ...               4.798   \n",
       "1072                684.348              28.71  ...               4.585   \n",
       "1073                766.957              32.51  ...               4.331   \n",
       "1074                754.949              32.33  ...               3.991   \n",
       "1075                738.377              31.94  ...               4.819   \n",
       "\n",
       "      nuclear_share_energy  solar_cons_change_pct  solar_cons_change_twh  \\\n",
       "1071                 1.864               1779.148                  0.004   \n",
       "1072                 1.785                406.380                  0.018   \n",
       "1073                 1.654                 84.438                  0.019   \n",
       "1074                 1.463                  5.771                  0.002   \n",
       "1075                 1.825                 -7.909                 -0.004   \n",
       "\n",
       "      solar_consumption  solar_elec_per_capita  solar_electricity  \\\n",
       "1071              0.004                  0.000               0.00   \n",
       "1072              0.022                  0.238               0.01   \n",
       "1073              0.041                  0.236               0.01   \n",
       "1074              0.043                  0.467               0.02   \n",
       "1075              0.040                  0.231               0.01   \n",
       "\n",
       "      solar_energy_per_capita  solar_share_elec  solar_share_energy  \n",
       "1071                    0.107             0.000               0.000  \n",
       "1072                    0.534             0.008               0.002  \n",
       "1073                    0.969             0.008               0.004  \n",
       "1074                    1.009             0.015               0.004  \n",
       "1075                    0.914             0.007               0.004  \n",
       "\n",
       "[5 rows x 29 columns]"
      ]
     },
     "execution_count": 13,
     "metadata": {},
     "output_type": "execute_result"
    }
   ],
   "source": [
    "# Retaining only required columns related to hydro, nuclear and solar\n",
    "\n",
    "columns_to_drop=['biofuel_cons_change_pct','biofuel_cons_change_twh','biofuel_cons_per_capita','biofuel_consumption','biofuel_elec_per_capita','biofuel_electricity','biofuel_share_elec','biofuel_share_energy',\n",
    "                 'carbon_intensity_elec','coal_cons_change_pct','coal_cons_change_twh','coal_cons_per_capita','coal_consumption','coal_elec_per_capita','coal_electricity','coal_prod_change_pct',\n",
    "                 'coal_prod_change_twh','coal_prod_per_capita','coal_production','coal_share_elec','coal_share_energy','electricity_demand','electricity_generation','electricity_share_energy',\n",
    "                 'energy_cons_change_pct','energy_cons_change_twh','energy_per_capita','energy_per_gdp','fossil_cons_change_pct','fossil_cons_change_twh','fossil_elec_per_capita','fossil_electricity',\n",
    "                 'fossil_energy_per_capita','fossil_fuel_consumption','fossil_share_elec','fossil_share_energy','gas_cons_change_pct','gas_cons_change_twh','gas_consumption','gas_elec_per_capita',\n",
    "                 'gas_electricity','gas_energy_per_capita','gas_prod_change_pct','gas_prod_change_twh','gas_prod_per_capita','gas_production','gas_share_elec','gas_share_energy','greenhouse_gas_emissions',\n",
    "                 'low_carbon_cons_change_pct','low_carbon_cons_change_twh','low_carbon_consumption','low_carbon_elec_per_capita','low_carbon_electricity','low_carbon_energy_per_capita','low_carbon_share_elec',\n",
    "                 'low_carbon_share_energy','net_elec_imports','net_elec_imports_share_demand','oil_cons_change_pct','oil_cons_change_twh','oil_consumption','oil_elec_per_capita','oil_electricity',\n",
    "                 'oil_energy_per_capita','oil_prod_change_pct','oil_prod_change_twh','oil_prod_per_capita','oil_production','oil_share_elec','oil_share_energy','other_renewable_consumption',\n",
    "                 'other_renewable_electricity','other_renewable_exc_biofuel_electricity','other_renewables_cons_change_pct','other_renewables_cons_change_twh','other_renewables_elec_per_capita',\n",
    "                 'other_renewables_elec_per_capita_exc_biofuel','other_renewables_energy_per_capita','other_renewables_share_elec','other_renewables_share_elec_exc_biofuel','other_renewables_share_energy',\n",
    "                 'per_capita_electricity','primary_energy_consumption','renewables_cons_change_pct','renewables_cons_change_twh','renewables_consumption','renewables_elec_per_capita','renewables_electricity',\n",
    "                 'renewables_energy_per_capita','renewables_share_elec','renewables_share_energy','wind_cons_change_pct','wind_cons_change_twh','wind_consumption','wind_elec_per_capita','wind_electricity',\n",
    "                 'wind_energy_per_capita','wind_share_elec','wind_share_energy']\n",
    "\n",
    "new_df = final_df.drop(columns= columns_to_drop)\n",
    "new_df.head()"
   ]
  },
  {
   "cell_type": "code",
   "execution_count": 14,
   "metadata": {},
   "outputs": [
    {
     "data": {
      "text/plain": [
       "Index(['country', 'year', 'iso_code', 'population', 'gdp',\n",
       "       'hydro_cons_change_pct', 'hydro_cons_change_twh', 'hydro_consumption',\n",
       "       'hydro_elec_per_capita', 'hydro_electricity', 'hydro_energy_per_capita',\n",
       "       'hydro_share_elec', 'hydro_share_energy', 'nuclear_cons_change_pct',\n",
       "       'nuclear_cons_change_twh', 'nuclear_consumption',\n",
       "       'nuclear_elec_per_capita', 'nuclear_electricity',\n",
       "       'nuclear_energy_per_capita', 'nuclear_share_elec',\n",
       "       'nuclear_share_energy', 'solar_cons_change_pct',\n",
       "       'solar_cons_change_twh', 'solar_consumption', 'solar_elec_per_capita',\n",
       "       'solar_electricity', 'solar_energy_per_capita', 'solar_share_elec',\n",
       "       'solar_share_energy'],\n",
       "      dtype='object')"
      ]
     },
     "execution_count": 14,
     "metadata": {},
     "output_type": "execute_result"
    }
   ],
   "source": [
    "# Checking the columns in the new dataframe before plotting\n",
    "\n",
    "new_df.columns"
   ]
  },
  {
   "cell_type": "code",
   "execution_count": 15,
   "metadata": {},
   "outputs": [
    {
     "name": "stdout",
     "output_type": "stream",
     "text": [
      "Cleaned DataFrame inserted successfully into MongoDB!\n"
     ]
    }
   ],
   "source": [
    "# Iterate over the DataFrame rows and insert them into MongoDB\n",
    "for index, row in new_df.iterrows():\n",
    "    # Convert each row to a dictionary for MongoDB insertion\n",
    "    collection.insert_one(row.to_dict())\n",
    "\n",
    "print(\"Cleaned DataFrame inserted successfully into MongoDB!\")"
   ]
  },
  {
   "cell_type": "code",
   "execution_count": 16,
   "metadata": {},
   "outputs": [
    {
     "name": "stdout",
     "output_type": "stream",
     "text": [
      "Unique countries in the dataset: ['Argentina' 'Brazil' 'Bulgaria' 'Canada' 'Czechia' 'France' 'Germany'\n",
      " 'Hungary' 'Japan' 'Mexico' 'Romania' 'Russia' 'Slovakia' 'Slovenia'\n",
      " 'South Africa' 'Spain' 'Ukraine' 'United Kingdom' 'United States']\n"
     ]
    }
   ],
   "source": [
    "# checking the countries in the dataframe\n",
    "\n",
    "print(\"Unique countries in the dataset:\", new_df['country'].unique())"
   ]
  },
  {
   "cell_type": "code",
   "execution_count": 17,
   "metadata": {},
   "outputs": [
    {
     "data": {
      "text/plain": [
       "Index(['Canada', 'United States', 'Brazil', 'Japan', 'Mexico'], dtype='object', name='country')"
      ]
     },
     "execution_count": 17,
     "metadata": {},
     "output_type": "execute_result"
    }
   ],
   "source": [
    "# Setting the timeline\n",
    "\n",
    "plot_df = new_df[(new_df['year'] >= 1990) & (new_df['year'] <= 2024)]\n",
    "\n",
    "#Groupby by the top 5 countries\n",
    "\n",
    "top_countries = plot_df.groupby('country')['hydro_consumption'].sum().nlargest(5).index\n",
    "top_countries"
   ]
  },
  {
   "cell_type": "code",
   "execution_count": 18,
   "metadata": {},
   "outputs": [
    {
     "data": {
      "text/html": [
       "<div>\n",
       "<style scoped>\n",
       "    .dataframe tbody tr th:only-of-type {\n",
       "        vertical-align: middle;\n",
       "    }\n",
       "\n",
       "    .dataframe tbody tr th {\n",
       "        vertical-align: top;\n",
       "    }\n",
       "\n",
       "    .dataframe thead th {\n",
       "        text-align: right;\n",
       "    }\n",
       "</style>\n",
       "<table border=\"1\" class=\"dataframe\">\n",
       "  <thead>\n",
       "    <tr style=\"text-align: right;\">\n",
       "      <th></th>\n",
       "      <th>country</th>\n",
       "      <th>year</th>\n",
       "      <th>iso_code</th>\n",
       "      <th>population</th>\n",
       "      <th>gdp</th>\n",
       "      <th>hydro_cons_change_pct</th>\n",
       "      <th>hydro_cons_change_twh</th>\n",
       "      <th>hydro_consumption</th>\n",
       "      <th>hydro_elec_per_capita</th>\n",
       "      <th>hydro_electricity</th>\n",
       "      <th>...</th>\n",
       "      <th>nuclear_share_elec</th>\n",
       "      <th>nuclear_share_energy</th>\n",
       "      <th>solar_cons_change_pct</th>\n",
       "      <th>solar_cons_change_twh</th>\n",
       "      <th>solar_consumption</th>\n",
       "      <th>solar_elec_per_capita</th>\n",
       "      <th>solar_electricity</th>\n",
       "      <th>solar_energy_per_capita</th>\n",
       "      <th>solar_share_elec</th>\n",
       "      <th>solar_share_energy</th>\n",
       "    </tr>\n",
       "  </thead>\n",
       "  <tbody>\n",
       "    <tr>\n",
       "      <th>2966</th>\n",
       "      <td>Brazil</td>\n",
       "      <td>2013</td>\n",
       "      <td>BRA</td>\n",
       "      <td>201721776.0</td>\n",
       "      <td>3.112910e+12</td>\n",
       "      <td>-5.863</td>\n",
       "      <td>-73.225</td>\n",
       "      <td>1065.617</td>\n",
       "      <td>1938.264</td>\n",
       "      <td>390.99</td>\n",
       "      <td>...</td>\n",
       "      <td>2.600</td>\n",
       "      <td>1.163</td>\n",
       "      <td>196.796</td>\n",
       "      <td>0.009</td>\n",
       "      <td>0.013</td>\n",
       "      <td>0.000</td>\n",
       "      <td>0.00</td>\n",
       "      <td>0.065</td>\n",
       "      <td>0.000</td>\n",
       "      <td>0.000</td>\n",
       "    </tr>\n",
       "    <tr>\n",
       "      <th>2967</th>\n",
       "      <td>Brazil</td>\n",
       "      <td>2014</td>\n",
       "      <td>BRA</td>\n",
       "      <td>203459648.0</td>\n",
       "      <td>3.128570e+12</td>\n",
       "      <td>-4.489</td>\n",
       "      <td>-53.934</td>\n",
       "      <td>1011.683</td>\n",
       "      <td>1835.450</td>\n",
       "      <td>373.44</td>\n",
       "      <td>...</td>\n",
       "      <td>2.485</td>\n",
       "      <td>1.122</td>\n",
       "      <td>235.485</td>\n",
       "      <td>0.031</td>\n",
       "      <td>0.044</td>\n",
       "      <td>0.098</td>\n",
       "      <td>0.02</td>\n",
       "      <td>0.214</td>\n",
       "      <td>0.003</td>\n",
       "      <td>0.001</td>\n",
       "    </tr>\n",
       "    <tr>\n",
       "      <th>2968</th>\n",
       "      <td>Brazil</td>\n",
       "      <td>2015</td>\n",
       "      <td>BRA</td>\n",
       "      <td>205188208.0</td>\n",
       "      <td>3.270710e+12</td>\n",
       "      <td>-3.668</td>\n",
       "      <td>-42.906</td>\n",
       "      <td>968.777</td>\n",
       "      <td>1753.220</td>\n",
       "      <td>359.74</td>\n",
       "      <td>...</td>\n",
       "      <td>2.434</td>\n",
       "      <td>1.083</td>\n",
       "      <td>266.361</td>\n",
       "      <td>0.115</td>\n",
       "      <td>0.159</td>\n",
       "      <td>0.292</td>\n",
       "      <td>0.06</td>\n",
       "      <td>0.773</td>\n",
       "      <td>0.010</td>\n",
       "      <td>0.005</td>\n",
       "    </tr>\n",
       "    <tr>\n",
       "      <th>2969</th>\n",
       "      <td>Brazil</td>\n",
       "      <td>2016</td>\n",
       "      <td>BRA</td>\n",
       "      <td>206859584.0</td>\n",
       "      <td>2.889040e+12</td>\n",
       "      <td>5.884</td>\n",
       "      <td>50.935</td>\n",
       "      <td>1019.713</td>\n",
       "      <td>1841.394</td>\n",
       "      <td>380.91</td>\n",
       "      <td>...</td>\n",
       "      <td>2.620</td>\n",
       "      <td>1.187</td>\n",
       "      <td>44.712</td>\n",
       "      <td>0.070</td>\n",
       "      <td>0.228</td>\n",
       "      <td>0.387</td>\n",
       "      <td>0.08</td>\n",
       "      <td>1.103</td>\n",
       "      <td>0.014</td>\n",
       "      <td>0.007</td>\n",
       "    </tr>\n",
       "    <tr>\n",
       "      <th>2970</th>\n",
       "      <td>Brazil</td>\n",
       "      <td>2017</td>\n",
       "      <td>BRA</td>\n",
       "      <td>208504960.0</td>\n",
       "      <td>2.927000e+12</td>\n",
       "      <td>-2.626</td>\n",
       "      <td>-32.623</td>\n",
       "      <td>987.090</td>\n",
       "      <td>1778.903</td>\n",
       "      <td>370.91</td>\n",
       "      <td>...</td>\n",
       "      <td>2.557</td>\n",
       "      <td>1.161</td>\n",
       "      <td>875.613</td>\n",
       "      <td>1.985</td>\n",
       "      <td>2.214</td>\n",
       "      <td>3.981</td>\n",
       "      <td>0.83</td>\n",
       "      <td>10.617</td>\n",
       "      <td>0.143</td>\n",
       "      <td>0.064</td>\n",
       "    </tr>\n",
       "    <tr>\n",
       "      <th>...</th>\n",
       "      <td>...</td>\n",
       "      <td>...</td>\n",
       "      <td>...</td>\n",
       "      <td>...</td>\n",
       "      <td>...</td>\n",
       "      <td>...</td>\n",
       "      <td>...</td>\n",
       "      <td>...</td>\n",
       "      <td>...</td>\n",
       "      <td>...</td>\n",
       "      <td>...</td>\n",
       "      <td>...</td>\n",
       "      <td>...</td>\n",
       "      <td>...</td>\n",
       "      <td>...</td>\n",
       "      <td>...</td>\n",
       "      <td>...</td>\n",
       "      <td>...</td>\n",
       "      <td>...</td>\n",
       "      <td>...</td>\n",
       "      <td>...</td>\n",
       "    </tr>\n",
       "    <tr>\n",
       "      <th>20702</th>\n",
       "      <td>United States</td>\n",
       "      <td>2014</td>\n",
       "      <td>USA</td>\n",
       "      <td>322033952.0</td>\n",
       "      <td>1.648270e+13</td>\n",
       "      <td>-4.051</td>\n",
       "      <td>-33.606</td>\n",
       "      <td>692.853</td>\n",
       "      <td>786.221</td>\n",
       "      <td>253.19</td>\n",
       "      <td>...</td>\n",
       "      <td>19.462</td>\n",
       "      <td>8.391</td>\n",
       "      <td>82.149</td>\n",
       "      <td>35.435</td>\n",
       "      <td>79.149</td>\n",
       "      <td>89.804</td>\n",
       "      <td>28.92</td>\n",
       "      <td>245.780</td>\n",
       "      <td>0.706</td>\n",
       "      <td>0.304</td>\n",
       "    </tr>\n",
       "    <tr>\n",
       "      <th>20703</th>\n",
       "      <td>United States</td>\n",
       "      <td>2015</td>\n",
       "      <td>USA</td>\n",
       "      <td>324607776.0</td>\n",
       "      <td>1.690260e+13</td>\n",
       "      <td>-3.635</td>\n",
       "      <td>-29.162</td>\n",
       "      <td>663.691</td>\n",
       "      <td>751.646</td>\n",
       "      <td>243.99</td>\n",
       "      <td>...</td>\n",
       "      <td>19.520</td>\n",
       "      <td>8.422</td>\n",
       "      <td>34.947</td>\n",
       "      <td>27.024</td>\n",
       "      <td>106.174</td>\n",
       "      <td>120.237</td>\n",
       "      <td>39.03</td>\n",
       "      <td>327.083</td>\n",
       "      <td>0.956</td>\n",
       "      <td>0.412</td>\n",
       "    </tr>\n",
       "    <tr>\n",
       "      <th>20704</th>\n",
       "      <td>United States</td>\n",
       "      <td>2016</td>\n",
       "      <td>USA</td>\n",
       "      <td>327210208.0</td>\n",
       "      <td>1.716260e+13</td>\n",
       "      <td>7.024</td>\n",
       "      <td>42.414</td>\n",
       "      <td>706.105</td>\n",
       "      <td>798.050</td>\n",
       "      <td>261.13</td>\n",
       "      <td>...</td>\n",
       "      <td>19.711</td>\n",
       "      <td>8.470</td>\n",
       "      <td>40.567</td>\n",
       "      <td>42.188</td>\n",
       "      <td>148.362</td>\n",
       "      <td>167.690</td>\n",
       "      <td>54.87</td>\n",
       "      <td>453.415</td>\n",
       "      <td>1.342</td>\n",
       "      <td>0.577</td>\n",
       "    </tr>\n",
       "    <tr>\n",
       "      <th>20705</th>\n",
       "      <td>United States</td>\n",
       "      <td>2017</td>\n",
       "      <td>USA</td>\n",
       "      <td>329791232.0</td>\n",
       "      <td>1.759630e+13</td>\n",
       "      <td>12.527</td>\n",
       "      <td>83.783</td>\n",
       "      <td>789.888</td>\n",
       "      <td>890.988</td>\n",
       "      <td>293.84</td>\n",
       "      <td>...</td>\n",
       "      <td>19.864</td>\n",
       "      <td>8.381</td>\n",
       "      <td>40.847</td>\n",
       "      <td>59.372</td>\n",
       "      <td>207.734</td>\n",
       "      <td>234.330</td>\n",
       "      <td>77.28</td>\n",
       "      <td>629.895</td>\n",
       "      <td>1.907</td>\n",
       "      <td>0.805</td>\n",
       "    </tr>\n",
       "    <tr>\n",
       "      <th>20706</th>\n",
       "      <td>United States</td>\n",
       "      <td>2018</td>\n",
       "      <td>USA</td>\n",
       "      <td>332140032.0</td>\n",
       "      <td>1.814060e+13</td>\n",
       "      <td>-2.457</td>\n",
       "      <td>-23.911</td>\n",
       "      <td>765.977</td>\n",
       "      <td>862.949</td>\n",
       "      <td>286.62</td>\n",
       "      <td>...</td>\n",
       "      <td>19.209</td>\n",
       "      <td>8.059</td>\n",
       "      <td>20.819</td>\n",
       "      <td>41.780</td>\n",
       "      <td>249.513</td>\n",
       "      <td>281.086</td>\n",
       "      <td>93.36</td>\n",
       "      <td>751.230</td>\n",
       "      <td>2.222</td>\n",
       "      <td>0.932</td>\n",
       "    </tr>\n",
       "  </tbody>\n",
       "</table>\n",
       "<p>71 rows × 29 columns</p>\n",
       "</div>"
      ],
      "text/plain": [
       "             country  year iso_code   population           gdp  \\\n",
       "2966          Brazil  2013      BRA  201721776.0  3.112910e+12   \n",
       "2967          Brazil  2014      BRA  203459648.0  3.128570e+12   \n",
       "2968          Brazil  2015      BRA  205188208.0  3.270710e+12   \n",
       "2969          Brazil  2016      BRA  206859584.0  2.889040e+12   \n",
       "2970          Brazil  2017      BRA  208504960.0  2.927000e+12   \n",
       "...              ...   ...      ...          ...           ...   \n",
       "20702  United States  2014      USA  322033952.0  1.648270e+13   \n",
       "20703  United States  2015      USA  324607776.0  1.690260e+13   \n",
       "20704  United States  2016      USA  327210208.0  1.716260e+13   \n",
       "20705  United States  2017      USA  329791232.0  1.759630e+13   \n",
       "20706  United States  2018      USA  332140032.0  1.814060e+13   \n",
       "\n",
       "       hydro_cons_change_pct  hydro_cons_change_twh  hydro_consumption  \\\n",
       "2966                  -5.863                -73.225           1065.617   \n",
       "2967                  -4.489                -53.934           1011.683   \n",
       "2968                  -3.668                -42.906            968.777   \n",
       "2969                   5.884                 50.935           1019.713   \n",
       "2970                  -2.626                -32.623            987.090   \n",
       "...                      ...                    ...                ...   \n",
       "20702                 -4.051                -33.606            692.853   \n",
       "20703                 -3.635                -29.162            663.691   \n",
       "20704                  7.024                 42.414            706.105   \n",
       "20705                 12.527                 83.783            789.888   \n",
       "20706                 -2.457                -23.911            765.977   \n",
       "\n",
       "       hydro_elec_per_capita  hydro_electricity  ...  nuclear_share_elec  \\\n",
       "2966                1938.264             390.99  ...               2.600   \n",
       "2967                1835.450             373.44  ...               2.485   \n",
       "2968                1753.220             359.74  ...               2.434   \n",
       "2969                1841.394             380.91  ...               2.620   \n",
       "2970                1778.903             370.91  ...               2.557   \n",
       "...                      ...                ...  ...                 ...   \n",
       "20702                786.221             253.19  ...              19.462   \n",
       "20703                751.646             243.99  ...              19.520   \n",
       "20704                798.050             261.13  ...              19.711   \n",
       "20705                890.988             293.84  ...              19.864   \n",
       "20706                862.949             286.62  ...              19.209   \n",
       "\n",
       "       nuclear_share_energy  solar_cons_change_pct  solar_cons_change_twh  \\\n",
       "2966                  1.163                196.796                  0.009   \n",
       "2967                  1.122                235.485                  0.031   \n",
       "2968                  1.083                266.361                  0.115   \n",
       "2969                  1.187                 44.712                  0.070   \n",
       "2970                  1.161                875.613                  1.985   \n",
       "...                     ...                    ...                    ...   \n",
       "20702                 8.391                 82.149                 35.435   \n",
       "20703                 8.422                 34.947                 27.024   \n",
       "20704                 8.470                 40.567                 42.188   \n",
       "20705                 8.381                 40.847                 59.372   \n",
       "20706                 8.059                 20.819                 41.780   \n",
       "\n",
       "       solar_consumption  solar_elec_per_capita  solar_electricity  \\\n",
       "2966               0.013                  0.000               0.00   \n",
       "2967               0.044                  0.098               0.02   \n",
       "2968               0.159                  0.292               0.06   \n",
       "2969               0.228                  0.387               0.08   \n",
       "2970               2.214                  3.981               0.83   \n",
       "...                  ...                    ...                ...   \n",
       "20702             79.149                 89.804              28.92   \n",
       "20703            106.174                120.237              39.03   \n",
       "20704            148.362                167.690              54.87   \n",
       "20705            207.734                234.330              77.28   \n",
       "20706            249.513                281.086              93.36   \n",
       "\n",
       "       solar_energy_per_capita  solar_share_elec  solar_share_energy  \n",
       "2966                     0.065             0.000               0.000  \n",
       "2967                     0.214             0.003               0.001  \n",
       "2968                     0.773             0.010               0.005  \n",
       "2969                     1.103             0.014               0.007  \n",
       "2970                    10.617             0.143               0.064  \n",
       "...                        ...               ...                 ...  \n",
       "20702                  245.780             0.706               0.304  \n",
       "20703                  327.083             0.956               0.412  \n",
       "20704                  453.415             1.342               0.577  \n",
       "20705                  629.895             1.907               0.805  \n",
       "20706                  751.230             2.222               0.932  \n",
       "\n",
       "[71 rows x 29 columns]"
      ]
     },
     "execution_count": 18,
     "metadata": {},
     "output_type": "execute_result"
    }
   ],
   "source": [
    "# Filter DataFrame for the top countries\n",
    "\n",
    "top_countries_data = plot_df[plot_df['country'].isin(top_countries)]\n",
    "top_countries_data"
   ]
  },
  {
   "cell_type": "code",
   "execution_count": 52,
   "metadata": {},
   "outputs": [
    {
     "data": {
      "image/png": "[encoded data removed]",
      "text/plain": [
       "<Figure size 1200x600 with 1 Axes>"
      ]
     },
     "metadata": {},
     "output_type": "display_data"
    }
   ],
   "source": [
    "# Plotting the comsumption of hydro enegry\n",
    "\n",
    "plt.figure(figsize=(12, 6))\n",
    "for country in top_countries:\n",
    "    country_data = top_countries_data[top_countries_data['country'] == country]\n",
    "    plt.plot(country_data['year'], country_data['hydro_energy_per_capita'], marker='o', label=country)\n",
    "\n",
    "plt.xlabel('Year')\n",
    "plt.ylabel('Hydro Consumption (TWh)')\n",
    "plt.title('Hydro Consumption Over Time for Top 5 Countries')\n",
    "plt.xticks(country_data['year'].unique())\n",
    "plt.legend(title='Country')\n",
    "plt.grid(True)\n",
    "plt.tight_layout()\n",
    "\n",
    "# Save the pair plot to the 'output' folder\n",
    "plt.savefig('output/hydro_consumption.png')"
   ]
  },
  {
   "cell_type": "code",
   "execution_count": 51,
   "metadata": {},
   "outputs": [
    {
     "data": {
      "image/png": "[encoded data removed]",
      "text/plain": [
       "<Figure size 1200x600 with 1 Axes>"
      ]
     },
     "metadata": {},
     "output_type": "display_data"
    }
   ],
   "source": [
    "# Plotting the comsumption of nuclear enegry\n",
    "\n",
    "plt.figure(figsize=(12, 6))\n",
    "for country in top_countries:\n",
    "    country_data = top_countries_data[top_countries_data['country'] == country]\n",
    "    plt.plot(country_data['year'], country_data['nuclear_energy_per_capita'], marker='o', label=country)\n",
    "\n",
    "plt.xlabel('Year')\n",
    "plt.ylabel('Nuclear Consumption')\n",
    "plt.title('Nuclear Consumption Over Time for Top 5 Countries')\n",
    "plt.xticks(country_data['year'].unique())\n",
    "plt.legend(title='Country')\n",
    "plt.grid(True)\n",
    "plt.tight_layout()\n",
    "\n",
    "\n",
    "# Save the pair plot to the 'output' folder\n",
    "plt.savefig('output/nuclear_consumption.png')"
   ]
  },
  {
   "cell_type": "code",
   "execution_count": 50,
   "metadata": {},
   "outputs": [
    {
     "data": {
      "image/png": "[encoded data removed]",
      "text/plain": [
       "<Figure size 1200x600 with 1 Axes>"
      ]
     },
     "metadata": {},
     "output_type": "display_data"
    }
   ],
   "source": [
    "# Plotting the comsumption of solar enegry\n",
    "\n",
    "plt.figure(figsize=(12, 6))\n",
    "for country in top_countries:\n",
    "    country_data = top_countries_data[top_countries_data['country'] == country]\n",
    "    plt.plot(country_data['year'], country_data['solar_consumption'], marker='o', label=country)\n",
    "\n",
    "plt.xlabel('Year')\n",
    "plt.ylabel('Solar Consumption')\n",
    "plt.title('Solar Consumption Over Time for Top 5 Countries')\n",
    "plt.xticks(country_data['year'].unique())\n",
    "plt.legend(title='Country')\n",
    "plt.grid(True)\n",
    "plt.tight_layout()\n",
    "\n",
    "\n",
    "# Save the pair plot to the 'output' folder\n",
    "plt.savefig('output/solar_consumption.png')"
   ]
  },
  {
   "cell_type": "code",
   "execution_count": 46,
   "metadata": {},
   "outputs": [
    {
     "data": {
      "image/png": "[encoded data removed]",
      "text/plain": [
       "<Figure size 1000x600 with 1 Axes>"
      ]
     },
     "metadata": {},
     "output_type": "display_data"
    }
   ],
   "source": [
    "# Plot energy consumption breakdown by source\n",
    "\n",
    "for country in top_countries:\n",
    "    country_data = top_countries_data[top_countries_data['country'] == country]\n",
    "   \n",
    "fig, ax = plt.subplots(figsize=(10, 6))\n",
    "source_cols = ['hydro_energy_per_capita', 'nuclear_energy_per_capita', 'solar_energy_per_capita']\n",
    "top_countries_data[source_cols].sum().plot(kind='pie', ax=ax, autopct='%1.1f%%')\n",
    "ax.set_title('Energy Consumption by Source')\n",
    "ax.set_ylabel('')\n",
    "plt.tight_layout()\n",
    "\n",
    "\n",
    "# Save the pair plot to the 'output' folder\n",
    "plt.savefig('output/energy_consumption_by_source.png')"
   ]
  },
  {
   "cell_type": "code",
   "execution_count": 23,
   "metadata": {},
   "outputs": [],
   "source": [
    "sns.set_style(\"darkgrid\")"
   ]
  },
  {
   "cell_type": "code",
   "execution_count": 57,
   "metadata": {},
   "outputs": [
    {
     "data": {
      "image/png": "[encoded data removed]",
      "text/plain": [
       "<Figure size 633.5x500 with 6 Axes>"
      ]
     },
     "metadata": {},
     "output_type": "display_data"
    }
   ],
   "source": [
    "# Ensure the DataFrame only includes numeric columns when using mean()\n",
    "numeric_columns = top_countries_data.select_dtypes(include='number')  # Select only numeric columns\n",
    "\n",
    "# Find the top 5 countries based on mean GDP (or another metric)\n",
    "top_5_countries = top_countries_data.groupby('country')[numeric_columns.columns].mean().nlargest(5, 'population').index\n",
    "\n",
    "# Filter the data for the top 5 countries\n",
    "top_5_data = top_countries_data[top_countries_data['country'].isin(top_5_countries)]\n",
    "\n",
    "# Select the variables you want to plot\n",
    "selected_variables = ['hydro_consumption', 'solar_consumption']\n",
    "\n",
    "# Create the pair plot for the top 5 countries\n",
    "sns.pairplot(top_5_data, hue='country', vars=selected_variables)\n",
    "\n",
    "# Save the pair plot to the 'output' folder\n",
    "plt.savefig('output/pairplot_top_5_countries.png') \n",
    "\n",
    "# Show the plot\n",
    "plt.show()\n"
   ]
  },
  {
   "cell_type": "code",
   "execution_count": 29,
   "metadata": {},
   "outputs": [
    {
     "data": {
      "application/vnd.plotly.v1+json": {
       "config": {
        "plotlyServerURL": "https://plot.ly"
       },
       "data": [
        {
         "hovertemplate": "<b>%{hovertext}</b><br><br>country=Brazil<br>Year=%{x}<br>Hydro Share in Electricity (%)=%{y}<br>gdp=%{marker.size}<extra></extra>",
         "hovertext": [
          "Brazil",
          "Brazil",
          "Brazil",
          "Brazil",
          "Brazil",
          "Brazil"
         ],
         "legendgroup": "Brazil",
         "marker": {
          "color": "#636efa",
          "size": [
           3112910000000,
           3128570000000,
           3270710000000,
           2889040000000,
           2927000000000,
           2965400000000
          ],
          "sizemode": "area",
          "sizeref": 45351500000,
          "symbol": "circle"
         },
         "mode": "markers",
         "name": "Brazil",
         "orientation": "v",
         "showlegend": true,
         "type": "scatter",
         "x": [
          2013,
          2014,
          2015,
          2016,
          2017,
          2018
         ],
         "xaxis": "x",
         "y": [
          69.387,
          64.18,
          62.939,
          66.663,
          63.822,
          65.468
         ],
         "yaxis": "y"
        },
        {
         "hovertemplate": "<b>%{hovertext}</b><br><br>country=Canada<br>Year=%{x}<br>Hydro Share in Electricity (%)=%{y}<br>gdp=%{marker.size}<extra></extra>",
         "hovertext": [
          "Canada",
          "Canada",
          "Canada",
          "Canada",
          "Canada",
          "Canada",
          "Canada",
          "Canada",
          "Canada",
          "Canada",
          "Canada",
          "Canada",
          "Canada",
          "Canada"
         ],
         "legendgroup": "Canada",
         "marker": {
          "color": "#EF553B",
          "size": [
           1311260000000,
           1349430000000,
           1381200000000,
           1398900000000,
           1361510000000,
           1407420000000,
           1455580000000,
           1479800000000,
           1514900000000,
           1552200000000,
           1565170000000,
           1586150000000,
           1636440000000,
           1669400000000
          ],
          "sizemode": "area",
          "sizeref": 45351500000,
          "symbol": "circle"
         },
         "mode": "markers",
         "name": "Canada",
         "orientation": "v",
         "showlegend": true,
         "type": "scatter",
         "x": [
          2005,
          2006,
          2007,
          2008,
          2009,
          2010,
          2011,
          2012,
          2013,
          2014,
          2015,
          2016,
          2017,
          2018
         ],
         "xaxis": "x",
         "y": [
          59.08,
          58.944,
          59.368,
          60.777,
          61.324,
          59.79,
          60.825,
          61.486,
          60.82,
          59.532,
          59.217,
          59.171,
          60.593,
          60.076
         ],
         "yaxis": "y"
        },
        {
         "hovertemplate": "<b>%{hovertext}</b><br><br>country=Japan<br>Year=%{x}<br>Hydro Share in Electricity (%)=%{y}<br>gdp=%{marker.size}<extra></extra>",
         "hovertext": [
          "Japan",
          "Japan",
          "Japan",
          "Japan",
          "Japan",
          "Japan",
          "Japan",
          "Japan",
          "Japan"
         ],
         "legendgroup": "Japan",
         "marker": {
          "color": "#00cc96",
          "size": [
           4589240000000,
           4536230000000,
           4287890000000,
           4464960000000,
           4456990000000,
           4523680000000,
           4614150000000,
           4629620000000,
           4732220000000
          ],
          "sizemode": "area",
          "sizeref": 45351500000,
          "symbol": "circle"
         },
         "mode": "markers",
         "name": "Japan",
         "orientation": "v",
         "showlegend": true,
         "type": "scatter",
         "x": [
          2007,
          2008,
          2009,
          2010,
          2011,
          2012,
          2013,
          2014,
          2016
         ],
         "xaxis": "x",
         "y": [
          6.825,
          7.523,
          7.791,
          7.71,
          8.076,
          7.279,
          7.675,
          8.084,
          7.875
         ],
         "yaxis": "y"
        },
        {
         "hovertemplate": "<b>%{hovertext}</b><br><br>country=Mexico<br>Year=%{x}<br>Hydro Share in Electricity (%)=%{y}<br>gdp=%{marker.size}<extra></extra>",
         "hovertext": [
          "Mexico",
          "Mexico",
          "Mexico",
          "Mexico",
          "Mexico",
          "Mexico",
          "Mexico",
          "Mexico",
          "Mexico",
          "Mexico",
          "Mexico",
          "Mexico",
          "Mexico",
          "Mexico"
         ],
         "legendgroup": "Mexico",
         "marker": {
          "color": "#ab63fa",
          "size": [
           1427080000000,
           1510630000000,
           1572360000000,
           1607400000000,
           1543870000000,
           1637760000000,
           1716060000000,
           1785370000000,
           1810560000000,
           1851270000000,
           1899590000000,
           1923890000000,
           1964640000000,
           2006600000000
          ],
          "sizemode": "area",
          "sizeref": 45351500000,
          "symbol": "circle"
         },
         "mode": "markers",
         "name": "Mexico",
         "orientation": "v",
         "showlegend": true,
         "type": "scatter",
         "x": [
          2005,
          2006,
          2007,
          2008,
          2009,
          2010,
          2011,
          2012,
          2013,
          2014,
          2015,
          2016,
          2017,
          2018
         ],
         "xaxis": "x",
         "y": [
          11.834,
          12.707,
          11.069,
          15.699,
          10.776,
          13.914,
          12.821,
          11.094,
          9.649,
          13.284,
          10.276,
          9.815,
          10.267,
          9.728
         ],
         "yaxis": "y"
        },
        {
         "hovertemplate": "<b>%{hovertext}</b><br><br>country=United States<br>Year=%{x}<br>Hydro Share in Electricity (%)=%{y}<br>gdp=%{marker.size}<extra></extra>",
         "hovertext": [
          "United States",
          "United States",
          "United States",
          "United States",
          "United States",
          "United States",
          "United States",
          "United States",
          "United States",
          "United States",
          "United States",
          "United States",
          "United States",
          "United States"
         ],
         "legendgroup": "United States",
         "marker": {
          "color": "#FFA15A",
          "size": [
           14703700000000,
           15095900000000,
           15364500000000,
           15319700000000,
           14894300000000,
           15270600000000,
           15509300000000,
           15849600000000,
           16108400000000,
           16482700000000,
           16902600000000,
           17162600000000,
           17596300000000,
           18140600000000
          ],
          "sizemode": "area",
          "sizeref": 45351500000,
          "symbol": "circle"
         },
         "mode": "markers",
         "name": "United States",
         "orientation": "v",
         "showlegend": true,
         "type": "scatter",
         "x": [
          2005,
          2006,
          2007,
          2008,
          2009,
          2010,
          2011,
          2012,
          2013,
          2014,
          2015,
          2016,
          2017,
          2018
         ],
         "xaxis": "x",
         "y": [
          6.537,
          6.985,
          5.808,
          6.051,
          6.823,
          6.191,
          7.653,
          6.714,
          6.507,
          6.181,
          5.974,
          6.388,
          7.251,
          6.822
         ],
         "yaxis": "y"
        }
       ],
       "layout": {
        "legend": {
         "itemsizing": "constant",
         "title": {
          "text": "country"
         },
         "tracegroupgap": 0
        },
        "template": {
         "data": {
          "bar": [
           {
            "error_x": {
             "color": "#2a3f5f"
            },
            "error_y": {
             "color": "#2a3f5f"
            },
            "marker": {
             "line": {
              "color": "#E5ECF6",
              "width": 0.5
             },
             "pattern": {
              "fillmode": "overlay",
              "size": 10,
              "solidity": 0.2
             }
            },
            "type": "bar"
           }
          ],
          "barpolar": [
           {
            "marker": {
             "line": {
              "color": "#E5ECF6",
              "width": 0.5
             },
             "pattern": {
              "fillmode": "overlay",
              "size": 10,
              "solidity": 0.2
             }
            },
            "type": "barpolar"
           }
          ],
          "carpet": [
           {
            "aaxis": {
             "endlinecolor": "#2a3f5f",
             "gridcolor": "white",
             "linecolor": "white",
             "minorgridcolor": "white",
             "startlinecolor": "#2a3f5f"
            },
            "baxis": {
             "endlinecolor": "#2a3f5f",
             "gridcolor": "white",
             "linecolor": "white",
             "minorgridcolor": "white",
             "startlinecolor": "#2a3f5f"
            },
            "type": "carpet"
           }
          ],
          "choropleth": [
           {
            "colorbar": {
             "outlinewidth": 0,
             "ticks": ""
            },
            "type": "choropleth"
           }
          ],
          "contour": [
           {
            "colorbar": {
             "outlinewidth": 0,
             "ticks": ""
            },
            "colorscale": [
             [
              0,
              "#0d0887"
             ],
             [
              0.1111111111111111,
              "#46039f"
             ],
             [
              0.2222222222222222,
              "#7201a8"
             ],
             [
              0.3333333333333333,
              "#9c179e"
             ],
             [
              0.4444444444444444,
              "#bd3786"
             ],
             [
              0.5555555555555556,
              "#d8576b"
             ],
             [
              0.6666666666666666,
              "#ed7953"
             ],
             [
              0.7777777777777778,
              "#fb9f3a"
             ],
             [
              0.8888888888888888,
              "#fdca26"
             ],
             [
              1,
              "#f0f921"
             ]
            ],
            "type": "contour"
           }
          ],
          "contourcarpet": [
           {
            "colorbar": {
             "outlinewidth": 0,
             "ticks": ""
            },
            "type": "contourcarpet"
           }
          ],
          "heatmap": [
           {
            "colorbar": {
             "outlinewidth": 0,
             "ticks": ""
            },
            "colorscale": [
             [
              0,
              "#0d0887"
             ],
             [
              0.1111111111111111,
              "#46039f"
             ],
             [
              0.2222222222222222,
              "#7201a8"
             ],
             [
              0.3333333333333333,
              "#9c179e"
             ],
             [
              0.4444444444444444,
              "#bd3786"
             ],
             [
              0.5555555555555556,
              "#d8576b"
             ],
             [
              0.6666666666666666,
              "#ed7953"
             ],
             [
              0.7777777777777778,
              "#fb9f3a"
             ],
             [
              0.8888888888888888,
              "#fdca26"
             ],
             [
              1,
              "#f0f921"
             ]
            ],
            "type": "heatmap"
           }
          ],
          "heatmapgl": [
           {
            "colorbar": {
             "outlinewidth": 0,
             "ticks": ""
            },
            "colorscale": [
             [
              0,
              "#0d0887"
             ],
             [
              0.1111111111111111,
              "#46039f"
             ],
             [
              0.2222222222222222,
              "#7201a8"
             ],
             [
              0.3333333333333333,
              "#9c179e"
             ],
             [
              0.4444444444444444,
              "#bd3786"
             ],
             [
              0.5555555555555556,
              "#d8576b"
             ],
             [
              0.6666666666666666,
              "#ed7953"
             ],
             [
              0.7777777777777778,
              "#fb9f3a"
             ],
             [
              0.8888888888888888,
              "#fdca26"
             ],
             [
              1,
              "#f0f921"
             ]
            ],
            "type": "heatmapgl"
           }
          ],
          "histogram": [
           {
            "marker": {
             "pattern": {
              "fillmode": "overlay",
              "size": 10,
              "solidity": 0.2
             }
            },
            "type": "histogram"
           }
          ],
          "histogram2d": [
           {
            "colorbar": {
             "outlinewidth": 0,
             "ticks": ""
            },
            "colorscale": [
             [
              0,
              "#0d0887"
             ],
             [
              0.1111111111111111,
              "#46039f"
             ],
             [
              0.2222222222222222,
              "#7201a8"
             ],
             [
              0.3333333333333333,
              "#9c179e"
             ],
             [
              0.4444444444444444,
              "#bd3786"
             ],
             [
              0.5555555555555556,
              "#d8576b"
             ],
             [
              0.6666666666666666,
              "#ed7953"
             ],
             [
              0.7777777777777778,
              "#fb9f3a"
             ],
             [
              0.8888888888888888,
              "#fdca26"
             ],
             [
              1,
              "#f0f921"
             ]
            ],
            "type": "histogram2d"
           }
          ],
          "histogram2dcontour": [
           {
            "colorbar": {
             "outlinewidth": 0,
             "ticks": ""
            },
            "colorscale": [
             [
              0,
              "#0d0887"
             ],
             [
              0.1111111111111111,
              "#46039f"
             ],
             [
              0.2222222222222222,
              "#7201a8"
             ],
             [
              0.3333333333333333,
              "#9c179e"
             ],
             [
              0.4444444444444444,
              "#bd3786"
             ],
             [
              0.5555555555555556,
              "#d8576b"
             ],
             [
              0.6666666666666666,
              "#ed7953"
             ],
             [
              0.7777777777777778,
              "#fb9f3a"
             ],
             [
              0.8888888888888888,
              "#fdca26"
             ],
             [
              1,
              "#f0f921"
             ]
            ],
            "type": "histogram2dcontour"
           }
          ],
          "mesh3d": [
           {
            "colorbar": {
             "outlinewidth": 0,
             "ticks": ""
            },
            "type": "mesh3d"
           }
          ],
          "parcoords": [
           {
            "line": {
             "colorbar": {
              "outlinewidth": 0,
              "ticks": ""
             }
            },
            "type": "parcoords"
           }
          ],
          "pie": [
           {
            "automargin": true,
            "type": "pie"
           }
          ],
          "scatter": [
           {
            "fillpattern": {
             "fillmode": "overlay",
             "size": 10,
             "solidity": 0.2
            },
            "type": "scatter"
           }
          ],
          "scatter3d": [
           {
            "line": {
             "colorbar": {
              "outlinewidth": 0,
              "ticks": ""
             }
            },
            "marker": {
             "colorbar": {
              "outlinewidth": 0,
              "ticks": ""
             }
            },
            "type": "scatter3d"
           }
          ],
          "scattercarpet": [
           {
            "marker": {
             "colorbar": {
              "outlinewidth": 0,
              "ticks": ""
             }
            },
            "type": "scattercarpet"
           }
          ],
          "scattergeo": [
           {
            "marker": {
             "colorbar": {
              "outlinewidth": 0,
              "ticks": ""
             }
            },
            "type": "scattergeo"
           }
          ],
          "scattergl": [
           {
            "marker": {
             "colorbar": {
              "outlinewidth": 0,
              "ticks": ""
             }
            },
            "type": "scattergl"
           }
          ],
          "scattermapbox": [
           {
            "marker": {
             "colorbar": {
              "outlinewidth": 0,
              "ticks": ""
             }
            },
            "type": "scattermapbox"
           }
          ],
          "scatterpolar": [
           {
            "marker": {
             "colorbar": {
              "outlinewidth": 0,
              "ticks": ""
             }
            },
            "type": "scatterpolar"
           }
          ],
          "scatterpolargl": [
           {
            "marker": {
             "colorbar": {
              "outlinewidth": 0,
              "ticks": ""
             }
            },
            "type": "scatterpolargl"
           }
          ],
          "scatterternary": [
           {
            "marker": {
             "colorbar": {
              "outlinewidth": 0,
              "ticks": ""
             }
            },
            "type": "scatterternary"
           }
          ],
          "surface": [
           {
            "colorbar": {
             "outlinewidth": 0,
             "ticks": ""
            },
            "colorscale": [
             [
              0,
              "#0d0887"
             ],
             [
              0.1111111111111111,
              "#46039f"
             ],
             [
              0.2222222222222222,
              "#7201a8"
             ],
             [
              0.3333333333333333,
              "#9c179e"
             ],
             [
              0.4444444444444444,
              "#bd3786"
             ],
             [
              0.5555555555555556,
              "#d8576b"
             ],
             [
              0.6666666666666666,
              "#ed7953"
             ],
             [
              0.7777777777777778,
              "#fb9f3a"
             ],
             [
              0.8888888888888888,
              "#fdca26"
             ],
             [
              1,
              "#f0f921"
             ]
            ],
            "type": "surface"
           }
          ],
          "table": [
           {
            "cells": {
             "fill": {
              "color": "#EBF0F8"
             },
             "line": {
              "color": "white"
             }
            },
            "header": {
             "fill": {
              "color": "#C8D4E3"
             },
             "line": {
              "color": "white"
             }
            },
            "type": "table"
           }
          ]
         },
         "layout": {
          "annotationdefaults": {
           "arrowcolor": "#2a3f5f",
           "arrowhead": 0,
           "arrowwidth": 1
          },
          "autotypenumbers": "strict",
          "coloraxis": {
           "colorbar": {
            "outlinewidth": 0,
            "ticks": ""
           }
          },
          "colorscale": {
           "diverging": [
            [
             0,
             "#8e0152"
            ],
            [
             0.1,
             "#c51b7d"
            ],
            [
             0.2,
             "#de77ae"
            ],
            [
             0.3,
             "#f1b6da"
            ],
            [
             0.4,
             "#fde0ef"
            ],
            [
             0.5,
             "#f7f7f7"
            ],
            [
             0.6,
             "#e6f5d0"
            ],
            [
             0.7,
             "#b8e186"
            ],
            [
             0.8,
             "#7fbc41"
            ],
            [
             0.9,
             "#4d9221"
            ],
            [
             1,
             "#276419"
            ]
           ],
           "sequential": [
            [
             0,
             "#0d0887"
            ],
            [
             0.1111111111111111,
             "#46039f"
            ],
            [
             0.2222222222222222,
             "#7201a8"
            ],
            [
             0.3333333333333333,
             "#9c179e"
            ],
            [
             0.4444444444444444,
             "#bd3786"
            ],
            [
             0.5555555555555556,
             "#d8576b"
            ],
            [
             0.6666666666666666,
             "#ed7953"
            ],
            [
             0.7777777777777778,
             "#fb9f3a"
            ],
            [
             0.8888888888888888,
             "#fdca26"
            ],
            [
             1,
             "#f0f921"
            ]
           ],
           "sequentialminus": [
            [
             0,
             "#0d0887"
            ],
            [
             0.1111111111111111,
             "#46039f"
            ],
            [
             0.2222222222222222,
             "#7201a8"
            ],
            [
             0.3333333333333333,
             "#9c179e"
            ],
            [
             0.4444444444444444,
             "#bd3786"
            ],
            [
             0.5555555555555556,
             "#d8576b"
            ],
            [
             0.6666666666666666,
             "#ed7953"
            ],
            [
             0.7777777777777778,
             "#fb9f3a"
            ],
            [
             0.8888888888888888,
             "#fdca26"
            ],
            [
             1,
             "#f0f921"
            ]
           ]
          },
          "colorway": [
           "#636efa",
           "#EF553B",
           "#00cc96",
           "#ab63fa",
           "#FFA15A",
           "#19d3f3",
           "#FF6692",
           "#B6E880",
           "#FF97FF",
           "#FECB52"
          ],
          "font": {
           "color": "#2a3f5f"
          },
          "geo": {
           "bgcolor": "white",
           "lakecolor": "white",
           "landcolor": "#E5ECF6",
           "showlakes": true,
           "showland": true,
           "subunitcolor": "white"
          },
          "hoverlabel": {
           "align": "left"
          },
          "hovermode": "closest",
          "mapbox": {
           "style": "light"
          },
          "paper_bgcolor": "white",
          "plot_bgcolor": "#E5ECF6",
          "polar": {
           "angularaxis": {
            "gridcolor": "white",
            "linecolor": "white",
            "ticks": ""
           },
           "bgcolor": "#E5ECF6",
           "radialaxis": {
            "gridcolor": "white",
            "linecolor": "white",
            "ticks": ""
           }
          },
          "scene": {
           "xaxis": {
            "backgroundcolor": "#E5ECF6",
            "gridcolor": "white",
            "gridwidth": 2,
            "linecolor": "white",
            "showbackground": true,
            "ticks": "",
            "zerolinecolor": "white"
           },
           "yaxis": {
            "backgroundcolor": "#E5ECF6",
            "gridcolor": "white",
            "gridwidth": 2,
            "linecolor": "white",
            "showbackground": true,
            "ticks": "",
            "zerolinecolor": "white"
           },
           "zaxis": {
            "backgroundcolor": "#E5ECF6",
            "gridcolor": "white",
            "gridwidth": 2,
            "linecolor": "white",
            "showbackground": true,
            "ticks": "",
            "zerolinecolor": "white"
           }
          },
          "shapedefaults": {
           "line": {
            "color": "#2a3f5f"
           }
          },
          "ternary": {
           "aaxis": {
            "gridcolor": "white",
            "linecolor": "white",
            "ticks": ""
           },
           "baxis": {
            "gridcolor": "white",
            "linecolor": "white",
            "ticks": ""
           },
           "bgcolor": "#E5ECF6",
           "caxis": {
            "gridcolor": "white",
            "linecolor": "white",
            "ticks": ""
           }
          },
          "title": {
           "x": 0.05
          },
          "xaxis": {
           "automargin": true,
           "gridcolor": "white",
           "linecolor": "white",
           "ticks": "",
           "title": {
            "standoff": 15
           },
           "zerolinecolor": "white",
           "zerolinewidth": 2
          },
          "yaxis": {
           "automargin": true,
           "gridcolor": "white",
           "linecolor": "white",
           "ticks": "",
           "title": {
            "standoff": 15
           },
           "zerolinecolor": "white",
           "zerolinewidth": 2
          }
         }
        },
        "title": {
         "text": "Hydro Share of Electricity Over Time (Top 5 Countries)"
        },
        "xaxis": {
         "anchor": "y",
         "domain": [
          0,
          1
         ],
         "title": {
          "text": "Year"
         }
        },
        "yaxis": {
         "anchor": "x",
         "domain": [
          0,
          1
         ],
         "title": {
          "text": "Hydro Share in Electricity (%)"
         }
        }
       }
      }
     },
     "metadata": {},
     "output_type": "display_data"
    }
   ],
   "source": [
    "# Filter for the last two decades (2005 to 2024)\n",
    "top_5_data = top_countries_data[(top_countries_data['year'] >= 2005) & (top_countries_data['year'] <= 2024)]\n",
    "\n",
    "# Group by country and calculate the average hydro share of electricity for each country\n",
    "avg_hydro = top_5_data.groupby('country')['hydro_share_elec'].mean().reset_index()\n",
    "\n",
    "# Sort by biofuel share of electricity and select the top N countries (e.g., top 5)\n",
    "top_countries = avg_hydro.sort_values('hydro_share_elec', ascending=False).head(5)['country'].tolist()\n",
    "\n",
    "# Filter the original DataFrame for the top N countries\n",
    "df_filtered = top_5_data[top_5_data['country'].isin(top_countries)]\n",
    "\n",
    "# Create a scatter plot for biofuel share of electricity\n",
    "fig = px.scatter(df_filtered, \n",
    "                 x='year', \n",
    "                 y='hydro_share_elec', \n",
    "                 color='country', \n",
    "                 size='gdp', \n",
    "                 hover_name='country', \n",
    "                 title='Hydro Share of Electricity Over Time (Top 5 Countries)',\n",
    "                 labels={'hydro_share_elec': 'Hydro Share in Electricity (%)', 'year': 'Year'})\n",
    "\n",
    "\n",
    "\n",
    "\n",
    "# Show the visual\n",
    "fig.show()\n",
    "\n",
    "# Save the file\n",
    "fig.write_image('Output/Hydro_Share_in_Electricity_Top_5.png')"
   ]
  },
  {
   "cell_type": "code",
   "execution_count": 45,
   "metadata": {},
   "outputs": [
    {
     "data": {
      "application/vnd.plotly.v1+json": {
       "config": {
        "plotlyServerURL": "https://plot.ly"
       },
       "data": [
        {
         "hovertemplate": "<b>%{hovertext}</b><br><br>country=Brazil<br>Year=%{x}<br>Nuclear Share in Electricity (%)=%{y}<br>gdp=%{marker.size}<extra></extra>",
         "hovertext": [
          "Brazil",
          "Brazil",
          "Brazil",
          "Brazil",
          "Brazil",
          "Brazil"
         ],
         "legendgroup": "Brazil",
         "marker": {
          "color": "#636efa",
          "size": [
           3112910000000,
           3128570000000,
           3270710000000,
           2889040000000,
           2927000000000,
           2965400000000
          ],
          "sizemode": "area",
          "sizeref": 45351500000,
          "symbol": "circle"
         },
         "mode": "markers",
         "name": "Brazil",
         "orientation": "v",
         "showlegend": true,
         "type": "scatter",
         "x": [
          2013,
          2014,
          2015,
          2016,
          2017,
          2018
         ],
         "xaxis": "x",
         "y": [
          2.6,
          2.485,
          2.434,
          2.62,
          2.557,
          2.489
         ],
         "yaxis": "y"
        },
        {
         "hovertemplate": "<b>%{hovertext}</b><br><br>country=Canada<br>Year=%{x}<br>Nuclear Share in Electricity (%)=%{y}<br>gdp=%{marker.size}<extra></extra>",
         "hovertext": [
          "Canada",
          "Canada",
          "Canada",
          "Canada",
          "Canada",
          "Canada",
          "Canada",
          "Canada",
          "Canada",
          "Canada",
          "Canada",
          "Canada",
          "Canada",
          "Canada"
         ],
         "legendgroup": "Canada",
         "marker": {
          "color": "#EF553B",
          "size": [
           1311260000000,
           1349430000000,
           1381200000000,
           1398900000000,
           1361510000000,
           1407420000000,
           1455580000000,
           1479800000000,
           1514900000000,
           1552200000000,
           1565170000000,
           1586150000000,
           1636440000000,
           1669400000000
          ],
          "sizemode": "area",
          "sizeref": 45351500000,
          "symbol": "circle"
         },
         "mode": "markers",
         "name": "Canada",
         "orientation": "v",
         "showlegend": true,
         "type": "scatter",
         "x": [
          2005,
          2006,
          2007,
          2008,
          2009,
          2010,
          2011,
          2012,
          2013,
          2014,
          2015,
          2016,
          2017,
          2018
         ],
         "xaxis": "x",
         "y": [
          14.317,
          15.598,
          14.387,
          14.361,
          14.304,
          14.7,
          14.437,
          14.616,
          15.301,
          15.911,
          15.032,
          14.838,
          14.824,
          14.944
         ],
         "yaxis": "y"
        },
        {
         "hovertemplate": "<b>%{hovertext}</b><br><br>country=Japan<br>Year=%{x}<br>Nuclear Share in Electricity (%)=%{y}<br>gdp=%{marker.size}<extra></extra>",
         "hovertext": [
          "Japan",
          "Japan",
          "Japan",
          "Japan",
          "Japan",
          "Japan",
          "Japan",
          "Japan",
          "Japan"
         ],
         "legendgroup": "Japan",
         "marker": {
          "color": "#00cc96",
          "size": [
           4589240000000,
           4536230000000,
           4287890000000,
           4464960000000,
           4456990000000,
           4523680000000,
           4614150000000,
           4629620000000,
           4732220000000
          ],
          "sizemode": "area",
          "sizeref": 45351500000,
          "symbol": "circle"
         },
         "mode": "markers",
         "name": "Japan",
         "orientation": "v",
         "showlegend": true,
         "type": "scatter",
         "x": [
          2007,
          2008,
          2009,
          2010,
          2011,
          2012,
          2013,
          2014,
          2016
         ],
         "xaxis": "x",
         "y": [
          24.903,
          23.983,
          26.919,
          25.722,
          14.65,
          1.445,
          1.013,
          0,
          1.48
         ],
         "yaxis": "y"
        },
        {
         "hovertemplate": "<b>%{hovertext}</b><br><br>country=Mexico<br>Year=%{x}<br>Nuclear Share in Electricity (%)=%{y}<br>gdp=%{marker.size}<extra></extra>",
         "hovertext": [
          "Mexico",
          "Mexico",
          "Mexico",
          "Mexico",
          "Mexico",
          "Mexico",
          "Mexico",
          "Mexico",
          "Mexico",
          "Mexico",
          "Mexico",
          "Mexico",
          "Mexico",
          "Mexico"
         ],
         "legendgroup": "Mexico",
         "marker": {
          "color": "#ab63fa",
          "size": [
           1427080000000,
           1510630000000,
           1572360000000,
           1607400000000,
           1543870000000,
           1637760000000,
           1716060000000,
           1785370000000,
           1810560000000,
           1851270000000,
           1899590000000,
           1923890000000,
           1964640000000,
           2006600000000
          ],
          "sizemode": "area",
          "sizeref": 45351500000,
          "symbol": "circle"
         },
         "mode": "markers",
         "name": "Mexico",
         "orientation": "v",
         "showlegend": true,
         "type": "scatter",
         "x": [
          2005,
          2006,
          2007,
          2008,
          2009,
          2010,
          2011,
          2012,
          2013,
          2014,
          2015,
          2016,
          2017,
          2018
         ],
         "xaxis": "x",
         "y": [
          4.46,
          4.392,
          4.079,
          3.788,
          4.119,
          2.141,
          3.447,
          2.953,
          3.961,
          3.205,
          3.753,
          3.389,
          3.419,
          4.012
         ],
         "yaxis": "y"
        },
        {
         "hovertemplate": "<b>%{hovertext}</b><br><br>country=United States<br>Year=%{x}<br>Nuclear Share in Electricity (%)=%{y}<br>gdp=%{marker.size}<extra></extra>",
         "hovertext": [
          "United States",
          "United States",
          "United States",
          "United States",
          "United States",
          "United States",
          "United States",
          "United States",
          "United States",
          "United States",
          "United States",
          "United States",
          "United States",
          "United States"
         ],
         "legendgroup": "United States",
         "marker": {
          "color": "#FFA15A",
          "size": [
           14703700000000,
           15095900000000,
           15364500000000,
           15319700000000,
           14894300000000,
           15270600000000,
           15509300000000,
           15849600000000,
           16108400000000,
           16482700000000,
           16902600000000,
           17162600000000,
           17596300000000,
           18140600000000
          ],
          "sizemode": "area",
          "sizeref": 45351500000,
          "symbol": "circle"
         },
         "mode": "markers",
         "name": "United States",
         "orientation": "v",
         "showlegend": true,
         "type": "scatter",
         "x": [
          2005,
          2006,
          2007,
          2008,
          2009,
          2010,
          2011,
          2012,
          2013,
          2014,
          2015,
          2016,
          2017,
          2018
         ],
         "xaxis": "x",
         "y": [
          19.38,
          19.452,
          19.467,
          19.628,
          20.276,
          19.616,
          19.326,
          19.04,
          19.455,
          19.462,
          19.52,
          19.711,
          19.864,
          19.209
         ],
         "yaxis": "y"
        }
       ],
       "layout": {
        "legend": {
         "itemsizing": "constant",
         "title": {
          "text": "country"
         },
         "tracegroupgap": 0
        },
        "template": {
         "data": {
          "bar": [
           {
            "error_x": {
             "color": "#2a3f5f"
            },
            "error_y": {
             "color": "#2a3f5f"
            },
            "marker": {
             "line": {
              "color": "#E5ECF6",
              "width": 0.5
             },
             "pattern": {
              "fillmode": "overlay",
              "size": 10,
              "solidity": 0.2
             }
            },
            "type": "bar"
           }
          ],
          "barpolar": [
           {
            "marker": {
             "line": {
              "color": "#E5ECF6",
              "width": 0.5
             },
             "pattern": {
              "fillmode": "overlay",
              "size": 10,
              "solidity": 0.2
             }
            },
            "type": "barpolar"
           }
          ],
          "carpet": [
           {
            "aaxis": {
             "endlinecolor": "#2a3f5f",
             "gridcolor": "white",
             "linecolor": "white",
             "minorgridcolor": "white",
             "startlinecolor": "#2a3f5f"
            },
            "baxis": {
             "endlinecolor": "#2a3f5f",
             "gridcolor": "white",
             "linecolor": "white",
             "minorgridcolor": "white",
             "startlinecolor": "#2a3f5f"
            },
            "type": "carpet"
           }
          ],
          "choropleth": [
           {
            "colorbar": {
             "outlinewidth": 0,
             "ticks": ""
            },
            "type": "choropleth"
           }
          ],
          "contour": [
           {
            "colorbar": {
             "outlinewidth": 0,
             "ticks": ""
            },
            "colorscale": [
             [
              0,
              "#0d0887"
             ],
             [
              0.1111111111111111,
              "#46039f"
             ],
             [
              0.2222222222222222,
              "#7201a8"
             ],
             [
              0.3333333333333333,
              "#9c179e"
             ],
             [
              0.4444444444444444,
              "#bd3786"
             ],
             [
              0.5555555555555556,
              "#d8576b"
             ],
             [
              0.6666666666666666,
              "#ed7953"
             ],
             [
              0.7777777777777778,
              "#fb9f3a"
             ],
             [
              0.8888888888888888,
              "#fdca26"
             ],
             [
              1,
              "#f0f921"
             ]
            ],
            "type": "contour"
           }
          ],
          "contourcarpet": [
           {
            "colorbar": {
             "outlinewidth": 0,
             "ticks": ""
            },
            "type": "contourcarpet"
           }
          ],
          "heatmap": [
           {
            "colorbar": {
             "outlinewidth": 0,
             "ticks": ""
            },
            "colorscale": [
             [
              0,
              "#0d0887"
             ],
             [
              0.1111111111111111,
              "#46039f"
             ],
             [
              0.2222222222222222,
              "#7201a8"
             ],
             [
              0.3333333333333333,
              "#9c179e"
             ],
             [
              0.4444444444444444,
              "#bd3786"
             ],
             [
              0.5555555555555556,
              "#d8576b"
             ],
             [
              0.6666666666666666,
              "#ed7953"
             ],
             [
              0.7777777777777778,
              "#fb9f3a"
             ],
             [
              0.8888888888888888,
              "#fdca26"
             ],
             [
              1,
              "#f0f921"
             ]
            ],
            "type": "heatmap"
           }
          ],
          "heatmapgl": [
           {
            "colorbar": {
             "outlinewidth": 0,
             "ticks": ""
            },
            "colorscale": [
             [
              0,
              "#0d0887"
             ],
             [
              0.1111111111111111,
              "#46039f"
             ],
             [
              0.2222222222222222,
              "#7201a8"
             ],
             [
              0.3333333333333333,
              "#9c179e"
             ],
             [
              0.4444444444444444,
              "#bd3786"
             ],
             [
              0.5555555555555556,
              "#d8576b"
             ],
             [
              0.6666666666666666,
              "#ed7953"
             ],
             [
              0.7777777777777778,
              "#fb9f3a"
             ],
             [
              0.8888888888888888,
              "#fdca26"
             ],
             [
              1,
              "#f0f921"
             ]
            ],
            "type": "heatmapgl"
           }
          ],
          "histogram": [
           {
            "marker": {
             "pattern": {
              "fillmode": "overlay",
              "size": 10,
              "solidity": 0.2
             }
            },
            "type": "histogram"
           }
          ],
          "histogram2d": [
           {
            "colorbar": {
             "outlinewidth": 0,
             "ticks": ""
            },
            "colorscale": [
             [
              0,
              "#0d0887"
             ],
             [
              0.1111111111111111,
              "#46039f"
             ],
             [
              0.2222222222222222,
              "#7201a8"
             ],
             [
              0.3333333333333333,
              "#9c179e"
             ],
             [
              0.4444444444444444,
              "#bd3786"
             ],
             [
              0.5555555555555556,
              "#d8576b"
             ],
             [
              0.6666666666666666,
              "#ed7953"
             ],
             [
              0.7777777777777778,
              "#fb9f3a"
             ],
             [
              0.8888888888888888,
              "#fdca26"
             ],
             [
              1,
              "#f0f921"
             ]
            ],
            "type": "histogram2d"
           }
          ],
          "histogram2dcontour": [
           {
            "colorbar": {
             "outlinewidth": 0,
             "ticks": ""
            },
            "colorscale": [
             [
              0,
              "#0d0887"
             ],
             [
              0.1111111111111111,
              "#46039f"
             ],
             [
              0.2222222222222222,
              "#7201a8"
             ],
             [
              0.3333333333333333,
              "#9c179e"
             ],
             [
              0.4444444444444444,
              "#bd3786"
             ],
             [
              0.5555555555555556,
              "#d8576b"
             ],
             [
              0.6666666666666666,
              "#ed7953"
             ],
             [
              0.7777777777777778,
              "#fb9f3a"
             ],
             [
              0.8888888888888888,
              "#fdca26"
             ],
             [
              1,
              "#f0f921"
             ]
            ],
            "type": "histogram2dcontour"
           }
          ],
          "mesh3d": [
           {
            "colorbar": {
             "outlinewidth": 0,
             "ticks": ""
            },
            "type": "mesh3d"
           }
          ],
          "parcoords": [
           {
            "line": {
             "colorbar": {
              "outlinewidth": 0,
              "ticks": ""
             }
            },
            "type": "parcoords"
           }
          ],
          "pie": [
           {
            "automargin": true,
            "type": "pie"
           }
          ],
          "scatter": [
           {
            "fillpattern": {
             "fillmode": "overlay",
             "size": 10,
             "solidity": 0.2
            },
            "type": "scatter"
           }
          ],
          "scatter3d": [
           {
            "line": {
             "colorbar": {
              "outlinewidth": 0,
              "ticks": ""
             }
            },
            "marker": {
             "colorbar": {
              "outlinewidth": 0,
              "ticks": ""
             }
            },
            "type": "scatter3d"
           }
          ],
          "scattercarpet": [
           {
            "marker": {
             "colorbar": {
              "outlinewidth": 0,
              "ticks": ""
             }
            },
            "type": "scattercarpet"
           }
          ],
          "scattergeo": [
           {
            "marker": {
             "colorbar": {
              "outlinewidth": 0,
              "ticks": ""
             }
            },
            "type": "scattergeo"
           }
          ],
          "scattergl": [
           {
            "marker": {
             "colorbar": {
              "outlinewidth": 0,
              "ticks": ""
             }
            },
            "type": "scattergl"
           }
          ],
          "scattermapbox": [
           {
            "marker": {
             "colorbar": {
              "outlinewidth": 0,
              "ticks": ""
             }
            },
            "type": "scattermapbox"
           }
          ],
          "scatterpolar": [
           {
            "marker": {
             "colorbar": {
              "outlinewidth": 0,
              "ticks": ""
             }
            },
            "type": "scatterpolar"
           }
          ],
          "scatterpolargl": [
           {
            "marker": {
             "colorbar": {
              "outlinewidth": 0,
              "ticks": ""
             }
            },
            "type": "scatterpolargl"
           }
          ],
          "scatterternary": [
           {
            "marker": {
             "colorbar": {
              "outlinewidth": 0,
              "ticks": ""
             }
            },
            "type": "scatterternary"
           }
          ],
          "surface": [
           {
            "colorbar": {
             "outlinewidth": 0,
             "ticks": ""
            },
            "colorscale": [
             [
              0,
              "#0d0887"
             ],
             [
              0.1111111111111111,
              "#46039f"
             ],
             [
              0.2222222222222222,
              "#7201a8"
             ],
             [
              0.3333333333333333,
              "#9c179e"
             ],
             [
              0.4444444444444444,
              "#bd3786"
             ],
             [
              0.5555555555555556,
              "#d8576b"
             ],
             [
              0.6666666666666666,
              "#ed7953"
             ],
             [
              0.7777777777777778,
              "#fb9f3a"
             ],
             [
              0.8888888888888888,
              "#fdca26"
             ],
             [
              1,
              "#f0f921"
             ]
            ],
            "type": "surface"
           }
          ],
          "table": [
           {
            "cells": {
             "fill": {
              "color": "#EBF0F8"
             },
             "line": {
              "color": "white"
             }
            },
            "header": {
             "fill": {
              "color": "#C8D4E3"
             },
             "line": {
              "color": "white"
             }
            },
            "type": "table"
           }
          ]
         },
         "layout": {
          "annotationdefaults": {
           "arrowcolor": "#2a3f5f",
           "arrowhead": 0,
           "arrowwidth": 1
          },
          "autotypenumbers": "strict",
          "coloraxis": {
           "colorbar": {
            "outlinewidth": 0,
            "ticks": ""
           }
          },
          "colorscale": {
           "diverging": [
            [
             0,
             "#8e0152"
            ],
            [
             0.1,
             "#c51b7d"
            ],
            [
             0.2,
             "#de77ae"
            ],
            [
             0.3,
             "#f1b6da"
            ],
            [
             0.4,
             "#fde0ef"
            ],
            [
             0.5,
             "#f7f7f7"
            ],
            [
             0.6,
             "#e6f5d0"
            ],
            [
             0.7,
             "#b8e186"
            ],
            [
             0.8,
             "#7fbc41"
            ],
            [
             0.9,
             "#4d9221"
            ],
            [
             1,
             "#276419"
            ]
           ],
           "sequential": [
            [
             0,
             "#0d0887"
            ],
            [
             0.1111111111111111,
             "#46039f"
            ],
            [
             0.2222222222222222,
             "#7201a8"
            ],
            [
             0.3333333333333333,
             "#9c179e"
            ],
            [
             0.4444444444444444,
             "#bd3786"
            ],
            [
             0.5555555555555556,
             "#d8576b"
            ],
            [
             0.6666666666666666,
             "#ed7953"
            ],
            [
             0.7777777777777778,
             "#fb9f3a"
            ],
            [
             0.8888888888888888,
             "#fdca26"
            ],
            [
             1,
             "#f0f921"
            ]
           ],
           "sequentialminus": [
            [
             0,
             "#0d0887"
            ],
            [
             0.1111111111111111,
             "#46039f"
            ],
            [
             0.2222222222222222,
             "#7201a8"
            ],
            [
             0.3333333333333333,
             "#9c179e"
            ],
            [
             0.4444444444444444,
             "#bd3786"
            ],
            [
             0.5555555555555556,
             "#d8576b"
            ],
            [
             0.6666666666666666,
             "#ed7953"
            ],
            [
             0.7777777777777778,
             "#fb9f3a"
            ],
            [
             0.8888888888888888,
             "#fdca26"
            ],
            [
             1,
             "#f0f921"
            ]
           ]
          },
          "colorway": [
           "#636efa",
           "#EF553B",
           "#00cc96",
           "#ab63fa",
           "#FFA15A",
           "#19d3f3",
           "#FF6692",
           "#B6E880",
           "#FF97FF",
           "#FECB52"
          ],
          "font": {
           "color": "#2a3f5f"
          },
          "geo": {
           "bgcolor": "white",
           "lakecolor": "white",
           "landcolor": "#E5ECF6",
           "showlakes": true,
           "showland": true,
           "subunitcolor": "white"
          },
          "hoverlabel": {
           "align": "left"
          },
          "hovermode": "closest",
          "mapbox": {
           "style": "light"
          },
          "paper_bgcolor": "white",
          "plot_bgcolor": "#E5ECF6",
          "polar": {
           "angularaxis": {
            "gridcolor": "white",
            "linecolor": "white",
            "ticks": ""
           },
           "bgcolor": "#E5ECF6",
           "radialaxis": {
            "gridcolor": "white",
            "linecolor": "white",
            "ticks": ""
           }
          },
          "scene": {
           "xaxis": {
            "backgroundcolor": "#E5ECF6",
            "gridcolor": "white",
            "gridwidth": 2,
            "linecolor": "white",
            "showbackground": true,
            "ticks": "",
            "zerolinecolor": "white"
           },
           "yaxis": {
            "backgroundcolor": "#E5ECF6",
            "gridcolor": "white",
            "gridwidth": 2,
            "linecolor": "white",
            "showbackground": true,
            "ticks": "",
            "zerolinecolor": "white"
           },
           "zaxis": {
            "backgroundcolor": "#E5ECF6",
            "gridcolor": "white",
            "gridwidth": 2,
            "linecolor": "white",
            "showbackground": true,
            "ticks": "",
            "zerolinecolor": "white"
           }
          },
          "shapedefaults": {
           "line": {
            "color": "#2a3f5f"
           }
          },
          "ternary": {
           "aaxis": {
            "gridcolor": "white",
            "linecolor": "white",
            "ticks": ""
           },
           "baxis": {
            "gridcolor": "white",
            "linecolor": "white",
            "ticks": ""
           },
           "bgcolor": "#E5ECF6",
           "caxis": {
            "gridcolor": "white",
            "linecolor": "white",
            "ticks": ""
           }
          },
          "title": {
           "x": 0.05
          },
          "xaxis": {
           "automargin": true,
           "gridcolor": "white",
           "linecolor": "white",
           "ticks": "",
           "title": {
            "standoff": 15
           },
           "zerolinecolor": "white",
           "zerolinewidth": 2
          },
          "yaxis": {
           "automargin": true,
           "gridcolor": "white",
           "linecolor": "white",
           "ticks": "",
           "title": {
            "standoff": 15
           },
           "zerolinecolor": "white",
           "zerolinewidth": 2
          }
         }
        },
        "title": {
         "text": "Nuclear Share of Electricity Over Time (Top 5 Countries)"
        },
        "xaxis": {
         "anchor": "y",
         "domain": [
          0,
          1
         ],
         "title": {
          "text": "Year"
         }
        },
        "yaxis": {
         "anchor": "x",
         "domain": [
          0,
          1
         ],
         "title": {
          "text": "Nuclear Share in Electricity (%)"
         }
        }
       }
      }
     },
     "metadata": {},
     "output_type": "display_data"
    }
   ],
   "source": [
    "# Filter for the last two decades (2005 to 2024)\n",
    "top_5_data = top_countries_data[(top_countries_data['year'] >= 2005) & (top_countries_data['year'] <= 2024)]\n",
    "\n",
    "# Group by country and calculate the average nuclear share of electricity for each country\n",
    "avg_hydro = top_5_data.groupby('country')['nuclear_share_elec'].mean().reset_index()\n",
    "\n",
    "# Sort by biofuel share of electricity and select the top N countries (e.g., top 5)\n",
    "top_countries = avg_hydro.sort_values('nuclear_share_elec', ascending=False).head(5)['country'].tolist()\n",
    "\n",
    "# Filter the original DataFrame for the top N countries\n",
    "df_filtered = top_5_data[top_5_data['country'].isin(top_countries)]\n",
    "\n",
    "# Create a scatter plot for biofuel share of electricity\n",
    "fig = px.scatter(df_filtered, \n",
    "                 x='year', \n",
    "                 y='nuclear_share_elec', \n",
    "                 color='country', \n",
    "                 size='gdp', \n",
    "                 hover_name='country', \n",
    "                 title='Nuclear Share of Electricity Over Time (Top 5 Countries)',\n",
    "                 labels={'nuclear_share_elec': 'Nuclear Share in Electricity (%)', 'year': 'Year'})\n",
    "\n",
    "\n",
    "# Save the file\n",
    "fig.write_image('Output/Nuclear_Share_in_Electricity_Top_5.png')\n",
    "\n",
    "# Show the visual\n",
    "fig.show()"
   ]
  },
  {
   "cell_type": "code",
   "execution_count": 27,
   "metadata": {},
   "outputs": [
    {
     "data": {
      "application/vnd.plotly.v1+json": {
       "config": {
        "plotlyServerURL": "https://plot.ly"
       },
       "data": [
        {
         "hovertemplate": "<b>%{hovertext}</b><br><br>country=Brazil<br>Year=%{x}<br>Solar Share in Electricity (%)=%{y}<br>gdp=%{marker.size}<extra></extra>",
         "hovertext": [
          "Brazil",
          "Brazil",
          "Brazil",
          "Brazil",
          "Brazil",
          "Brazil"
         ],
         "legendgroup": "Brazil",
         "marker": {
          "color": "#636efa",
          "size": [
           3112910000000,
           3128570000000,
           3270710000000,
           2889040000000,
           2927000000000,
           2965400000000
          ],
          "sizemode": "area",
          "sizeref": 45351500000,
          "symbol": "circle"
         },
         "mode": "markers",
         "name": "Brazil",
         "orientation": "v",
         "showlegend": true,
         "type": "scatter",
         "x": [
          2013,
          2014,
          2015,
          2016,
          2017,
          2018
         ],
         "xaxis": "x",
         "y": [
          0,
          0.003,
          0.01,
          0.014,
          0.143,
          0.579
         ],
         "yaxis": "y"
        },
        {
         "hovertemplate": "<b>%{hovertext}</b><br><br>country=Canada<br>Year=%{x}<br>Solar Share in Electricity (%)=%{y}<br>gdp=%{marker.size}<extra></extra>",
         "hovertext": [
          "Canada",
          "Canada",
          "Canada",
          "Canada",
          "Canada",
          "Canada",
          "Canada",
          "Canada",
          "Canada",
          "Canada",
          "Canada",
          "Canada",
          "Canada",
          "Canada"
         ],
         "legendgroup": "Canada",
         "marker": {
          "color": "#EF553B",
          "size": [
           1311260000000,
           1349430000000,
           1381200000000,
           1398900000000,
           1361510000000,
           1407420000000,
           1455580000000,
           1479800000000,
           1514900000000,
           1552200000000,
           1565170000000,
           1586150000000,
           1636440000000,
           1669400000000
          ],
          "sizemode": "area",
          "sizeref": 45351500000,
          "symbol": "circle"
         },
         "mode": "markers",
         "name": "Canada",
         "orientation": "v",
         "showlegend": true,
         "type": "scatter",
         "x": [
          2005,
          2006,
          2007,
          2008,
          2009,
          2010,
          2011,
          2012,
          2013,
          2014,
          2015,
          2016,
          2017,
          2018
         ],
         "xaxis": "x",
         "y": [
          0.003,
          0.003,
          0.005,
          0.007,
          0.017,
          0.043,
          0.093,
          0.142,
          0.232,
          0.33,
          0.449,
          0.619,
          0.549,
          0.591
         ],
         "yaxis": "y"
        },
        {
         "hovertemplate": "<b>%{hovertext}</b><br><br>country=Japan<br>Year=%{x}<br>Solar Share in Electricity (%)=%{y}<br>gdp=%{marker.size}<extra></extra>",
         "hovertext": [
          "Japan",
          "Japan",
          "Japan",
          "Japan",
          "Japan",
          "Japan",
          "Japan",
          "Japan",
          "Japan"
         ],
         "legendgroup": "Japan",
         "marker": {
          "color": "#00cc96",
          "size": [
           4589240000000,
           4536230000000,
           4287890000000,
           4464960000000,
           4456990000000,
           4523680000000,
           4614150000000,
           4629620000000,
           4732220000000
          ],
          "sizemode": "area",
          "sizeref": 45351500000,
          "symbol": "circle"
         },
         "mode": "markers",
         "name": "Japan",
         "orientation": "v",
         "showlegend": true,
         "type": "scatter",
         "x": [
          2007,
          2008,
          2009,
          2010,
          2011,
          2012,
          2013,
          2014,
          2016
         ],
         "xaxis": "x",
         "y": [
          0.188,
          0.224,
          0.282,
          0.327,
          0.462,
          0.632,
          1.251,
          2.231,
          4.553
         ],
         "yaxis": "y"
        },
        {
         "hovertemplate": "<b>%{hovertext}</b><br><br>country=Mexico<br>Year=%{x}<br>Solar Share in Electricity (%)=%{y}<br>gdp=%{marker.size}<extra></extra>",
         "hovertext": [
          "Mexico",
          "Mexico",
          "Mexico",
          "Mexico",
          "Mexico",
          "Mexico",
          "Mexico",
          "Mexico",
          "Mexico",
          "Mexico",
          "Mexico",
          "Mexico",
          "Mexico",
          "Mexico"
         ],
         "legendgroup": "Mexico",
         "marker": {
          "color": "#ab63fa",
          "size": [
           1427080000000,
           1510630000000,
           1572360000000,
           1607400000000,
           1543870000000,
           1637760000000,
           1716060000000,
           1785370000000,
           1810560000000,
           1851270000000,
           1899590000000,
           1923890000000,
           1964640000000,
           2006600000000
          ],
          "sizemode": "area",
          "sizeref": 45351500000,
          "symbol": "circle"
         },
         "mode": "markers",
         "name": "Mexico",
         "orientation": "v",
         "showlegend": true,
         "type": "scatter",
         "x": [
          2005,
          2006,
          2007,
          2008,
          2009,
          2010,
          2011,
          2012,
          2013,
          2014,
          2015,
          2016,
          2017,
          2018
         ],
         "xaxis": "x",
         "y": [
          0.004,
          0.004,
          0.004,
          0.004,
          0.004,
          0.011,
          0.014,
          0.025,
          0.038,
          0.076,
          0.081,
          0.152,
          0.346,
          0.41
         ],
         "yaxis": "y"
        },
        {
         "hovertemplate": "<b>%{hovertext}</b><br><br>country=United States<br>Year=%{x}<br>Solar Share in Electricity (%)=%{y}<br>gdp=%{marker.size}<extra></extra>",
         "hovertext": [
          "United States",
          "United States",
          "United States",
          "United States",
          "United States",
          "United States",
          "United States",
          "United States",
          "United States",
          "United States",
          "United States",
          "United States",
          "United States",
          "United States"
         ],
         "legendgroup": "United States",
         "marker": {
          "color": "#FFA15A",
          "size": [
           14703700000000,
           15095900000000,
           15364500000000,
           15319700000000,
           14894300000000,
           15270600000000,
           15509300000000,
           15849600000000,
           16108400000000,
           16482700000000,
           16902600000000,
           17162600000000,
           17596300000000,
           18140600000000
          ],
          "sizemode": "area",
          "sizeref": 45351500000,
          "symbol": "circle"
         },
         "mode": "markers",
         "name": "United States",
         "orientation": "v",
         "showlegend": true,
         "type": "scatter",
         "x": [
          2005,
          2006,
          2007,
          2008,
          2009,
          2010,
          2011,
          2012,
          2013,
          2014,
          2015,
          2016,
          2017,
          2018
         ],
         "xaxis": "x",
         "y": [
          0.014,
          0.013,
          0.015,
          0.021,
          0.023,
          0.029,
          0.045,
          0.107,
          0.223,
          0.706,
          0.956,
          1.342,
          1.907,
          2.222
         ],
         "yaxis": "y"
        }
       ],
       "layout": {
        "legend": {
         "itemsizing": "constant",
         "title": {
          "text": "country"
         },
         "tracegroupgap": 0
        },
        "template": {
         "data": {
          "bar": [
           {
            "error_x": {
             "color": "#2a3f5f"
            },
            "error_y": {
             "color": "#2a3f5f"
            },
            "marker": {
             "line": {
              "color": "#E5ECF6",
              "width": 0.5
             },
             "pattern": {
              "fillmode": "overlay",
              "size": 10,
              "solidity": 0.2
             }
            },
            "type": "bar"
           }
          ],
          "barpolar": [
           {
            "marker": {
             "line": {
              "color": "#E5ECF6",
              "width": 0.5
             },
             "pattern": {
              "fillmode": "overlay",
              "size": 10,
              "solidity": 0.2
             }
            },
            "type": "barpolar"
           }
          ],
          "carpet": [
           {
            "aaxis": {
             "endlinecolor": "#2a3f5f",
             "gridcolor": "white",
             "linecolor": "white",
             "minorgridcolor": "white",
             "startlinecolor": "#2a3f5f"
            },
            "baxis": {
             "endlinecolor": "#2a3f5f",
             "gridcolor": "white",
             "linecolor": "white",
             "minorgridcolor": "white",
             "startlinecolor": "#2a3f5f"
            },
            "type": "carpet"
           }
          ],
          "choropleth": [
           {
            "colorbar": {
             "outlinewidth": 0,
             "ticks": ""
            },
            "type": "choropleth"
           }
          ],
          "contour": [
           {
            "colorbar": {
             "outlinewidth": 0,
             "ticks": ""
            },
            "colorscale": [
             [
              0,
              "#0d0887"
             ],
             [
              0.1111111111111111,
              "#46039f"
             ],
             [
              0.2222222222222222,
              "#7201a8"
             ],
             [
              0.3333333333333333,
              "#9c179e"
             ],
             [
              0.4444444444444444,
              "#bd3786"
             ],
             [
              0.5555555555555556,
              "#d8576b"
             ],
             [
              0.6666666666666666,
              "#ed7953"
             ],
             [
              0.7777777777777778,
              "#fb9f3a"
             ],
             [
              0.8888888888888888,
              "#fdca26"
             ],
             [
              1,
              "#f0f921"
             ]
            ],
            "type": "contour"
           }
          ],
          "contourcarpet": [
           {
            "colorbar": {
             "outlinewidth": 0,
             "ticks": ""
            },
            "type": "contourcarpet"
           }
          ],
          "heatmap": [
           {
            "colorbar": {
             "outlinewidth": 0,
             "ticks": ""
            },
            "colorscale": [
             [
              0,
              "#0d0887"
             ],
             [
              0.1111111111111111,
              "#46039f"
             ],
             [
              0.2222222222222222,
              "#7201a8"
             ],
             [
              0.3333333333333333,
              "#9c179e"
             ],
             [
              0.4444444444444444,
              "#bd3786"
             ],
             [
              0.5555555555555556,
              "#d8576b"
             ],
             [
              0.6666666666666666,
              "#ed7953"
             ],
             [
              0.7777777777777778,
              "#fb9f3a"
             ],
             [
              0.8888888888888888,
              "#fdca26"
             ],
             [
              1,
              "#f0f921"
             ]
            ],
            "type": "heatmap"
           }
          ],
          "heatmapgl": [
           {
            "colorbar": {
             "outlinewidth": 0,
             "ticks": ""
            },
            "colorscale": [
             [
              0,
              "#0d0887"
             ],
             [
              0.1111111111111111,
              "#46039f"
             ],
             [
              0.2222222222222222,
              "#7201a8"
             ],
             [
              0.3333333333333333,
              "#9c179e"
             ],
             [
              0.4444444444444444,
              "#bd3786"
             ],
             [
              0.5555555555555556,
              "#d8576b"
             ],
             [
              0.6666666666666666,
              "#ed7953"
             ],
             [
              0.7777777777777778,
              "#fb9f3a"
             ],
             [
              0.8888888888888888,
              "#fdca26"
             ],
             [
              1,
              "#f0f921"
             ]
            ],
            "type": "heatmapgl"
           }
          ],
          "histogram": [
           {
            "marker": {
             "pattern": {
              "fillmode": "overlay",
              "size": 10,
              "solidity": 0.2
             }
            },
            "type": "histogram"
           }
          ],
          "histogram2d": [
           {
            "colorbar": {
             "outlinewidth": 0,
             "ticks": ""
            },
            "colorscale": [
             [
              0,
              "#0d0887"
             ],
             [
              0.1111111111111111,
              "#46039f"
             ],
             [
              0.2222222222222222,
              "#7201a8"
             ],
             [
              0.3333333333333333,
              "#9c179e"
             ],
             [
              0.4444444444444444,
              "#bd3786"
             ],
             [
              0.5555555555555556,
              "#d8576b"
             ],
             [
              0.6666666666666666,
              "#ed7953"
             ],
             [
              0.7777777777777778,
              "#fb9f3a"
             ],
             [
              0.8888888888888888,
              "#fdca26"
             ],
             [
              1,
              "#f0f921"
             ]
            ],
            "type": "histogram2d"
           }
          ],
          "histogram2dcontour": [
           {
            "colorbar": {
             "outlinewidth": 0,
             "ticks": ""
            },
            "colorscale": [
             [
              0,
              "#0d0887"
             ],
             [
              0.1111111111111111,
              "#46039f"
             ],
             [
              0.2222222222222222,
              "#7201a8"
             ],
             [
              0.3333333333333333,
              "#9c179e"
             ],
             [
              0.4444444444444444,
              "#bd3786"
             ],
             [
              0.5555555555555556,
              "#d8576b"
             ],
             [
              0.6666666666666666,
              "#ed7953"
             ],
             [
              0.7777777777777778,
              "#fb9f3a"
             ],
             [
              0.8888888888888888,
              "#fdca26"
             ],
             [
              1,
              "#f0f921"
             ]
            ],
            "type": "histogram2dcontour"
           }
          ],
          "mesh3d": [
           {
            "colorbar": {
             "outlinewidth": 0,
             "ticks": ""
            },
            "type": "mesh3d"
           }
          ],
          "parcoords": [
           {
            "line": {
             "colorbar": {
              "outlinewidth": 0,
              "ticks": ""
             }
            },
            "type": "parcoords"
           }
          ],
          "pie": [
           {
            "automargin": true,
            "type": "pie"
           }
          ],
          "scatter": [
           {
            "fillpattern": {
             "fillmode": "overlay",
             "size": 10,
             "solidity": 0.2
            },
            "type": "scatter"
           }
          ],
          "scatter3d": [
           {
            "line": {
             "colorbar": {
              "outlinewidth": 0,
              "ticks": ""
             }
            },
            "marker": {
             "colorbar": {
              "outlinewidth": 0,
              "ticks": ""
             }
            },
            "type": "scatter3d"
           }
          ],
          "scattercarpet": [
           {
            "marker": {
             "colorbar": {
              "outlinewidth": 0,
              "ticks": ""
             }
            },
            "type": "scattercarpet"
           }
          ],
          "scattergeo": [
           {
            "marker": {
             "colorbar": {
              "outlinewidth": 0,
              "ticks": ""
             }
            },
            "type": "scattergeo"
           }
          ],
          "scattergl": [
           {
            "marker": {
             "colorbar": {
              "outlinewidth": 0,
              "ticks": ""
             }
            },
            "type": "scattergl"
           }
          ],
          "scattermapbox": [
           {
            "marker": {
             "colorbar": {
              "outlinewidth": 0,
              "ticks": ""
             }
            },
            "type": "scattermapbox"
           }
          ],
          "scatterpolar": [
           {
            "marker": {
             "colorbar": {
              "outlinewidth": 0,
              "ticks": ""
             }
            },
            "type": "scatterpolar"
           }
          ],
          "scatterpolargl": [
           {
            "marker": {
             "colorbar": {
              "outlinewidth": 0,
              "ticks": ""
             }
            },
            "type": "scatterpolargl"
           }
          ],
          "scatterternary": [
           {
            "marker": {
             "colorbar": {
              "outlinewidth": 0,
              "ticks": ""
             }
            },
            "type": "scatterternary"
           }
          ],
          "surface": [
           {
            "colorbar": {
             "outlinewidth": 0,
             "ticks": ""
            },
            "colorscale": [
             [
              0,
              "#0d0887"
             ],
             [
              0.1111111111111111,
              "#46039f"
             ],
             [
              0.2222222222222222,
              "#7201a8"
             ],
             [
              0.3333333333333333,
              "#9c179e"
             ],
             [
              0.4444444444444444,
              "#bd3786"
             ],
             [
              0.5555555555555556,
              "#d8576b"
             ],
             [
              0.6666666666666666,
              "#ed7953"
             ],
             [
              0.7777777777777778,
              "#fb9f3a"
             ],
             [
              0.8888888888888888,
              "#fdca26"
             ],
             [
              1,
              "#f0f921"
             ]
            ],
            "type": "surface"
           }
          ],
          "table": [
           {
            "cells": {
             "fill": {
              "color": "#EBF0F8"
             },
             "line": {
              "color": "white"
             }
            },
            "header": {
             "fill": {
              "color": "#C8D4E3"
             },
             "line": {
              "color": "white"
             }
            },
            "type": "table"
           }
          ]
         },
         "layout": {
          "annotationdefaults": {
           "arrowcolor": "#2a3f5f",
           "arrowhead": 0,
           "arrowwidth": 1
          },
          "autotypenumbers": "strict",
          "coloraxis": {
           "colorbar": {
            "outlinewidth": 0,
            "ticks": ""
           }
          },
          "colorscale": {
           "diverging": [
            [
             0,
             "#8e0152"
            ],
            [
             0.1,
             "#c51b7d"
            ],
            [
             0.2,
             "#de77ae"
            ],
            [
             0.3,
             "#f1b6da"
            ],
            [
             0.4,
             "#fde0ef"
            ],
            [
             0.5,
             "#f7f7f7"
            ],
            [
             0.6,
             "#e6f5d0"
            ],
            [
             0.7,
             "#b8e186"
            ],
            [
             0.8,
             "#7fbc41"
            ],
            [
             0.9,
             "#4d9221"
            ],
            [
             1,
             "#276419"
            ]
           ],
           "sequential": [
            [
             0,
             "#0d0887"
            ],
            [
             0.1111111111111111,
             "#46039f"
            ],
            [
             0.2222222222222222,
             "#7201a8"
            ],
            [
             0.3333333333333333,
             "#9c179e"
            ],
            [
             0.4444444444444444,
             "#bd3786"
            ],
            [
             0.5555555555555556,
             "#d8576b"
            ],
            [
             0.6666666666666666,
             "#ed7953"
            ],
            [
             0.7777777777777778,
             "#fb9f3a"
            ],
            [
             0.8888888888888888,
             "#fdca26"
            ],
            [
             1,
             "#f0f921"
            ]
           ],
           "sequentialminus": [
            [
             0,
             "#0d0887"
            ],
            [
             0.1111111111111111,
             "#46039f"
            ],
            [
             0.2222222222222222,
             "#7201a8"
            ],
            [
             0.3333333333333333,
             "#9c179e"
            ],
            [
             0.4444444444444444,
             "#bd3786"
            ],
            [
             0.5555555555555556,
             "#d8576b"
            ],
            [
             0.6666666666666666,
             "#ed7953"
            ],
            [
             0.7777777777777778,
             "#fb9f3a"
            ],
            [
             0.8888888888888888,
             "#fdca26"
            ],
            [
             1,
             "#f0f921"
            ]
           ]
          },
          "colorway": [
           "#636efa",
           "#EF553B",
           "#00cc96",
           "#ab63fa",
           "#FFA15A",
           "#19d3f3",
           "#FF6692",
           "#B6E880",
           "#FF97FF",
           "#FECB52"
          ],
          "font": {
           "color": "#2a3f5f"
          },
          "geo": {
           "bgcolor": "white",
           "lakecolor": "white",
           "landcolor": "#E5ECF6",
           "showlakes": true,
           "showland": true,
           "subunitcolor": "white"
          },
          "hoverlabel": {
           "align": "left"
          },
          "hovermode": "closest",
          "mapbox": {
           "style": "light"
          },
          "paper_bgcolor": "white",
          "plot_bgcolor": "#E5ECF6",
          "polar": {
           "angularaxis": {
            "gridcolor": "white",
            "linecolor": "white",
            "ticks": ""
           },
           "bgcolor": "#E5ECF6",
           "radialaxis": {
            "gridcolor": "white",
            "linecolor": "white",
            "ticks": ""
           }
          },
          "scene": {
           "xaxis": {
            "backgroundcolor": "#E5ECF6",
            "gridcolor": "white",
            "gridwidth": 2,
            "linecolor": "white",
            "showbackground": true,
            "ticks": "",
            "zerolinecolor": "white"
           },
           "yaxis": {
            "backgroundcolor": "#E5ECF6",
            "gridcolor": "white",
            "gridwidth": 2,
            "linecolor": "white",
            "showbackground": true,
            "ticks": "",
            "zerolinecolor": "white"
           },
           "zaxis": {
            "backgroundcolor": "#E5ECF6",
            "gridcolor": "white",
            "gridwidth": 2,
            "linecolor": "white",
            "showbackground": true,
            "ticks": "",
            "zerolinecolor": "white"
           }
          },
          "shapedefaults": {
           "line": {
            "color": "#2a3f5f"
           }
          },
          "ternary": {
           "aaxis": {
            "gridcolor": "white",
            "linecolor": "white",
            "ticks": ""
           },
           "baxis": {
            "gridcolor": "white",
            "linecolor": "white",
            "ticks": ""
           },
           "bgcolor": "#E5ECF6",
           "caxis": {
            "gridcolor": "white",
            "linecolor": "white",
            "ticks": ""
           }
          },
          "title": {
           "x": 0.05
          },
          "xaxis": {
           "automargin": true,
           "gridcolor": "white",
           "linecolor": "white",
           "ticks": "",
           "title": {
            "standoff": 15
           },
           "zerolinecolor": "white",
           "zerolinewidth": 2
          },
          "yaxis": {
           "automargin": true,
           "gridcolor": "white",
           "linecolor": "white",
           "ticks": "",
           "title": {
            "standoff": 15
           },
           "zerolinecolor": "white",
           "zerolinewidth": 2
          }
         }
        },
        "title": {
         "text": "Solar Share of Electricity Over Time (Top 5 Countries)"
        },
        "xaxis": {
         "anchor": "y",
         "domain": [
          0,
          1
         ],
         "title": {
          "text": "Year"
         }
        },
        "yaxis": {
         "anchor": "x",
         "domain": [
          0,
          1
         ],
         "title": {
          "text": "Solar Share in Electricity (%)"
         }
        }
       }
      }
     },
     "metadata": {},
     "output_type": "display_data"
    }
   ],
   "source": [
    "# Filter for the last two decades (2005 to 2024)\n",
    "top_5_data = top_countries_data[(top_countries_data['year'] >= 2005) & (top_countries_data['year'] <= 2024)]\n",
    "\n",
    "# Group by country and calculate the average solar share of electricity for each country\n",
    "avg_hydro = top_5_data.groupby('country')['solar_share_elec'].mean().reset_index()\n",
    "\n",
    "# Sort by biofuel share of electricity and select the top N countries (e.g., top 5)\n",
    "top_countries = avg_hydro.sort_values('solar_share_elec', ascending=False).head(7)['country'].tolist()\n",
    "\n",
    "# Filter the original DataFrame for the top N countries\n",
    "df_filtered = top_5_data[top_5_data['country'].isin(top_countries)]\n",
    "\n",
    "# Create a scatter plot for biofuel share of electricity\n",
    "fig = px.scatter(df_filtered, \n",
    "                 x='year', \n",
    "                 y='solar_share_elec', \n",
    "                 color='country', \n",
    "                 size='gdp', \n",
    "                 hover_name='country', \n",
    "                 title='Solar Share of Electricity Over Time (Top 5 Countries)',\n",
    "                 labels={'solar_share_elec': 'Solar Share in Electricity (%)', 'year': 'Year'})\n",
    "\n",
    "\n",
    "\n",
    "\n",
    "# Show the visual\n",
    "fig.show()\n",
    "\n",
    "# Save the file\n",
    "fig.write_image('Output/Solar_Share_in_Electricity_Top_5.png')"
   ]
  }
 ],
 "metadata": {
  "kernelspec": {
   "display_name": "base",
   "language": "python",
   "name": "python3"
  },
  "language_info": {
   "codemirror_mode": {
    "name": "ipython",
    "version": 3
   },
   "file_extension": ".py",
   "mimetype": "text/x-python",
   "name": "python",
   "nbconvert_exporter": "python",
   "pygments_lexer": "ipython3",
   "version": "3.12.4"
  }
 },
 "nbformat": 4,
 "nbformat_minor": 2
}
